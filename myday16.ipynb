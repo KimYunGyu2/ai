{
 "cells": [
  {
   "cell_type": "code",
   "execution_count": 2,
   "id": "b111c75d",
   "metadata": {},
   "outputs": [
    {
     "data": {
      "text/plain": [
       "8"
      ]
     },
     "execution_count": 2,
     "metadata": {},
     "output_type": "execute_result"
    }
   ],
   "source": [
    "# Fibonacci\n",
    "\n",
    "# 1. 일반식\n",
    "\n",
    "def fib(n): # n번째의 피보나치 수열 값을 찾는 함수\n",
    "    a,b = 1,1\n",
    "    if n == 1 or n == 2: # 1번째와 2번째의 값은 1\n",
    "        return 1\n",
    "    for i in range(1,n): # 1번째 부터 n번째 까지\n",
    "        a,b = b, a+b\n",
    "    return a\n",
    "\n",
    "fib(6)\n",
    "        "
   ]
  },
  {
   "cell_type": "code",
   "execution_count": 3,
   "id": "515b86e4",
   "metadata": {},
   "outputs": [
    {
     "data": {
      "text/plain": [
       "8"
      ]
     },
     "execution_count": 3,
     "metadata": {},
     "output_type": "execute_result"
    }
   ],
   "source": [
    "# 2. 재귀 Recursive\n",
    "\n",
    "def fib(n): # n번째의 피보나치 수열 값을 찾는 함수\n",
    "    if n == 1 or n == 2: # 1번째와 2번째의 값은 1\n",
    "        return 1\n",
    "    else:\n",
    "        return fib(n-1) + fib(n-2)\n",
    "\n",
    "fib(6)"
   ]
  },
  {
   "cell_type": "code",
   "execution_count": 6,
   "id": "049756fc",
   "metadata": {},
   "outputs": [
    {
     "data": {
      "text/plain": [
       "5"
      ]
     },
     "execution_count": 6,
     "metadata": {},
     "output_type": "execute_result"
    }
   ],
   "source": [
    "# 3. 람다\n",
    "\n",
    "fib = lambda n: 1 if n <= 2 else fib(n-1) + fib(n-2)\n",
    "\n",
    "fib(5)"
   ]
  },
  {
   "cell_type": "code",
   "execution_count": 20,
   "id": "101231f8",
   "metadata": {},
   "outputs": [
    {
     "name": "stdout",
     "output_type": "stream",
     "text": [
      "[]\n"
     ]
    }
   ],
   "source": [
    "# 피보나치 수열의 값을 n번째까지 리스트로 전부 출력하세요"
   ]
  },
  {
   "cell_type": "code",
   "execution_count": 27,
   "id": "f9a1722d",
   "metadata": {},
   "outputs": [
    {
     "name": "stdout",
     "output_type": "stream",
     "text": [
      "[1]\n"
     ]
    }
   ],
   "source": [
    "# 21신창균에서 나에게 (DM) 03:45 PM\n",
    "def fib(n) : # n 번째의 피보나치 수열 값을 찾는 함수 \n",
    "\n",
    "  fib_list = []\n",
    "  a, b = 1, 1\n",
    "\n",
    "  for i in range(1, n+1) : # 1번째부터 n번째 까지\n",
    "\n",
    "    fib_list.append(a)\n",
    "\n",
    "    a, b = b, a + b\n",
    "\n",
    "  print(fib_list)\n",
    "\n",
    "fib(1)"
   ]
  },
  {
   "cell_type": "code",
   "execution_count": 37,
   "id": "fa5ac31f",
   "metadata": {},
   "outputs": [
    {
     "data": {
      "text/plain": [
       "[1, 1, 2, 3]"
      ]
     },
     "execution_count": 37,
     "metadata": {},
     "output_type": "execute_result"
    }
   ],
   "source": [
    "# 31 임진석에서 나에게 (DM) 03:44 PM\n",
    "def fib(n):\n",
    "  fibo = []\n",
    "  for i in range(n):\n",
    "    if i == 0 or i == 1:\n",
    "      fibo.append(1)\n",
    "    else:\n",
    "      num = fibo[i-1] + fibo[i-2]\n",
    "      fibo.append(num)\n",
    "  return fibo\n",
    "\n",
    "fib(4)"
   ]
  },
  {
   "cell_type": "code",
   "execution_count": 38,
   "id": "5835f0a9",
   "metadata": {},
   "outputs": [
    {
     "data": {
      "text/plain": [
       "100"
      ]
     },
     "execution_count": 38,
     "metadata": {},
     "output_type": "execute_result"
    }
   ],
   "source": [
    "# 2D lists 2차원 리스트  #   VS   pandas's dataframe\n",
    "\n",
    "#               math    korean \n",
    "# austin        90        80\n",
    "# rick           80       85\n",
    "# andy          100       70\n",
    "\n",
    "grade = [[90,80],[80,85],[100,70]]\n",
    "\n",
    "grade[2][0]"
   ]
  },
  {
   "cell_type": "code",
   "execution_count": 42,
   "id": "acc82c10",
   "metadata": {},
   "outputs": [
    {
     "name": "stdout",
     "output_type": "stream",
     "text": [
      "enter a name : a\n",
      "how old? 20\n",
      "shoe size? 25\n",
      "enter a name : b\n",
      "how old? 21\n",
      "shoe size? 26\n",
      "enter a name : c\n",
      "how old? 30\n",
      "shoe size? 25\n",
      "enter a name : d\n",
      "how old? 15\n",
      "shoe size? 20\n",
      "{'a': {'Age': '20', 'Shoe': '25'}, 'b': {'Age': '21', 'Shoe': '26'}, 'c': {'Age': '30', 'Shoe': '25'}, 'd': {'Age': '15', 'Shoe': '20'}}\n",
      "Enter a name : a\n",
      "{'Age': '20', 'Shoe': '25'}\n"
     ]
    }
   ],
   "source": [
    "# Ask the user to enter the name, age and shoe size for four people.\n",
    "# Ask for the name of one of the people in the list and\n",
    "# dispaly their age and shoe size\n",
    "\n",
    "dict = {}\n",
    "\n",
    "for i in range(4):\n",
    "    name = input('enter a name : ')\n",
    "    age = input('how old? ')\n",
    "    shoe = input('shoe size? ')\n",
    "    dict[name]={'Age':age,'Shoe':shoe}\n",
    "print(dict)\n",
    "\n",
    "who = input('Enter a name : ')\n",
    "print(dict[who])"
   ]
  },
  {
   "cell_type": "code",
   "execution_count": 46,
   "id": "b484c8fb",
   "metadata": {},
   "outputs": [
    {
     "name": "stdout",
     "output_type": "stream",
     "text": [
      "Enter name : austin\n",
      "Enter age : 20\n",
      "Enter shoe : 250\n",
      "Enter name : rick\n",
      "Enter age : 25\n",
      "Enter shoe : 300\n",
      "Who do you want to remove from the dict?austin\n",
      "rick 25 300\n"
     ]
    }
   ],
   "source": [
    "# After gathering the four names, ages and shoe sizes, \n",
    "# ask the user to enter the name of the person they want to remove from the dict.\n",
    "# Delete this row from the data and display the other rows on separate lines.\n",
    "\n",
    "\n",
    "dict = {}\n",
    "\n",
    "for i in range(0,2):\n",
    "  name = input('Enter name : ')\n",
    "  age = input('Enter age : ')\n",
    "  shoe = input('Enter shoe : ')\n",
    "  dict[name]={'Age':age,'Shoe':shoe}\n",
    "\n",
    "getrid = input('Who do you want to remove from the dict?')\n",
    "del dict[getrid]\n",
    "\n",
    "for each in dict:\n",
    "  print(each, dict[each]['Age'], dict[each]['Shoe'])\n",
    "    "
   ]
  },
  {
   "cell_type": "code",
   "execution_count": 47,
   "id": "887c2d6c",
   "metadata": {},
   "outputs": [],
   "source": [
    "# Reading and Writing to a File\n",
    "\n",
    "# It is all very well being albe to define a list, make changes and add new ata,\n",
    "# but if the next time the program is run it returns to the original data and your\n",
    "# changes are lost then it is not a lot of ues. Therefore, it is sometimes necessary\n",
    "# to save thedata outsice of the program and this way the data can be stored,\n",
    "# along with any changes that are made.\n",
    "\n",
    "# write\n",
    "file = open('Countries.txt','w')\n",
    "file.write('Italy\\n')\n",
    "file.write('Germany\\n')\n",
    "file.write('Spain\\n')\n",
    "file.close()"
   ]
  },
  {
   "cell_type": "code",
   "execution_count": 50,
   "id": "b95231c9",
   "metadata": {},
   "outputs": [
    {
     "name": "stdout",
     "output_type": "stream",
     "text": [
      "Italy\n",
      "Germany\n",
      "Spain\n",
      "France\n",
      "\n"
     ]
    }
   ],
   "source": [
    "# read\n",
    "file = open('Countries.txt','r')\n",
    "print(file.read())"
   ]
  },
  {
   "cell_type": "code",
   "execution_count": 49,
   "id": "e46498ae",
   "metadata": {},
   "outputs": [],
   "source": [
    "file = open('Countries.txt','a')\n",
    "file.write('France\\n')\n",
    "file.close()"
   ]
  },
  {
   "cell_type": "code",
   "execution_count": null,
   "id": "ee8e9060",
   "metadata": {},
   "outputs": [],
   "source": [
    "# Display the following menu to the user:\n",
    "#   1) Create a ne file\n",
    "#   2) Diplay the file\n",
    "#   3) Add a new item to the file\n",
    "#   Make a selection 1,2 or 3 :\n",
    "\n",
    "# Ask the uswer to enter 1,2 or 3. If they select anything other than 1,2 or 3 it should\n",
    "# display a suitable error message.\n",
    "\n",
    "# If the select 1, ask the user to enter a school subject and save itto a new file called\n",
    "# 'Subject.txt'. It should overwrite any existing file with a new file.\n",
    "\n",
    "# If they select 2, display the contents of the 'Subject.txt' file\n",
    "\n",
    "# if they select 3, ask the user to enter a new subject and save itto the file\n",
    "# and the display the entire contents of the file.\n",
    "\n",
    "# Run the progrma several times to test the options.\n",
    "###################################################################################\n",
    "# Fantastic work, saving data to external files is an important programming skill"
   ]
  },
  {
   "cell_type": "code",
   "execution_count": 65,
   "id": "102ce2c4",
   "metadata": {},
   "outputs": [
    {
     "name": "stdout",
     "output_type": "stream",
     "text": [
      "1) Create a new file\n",
      "2) Display the file\n",
      "3) Add a new item to the file\n",
      "\n",
      "enter 1,2 or 3 : 3\n",
      "enter a new subject: korean\n",
      "math\n",
      "korean\n",
      "\n"
     ]
    }
   ],
   "source": [
    "print('1) Create a new file')\n",
    "print('2) Display the file')\n",
    "print('3) Add a new item to the file')\n",
    "print()\n",
    "\n",
    "choice = int(input('enter 1,2 or 3 : '))\n",
    "\n",
    "if choice == 1:\n",
    "    school = input('which school subject? ')\n",
    "    file = open('Subject.txt','w')\n",
    "    file.write(school + '\\n')\n",
    "    file.close()\n",
    "elif choice == 2:\n",
    "    file = open('Subject.txt','r')\n",
    "    print(file.read())\n",
    "elif choice == 3:\n",
    "    new = input('enter a new subject: ')\n",
    "    file = open('Subject.txt','a')\n",
    "    file.write(new + '\\n')\n",
    "    file.close()\n",
    "    file = open('Subject.txt','r')\n",
    "    print(file.read())\n",
    "else:\n",
    "    print('Incorrect number')"
   ]
  },
  {
   "cell_type": "code",
   "execution_count": null,
   "id": "46b503d1",
   "metadata": {},
   "outputs": [],
   "source": []
  }
 ],
 "metadata": {
  "kernelspec": {
   "display_name": "Python 3 (ipykernel)",
   "language": "python",
   "name": "python3"
  },
  "language_info": {
   "codemirror_mode": {
    "name": "ipython",
    "version": 3
   },
   "file_extension": ".py",
   "mimetype": "text/x-python",
   "name": "python",
   "nbconvert_exporter": "python",
   "pygments_lexer": "ipython3",
   "version": "3.9.7"
  }
 },
 "nbformat": 4,
 "nbformat_minor": 5
}
