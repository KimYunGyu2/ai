{
 "cells": [
  {
   "cell_type": "code",
   "execution_count": 27,
   "id": "f5b37a14",
   "metadata": {},
   "outputs": [
    {
     "name": "stdout",
     "output_type": "stream",
     "text": [
      "[1, 1, 2]\n"
     ]
    }
   ],
   "source": [
    "# 피보나치 수열의 값을 n번째까지 리스트로 전부 출력하세요\n",
    "  "
   ]
  },
  {
   "cell_type": "code",
   "execution_count": 35,
   "id": "125f0889",
   "metadata": {},
   "outputs": [
    {
     "name": "stdout",
     "output_type": "stream",
     "text": [
      "[1, 1, 2, 3, 5]\n"
     ]
    }
   ],
   "source": [
    "def fib(n:int) -> list:\n",
    "    \"\"\"Return the Fibonacci sequence in list form\"\"\"\n",
    "    list = []\n",
    "    a,b=1,1\n",
    "    for i in range(1,n+1):\n",
    "        list.append(a)\n",
    "        a,b = b,a+b\n",
    "    return print(list)\n",
    "        \n",
    "fib(5)"
   ]
  },
  {
   "cell_type": "code",
   "execution_count": 38,
   "id": "0ce4543b",
   "metadata": {},
   "outputs": [
    {
     "name": "stdout",
     "output_type": "stream",
     "text": [
      "몇번째까지 피보나치 수열을 구하겠습니까? 4\n",
      "[1, 1, 2, 3]\n"
     ]
    }
   ],
   "source": [
    "def fibo() -> list:\n",
    "    \"\"\"Return the Fibonacci sequence in list form\"\"\"\n",
    "    num = int(input('몇번째까지 피보나치 수열을 구하겠습니까? '))\n",
    "    list = []\n",
    "    a,b=1,1\n",
    "    for i in range(1,num+1):\n",
    "        list.append(a)\n",
    "        a,b = b,a+b\n",
    "    return print(list)\n",
    "fibo()"
   ]
  },
  {
   "cell_type": "code",
   "execution_count": null,
   "id": "fd77eb20",
   "metadata": {},
   "outputs": [],
   "source": []
  }
 ],
 "metadata": {
  "kernelspec": {
   "display_name": "Python 3 (ipykernel)",
   "language": "python",
   "name": "python3"
  },
  "language_info": {
   "codemirror_mode": {
    "name": "ipython",
    "version": 3
   },
   "file_extension": ".py",
   "mimetype": "text/x-python",
   "name": "python",
   "nbconvert_exporter": "python",
   "pygments_lexer": "ipython3",
   "version": "3.9.7"
  }
 },
 "nbformat": 4,
 "nbformat_minor": 5
}
