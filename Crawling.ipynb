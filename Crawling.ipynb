{
 "cells": [
  {
   "cell_type": "code",
   "execution_count": 1,
   "id": "26e5c673",
   "metadata": {},
   "outputs": [],
   "source": [
    "# pip install requests\n",
    "import requests # 웹 페이지 연결 모듈"
   ]
  },
  {
   "cell_type": "code",
   "execution_count": 2,
   "id": "bb9b61bf",
   "metadata": {},
   "outputs": [],
   "source": [
    "# pip install bs4\n",
    "from bs4 import BeautifulSoup as bs  # 읽어온 웹페이지를 분석하기 쉽게 정제"
   ]
  },
  {
   "cell_type": "code",
   "execution_count": 3,
   "id": "757cc534",
   "metadata": {},
   "outputs": [],
   "source": [
    "import pandas # 데이터 분석 모듈"
   ]
  },
  {
   "cell_type": "code",
   "execution_count": 8,
   "id": "a1c2b71d",
   "metadata": {},
   "outputs": [],
   "source": [
    "html = requests.get('https://music.bugs.co.kr/chart')  # 웹 페이지 코드 읽어오기\n",
    "# print(html.text)"
   ]
  },
  {
   "cell_type": "code",
   "execution_count": 10,
   "id": "03b44c57",
   "metadata": {},
   "outputs": [],
   "source": [
    "soup = bs(html.text)  # beautifulSoup 을 통해 데이터를 분석하기 용이하게 정제한다.\n",
    "# print(soup)"
   ]
  },
  {
   "cell_type": "code",
   "execution_count": 11,
   "id": "2446eb91",
   "metadata": {},
   "outputs": [
    {
     "data": {
      "text/plain": [
       "104"
      ]
     },
     "execution_count": 11,
     "metadata": {},
     "output_type": "execute_result"
    }
   ],
   "source": [
    "len(soup.select('tr')) # tr태그가 붙은 부분들을 모두 추출"
   ]
  },
  {
   "cell_type": "code",
   "execution_count": 12,
   "id": "4ca8cb29",
   "metadata": {},
   "outputs": [
    {
     "data": {
      "text/plain": [
       "103"
      ]
     },
     "execution_count": 12,
     "metadata": {},
     "output_type": "execute_result"
    }
   ],
   "source": [
    "len(soup.select('tbody > tr')) # 원하는 100개가 아니므로 범위를 축소"
   ]
  },
  {
   "cell_type": "code",
   "execution_count": 14,
   "id": "60b2e3ee",
   "metadata": {},
   "outputs": [
    {
     "data": {
      "text/plain": [
       "100"
      ]
     },
     "execution_count": 14,
     "metadata": {},
     "output_type": "execute_result"
    }
   ],
   "source": [
    "len(soup.select('table.byChart > tbody > tr'))  # 원하는 100개가 아니므로 범위를 축소"
   ]
  },
  {
   "cell_type": "code",
   "execution_count": 17,
   "id": "f448a770",
   "metadata": {},
   "outputs": [
    {
     "data": {
      "text/plain": [
       "<tr albumid=\"20450649\" artistid=\"80026437\" multiartist=\"N\" mvid=\"606198\" rowtype=\"track\" trackid=\"32466413\">\n",
       "<input name=\"_isStream\" type=\"hidden\" value=\"32466413\"/>\n",
       "<input name=\"_isDown\" type=\"hidden\" value=\"32466413\"/>\n",
       "<td class=\"check\"><input buyminquality=\"T\" disc_id=\"1\" name=\"check\" title=\"INVU\" type=\"checkbox\" value=\"32466413\"/></td>\n",
       "<td>\n",
       "<div class=\"ranking\">\n",
       "<strong>1</strong>\n",
       "<p class=\"change none\"><em>0</em><span>변동없음</span></p>\n",
       "</div>\n",
       "</td>\n",
       "<td>\n",
       "<a class=\"thumbnail\" href=\"https://music.bugs.co.kr/album/20450649?wl_ref=list_tr_07_chart\" onclick=\"\n",
       "\">\n",
       "<span class=\"mask\"></span>\n",
       "<img alt=\"INVU - The 3rd Album 대표이미지\" onerror=\"bugs.utils.imgError(this);\" src=\"https://image.bugsm.co.kr/album/images/50/204506/20450649.jpg?version=20220215002442.0\"/>\n",
       "</a>\n",
       "</td>\n",
       "<td>\n",
       "<a class=\"trackInfo\" href=\"https://music.bugs.co.kr/track/32466413?wl_ref=list_tr_08_chart\" onclick=\"\n",
       "\">곡정보</a>\n",
       "</td>\n",
       "<th scope=\"row\">\n",
       "<p adult_yn=\"N\" class=\"title\">\n",
       "<a adultcheckval=\"1\" aria-label=\"새창\" href=\"javascript:;\" onclick=\"bugs.wiselog.area('list_tr_09_chart');bugs.music.listen('32466413',true);\n",
       "\" title=\"INVU\">INVU</a>\n",
       "</p>\n",
       "</th>\n",
       "<td class=\"left\">\n",
       "<p class=\"artist\">\n",
       "<a href=\"https://music.bugs.co.kr/artist/80026437?wl_ref=list_tr_10_chart\" onclick=\"\n",
       "\" title=\"태연 (TAEYEON)\">태연 (TAEYEON)</a>\n",
       "</p>\n",
       "</td>\n",
       "<td class=\"left\">\n",
       "<a class=\"album\" href=\"https://music.bugs.co.kr/album/20450649?wl_ref=list_tr_11_chart\" onclick=\"\n",
       "\" title=\"INVU - The 3rd Album\">INVU - The 3rd Album</a>\n",
       "</td>\n",
       "<td>\n",
       "<a adultcheckval=\"1\" aria-label=\"새창\" class=\"btn play\" href=\"javascript:;\" onclick=\"bugs.wiselog.area('list_tr_12_chart');bugs.music.listen('32466413',true);\n",
       "\">듣기</a>\n",
       "</td>\n",
       "<td>\n",
       "<a adultcheckval=\"1\" aria-label=\"새창\" class=\"btn addPlaylist\" href=\"javascript:;\" onclick=\"bugs.wiselog.area('list_tr_13_chart');bugs.music.listen('32466413');\n",
       "\">재생목록에 추가</a>\n",
       "</td>\n",
       "<td>\n",
       "<a class=\"btn addAlbum\" href=\"javascript:;\" onclick=\"bugs.wiselog.area('list_tr_14_chart');bugs.music.addTrackToMyAlbum(this,'32466413');\n",
       "\" track_title=\"INVU\">내 앨범에 담기</a>\n",
       "</td>\n",
       "<td>\n",
       "<a adultcheckval=\"1\" aria-label=\"새창\" class=\"btn download flac\" href=\"javascript:;\" onclick=\"bugs.wiselog.area('list_tr_15_chart');bugs.layermenu.down(this,'32466413','true','true','44.1','false','', null );\n",
       "\"><em class=\"flac\">flac </em>다운로드</a>\n",
       "</td>\n",
       "<td>\n",
       "<a aria-label=\"새창\" class=\"btn viewMV\" href=\"javascript:;\" onclick=\"bugs.wiselog.area('list_tr_16_chart');\n",
       "bugs.layermenu.mv(this,32466413, 606198, 'Y', 'Y', 'Y', 'Y', 32466413, 'N','OVER_12', 'Y');\n",
       "\">영상 재생</a>\n",
       "</td>\n",
       "<td>\n",
       "<a artist_disp_nm=\"태연 (TAEYEON)\" artist_id=\"80026437\" class=\"btnActions\" href=\"javascript:;\" layer_type=\"CHART\" layerpositiontarget=\"td\" onclick=\"bugs.wiselog.area('list_tr_17_chart');\n",
       "bugs.layermenu.trackMoreAction(this,'32466413','0','20450649','bugs.music.listenRadioFromSeed(\\'32466413\\',\\'track\\');','N', 'Y', '_chart');\n",
       "\" track_title=\"INVU\">기타 기능</a>\n",
       "</td>\n",
       "</tr>"
      ]
     },
     "execution_count": 17,
     "metadata": {},
     "output_type": "execute_result"
    }
   ],
   "source": [
    "songs = soup.select('table.byChart > tbody > tr')  # -> 최종 100 추출 완료\n",
    "songs[0]"
   ]
  },
  {
   "cell_type": "code",
   "execution_count": 19,
   "id": "f27d73b4",
   "metadata": {},
   "outputs": [
    {
     "data": {
      "text/plain": [
       "2"
      ]
     },
     "execution_count": 19,
     "metadata": {},
     "output_type": "execute_result"
    }
   ],
   "source": [
    "len(songs[0].select('p > a'))"
   ]
  },
  {
   "cell_type": "code",
   "execution_count": 20,
   "id": "faaa9416",
   "metadata": {},
   "outputs": [
    {
     "data": {
      "text/plain": [
       "1"
      ]
     },
     "execution_count": 20,
     "metadata": {},
     "output_type": "execute_result"
    }
   ],
   "source": [
    "len(songs[0].select('p.artist > a'))"
   ]
  },
  {
   "cell_type": "code",
   "execution_count": 22,
   "id": "eb1bc51a",
   "metadata": {},
   "outputs": [
    {
     "data": {
      "text/plain": [
       "'태연 (TAEYEON)'"
      ]
     },
     "execution_count": 22,
     "metadata": {},
     "output_type": "execute_result"
    }
   ],
   "source": [
    "singer = songs[0].select('p.artist > a')[0].text\n",
    "singer"
   ]
  },
  {
   "cell_type": "code",
   "execution_count": 25,
   "id": "57f524e9",
   "metadata": {},
   "outputs": [
    {
     "data": {
      "text/plain": [
       "11"
      ]
     },
     "execution_count": 25,
     "metadata": {},
     "output_type": "execute_result"
    }
   ],
   "source": [
    "len(songs[0].select('a'))"
   ]
  },
  {
   "cell_type": "code",
   "execution_count": 32,
   "id": "273f0a14",
   "metadata": {},
   "outputs": [
    {
     "data": {
      "text/plain": [
       "'INVU'"
      ]
     },
     "execution_count": 32,
     "metadata": {},
     "output_type": "execute_result"
    }
   ],
   "source": [
    "title = songs[0].select('p.title > a')[0].text\n",
    "title"
   ]
  },
  {
   "cell_type": "code",
   "execution_count": 36,
   "id": "00bea72c",
   "metadata": {},
   "outputs": [
    {
     "data": {
      "text/plain": [
       "[[1, 'INVU', '태연 (TAEYEON)'],\n",
       " [2, '그래서 그래 (Feat. 윤하)', '에픽하이 (EPIK HIGH)'],\n",
       " [3, '그런 밤 (Some Nights)', '태연 (TAEYEON)'],\n",
       " [4, 'Dilemma', 'Apink (에이핑크)'],\n",
       " [5, 'Set Myself On Fire', '태연 (TAEYEON)'],\n",
       " [6, '어른아이 (Toddler)', '태연 (TAEYEON)'],\n",
       " [7, '우연처럼,인연처럼,운명처럼', '김기태'],\n",
       " [8, 'Timeless', '태연 (TAEYEON)'],\n",
       " [9, 'Siren', '태연 (TAEYEON)'],\n",
       " [10, '품 (Heart)', '태연 (TAEYEON)'],\n",
       " [11, 'Cold As Hell', '태연 (TAEYEON)'],\n",
       " [12, 'No Love Again', '태연 (TAEYEON)'],\n",
       " [13, '잊을 수 있을까', '노을'],\n",
       " [14, 'You Better Not', '태연 (TAEYEON)'],\n",
       " [15, '언제나 사랑해', '케이시'],\n",
       " [16, '너만 예뻐', '스탠딩 에그(Standing Egg)'],\n",
       " [17, \"Stronger (What Doesn't Kill You)\", 'Kelly Clarkson(켈리 클락슨)'],\n",
       " [18, 'Ending Credits', '태연 (TAEYEON)'],\n",
       " [19, 'SMILEY (Feat. BIBI)', 'YENA (최예나)'],\n",
       " [20, 'Prequel', '에픽하이 (EPIK HIGH)'],\n",
       " [21, 'Stay Alive (Prod. SUGA of BTS)', '정국'],\n",
       " [22, '대낮에 한 이별', '선예'],\n",
       " [23, '아무렇지 않은 척', '빅마마(Big Mama)'],\n",
       " [24, 'ELEVEN', 'IVE (아이브)'],\n",
       " [25, 'Rich Kids Anthem (Feat. 이하이)', '에픽하이 (EPIK HIGH)'],\n",
       " [26, 'BRB', '에픽하이 (EPIK HIGH)'],\n",
       " [27, 'Step Back', 'GOT the beat'],\n",
       " [28, \"Can't Control Myself\", '태연 (TAEYEON)'],\n",
       " [29, '취중고백', '김민석 (멜로망스)'],\n",
       " [30, 'abcdefu', 'GAYLE'],\n",
       " [31, 'Super Rare (Feat. Wonstein, pH-1)', '에픽하이 (EPIK HIGH)'],\n",
       " [32, '슬픈 연극 (금혼령 X 에일리 (Ailee))', '에일리(Ailee)'],\n",
       " [33, '사랑은 늘 도망가', '임영웅'],\n",
       " [34, '우리가 헤어져야 했던 이유', '비비(BIBI)'],\n",
       " [35, '너 아니면 안돼', '먼데이 키즈(Monday Kiz)'],\n",
       " [36, '서랍', '10CM'],\n",
       " [37, '넌 나에게', '기프트(GIFT)'],\n",
       " [38, 'DM', '프로미스나인'],\n",
       " [39, 'Dreams Come True', 'aespa'],\n",
       " [40, 'BOP BOP!', 'VIVIZ (비비지)'],\n",
       " [41, '드라마', '아이유(IU)'],\n",
       " [42, 'Christmas Tree', 'V'],\n",
       " [43, 'Next Level', 'aespa'],\n",
       " [44, 'strawberry moon', '아이유(IU)'],\n",
       " [45, 'Counting Stars (Feat. Beenzino)', \"BE'O (비오)\"],\n",
       " [46, '너, 너 (N번째 연애 X 휘인 (Whee In))', '휘인(Whee In)'],\n",
       " [47, '신호등', '이무진'],\n",
       " [48, '눈이 오잖아(Feat.헤이즈)', '이무진'],\n",
       " [49, 'Champagne', '에픽하이 (EPIK HIGH)'],\n",
       " [50, '비 오는 날 듣기 좋은 노래 (Feat. Colde)', '에픽하이 (EPIK HIGH)'],\n",
       " [51, '다정히 내 이름을 부르면', '경서예지'],\n",
       " [52, '회전목마 (Feat. Zion.T, 원슈타인) (Prod. Slom)', 'sokodomo'],\n",
       " [53, '겨울잠', '아이유(IU)'],\n",
       " [54, '여름비', '샘김(Sam Kim)'],\n",
       " [55, 'STAY', 'The Kid LAROI'],\n",
       " [56, '라일락', '아이유(IU)'],\n",
       " [57, '안녕, 잘 가', '원필(DAY6)'],\n",
       " [58, '가족관계증명서 (Feat. 김필)', '에픽하이 (EPIK HIGH)'],\n",
       " [59, 'OHAYO MY NIGHT', '디핵(D-Hack)'],\n",
       " [60, '리무진 (Feat. MINO) (Prod. GRAY)', \"BE'O (비오)\"],\n",
       " [61, 'Light Switch', 'Charlie Puth(찰리 푸스)'],\n",
       " [62, 'Butter', '방탄소년단'],\n",
       " [63, \"I Hated Myself (Tablo's Word)\", '에픽하이 (EPIK HIGH)'],\n",
       " [64, 'Savage', 'aespa'],\n",
       " [65, '너무 아픈 사랑은 사랑이 아니었음을', '싱어게인2 33호 가수'],\n",
       " [66, 'Off My Face', 'Justin Bieber(저스틴 비버)'],\n",
       " [67, 'Permission to Dance', '방탄소년단'],\n",
       " [68, '사랑하는 척', '바이브'],\n",
       " [69, '문득', \"BE'O (비오)\"],\n",
       " [70, 'Blueming', '아이유(IU)'],\n",
       " [71, 'Dynamite', '방탄소년단'],\n",
       " [72, '만남은 쉽고 이별은 어려워 (Feat. Leellamarz) (Prod. TOIL)', '베이식(Basick)'],\n",
       " [73, 'WA DA DA', 'Kep1er (케플러)'],\n",
       " [74, 'Weekend', '태연 (TAEYEON)'],\n",
       " [75, 'Celebrity', '아이유(IU)'],\n",
       " [76, '낙하 (with 아이유)', 'AKMU(악뮤)'],\n",
       " [77, \"Good Night (Feat. BE'O)\", '쿠기 (Coogie)'],\n",
       " [78, 'My Universe', 'Coldplay(콜드플레이)'],\n",
       " [79, 'Face ID (Feat. GIRIBOY, Sik-K, JUSTHIS)', '에픽하이 (EPIK HIGH)'],\n",
       " [80, '흰눈', '먼데이 키즈(Monday Kiz)'],\n",
       " [81, '호랑수월가', '탑현'],\n",
       " [82, '너를 생각해', '주시크 (Joosiq)'],\n",
       " [83, '행운을 빌어 줘', '원필(DAY6)'],\n",
       " [84, 'HOLY MOLY', 'Apink (에이핑크)'],\n",
       " [85, '지우게', '원필(DAY6)'],\n",
       " [86, '너의 모든 순간', '성시경'],\n",
       " [87, 'Starlight', '태일 (TAEIL)'],\n",
       " [88, 'Bad Habits', 'Ed Sheeran(에드 시런)'],\n",
       " [89, 'Peaches (feat. Daniel Caesar, Giveon)', 'Justin Bieber(저스틴 비버)'],\n",
       " [90, '너는 내 세상이었어', '볼빨간사춘기'],\n",
       " [91, '모든 날, 모든 순간 (Every day, Every Moment)', '폴킴(Paul Kim)'],\n",
       " [92, '이별후회', '김나영'],\n",
       " [93, 'Queendom', 'Red Velvet (레드벨벳)'],\n",
       " [94, '바라만 본다', 'MSG워너비(M.O.M)'],\n",
       " [95, '에잇(Prod.&Feat. SUGA of BTS)', '아이유(IU)'],\n",
       " [96, '어떻게 이별까지 사랑하겠어, 널 사랑하는 거지', 'AKMU(악뮤)'],\n",
       " [97, '이등병의 DM', '임플란티드 키드 (Implanted Kid)'],\n",
       " [98, 'Tiny Riot', 'Sam Ryder'],\n",
       " [99, '언덕나무', '이승윤'],\n",
       " [100, '어른', 'Sondia']]"
      ]
     },
     "execution_count": 36,
     "metadata": {},
     "output_type": "execute_result"
    }
   ],
   "source": [
    "song_data = []\n",
    "rank = 1\n",
    "for song in songs:\n",
    "    title = song.select('p.title > a')[0].text\n",
    "    singer = song.select('p.artist > a')[0].text\n",
    "    song_data.append([rank, title, singer])\n",
    "    rank += 1\n",
    "song_data"
   ]
  },
  {
   "cell_type": "code",
   "execution_count": 39,
   "id": "b4c09db1",
   "metadata": {},
   "outputs": [
    {
     "data": {
      "text/html": [
       "<div>\n",
       "<style scoped>\n",
       "    .dataframe tbody tr th:only-of-type {\n",
       "        vertical-align: middle;\n",
       "    }\n",
       "\n",
       "    .dataframe tbody tr th {\n",
       "        vertical-align: top;\n",
       "    }\n",
       "\n",
       "    .dataframe thead th {\n",
       "        text-align: right;\n",
       "    }\n",
       "</style>\n",
       "<table border=\"1\" class=\"dataframe\">\n",
       "  <thead>\n",
       "    <tr style=\"text-align: right;\">\n",
       "      <th></th>\n",
       "      <th>순위</th>\n",
       "      <th>타이틀</th>\n",
       "      <th>가수</th>\n",
       "    </tr>\n",
       "  </thead>\n",
       "  <tbody>\n",
       "    <tr>\n",
       "      <th>0</th>\n",
       "      <td>1</td>\n",
       "      <td>INVU</td>\n",
       "      <td>태연 (TAEYEON)</td>\n",
       "    </tr>\n",
       "    <tr>\n",
       "      <th>1</th>\n",
       "      <td>2</td>\n",
       "      <td>그래서 그래 (Feat. 윤하)</td>\n",
       "      <td>에픽하이 (EPIK HIGH)</td>\n",
       "    </tr>\n",
       "    <tr>\n",
       "      <th>2</th>\n",
       "      <td>3</td>\n",
       "      <td>그런 밤 (Some Nights)</td>\n",
       "      <td>태연 (TAEYEON)</td>\n",
       "    </tr>\n",
       "    <tr>\n",
       "      <th>3</th>\n",
       "      <td>4</td>\n",
       "      <td>Dilemma</td>\n",
       "      <td>Apink (에이핑크)</td>\n",
       "    </tr>\n",
       "    <tr>\n",
       "      <th>4</th>\n",
       "      <td>5</td>\n",
       "      <td>Set Myself On Fire</td>\n",
       "      <td>태연 (TAEYEON)</td>\n",
       "    </tr>\n",
       "    <tr>\n",
       "      <th>...</th>\n",
       "      <td>...</td>\n",
       "      <td>...</td>\n",
       "      <td>...</td>\n",
       "    </tr>\n",
       "    <tr>\n",
       "      <th>95</th>\n",
       "      <td>96</td>\n",
       "      <td>어떻게 이별까지 사랑하겠어, 널 사랑하는 거지</td>\n",
       "      <td>AKMU(악뮤)</td>\n",
       "    </tr>\n",
       "    <tr>\n",
       "      <th>96</th>\n",
       "      <td>97</td>\n",
       "      <td>이등병의 DM</td>\n",
       "      <td>임플란티드 키드 (Implanted Kid)</td>\n",
       "    </tr>\n",
       "    <tr>\n",
       "      <th>97</th>\n",
       "      <td>98</td>\n",
       "      <td>Tiny Riot</td>\n",
       "      <td>Sam Ryder</td>\n",
       "    </tr>\n",
       "    <tr>\n",
       "      <th>98</th>\n",
       "      <td>99</td>\n",
       "      <td>언덕나무</td>\n",
       "      <td>이승윤</td>\n",
       "    </tr>\n",
       "    <tr>\n",
       "      <th>99</th>\n",
       "      <td>100</td>\n",
       "      <td>어른</td>\n",
       "      <td>Sondia</td>\n",
       "    </tr>\n",
       "  </tbody>\n",
       "</table>\n",
       "<p>100 rows × 3 columns</p>\n",
       "</div>"
      ],
      "text/plain": [
       "     순위                        타이틀                        가수\n",
       "0     1                       INVU              태연 (TAEYEON)\n",
       "1     2          그래서 그래 (Feat. 윤하)          에픽하이 (EPIK HIGH)\n",
       "2     3         그런 밤 (Some Nights)              태연 (TAEYEON)\n",
       "3     4                    Dilemma              Apink (에이핑크)\n",
       "4     5         Set Myself On Fire              태연 (TAEYEON)\n",
       "..  ...                        ...                       ...\n",
       "95   96  어떻게 이별까지 사랑하겠어, 널 사랑하는 거지                  AKMU(악뮤)\n",
       "96   97                    이등병의 DM  임플란티드 키드 (Implanted Kid)\n",
       "97   98                  Tiny Riot                 Sam Ryder\n",
       "98   99                       언덕나무                       이승윤\n",
       "99  100                         어른                    Sondia\n",
       "\n",
       "[100 rows x 3 columns]"
      ]
     },
     "execution_count": 39,
     "metadata": {},
     "output_type": "execute_result"
    }
   ],
   "source": [
    "import pandas as pd\n",
    "\n",
    "df = pd.DataFrame(song_data, columns = ['순위','타이틀','가수'])\n",
    "df"
   ]
  },
  {
   "cell_type": "code",
   "execution_count": 40,
   "id": "1b65d977",
   "metadata": {},
   "outputs": [],
   "source": [
    "df.to_excel('bugs.xlsx', index=False)"
   ]
  },
  {
   "cell_type": "code",
   "execution_count": null,
   "id": "fc9c593e",
   "metadata": {},
   "outputs": [],
   "source": []
  }
 ],
 "metadata": {
  "kernelspec": {
   "display_name": "Python 3 (ipykernel)",
   "language": "python",
   "name": "python3"
  },
  "language_info": {
   "codemirror_mode": {
    "name": "ipython",
    "version": 3
   },
   "file_extension": ".py",
   "mimetype": "text/x-python",
   "name": "python",
   "nbconvert_exporter": "python",
   "pygments_lexer": "ipython3",
   "version": "3.9.7"
  }
 },
 "nbformat": 4,
 "nbformat_minor": 5
}
