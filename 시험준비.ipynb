{
 "cells": [
  {
   "cell_type": "code",
   "execution_count": 4,
   "id": "46278519",
   "metadata": {},
   "outputs": [
    {
     "name": "stdout",
     "output_type": "stream",
     "text": [
      "숫자를 포함한 문자열을 입력하세요 >>> 1234asdf324as\n",
      "문자 :  asdfas\n",
      "숫자 :  1234324\n"
     ]
    }
   ],
   "source": [
    "# (영어) 알파벳과 숫자를 섞어서 입력을 받아서 숫자와 문자를\n",
    "# 분리하여 출력하는 프로그램을 작성하시오.\n",
    "\n",
    "# [입력]\n",
    "# 숫자를 포함한 문자열을 입력하세요 >>> 123abc45\n",
    "# [출력]\n",
    "# 문자 : abc\n",
    "# 숫자 : 12345\n",
    "\n",
    "str = input('숫자를 포함한 문자열을 입력하세요 >>> ')\n",
    "\n",
    "al = ''\n",
    "no = ''\n",
    "for i in str:\n",
    "    if i.isalpha():\n",
    "        al = al + i\n",
    "    elif i.isdigit():\n",
    "        no = no + i\n",
    "        \n",
    "print('문자 : ', al)\n",
    "print('숫자 : ', no)"
   ]
  },
  {
   "cell_type": "code",
   "execution_count": 8,
   "id": "9aa1b62b",
   "metadata": {},
   "outputs": [
    {
     "name": "stdout",
     "output_type": "stream",
     "text": [
      "숫자를 포함한 문자열을 입력하세요 >>> 1234sdfswe21\n",
      "문자(6) : sdfswe\n",
      "숫자(6) : 123421\n"
     ]
    }
   ],
   "source": [
    "# 문자와 숫자의 개수를 포함하여 출력하세요\n",
    "\n",
    "# 숫자를 포함한 문자열을 입력하세요 >>> 1234asdf324as\n",
    "# 문자(6) :  asdfas\n",
    "# 숫자(7) :  1234324\n",
    "\n",
    "str = input('숫자를 포함한 문자열을 입력하세요 >>> ')\n",
    "\n",
    "al = ''\n",
    "no = ''\n",
    "for i in str:\n",
    "    if i.isalpha():\n",
    "        al = al + i\n",
    "    elif i.isdigit():\n",
    "        no = no + i\n",
    "        \n",
    "print(f'문자({len(al)}) : {al}')\n",
    "print(f'숫자({len(no)}) : {no}')"
   ]
  },
  {
   "cell_type": "code",
   "execution_count": null,
   "id": "20ee6699",
   "metadata": {},
   "outputs": [],
   "source": [
    "# 문자와 숫자의 개수를 포함하여 출력하세요\n",
    "# 단 isalpha() isdigit() int() 함수를 사용하지 않고 작성하시오\n",
    "\n",
    "# 숫자를 포함한 문자열을 입력하세요 >>> 1234asdf324as\n",
    "# 문자(6) :  asdfas\n",
    "# 숫자(7) :  1234324\n",
    "\n"
   ]
  },
  {
   "cell_type": "code",
   "execution_count": 9,
   "id": "31644fe1",
   "metadata": {},
   "outputs": [
    {
     "name": "stdout",
     "output_type": "stream",
     "text": [
      "알파벳과 숫자를 입력 : adf34sd\n",
      "문자(5) : adfsd\n",
      "숫자(2) : 34\n"
     ]
    }
   ],
   "source": [
    "# by 임진석\n",
    "\n",
    "str1 = input('알파벳과 숫자를 입력 : ')\n",
    "al = ''\n",
    "num = ''\n",
    "cnt_al = 0\n",
    "cnt_num = 0\n",
    "for i in str1:\n",
    "    if i >='A' and i <= 'Z':\n",
    "        al += i\n",
    "        cnt_al += 1\n",
    "    elif i >='a' and i <= 'z':\n",
    "        al += i\n",
    "        cnt_al += 1\n",
    "    elif i >= '0' and i <='9':\n",
    "        num += i\n",
    "        cnt_num += 1\n",
    "\n",
    "        \n",
    "print(f'문자({cnt_al}) : {al}')\n",
    "print(f'숫자({cnt_num}) : {num}')"
   ]
  },
  {
   "cell_type": "code",
   "execution_count": null,
   "id": "a151e0aa",
   "metadata": {},
   "outputs": [],
   "source": [
    "# by 민지수\n",
    "\n",
    "str=input('숫자를 포함한 문자열을 입력하세요>>> ')\n",
    "\n",
    "ai=\"\"\n",
    "no=\"\"\n",
    "\n",
    "for i in str :\n",
    "    if 64<ord(i)<123:\n",
    "        ai=ai+i\n",
    "    \n",
    "    elif 48<ord(i)<58:\n",
    "        no=no+i\n",
    "    \n",
    "    \n",
    "print(f'문자({len(ai)}) : ',ai)\n",
    "print(f'숫자({len(no)}): ',no)"
   ]
  },
  {
   "cell_type": "code",
   "execution_count": null,
   "id": "762dffa1",
   "metadata": {},
   "outputs": [],
   "source": [
    "# 정규 표현식으로 고쳤습니다.\n",
    "import re;\n",
    "def str_slide( pr ):\n",
    "    n = re.compile(\"[0-9]\");\n",
    "    a = re.compile(\"[a-zA-Z]\");\n",
    "    str = \"\";\n",
    "    int = \"\";\n",
    "    count_int = 0; \n",
    "    count_str = 0;\n",
    "    \n",
    "    for i in pr:\n",
    "        if a.search(i):\n",
    "            int += f\"{i} \";\n",
    "            count_int +=1 ;\n",
    "        elif n.search(i):\n",
    "            str += f\"{i} \";\n",
    "            count_str += 1;            \n",
    "            \n",
    "    print(f\"입력 숫자 : {int} {count_int}개\");\n",
    "    print(f\"입력 문자 : {str} {count_str}개\");\n",
    "            \n",
    "pr = input(\"입력 > \");\n",
    "str_slide(pr);"
   ]
  },
  {
   "cell_type": "code",
   "execution_count": 5,
   "id": "9cee2d13",
   "metadata": {},
   "outputs": [
    {
     "name": "stdout",
     "output_type": "stream",
     "text": [
      "입력하세요df5e1d\n",
      "문자(4) : dfed\n",
      "숫자(2) : 51\n"
     ]
    }
   ],
   "source": [
    "str = input('입력하세요')\n",
    "al = ''\n",
    "no = ''\n",
    "al_cnt = 0\n",
    "no_cnt = 0\n",
    "\n",
    "for i in str:\n",
    "    if i.isalpha():\n",
    "        al = al + i\n",
    "        al_cnt = al_cnt + 1\n",
    "    elif i.isdigit():\n",
    "        no = no + i\n",
    "        no_cnt = no_cnt + 1\n",
    "        \n",
    "print(f'문자({al_cnt}) : {al}')\n",
    "print(f'숫자({no_cnt}) : {no}')"
   ]
  },
  {
   "cell_type": "code",
   "execution_count": null,
   "id": "67653142",
   "metadata": {},
   "outputs": [],
   "source": [
    "str = input('입력하세요')\n",
    "al = ''\n",
    "no = ''\n",
    "al_cnt = 0\n",
    "no_cnt = 0\n",
    "\n",
    "for i in str:\n",
    "    if (i >= 'a' and i <= 'z'):\n",
    "        al = al + i\n",
    "        al_cnt = al_cnt + 1\n",
    "    elif (i >= 'A' and i <= 'Z'):\n",
    "        al = al + i\n",
    "        al_cnt = al_cnt + 1\n",
    "    elif i.isdigit():\n",
    "        no = no + i\n",
    "        no_cnt = no_cnt + 1\n",
    "        \n",
    "print(f'문자({al_cnt}) : {al}')\n",
    "print(f'숫자({no_cnt}) : {no}')"
   ]
  },
  {
   "cell_type": "code",
   "execution_count": 6,
   "id": "34871273",
   "metadata": {},
   "outputs": [
    {
     "name": "stdout",
     "output_type": "stream",
     "text": [
      "입력 >>> a\n",
      "97\n"
     ]
    }
   ],
   "source": [
    "str = input('입력 >>> ')\n",
    "print(ord(str))"
   ]
  },
  {
   "cell_type": "code",
   "execution_count": 1,
   "id": "6c08508e",
   "metadata": {},
   "outputs": [
    {
     "name": "stdout",
     "output_type": "stream",
     "text": [
      "3\n",
      "4\n",
      "5\n",
      "6\n",
      "7\n",
      "8\n",
      "9\n",
      "10\n"
     ]
    }
   ],
   "source": [
    "# prime number  소수\n",
    "# 1과 그 자신으로만 나누어진다.\n",
    "number = 100\n",
    "prime = []\n",
    "\n",
    "for i in range(2, number+1):\n",
    "    if number % i == 0:"
   ]
  },
  {
   "cell_type": "code",
   "execution_count": 13,
   "id": "21f60100",
   "metadata": {},
   "outputs": [
    {
     "name": "stdout",
     "output_type": "stream",
     "text": [
      "숫자를 입력하세요 >> 9\n",
      "소수가 아닙니다.\n"
     ]
    }
   ],
   "source": [
    "a = int(input('숫자를 입력하세요 >> '))\n",
    "\n",
    "if a <= 0:\n",
    "    print('0보다 큰 수를 입력해주세요.')\n",
    "elif a == 1:\n",
    "    print('소수가 아닙니다')\n",
    "else:\n",
    "    cnt = 0\n",
    "    for i in range(2, a):\n",
    "        if a % i == 0:\n",
    "            cnt += 1\n",
    "\n",
    "    if cnt == 0:\n",
    "        print('소수입니다.')\n",
    "    else:\n",
    "        print('소수가 아닙니다.')\n",
    "        "
   ]
  },
  {
   "cell_type": "code",
   "execution_count": null,
   "id": "ebd626e1",
   "metadata": {},
   "outputs": [],
   "source": [
    "target = int(input(\"몇 번째 소수를 구할까요: \"))\n",
    "cnt_p = 0\n",
    "number = 2\n",
    "while True:\n",
    "    for divisor in range(2, int(number/2)+1):\n",
    "        if number % divisor == 0:\n",
    "            break\n",
    "        else:\n",
    "            cnt_p += 1\n",
    "        if cnt_p == target:\n",
    "            print(\"{0}번째 소수는 {1}입니다.\".format(target, number))\n",
    "            break\n",
    "        else:\n",
    "            nunber += 1"
   ]
  },
  {
   "cell_type": "code",
   "execution_count": null,
   "id": "c78c1ae1",
   "metadata": {},
   "outputs": [],
   "source": []
  }
 ],
 "metadata": {
  "kernelspec": {
   "display_name": "Python 3 (ipykernel)",
   "language": "python",
   "name": "python3"
  },
  "language_info": {
   "codemirror_mode": {
    "name": "ipython",
    "version": 3
   },
   "file_extension": ".py",
   "mimetype": "text/x-python",
   "name": "python",
   "nbconvert_exporter": "python",
   "pygments_lexer": "ipython3",
   "version": "3.9.7"
  }
 },
 "nbformat": 4,
 "nbformat_minor": 5
}
