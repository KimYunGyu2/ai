{
  "nbformat": 4,
  "nbformat_minor": 0,
  "metadata": {
    "colab": {
      "name": "15HW20220224김윤규08.ipynb",
      "provenance": [],
      "authorship_tag": "ABX9TyNESXA+hQ+JMiWpqrvsa2aJ",
      "include_colab_link": true
    },
    "kernelspec": {
      "name": "python3",
      "display_name": "Python 3"
    },
    "language_info": {
      "name": "python"
    }
  },
  "cells": [
    {
      "cell_type": "markdown",
      "metadata": {
        "id": "view-in-github",
        "colab_type": "text"
      },
      "source": [
        "<a href=\"https://colab.research.google.com/github/KimYunGyu2/ai/blob/main/15HW20220224%EA%B9%80%EC%9C%A4%EA%B7%9C08.ipynb\" target=\"_parent\"><img src=\"https://colab.research.google.com/assets/colab-badge.svg\" alt=\"Open In Colab\"/></a>"
      ]
    },
    {
      "cell_type": "code",
      "execution_count": null,
      "metadata": {
        "id": "rfcQiT12wnUX"
      },
      "outputs": [],
      "source": [
        "# 1. d"
      ]
    },
    {
      "cell_type": "code",
      "source": [
        "# 2. b"
      ],
      "metadata": {
        "id": "K05jdi-oxV68"
      },
      "execution_count": null,
      "outputs": []
    },
    {
      "cell_type": "code",
      "source": [
        "# 3. c"
      ],
      "metadata": {
        "id": "GOU3iAL-xZC7"
      },
      "execution_count": null,
      "outputs": []
    },
    {
      "cell_type": "code",
      "source": [
        "# 4. d"
      ],
      "metadata": {
        "id": "0YYXKsi3xbGj"
      },
      "execution_count": null,
      "outputs": []
    },
    {
      "cell_type": "code",
      "source": [
        "# 5. c"
      ],
      "metadata": {
        "id": "Sp5v0ufNxdnc"
      },
      "execution_count": null,
      "outputs": []
    },
    {
      "cell_type": "code",
      "source": [
        "# 6. b"
      ],
      "metadata": {
        "id": "jzB5ftq7xgY7"
      },
      "execution_count": null,
      "outputs": []
    },
    {
      "cell_type": "code",
      "source": [
        "# 7. b"
      ],
      "metadata": {
        "id": "H4CxN__Qxi6d"
      },
      "execution_count": null,
      "outputs": []
    },
    {
      "cell_type": "code",
      "source": [
        "# 8. a"
      ],
      "metadata": {
        "id": "0ONG1sIDxlNs"
      },
      "execution_count": null,
      "outputs": []
    },
    {
      "cell_type": "code",
      "source": [
        "# 9. c"
      ],
      "metadata": {
        "id": "IXMUiTuMyDA8"
      },
      "execution_count": null,
      "outputs": []
    },
    {
      "cell_type": "code",
      "source": [
        "# 10. b"
      ],
      "metadata": {
        "id": "gkk84u1ZyLUE"
      },
      "execution_count": null,
      "outputs": []
    },
    {
      "cell_type": "code",
      "source": [
        "def check():\n",
        "  num = int(input('Enter a number : '))\n",
        "\n",
        "  if num % 2 == 0:\n",
        "    print(f'{num} is Even')\n",
        "  else:\n",
        "    print(f'{num} is Odd')\n",
        "\n",
        "check()"
      ],
      "metadata": {
        "colab": {
          "base_uri": "https://localhost:8080/"
        },
        "id": "2mG8wAI-yZ8-",
        "outputId": "1b625a89-f5ce-4ebb-e594-a34dd9445ddf"
      },
      "execution_count": 3,
      "outputs": [
        {
          "output_type": "stream",
          "name": "stdout",
          "text": [
            "Enter a number : 18\n",
            "18 is Even\n"
          ]
        }
      ]
    }
  ]
}