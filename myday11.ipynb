{
 "cells": [
  {
   "cell_type": "code",
   "execution_count": 1,
   "id": "13e58618",
   "metadata": {},
   "outputs": [
    {
     "name": "stdout",
     "output_type": "stream",
     "text": [
      "First Name : Kim\n",
      "Hello Kim\n"
     ]
    }
   ],
   "source": [
    "####################################################################\n",
    "# General\n",
    "####################################################################\n",
    "# 001 Ask for the user's first name and dis;lay the output message\n",
    "# (output) Hello [first Name]\n",
    "# (input) First Name :\n",
    "\n",
    "name = input('First Name : ')\n",
    "print(f'Hello {name}')"
   ]
  },
  {
   "cell_type": "code",
   "execution_count": 3,
   "id": "5087cf18",
   "metadata": {},
   "outputs": [
    {
     "name": "stdout",
     "output_type": "stream",
     "text": [
      "Please enter your surnmae: kim\n",
      "Please enter your firstnmae: yg\n",
      "Hello yg kim\n"
     ]
    }
   ],
   "source": [
    "# 002 Ask for the user's first name and then as for their surname and display the output message\n",
    "# (output) Hello [First Name][Surname]\n",
    "# (input)'Please enter your surnmae: '\n",
    "# (input)'Please enter your Firstnmae: '\n",
    "\n",
    "sname = input('Please enter your surnmae: ')\n",
    "fname = input('Please enter your firstnmae: ')\n",
    "\n",
    "print(f'Hello {fname} {sname}')"
   ]
  },
  {
   "cell_type": "code",
   "execution_count": 4,
   "id": "e859b18b",
   "metadata": {},
   "outputs": [
    {
     "name": "stdout",
     "output_type": "stream",
     "text": [
      "Please enter your first number >> 3\n",
      "Please enter your second number >> 5\n",
      "The total is 8\n"
     ]
    }
   ],
   "source": [
    "# Ask the user to enter tow numbers. Add them together and display the answer as\n",
    "# (output) The total is [answer]\n",
    "# (input) 'Please enter your first number'\n",
    "# (input) 'Please enter your second number'\n",
    "\n",
    "no1 = int(input('Please enter your first number >> '))\n",
    "no2 = int(input('Please enter your second number >> '))\n",
    "\n",
    "print(f'The total is {no1+no2}')"
   ]
  },
  {
   "cell_type": "code",
   "execution_count": 5,
   "id": "f0e766d2",
   "metadata": {},
   "outputs": [
    {
     "name": "stdout",
     "output_type": "stream",
     "text": [
      "Enter the number of slices of pizza you started with : 8\n",
      "How many slices have you eaten? 2\n",
      "The answer is 6\n"
     ]
    }
   ],
   "source": [
    "# Ask how many slices of pizza the user started with and ask how many slices they have eaten.\n",
    "# Work out how many slices they have left and display the answer in a user friendly format.\n",
    "\n",
    "# (input) 'Enter the number of slices of pizza you started with : '\n",
    "# (input) ' How many slices have you eaten? '\n",
    "# (output) ' The answer is [answer]'\n",
    "\n",
    "num1 = int(input('Enter the number of slices of pizza you started with : '))\n",
    "num2 = int(input('How many slices have you eaten? '))\n",
    "\n",
    "print(f'The answer is {num1-num2}')"
   ]
  },
  {
   "cell_type": "code",
   "execution_count": 9,
   "id": "cd3d4a6b",
   "metadata": {},
   "outputs": [
    {
     "name": "stdout",
     "output_type": "stream",
     "text": [
      "Enter the number of days : 3\n",
      "In 3 days, there are...\n",
      "\t\t 72 hours,\n",
      "\t\t 4320 minutes,\n",
      "\t\t 259200 seconds\n"
     ]
    }
   ],
   "source": [
    "# Write a program that will ask for a number of days and then will show how many hours, minutes and seconds are in that number of days.\n",
    "\n",
    "# (input) 'Enter the number of days : '\n",
    "# (ouput) 'In [days], days there are ...'\n",
    "#              hours,\n",
    "#              minutes,\n",
    "#              seconds,\n",
    "\n",
    "day = int(input('Enter the number of days : '))\n",
    "print(f'In {day} days, there are...\\n\\t\\t {24*day} hours,\\n\\t\\t {60*24*day} minutes,\\n\\t\\t {60*60*24*day} seconds')"
   ]
  },
  {
   "cell_type": "code",
   "execution_count": 12,
   "id": "4641234f",
   "metadata": {},
   "outputs": [
    {
     "name": "stdout",
     "output_type": "stream",
     "text": [
      "Enter the number over 100 : 200\n",
      "Enber the number under 10 : 8\n",
      "8 goes into 200 answer 25 times\n"
     ]
    }
   ],
   "source": [
    "# Task the user to enter a number over 100 and then enter a number\n",
    "# under 10 and tell them how many times the smaller number goes into the larger\n",
    "# number in a user-friendly format\n",
    "\n",
    "# (input) 'Enter the number over 100 : '\n",
    "# (input) 'Enber the number under 10 : '\n",
    "#(output) '[smaller] goes into [larger] anser [times]'\n",
    "\n",
    "num1 = int(input('Enter the number over 100 : '))\n",
    "num2 = int(input('Enber the number under 10 : '))\n",
    "\n",
    "print(f'{num2} goes into {num1} answer {num1//num2} times' )"
   ]
  },
  {
   "cell_type": "code",
   "execution_count": 17,
   "id": "d60628a6",
   "metadata": {},
   "outputs": [
    {
     "name": "stdout",
     "output_type": "stream",
     "text": [
      "Enter first number : 5\n",
      "Enter second number : 5\n",
      "두 수가 같습니다\n"
     ]
    }
   ],
   "source": [
    "####################################################################\n",
    "# If Statement\n",
    "####################################################################\n",
    "# Ask for two numbers. If the first one is larger than second, display the second number first and\n",
    "# then the first number, otherwise show the first nunber first and then the second.\n",
    "\n",
    "# (input) 'Enter first number : '\n",
    "# (input) 'Enter second number : '\n",
    "\n",
    "num1 = int(input('Enter first number : '))\n",
    "num2 = int(input('Enter second number : '))\n",
    "\n",
    "if num1 > num2:\n",
    "    print(num2, num1)\n",
    "elif num2 > num1:\n",
    "    print(num1, num2)\n",
    "else:\n",
    "    print('두 수가 같습니다')"
   ]
  },
  {
   "cell_type": "code",
   "execution_count": 22,
   "id": "31bd3f71",
   "metadata": {},
   "outputs": [
    {
     "name": "stdout",
     "output_type": "stream",
     "text": [
      "Enter number : 22\n",
      "Incorrect number\n"
     ]
    }
   ],
   "source": [
    "# Ask the user to enter a number between 10 and 20 if they enter a number within this range,\n",
    "# display the message 'Thank you' otherwhise display the message 'Incorrect number'\n",
    "\n",
    "num = int(input('Enter number : '))\n",
    "\n",
    "if num>=10 and num<=20:\n",
    "    print('Thank you')\n",
    "else:\n",
    "    print('Incorrect number')"
   ]
  },
  {
   "cell_type": "code",
   "execution_count": 24,
   "id": "2ef0f6bc",
   "metadata": {},
   "outputs": [
    {
     "name": "stdout",
     "output_type": "stream",
     "text": [
      "favorite color : Red\n",
      "i like red too\n"
     ]
    }
   ],
   "source": [
    "# Ask the user to enter their favorite color. If they enter 'red', 'RED' or 'Red'\n",
    "# display the message ' I like red too', otherwise display the message \n",
    "# 'I dont like [color], I prefer red'.\n",
    "\n",
    "fc = input(\"favorite color : \")\n",
    "if fc in [\"red\",\"RED\",\"Red\"]:\n",
    "  print(\"i like red too\")\n",
    "else:\n",
    "  print(f\"i dont like {fc}, I prefer red.\")"
   ]
  },
  {
   "cell_type": "code",
   "execution_count": 29,
   "id": "cd2a40ca",
   "metadata": {},
   "outputs": [
    {
     "name": "stdout",
     "output_type": "stream",
     "text": [
      "is it raining?yes\n",
      "is it windy?no\n",
      "Take an umbrella\n"
     ]
    }
   ],
   "source": [
    "# Ask the user if it is raing and convert their answer to lower case\n",
    "# so it doesnt natter what case they type it in. If they answer 'yes',\n",
    "# ask if it is windy. If they answer 'yes' to this second question,\n",
    "# display the answer 'It is too windy for an umbrella', otherwise\n",
    "# display the message 'Take an umbrella'. If they did not answer yes to the first question,\n",
    "# display the answer 'Enjoy your day'.\n",
    "\n",
    "# (input) Is it raining ?\n",
    "# (input) Is it windy ?\n",
    "\n",
    "# (output) 'It is too windy for an umbrella'\n",
    "# (output) 'Take an umbrella'\n",
    "# (output) 'Enjoy your day'.\n",
    "\n",
    "first_q = (input('is it raining?')).lower()\n",
    "\n",
    "if first_q == 'yes':\n",
    "    second_q = (input('is it windy?')).lower()\n",
    "    if second_q == 'yes':\n",
    "        print('It is too windy for an umbrella')\n",
    "    else:\n",
    "        print('Take an umbrella')   \n",
    "else:\n",
    "    print('Enjoy your day')\n",
    "\n",
    "\n"
   ]
  },
  {
   "cell_type": "code",
   "execution_count": null,
   "id": "d9c691bd",
   "metadata": {},
   "outputs": [],
   "source": []
  }
 ],
 "metadata": {
  "kernelspec": {
   "display_name": "Python 3 (ipykernel)",
   "language": "python",
   "name": "python3"
  },
  "language_info": {
   "codemirror_mode": {
    "name": "ipython",
    "version": 3
   },
   "file_extension": ".py",
   "mimetype": "text/x-python",
   "name": "python",
   "nbconvert_exporter": "python",
   "pygments_lexer": "ipython3",
   "version": "3.9.7"
  }
 },
 "nbformat": 4,
 "nbformat_minor": 5
}
