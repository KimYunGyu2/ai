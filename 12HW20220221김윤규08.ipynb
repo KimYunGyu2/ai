{
  "nbformat": 4,
  "nbformat_minor": 0,
  "metadata": {
    "colab": {
      "name": "12HW20220221김윤규08.ipynb",
      "provenance": [],
      "authorship_tag": "ABX9TyPjzF3Mm9joCEtJVQIKvJ3w",
      "include_colab_link": true
    },
    "kernelspec": {
      "name": "python3",
      "display_name": "Python 3"
    },
    "language_info": {
      "name": "python"
    }
  },
  "cells": [
    {
      "cell_type": "markdown",
      "metadata": {
        "id": "view-in-github",
        "colab_type": "text"
      },
      "source": [
        "<a href=\"https://colab.research.google.com/github/KimYunGyu2/ai/blob/main/12HW20220221%EA%B9%80%EC%9C%A4%EA%B7%9C08.ipynb\" target=\"_parent\"><img src=\"https://colab.research.google.com/assets/colab-badge.svg\" alt=\"Open In Colab\"/></a>"
      ]
    },
    {
      "cell_type": "code",
      "execution_count": null,
      "metadata": {
        "id": "cNnTP3bgVoXe"
      },
      "outputs": [],
      "source": [
        "# 556.\n",
        "b"
      ]
    },
    {
      "cell_type": "code",
      "source": [
        "# 557\n",
        "a"
      ],
      "metadata": {
        "id": "0t_aizb4V4ya"
      },
      "execution_count": null,
      "outputs": []
    },
    {
      "cell_type": "code",
      "source": [
        "# 558\n",
        "b"
      ],
      "metadata": {
        "id": "JL4_lQpUWIZJ"
      },
      "execution_count": null,
      "outputs": []
    },
    {
      "cell_type": "code",
      "source": [
        "# 559\n",
        "c"
      ],
      "metadata": {
        "id": "uh48Z6xiWTDr"
      },
      "execution_count": null,
      "outputs": []
    },
    {
      "cell_type": "code",
      "source": [
        "# 560\n",
        "b"
      ],
      "metadata": {
        "id": "gFje0zNIWd84"
      },
      "execution_count": null,
      "outputs": []
    },
    {
      "cell_type": "code",
      "source": [
        "# 561\n",
        "d"
      ],
      "metadata": {
        "id": "lRhV78PfWpPY"
      },
      "execution_count": null,
      "outputs": []
    },
    {
      "cell_type": "code",
      "source": [
        "# 562\n",
        "a"
      ],
      "metadata": {
        "id": "fSvGWQP1WxEg"
      },
      "execution_count": null,
      "outputs": []
    },
    {
      "cell_type": "code",
      "source": [
        "# 563\n",
        "c"
      ],
      "metadata": {
        "id": "nIzLFDtGW_lI"
      },
      "execution_count": null,
      "outputs": []
    },
    {
      "cell_type": "code",
      "source": [
        "# 564\n",
        "b"
      ],
      "metadata": {
        "id": "OXT7zI-AXbGS"
      },
      "execution_count": null,
      "outputs": []
    },
    {
      "cell_type": "code",
      "source": [
        "# 565\n",
        "a"
      ],
      "metadata": {
        "id": "F-_w4Ff2YNIS"
      },
      "execution_count": null,
      "outputs": []
    },
    {
      "cell_type": "code",
      "source": [
        "# 566\n",
        "c"
      ],
      "metadata": {
        "id": "ScEiJ69ZYU44"
      },
      "execution_count": null,
      "outputs": []
    },
    {
      "cell_type": "code",
      "source": [
        "# 567\n",
        "b"
      ],
      "metadata": {
        "id": "4-GqzHeaYp5Z"
      },
      "execution_count": null,
      "outputs": []
    },
    {
      "cell_type": "code",
      "source": [
        "# 568\n",
        "d"
      ],
      "metadata": {
        "id": "pbbgQfMBYygS"
      },
      "execution_count": null,
      "outputs": []
    },
    {
      "cell_type": "code",
      "source": [
        "# 569\n",
        "c"
      ],
      "metadata": {
        "id": "3ZSFqfdgY2KY"
      },
      "execution_count": null,
      "outputs": []
    },
    {
      "cell_type": "code",
      "source": [
        "# 570\n",
        "a"
      ],
      "metadata": {
        "id": "96VBa8xaY-g4"
      },
      "execution_count": null,
      "outputs": []
    },
    {
      "cell_type": "code",
      "source": [
        "# 571\n",
        "d"
      ],
      "metadata": {
        "id": "ZYt9L7V6ZH9T"
      },
      "execution_count": null,
      "outputs": []
    },
    {
      "cell_type": "code",
      "source": [
        "# 572\n",
        "c"
      ],
      "metadata": {
        "id": "yVE6d9M4ZYyJ"
      },
      "execution_count": null,
      "outputs": []
    },
    {
      "cell_type": "code",
      "source": [
        "# 573\n",
        "b"
      ],
      "metadata": {
        "id": "kmDkMW2jZi1R"
      },
      "execution_count": null,
      "outputs": []
    },
    {
      "cell_type": "code",
      "source": [
        "# 574\n",
        "a"
      ],
      "metadata": {
        "id": "aAv0v8G7ZsNQ"
      },
      "execution_count": null,
      "outputs": []
    },
    {
      "cell_type": "code",
      "source": [
        "# 575\n",
        "a"
      ],
      "metadata": {
        "id": "oDubYQZLZ0H4"
      },
      "execution_count": null,
      "outputs": []
    },
    {
      "cell_type": "code",
      "source": [
        "names = \"이유덕,이재영,권종표,이재영,박민호,강상희,이재영,김지완,최승혁,이성연,박영서,박민호,전경헌,송정환,김재성,이유덕,전경헌\".split(\",\")\n",
        "print(names)\n",
        "\n",
        "cnt_kim = 0\n",
        "cnt_lee = 0\n",
        "for i in names:\n",
        "  if i[0] == \"김\":\n",
        "    cnt_kim += 1\n",
        "  elif i[0] == \"이\":\n",
        "    cnt_lee += 1\n",
        "\n",
        "print('김씨는',cnt_kim,'명입니다')\n",
        "print('이씨는',cnt_lee,'명입니다')\n",
        "\n",
        "cnt_ljy = 0\n",
        "for i in names:\n",
        "  if i == \"이재영\":\n",
        "    cnt_ljy +=1\n",
        "\n",
        "print(\"'이재영' 이란 이름은\",cnt_ljy,\"번 반복 됩니다\")\n",
        "\n",
        "new_names= []\n",
        "for i in names:\n",
        "  if i not in new_names:\n",
        "    new_names.append(i)\n",
        "\n",
        "print(new_names)\n",
        "\n",
        "print(sorted(new_names))\n"
      ],
      "metadata": {
        "colab": {
          "base_uri": "https://localhost:8080/"
        },
        "id": "IiXxpXVLaRw4",
        "outputId": "619337e5-d280-4bff-f77b-dd826a65e0f5"
      },
      "execution_count": 9,
      "outputs": [
        {
          "output_type": "stream",
          "name": "stdout",
          "text": [
            "['이유덕', '이재영', '권종표', '이재영', '박민호', '강상희', '이재영', '김지완', '최승혁', '이성연', '박영서', '박민호', '전경헌', '송정환', '김재성', '이유덕', '전경헌']\n",
            "김씨는 2 명입니다\n",
            "이씨는 6 명입니다\n",
            "'이재영' 이란 이름은 3 번 반복 됩니다\n",
            "['이유덕', '이재영', '권종표', '박민호', '강상희', '김지완', '최승혁', '이성연', '박영서', '전경헌', '송정환', '김재성']\n",
            "['강상희', '권종표', '김재성', '김지완', '박민호', '박영서', '송정환', '이성연', '이유덕', '이재영', '전경헌', '최승혁']\n"
          ]
        }
      ]
    }
  ]
}