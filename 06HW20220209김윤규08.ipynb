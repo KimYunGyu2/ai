{
  "nbformat": 4,
  "nbformat_minor": 0,
  "metadata": {
    "colab": {
      "name": "06HW20220209김윤규08.ipynb",
      "provenance": [],
      "authorship_tag": "ABX9TyPNeyVE9jKFH8oKV+OaY0Fd",
      "include_colab_link": true
    },
    "kernelspec": {
      "name": "python3",
      "display_name": "Python 3"
    },
    "language_info": {
      "name": "python"
    }
  },
  "cells": [
    {
      "cell_type": "markdown",
      "metadata": {
        "id": "view-in-github",
        "colab_type": "text"
      },
      "source": [
        "<a href=\"https://colab.research.google.com/github/KimYunGyu2/ai/blob/main/06HW20220209%EA%B9%80%EC%9C%A4%EA%B7%9C08.ipynb\" target=\"_parent\"><img src=\"https://colab.research.google.com/assets/colab-badge.svg\" alt=\"Open In Colab\"/></a>"
      ]
    },
    {
      "cell_type": "code",
      "execution_count": null,
      "metadata": {
        "id": "aIbDwy0vgmb9"
      },
      "outputs": [],
      "source": [
        "# 436\n",
        "'' 안이 비어있으므로  bool의 연산 값은 False 가 나오므로 답은 c. No 가 출렵됩니다\n"
      ]
    },
    {
      "cell_type": "code",
      "source": [
        "# 437\n",
        "'' 안이 띄어쓰기가 들어있으므로 bool의 연산 값은 True 가 나오므로 답은 b. Yes 가 출력된다"
      ],
      "metadata": {
        "id": "zhp97slCkibF"
      },
      "execution_count": null,
      "outputs": []
    },
    {
      "cell_type": "code",
      "source": [
        "# 438\n",
        "[] 안이 비어있으므로  bool의 연산 값은 False 가 나오므로 답은 a. No 가 출렵됩니다"
      ],
      "metadata": {
        "id": "jZH6wptPk_3j"
      },
      "execution_count": null,
      "outputs": []
    },
    {
      "cell_type": "code",
      "source": [
        "# 439\n",
        "리스트 안에 요소들이 들어있으므로 bool의 연산 값은 True 가 나오므로 b. Yes 가 출렵됩니다\n"
      ],
      "metadata": {
        "id": "FCdhbf2wlV1l"
      },
      "execution_count": null,
      "outputs": []
    },
    {
      "cell_type": "code",
      "source": [
        "# 440\n",
        "''안이 비어있으므로 bool의 연산값은 False 가 나오지만 앞에 not 이 있어서 True가 되서 a. Yes 가 출력됩니다."
      ],
      "metadata": {
        "id": "aycaf8UUl0F7"
      },
      "execution_count": null,
      "outputs": []
    },
    {
      "cell_type": "code",
      "source": [
        "# 441\n",
        "c. Python\n",
        "eval 함수는 함수 안에 있는 ' ' 안에 있는 값을 ' '이 없는것처럼 연산 합니다. 따라서 'print(\"Python\")' 을 print(\"Python\")으로 만들고 거기서 나온 결과 값인 Python을 출력합니다"
      ],
      "metadata": {
        "id": "qHz-d5E-mRQ6"
      },
      "execution_count": null,
      "outputs": []
    },
    {
      "cell_type": "code",
      "source": [
        "# 442\n",
        "c. 90 \n",
        "input 함수를 통해  45*2를 입력하면  \"45*2\" 라는 문자열 형식의 값이 되고\n",
        "print(eval(\"45*2\")) 에서 eval 함수는 내부에 \" \" 따옴표가 없는것처럼 안쪽을 계산해서 90이라는 값을 연산해내고 print(90)이 되어서 90을 출력합니다"
      ],
      "metadata": {
        "id": "bg3S6pkwpDfa"
      },
      "execution_count": null,
      "outputs": []
    },
    {
      "cell_type": "code",
      "source": [
        "# 443\n",
        "???"
      ],
      "metadata": {
        "id": "qhpwOlUeq7RR"
      },
      "execution_count": null,
      "outputs": []
    },
    {
      "cell_type": "code",
      "source": [
        "# 444\n",
        "d.c\n",
        "max(a) 라는건 a라는 리스트에서 가장 큰 값을 말하는건데\n",
        "문자열 사이에 크기를 비교하려면 아스키코드표를 참조해보면 c가 가장 높은 99라는 값을 가진다\n",
        "그러므로 max(a)는 c가 되고 그걸 print 하면 c가 출력된다."
      ],
      "metadata": {
        "id": "v_30ccbjq9AY"
      },
      "execution_count": null,
      "outputs": []
    },
    {
      "cell_type": "code",
      "source": [
        "# 445\n",
        "b. A\n",
        "min(a) 라는건 a라는 리스트에서 가장 작은 값을 말한다\n",
        "위에서 처럼 아스키코드표를 보면 A 의 정수값이 65로 가장 작은걸 알수 있다\n",
        "그러므로 min(a)는 A 를 말하므로 print 하면 A가 출력된다"
      ],
      "metadata": {
        "id": "ybN-90n4tdc7"
      },
      "execution_count": null,
      "outputs": []
    },
    {
      "cell_type": "code",
      "source": [
        "# 446\n",
        "d. c\n",
        "아스키 코드표를 참고하면 c의 값이 가장 높은 수를 가지므로\n",
        "max(a) 는 c를 나타내고 그걸 출력하면 c 가 출력된다"
      ],
      "metadata": {
        "id": "dGVI4fCmuEef"
      },
      "execution_count": null,
      "outputs": []
    },
    {
      "cell_type": "code",
      "source": [
        "# 447\n",
        "c. 1\n",
        "a b c A B 는 각각 아스키코드표에 따르면 97,98,99,65,66 이므로 가장 작은수는 1이다"
      ],
      "metadata": {
        "id": "xQ6-8NH4uh7a"
      },
      "execution_count": null,
      "outputs": []
    },
    {
      "cell_type": "code",
      "source": [
        "# 448\n",
        "d. 6\n",
        "sum(a)는 a 리스트의 요소 값을 모두 더한 값을 구하는것이므로 6이다"
      ],
      "metadata": {
        "id": "u9JBPFzgvBX5"
      },
      "execution_count": null,
      "outputs": []
    },
    {
      "cell_type": "code",
      "source": [
        "# 449\n",
        "c. 18\n",
        "a리스트는 요소가 0부터 시작해서 10미만까지 3씩 차이나는 수들이므로\n",
        "a = [0,3,6,9] 이다\n",
        "리스트 요소들의 총합은 18"
      ],
      "metadata": {
        "id": "afe2ZQndvRqJ"
      },
      "execution_count": null,
      "outputs": []
    },
    {
      "cell_type": "code",
      "source": [
        "# 450\n",
        "b. 0\n",
        "a = list(range(10,-10,3)) \n",
        "a 라는 리스트는 10부터 시작해서 3씩 증가해서 -10미만까지인데 시작이랑 끝지점이 잘못설정되어 요소가 한개도 안들어있으므로\n",
        "그 합은 0이다"
      ],
      "metadata": {
        "id": "99U3HnA8vv6n"
      },
      "execution_count": null,
      "outputs": []
    },
    {
      "cell_type": "code",
      "source": [
        "# 451\n",
        "a. -24\n",
        "a리스트는 -10부터 시작해서 5미만까지 2씩 증가하는 요소를 가지고 있다.\n",
        "따라서 a = [-10, -8, -6, -4, -2, 0, 2, 4] 이므로\n",
        "그 합은 -24 이다"
      ],
      "metadata": {
        "id": "UjO6w4LAwTzx"
      },
      "execution_count": null,
      "outputs": []
    },
    {
      "cell_type": "code",
      "source": [
        "# 452\n",
        "c. [5,4,3,2,1]\n",
        "y는 x[0]번째 요소가 6으로 바뀌기 전에 복사해둔 것이므로\n",
        "y = [5,4,3,2,1] 이다"
      ],
      "metadata": {
        "id": "SMRD9zvbwydp"
      },
      "execution_count": null,
      "outputs": []
    },
    {
      "cell_type": "code",
      "source": [
        "# 453\n",
        "d. 5"
      ],
      "metadata": {
        "id": "3vLavBjLxu1-"
      },
      "execution_count": null,
      "outputs": []
    },
    {
      "cell_type": "code",
      "source": [
        "# 454\n",
        "d. False"
      ],
      "metadata": {
        "id": "v0NrIEUyyQiv"
      },
      "execution_count": null,
      "outputs": []
    },
    {
      "cell_type": "code",
      "source": [
        "# 455\n",
        "a. True"
      ],
      "metadata": {
        "id": "u_9g-TFhyfxg"
      },
      "execution_count": null,
      "outputs": []
    }
  ]
}