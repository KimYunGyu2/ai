{
  "nbformat": 4,
  "nbformat_minor": 0,
  "metadata": {
    "colab": {
      "name": "05HW20220208김윤규08.ipynb",
      "provenance": [],
      "authorship_tag": "ABX9TyP8fAz+Z8GV2bHndt+IHb5X",
      "include_colab_link": true
    },
    "kernelspec": {
      "name": "python3",
      "display_name": "Python 3"
    },
    "language_info": {
      "name": "python"
    }
  },
  "cells": [
    {
      "cell_type": "markdown",
      "metadata": {
        "id": "view-in-github",
        "colab_type": "text"
      },
      "source": [
        "<a href=\"https://colab.research.google.com/github/KimYunGyu2/ai/blob/main/05HW20220208%EA%B9%80%EC%9C%A4%EA%B7%9C08.ipynb\" target=\"_parent\"><img src=\"https://colab.research.google.com/assets/colab-badge.svg\" alt=\"Open In Colab\"/></a>"
      ]
    },
    {
      "cell_type": "code",
      "execution_count": 1,
      "metadata": {
        "colab": {
          "base_uri": "https://localhost:8080/",
          "height": 209
        },
        "id": "9j1a3nq2YPX_",
        "outputId": "1ba00ad1-f4f1-4805-db2d-a78a313758cf"
      },
      "outputs": [
        {
          "output_type": "error",
          "ename": "NameError",
          "evalue": "ignored",
          "traceback": [
            "\u001b[0;31m---------------------------------------------------------------------------\u001b[0m",
            "\u001b[0;31mNameError\u001b[0m                                 Traceback (most recent call last)",
            "\u001b[0;32m<ipython-input-1-a67e7e86e379>\u001b[0m in \u001b[0;36m<module>\u001b[0;34m()\u001b[0m\n\u001b[1;32m      8\u001b[0m  \u001b[0mresult\u001b[0m \u001b[0;34m=\u001b[0m \u001b[0mn\u001b[0m \u001b[0;34m+\u001b[0m \u001b[0;36m1\u001b[0m\u001b[0;34m\u001b[0m\u001b[0;34m\u001b[0m\u001b[0m\n\u001b[1;32m      9\u001b[0m \u001b[0mn_plus_1\u001b[0m\u001b[0;34m(\u001b[0m\u001b[0;36m3\u001b[0m\u001b[0;34m)\u001b[0m\u001b[0;34m\u001b[0m\u001b[0;34m\u001b[0m\u001b[0m\n\u001b[0;32m---> 10\u001b[0;31m \u001b[0mprint\u001b[0m \u001b[0;34m(\u001b[0m\u001b[0mresult\u001b[0m\u001b[0;34m)\u001b[0m\u001b[0;34m\u001b[0m\u001b[0;34m\u001b[0m\u001b[0m\n\u001b[0m",
            "\u001b[0;31mNameError\u001b[0m: name 'result' is not defined"
          ]
        }
      ],
      "source": [
        "# 231\n",
        "def n_plus_1 (n) :\n",
        " result = n + 1\n",
        "n_plus_1(3)\n",
        "print (result)\n",
        "\n",
        "result가 함수 안에서만 정의 되어있는 지역변수라서 함수 밖에서 result를 쓸수 없다\n"
      ]
    },
    {
      "cell_type": "code",
      "source": [
        "# 232\n",
        "def make_url(str):\n",
        "  print(f'www.{str}.com')\n",
        "\n",
        "make_url(\"naver\")\n"
      ],
      "metadata": {
        "colab": {
          "base_uri": "https://localhost:8080/"
        },
        "id": "BZgB8j-zZWrH",
        "outputId": "325d2dba-c03b-4525-e8c5-16e3ab2dfe6d"
      },
      "execution_count": 5,
      "outputs": [
        {
          "output_type": "stream",
          "name": "stdout",
          "text": [
            "www.naver.com\n"
          ]
        }
      ]
    },
    {
      "cell_type": "code",
      "source": [
        "# 233\n",
        "def make_list(str):\n",
        "  list =[]\n",
        "  for i in str:\n",
        "    list.append(i)\n",
        "  print(list)\n",
        "\n",
        "make_list(\"abcd\")"
      ],
      "metadata": {
        "colab": {
          "base_uri": "https://localhost:8080/"
        },
        "id": "CrG_KrxoaALA",
        "outputId": "a1ab86be-f3d4-42fb-d87b-72baf28e465a"
      },
      "execution_count": 6,
      "outputs": [
        {
          "output_type": "stream",
          "name": "stdout",
          "text": [
            "['a', 'b', 'c', 'd']\n"
          ]
        }
      ]
    },
    {
      "cell_type": "code",
      "source": [
        "# 234\n",
        "def pickup_even(str):\n",
        "  list = []\n",
        "  for i in str:\n",
        "    if int(i) % 2 == 0 :\n",
        "      list.append(i)\n",
        "  print(list)\n",
        "\n",
        "pickup_even([3, 4, 5, 6, 7, 8])"
      ],
      "metadata": {
        "colab": {
          "base_uri": "https://localhost:8080/"
        },
        "id": "qaoVSMmXaim3",
        "outputId": "6775c9d4-a0c2-48d4-ecbb-ec59535678c3"
      },
      "execution_count": 7,
      "outputs": [
        {
          "output_type": "stream",
          "name": "stdout",
          "text": [
            "[4, 6, 8]\n"
          ]
        }
      ]
    },
    {
      "cell_type": "code",
      "source": [
        "# 235\n",
        "??"
      ],
      "metadata": {
        "id": "pTsQ4mfObLw3"
      },
      "execution_count": null,
      "outputs": []
    },
    {
      "cell_type": "code",
      "source": [
        "# 236\n",
        "a = 14\n",
        "b = 18\n",
        "c = 22\n",
        "print(c) 는 22"
      ],
      "metadata": {
        "id": "-_Bz3KFhbYPd"
      },
      "execution_count": null,
      "outputs": []
    },
    {
      "cell_type": "code",
      "source": [
        "# 237\n",
        "처음 함수(10) = 14\n",
        "그다믕 함수(함수(10)) = 18\n",
        "c = 함수(함수(함수(10))) = 22\n",
        "print(c) 는 22"
      ],
      "metadata": {
        "id": "gAxNbO6Bb4uF"
      },
      "execution_count": null,
      "outputs": []
    },
    {
      "cell_type": "code",
      "source": [
        "# 238\n",
        "a = 10+4 = 14\n",
        "c = 14 * 10 = 140\n",
        "print(c) = 140"
      ],
      "metadata": {
        "id": "Alv_yklTcOUN"
      },
      "execution_count": null,
      "outputs": []
    },
    {
      "cell_type": "code",
      "source": [
        "# 239\n",
        "c ->  num에 12\n",
        "함수1(12) -> 12+4 = 16\n",
        "print(c) = 16"
      ],
      "metadata": {
        "id": "_G_fWLpEcm09"
      },
      "execution_count": null,
      "outputs": []
    },
    {
      "cell_type": "code",
      "source": [
        "# 240\n",
        "c = 함수2(2) -> num = 12\n",
        "함수1(12) -> num = 14\n",
        "함수0(14) -> 14*2를 리턴한다\n",
        "\n",
        "print(c) = 28"
      ],
      "metadata": {
        "id": "HYUB21iTdCy8"
      },
      "execution_count": null,
      "outputs": []
    },
    {
      "cell_type": "code",
      "source": [
        "# 291\n"
      ],
      "metadata": {
        "id": "5yW5hxFcdzPN"
      },
      "execution_count": null,
      "outputs": []
    },
    {
      "cell_type": "code",
      "source": [
        "# 292"
      ],
      "metadata": {
        "id": "UpF6pT81eDKF"
      },
      "execution_count": null,
      "outputs": []
    },
    {
      "cell_type": "code",
      "source": [
        "# 293"
      ],
      "metadata": {
        "id": "11Y8kBrReELV"
      },
      "execution_count": null,
      "outputs": []
    },
    {
      "cell_type": "code",
      "source": [
        "# 294"
      ],
      "metadata": {
        "id": "t2Lrq1k9eFHt"
      },
      "execution_count": null,
      "outputs": []
    },
    {
      "cell_type": "code",
      "source": [
        "# 295"
      ],
      "metadata": {
        "id": "3EBKhQkOeGSd"
      },
      "execution_count": null,
      "outputs": []
    },
    {
      "cell_type": "code",
      "source": [
        "# 296\n",
        "per = [\"10.31\", \"\", \"8.00\"]\n",
        "for i in per:\n",
        "    try:\n",
        "        print(float(i))\n",
        "    except:\n",
        "        print(0)"
      ],
      "metadata": {
        "colab": {
          "base_uri": "https://localhost:8080/"
        },
        "id": "mSYxsPX8eH9e",
        "outputId": "c99973d6-e9eb-45bb-b288-ee5fe0239e2c"
      },
      "execution_count": 13,
      "outputs": [
        {
          "output_type": "stream",
          "name": "stdout",
          "text": [
            "10.31\n",
            "0\n",
            "8.0\n"
          ]
        }
      ]
    },
    {
      "cell_type": "code",
      "source": [
        "# 297\n",
        "per = [\"10.31\", \"\", \"8.00\"]\n",
        "list = []\n",
        "for i in per:\n",
        "    try:\n",
        "        list.append(float(i))\n",
        "    except:\n",
        "        list.append(0)\n",
        "print(list)"
      ],
      "metadata": {
        "colab": {
          "base_uri": "https://localhost:8080/"
        },
        "id": "WFDZfMm1f7X1",
        "outputId": "6277fd09-7ee7-491b-9405-8e4ba526ba1b"
      },
      "execution_count": 16,
      "outputs": [
        {
          "output_type": "stream",
          "name": "stdout",
          "text": [
            "[10.31, 0, 8.0]\n"
          ]
        }
      ]
    },
    {
      "cell_type": "code",
      "source": [
        "# 298\n",
        "try:\n",
        "    4 / 0\n",
        "except ZeroDivisionError as e:\n",
        "  print(e)"
      ],
      "metadata": {
        "colab": {
          "base_uri": "https://localhost:8080/"
        },
        "id": "HXFY-3XNhU5M",
        "outputId": "c65adf12-d879-4fed-c7a1-9c71befa62cd"
      },
      "execution_count": 18,
      "outputs": [
        {
          "output_type": "stream",
          "name": "stdout",
          "text": [
            "division by zero\n"
          ]
        }
      ]
    },
    {
      "cell_type": "code",
      "source": [
        "# 299\n",
        "data = [1, 2, 3]\n",
        "for i in range(5):\n",
        "  try:\n",
        "    print(data[i])\n",
        "  except IndexError as e:\n",
        "    print(e)"
      ],
      "metadata": {
        "colab": {
          "base_uri": "https://localhost:8080/"
        },
        "id": "oZ-dzOK8jTJV",
        "outputId": "3952c3fe-d8c7-4240-8345-ca80346a1602"
      },
      "execution_count": 22,
      "outputs": [
        {
          "output_type": "stream",
          "name": "stdout",
          "text": [
            "1\n",
            "2\n",
            "3\n",
            "list index out of range\n",
            "list index out of range\n"
          ]
        }
      ]
    },
    {
      "cell_type": "code",
      "source": [
        "# 300\n",
        "per = [\"10.31\", \"\", \"8.00\"]\n",
        "for i in per:\n",
        "    try:\n",
        "        print(float(i))\n",
        "    except:\n",
        "        print(0)\n",
        "    else:\n",
        "        print(\"else 정상\")\n",
        "    finally:\n",
        "        print(\"finally 끝\")"
      ],
      "metadata": {
        "colab": {
          "base_uri": "https://localhost:8080/"
        },
        "id": "kbbbtklmkGlO",
        "outputId": "3597bb40-e753-4850-d07a-c17bd3dd750e"
      },
      "execution_count": 23,
      "outputs": [
        {
          "output_type": "stream",
          "name": "stdout",
          "text": [
            "10.31\n",
            "else 정상\n",
            "finally 끝\n",
            "0\n",
            "finally 끝\n",
            "8.0\n",
            "else 정상\n",
            "finally 끝\n"
          ]
        }
      ]
    }
  ]
}