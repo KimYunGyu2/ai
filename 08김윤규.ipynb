{
  "nbformat": 4,
  "nbformat_minor": 0,
  "metadata": {
    "colab": {
      "name": "08김윤규.ipynb",
      "provenance": [],
      "authorship_tag": "ABX9TyPdwJTqoemXTdFY9T9CkvYR",
      "include_colab_link": true
    },
    "kernelspec": {
      "name": "python3",
      "display_name": "Python 3"
    },
    "language_info": {
      "name": "python"
    }
  },
  "cells": [
    {
      "cell_type": "markdown",
      "metadata": {
        "id": "view-in-github",
        "colab_type": "text"
      },
      "source": [
        "<a href=\"https://colab.research.google.com/github/KimYunGyu2/ai/blob/main/08%EA%B9%80%EC%9C%A4%EA%B7%9C.ipynb\" target=\"_parent\"><img src=\"https://colab.research.google.com/assets/colab-badge.svg\" alt=\"Open In Colab\"/></a>"
      ]
    },
    {
      "cell_type": "code",
      "execution_count": 6,
      "metadata": {
        "colab": {
          "base_uri": "https://localhost:8080/"
        },
        "id": "-AH9pYZCxz3H",
        "outputId": "273b72c0-05e8-458a-90ad-a7b889e95c47"
      },
      "outputs": [
        {
          "output_type": "stream",
          "name": "stdout",
          "text": [
            "Enter string : SanFouNdry\n",
            "The number of lowercase characters is : 7\n",
            "The number of uppercase characters is : 3\n"
          ]
        }
      ],
      "source": [
        "def cnt_up_low_str(str): # cnt_up_low_str 이라는 함수를 정의(매개변수로 str 타입을 받는다)\n",
        "\n",
        "  lower_al_cnt = 0           # 소문자 갯수 세는 변수 설정\n",
        "  upper_al_cnt = 0           # 대문자 갯수 세는 변수 설정\n",
        "\n",
        "  for i in str:              # for문으로 str에 들어온 문자를 하나씩 빼온다\n",
        "    if(i>='a' and i<='z'):   # 하나씩 빼온 문자를 아스키코드 a~z 사이의 값인지 확인\n",
        "      lower_al_cnt += 1      # 소문자에 해당하면 소문자 갯수 세는 변수를 1씩 증가\n",
        "\n",
        "    elif(i>='A' and i<='Z'): # 하나씩 빼온 문자를 아스키코드 A~Z 사이의 값인지 확인\n",
        "      upper_al_cnt += 1      # 대문자에 해당하면 대문자 갯수 세는 변수를 1씩 증가\n",
        "\n",
        "  print(f'Enter string : {str}')        # 처음 매개변수로 입력받은 문자열\n",
        "  print(f'The number of lowercase characters is : {lower_al_cnt}')  # 소문자 갯수 세는 변수\n",
        "  print(f'The number of uppercase characters is : {upper_al_cnt}')  # 대문자 갯수 세는 변수\n",
        "\n",
        "cnt_up_low_str('SanFouNdry')            # 함수 호출"
      ]
    },
    {
      "cell_type": "code",
      "source": [
        "def swap_case(str):         # swap_case 라는 함수를 정의 (매개변수로 str 타입을 받는다)\n",
        "  ch_str = ''               # ch_str 이라는 대소문자가 바뀐 이후의 값을 저장할 변수 설정\n",
        "  for i in str :            # for문으로 str에 들어온 문자를 하나씩 빼온다\n",
        "    if(i>='a' and i<='z'):  # 하나씩 빼온 문자를 아스키코드 a~z 사이의 값인지 확인\n",
        "      i = chr(ord(i) - 32)  # 소문자에 해당하면 아스키코드값으로 변환하여 32만큼 빼서 대문자에 해당하게 만든후 chr 타입으로 변환\n",
        "      ch_str += i           # 변환시킨후 ch_str 변수에 넣어준다\n",
        "    elif(i>='A' and i<='Z'):# 하나씩 빼온 문자를 아스키코드 A~Z 사이의 값인지 확인\n",
        "      i = chr(ord(i) + 32)  # 대문자에 해당하면 아스키코드값으로 변환하여 32만큼 더해서 소문자에 해당하게 만든후 chr 타입으로 변환\n",
        "      ch_str += i           # 변환시킨후 ch_str 변수에 넣어준다\n",
        "\n",
        "  print(ch_str)             # ch_str 출력\n",
        "\n",
        "swap_case('HeLLo')          # 함수 호출\n"
      ],
      "metadata": {
        "colab": {
          "base_uri": "https://localhost:8080/"
        },
        "id": "N4EZqBat3K2E",
        "outputId": "7bfe84e2-e709-413c-a97a-7d07af072c77"
      },
      "execution_count": 9,
      "outputs": [
        {
          "output_type": "stream",
          "name": "stdout",
          "text": [
            "hEllO\n"
          ]
        }
      ]
    }
  ]
}