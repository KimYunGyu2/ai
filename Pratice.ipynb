{
 "cells": [
  {
   "cell_type": "code",
   "execution_count": 21,
   "id": "0834d6b4",
   "metadata": {},
   "outputs": [
    {
     "name": "stdout",
     "output_type": "stream",
     "text": [
      "1\t2\t짝\t4\t5\t짝\t7\t8\t짝\t10\n",
      "11\t12\t짝\t14\t15\t짝\t17\t18\t짝\t20\n",
      "21\t22\t짝\t24\t25\t짝\t27\t28\t짝\t짝\n",
      "짝\t짝\t짝짝\t짝\t짝\t짝짝\t짝\t짝\t짝짝\t40\n",
      "41\t42\t짝\t44\t45\t짝\t47\t48\t짝\t50\n",
      "51\t52\t짝\t54\t55\t짝\t57\t58\t짝\t짝\n",
      "짝\t짝\t짝짝\t짝\t짝\t짝짝\t짝\t짝\t짝짝\t70\n",
      "71\t72\t짝\t74\t75\t짝\t77\t78\t짝\t80\n",
      "81\t82\t짝\t84\t85\t짝\t87\t88\t짝\t짝\n",
      "짝\t짝\t짝짝\t짝\t짝\t짝짝\t짝\t짝\t짝짝\t100\n"
     ]
    }
   ],
   "source": [
    "# 369게임\n",
    "\n",
    "for i in range(1,101):\n",
    "    j = str(i)\n",
    "    if i < 10:\n",
    "        if j[0] in ('3,6,9'):\n",
    "            print('짝', end = '\\t')\n",
    "        else:\n",
    "            if i % 10 == 0:\n",
    "                print(i)\n",
    "            else :\n",
    "                print(i, end = '\\t')\n",
    "    if i >= 10:\n",
    "        if j[0] in ('3,6,9') and j[1] in ('3,6,9') and i % 10 != 0:\n",
    "            print('짝짝',end = '\\t')\n",
    "        elif j[0] in ('3,6,9') and j[1] in ('3,6,9') and i % 10 == 0:\n",
    "            print('짝짝')\n",
    "        elif j[0] in ('3,6,9') and not j[1] in ('3,6,9') and i % 10 != 0:\n",
    "            print('짝',end = '\\t')\n",
    "        elif j[0] in ('3,6,9') and not j[1] in ('3,6,9') and i % 10 == 0:\n",
    "            print('짝')\n",
    "        elif j[0] not in ('3,6,9') and j[1] in ('3,6,9') and i % 10 != 0:\n",
    "            print('짝',end = '\\t')\n",
    "        elif j[0] not in ('3,6,9') and j[1] in ('3,6,9') and i % 10 == 0:\n",
    "            print('짝')\n",
    "        else:\n",
    "            if i % 10 == 0:\n",
    "                print(i)\n",
    "            else :\n",
    "                print(i, end = '\\t')\n",
    "\n",
    "    "
   ]
  },
  {
   "cell_type": "code",
   "execution_count": 12,
   "id": "7192f0ff",
   "metadata": {},
   "outputs": [
    {
     "name": "stdout",
     "output_type": "stream",
     "text": [
      "15\n",
      "30\n",
      "45\n",
      "60\n",
      "75\n",
      "90\n"
     ]
    }
   ],
   "source": [
    "# 100~1까지 중 70까지만 출력하기\n",
    "#1~100까지 중 3과 5의 공배수만 출력하기\n",
    "\n",
    "# for i in range(100) :\n",
    "#     print(100-i)\n",
    "#     if i == 30 :\n",
    "#         break\n",
    "\n",
    "for i in range(100):\n",
    "    if not((i+1) % 3 == 0 and (i+1) % 5 == 0):\n",
    "        continue\n",
    "\n",
    "        print(i+1)"
   ]
  },
  {
   "cell_type": "code",
   "execution_count": 44,
   "id": "7e9e94b5",
   "metadata": {},
   "outputs": [
    {
     "name": "stdout",
     "output_type": "stream",
     "text": [
      "-- 당첨자 발표 --\n",
      "치킨 당첨자 : 11\n",
      "커피 당첨자 : [2, 18, 10]\n",
      "-- 축하합니다 --\n"
     ]
    }
   ],
   "source": [
    "from random import *\n",
    "\n",
    "list = [1,2,3,4,5,6,7,8,9,10,11,12,13,14,15,16,17,18,19,20]\n",
    "shuffle(list)\n",
    "print('-- 당첨자 발표 --')\n",
    "print('치킨 당첨자 : ',end=(''))\n",
    "print(list.pop())\n",
    "cf = sample(list,3)\n",
    "print('커피 당첨자 : ',end=(''))\n",
    "print(cf)\n",
    "print('-- 축하합니다 --')"
   ]
  },
  {
   "cell_type": "code",
   "execution_count": 4,
   "id": "2741dba4",
   "metadata": {},
   "outputs": [
    {
     "name": "stdout",
     "output_type": "stream",
     "text": [
      "[1, 2, 3, 4, 5, 6, 7, 8, 9, 10, 11, 12, 13, 14, 15, 16, 17, 18, 19, 20]\n",
      "[18, 17, 2, 14, 19, 20, 9, 13, 1, 3, 16, 6, 11, 4, 7, 5, 15, 12, 10, 8]\n"
     ]
    }
   ],
   "source": [
    "from random import *\n",
    "users = range(1,21)\n",
    "users = list(users)\n",
    "print(users)\n",
    "shuffle(users)\n",
    "print(users)\n"
   ]
  },
  {
   "cell_type": "code",
   "execution_count": 5,
   "id": "8dfa3628",
   "metadata": {},
   "outputs": [
    {
     "name": "stdout",
     "output_type": "stream",
     "text": [
      "[8, 4, 12]\n"
     ]
    }
   ],
   "source": [
    "students = [\"Iron man\", \"Thor\", \"I am a groot\"]\n",
    "students = [len(i) for i in students]\n",
    "print(students)"
   ]
  },
  {
   "cell_type": "code",
   "execution_count": 7,
   "id": "5872a349",
   "metadata": {},
   "outputs": [
    {
     "name": "stdout",
     "output_type": "stream",
     "text": [
      "[ ] 1번째 손님 (소요시간 : 50분)\n",
      "[ ] 2번째 손님 (소요시간 : 41분)\n",
      "[ ] 3번째 손님 (소요시간 : 36분)\n",
      "[ ] 4번째 손님 (소요시간 : 17분)\n",
      "[O] 5번째 손님 (소요시간 : 10분)\n",
      "[ ] 6번째 손님 (소요시간 : 33분)\n",
      "[ ] 7번째 손님 (소요시간 : 48분)\n",
      "[ ] 8번째 손님 (소요시간 : 23분)\n",
      "[ ] 9번째 손님 (소요시간 : 45분)\n",
      "[O] 10번째 손님 (소요시간 : 13분)\n",
      "[O] 11번째 손님 (소요시간 : 11분)\n",
      "[O] 12번째 손님 (소요시간 : 9분)\n",
      "[O] 13번째 손님 (소요시간 : 5분)\n",
      "[ ] 14번째 손님 (소요시간 : 46분)\n",
      "[O] 15번째 손님 (소요시간 : 8분)\n",
      "[O] 16번째 손님 (소요시간 : 7분)\n",
      "[ ] 17번째 손님 (소요시간 : 16분)\n",
      "[ ] 18번째 손님 (소요시간 : 31분)\n",
      "[ ] 19번째 손님 (소요시간 : 23분)\n",
      "[ ] 20번째 손님 (소요시간 : 47분)\n",
      "[ ] 21번째 손님 (소요시간 : 31분)\n",
      "[O] 22번째 손님 (소요시간 : 11분)\n",
      "[O] 23번째 손님 (소요시간 : 5분)\n",
      "[ ] 24번째 손님 (소요시간 : 20분)\n",
      "[O] 25번째 손님 (소요시간 : 8분)\n",
      "[O] 26번째 손님 (소요시간 : 13분)\n",
      "[O] 27번째 손님 (소요시간 : 14분)\n",
      "[ ] 28번째 손님 (소요시간 : 25분)\n",
      "[ ] 29번째 손님 (소요시간 : 28분)\n",
      "[ ] 30번째 손님 (소요시간 : 36분)\n",
      "[O] 31번째 손님 (소요시간 : 14분)\n",
      "[O] 32번째 손님 (소요시간 : 15분)\n",
      "[ ] 33번째 손님 (소요시간 : 21분)\n",
      "[ ] 34번째 손님 (소요시간 : 37분)\n",
      "[O] 35번째 손님 (소요시간 : 14분)\n",
      "[ ] 36번째 손님 (소요시간 : 38분)\n",
      "[ ] 37번째 손님 (소요시간 : 42분)\n",
      "[ ] 38번째 손님 (소요시간 : 40분)\n",
      "[ ] 39번째 손님 (소요시간 : 41분)\n",
      "[ ] 40번째 손님 (소요시간 : 16분)\n",
      "[ ] 41번째 손님 (소요시간 : 35분)\n",
      "[ ] 42번째 손님 (소요시간 : 32분)\n",
      "[ ] 43번째 손님 (소요시간 : 44분)\n",
      "[ ] 44번째 손님 (소요시간 : 32분)\n",
      "[ ] 45번째 손님 (소요시간 : 37분)\n",
      "[ ] 46번째 손님 (소요시간 : 48분)\n",
      "[O] 47번째 손님 (소요시간 : 5분)\n",
      "[ ] 48번째 손님 (소요시간 : 41분)\n",
      "[O] 49번째 손님 (소요시간 : 7분)\n",
      "[O] 50번째 손님 (소요시간 : 8분)\n",
      "총 탑승 승객 : 18 분\n"
     ]
    }
   ],
   "source": [
    "from random import *\n",
    "cnt = 0\n",
    "for i in range(1, 51):\n",
    "    time = randrange(5,51)\n",
    "    if 5 <= time <= 15:\n",
    "        print(f'[O] {i}번째 손님 (소요시간 : {time}분)')\n",
    "        cnt += 1\n",
    "    else:\n",
    "        print(f'[ ] {i}번째 손님 (소요시간 : {time}분)')\n",
    "        \n",
    "print(f'총 탑승 승객 : {cnt} 분')\n"
   ]
  },
  {
   "cell_type": "code",
   "execution_count": 14,
   "id": "66cbe27c",
   "metadata": {},
   "outputs": [
    {
     "name": "stdout",
     "output_type": "stream",
     "text": [
      "5\n",
      "R R R R D\n",
      "2 5\n"
     ]
    }
   ],
   "source": [
    "# N 입력받기\n",
    "n = int(input())\n",
    "x, y = 1, 1\n",
    "plans = input().split()\n",
    "\n",
    "# L, R, U, D에 따른 이동 방향\n",
    "dx = [0, 0, -1, 1]\n",
    "dy = [-1, 1, 0, 0]\n",
    "move_types = ['L', 'R', 'U', 'D']\n",
    "\n",
    "# 이동 계획을 하나씩 확인\n",
    "for plan in plans:\n",
    "    # 이동 후 좌표 구하기\n",
    "    for i in range(len(move_types)):\n",
    "        if plan == move_types[i]:\n",
    "            nx = x + dx[i]\n",
    "            ny = y + dy[i]\n",
    "    # 공간을 벗어나는 경우 무시\n",
    "    if nx < 1 or ny < 1 or nx > n or ny > n:\n",
    "        continue\n",
    "    # 이동 수행\n",
    "    x, y = nx, ny\n",
    "\n",
    "print(x, y)"
   ]
  },
  {
   "cell_type": "code",
   "execution_count": 13,
   "id": "75dc3a91",
   "metadata": {},
   "outputs": [
    {
     "name": "stdout",
     "output_type": "stream",
     "text": [
      "5\n",
      "R R R R D\n",
      "2 5\n"
     ]
    }
   ],
   "source": [
    "n = int(input())          # 정사각형 크기 입력\n",
    "go = input().split()   # 어느방향으로 움직일지 계획을 입력 받아서 공백을 기준으로 분할하여 go라는 리스트로 저장\n",
    "x,y=1,1                   # x,y 는 1로 초기화\n",
    "\n",
    "for move in go:        # go에 입력된 문자를 하나씩 꺼내 비교하며 좌표를 이동, 외곽을 벗어날땐 무시\n",
    "    if move == 'L':    # L 일 경우 좌로 이동\n",
    "        if y-1 == 0: continue  # 좌로 이동했을때 외곽을 벗어나면 무시\n",
    "        y -= 1                  # 그렇지 않을 경우 -1\n",
    "    if move == 'R':    # R일 경우 우로 이동\n",
    "        if y+1 == n+1: continue  # 우로 이동했을때 외곽을 벗어나면 무시\n",
    "        y += 1                  # 그렇지 않을 경우 +1\n",
    "    if move == 'U':    # U일 경우 위로 이동\n",
    "        if x-1 == 0: continue  # 위로 이동했을때 외곽을 벗어나면 무시\n",
    "        x -= 1                  # 그렇지 않을 경우 -1\n",
    "    if move == 'D':    # D일 경우 아래로 이동\n",
    "        if x+1 == n+1: continue  # 아래로 이동했을때 외곽을 벗어나면 무시\n",
    "        x += 1                  # 그렇지 않을 경우 +1\n",
    "print(x,y)    # 결과 출력"
   ]
  },
  {
   "cell_type": "code",
   "execution_count": 10,
   "id": "78cfed97",
   "metadata": {},
   "outputs": [
    {
     "name": "stdout",
     "output_type": "stream",
     "text": [
      "c4\n",
      "8\n"
     ]
    }
   ],
   "source": [
    "input_data = input()                              # 현재 좌표를 입력받아 input_data 이라는 변수에 넣는다\n",
    "list = [int(input_data[1]),ord(input_data[0])-96]  # 행과 열을 분리하여 int 값으로 변환하고  아스키코드를 이용해서 a가 1이 되게 바꾼다\n",
    "result = 0                                        # 이동 가능한 경우의 수를 result 변수로 선언한뒤 0으로 초기화 시킨다.\n",
    "go_possible = [[1,2],[1,-2],[-1,2],[-1,-2],[2,1],[2,-1],[-2,1],[-2,-1]]  # 이동할수 있는 경우의 수를 go_possible 라는 리스트로 만든다\n",
    "\n",
    "for i in range(len(go_possible)):             # go_possible 배열의 크기만큼 반복시키면서\n",
    "    lst1 = list[0] + go_possible[i][0]        # lst1에는 처음 위치의 행에 go_possible의 첫번째 요소를 더하고\n",
    "    lst2 = list[1] + go_possible[i][1]        # lst2에는 처음 위치의 행에 go_possible의 두번째 요소를 더한다\n",
    "    if 0 < lst1 < 9 and 0 < lst2 < 9:        # 만약 행과 열이 모두 1에서 8사이의 값이라면\n",
    "        result +=1                               # 이동할수 있는 경우의 수를 하나 증가 시킨다.\n",
    "\n",
    "        \n",
    "print(result)                                    # 이동할수 있는 경우의 수를 출력한다\n",
    "    "
   ]
  },
  {
   "cell_type": "code",
   "execution_count": 5,
   "id": "75000560",
   "metadata": {},
   "outputs": [
    {
     "name": "stdout",
     "output_type": "stream",
     "text": [
      "[1, 3, 2, 5]\n",
      "----\n",
      "[5, 2, 3, 1]\n"
     ]
    }
   ],
   "source": [
    "stack = []\n",
    "stack.append(5)\n",
    "stack.append(2)\n",
    "stack.append(3)\n",
    "stack.append(7)\n",
    "stack.pop()\n",
    "stack.append(1)\n",
    "stack.append(4)\n",
    "stack.pop()\n",
    "print(stack[::-1])\n",
    "print('----')\n",
    "print(stack)"
   ]
  },
  {
   "cell_type": "code",
   "execution_count": null,
   "id": "d4ddc1e1",
   "metadata": {},
   "outputs": [],
   "source": []
  }
 ],
 "metadata": {
  "kernelspec": {
   "display_name": "Python 3 (ipykernel)",
   "language": "python",
   "name": "python3"
  },
  "language_info": {
   "codemirror_mode": {
    "name": "ipython",
    "version": 3
   },
   "file_extension": ".py",
   "mimetype": "text/x-python",
   "name": "python",
   "nbconvert_exporter": "python",
   "pygments_lexer": "ipython3",
   "version": "3.9.7"
  }
 },
 "nbformat": 4,
 "nbformat_minor": 5
}
