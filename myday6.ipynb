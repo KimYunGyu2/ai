{
 "cells": [
  {
   "cell_type": "code",
   "execution_count": null,
   "id": "748adb34",
   "metadata": {},
   "outputs": [],
   "source": [
    "# 예외 처리(에러 처리, 오류 처리, 버그 처리...)\n",
    "\n",
    "# 프로그램 실행 전에 발생하는 오류 - 구문 오류 syntax error\n",
    "# 프로그램 실행 중에 발생하는 오류 - 런타임 오류 runtime error, 예외 exception\n",
    "\n",
    "print(\"# 예외를 강제로 발생)\n",
    "# EOL End of Line 실행 조차 되지 않는 오류"
   ]
  },
  {
   "cell_type": "code",
   "execution_count": null,
   "id": "828d3706",
   "metadata": {},
   "outputs": [],
   "source": [
    "print('프로그램이 시작되었습니다.')\n",
    "list[0]"
   ]
  },
  {
   "cell_type": "code",
   "execution_count": 2,
   "id": "eeb1afd7",
   "metadata": {},
   "outputs": [
    {
     "name": "stdout",
     "output_type": "stream",
     "text": [
      "정수 입력 >4\n",
      "원의 반지름 : 4\n",
      "원의 둘레 : 25.12\n",
      "원의 넓이 : 50.24\n"
     ]
    }
   ],
   "source": [
    "num_input = int(input('정수 입력 >'))\n",
    "\n",
    "print('원의 반지름 :', num_input)\n",
    "print('원의 둘레 :', 2 * 3.14 * num_input)\n",
    "print('원의 넓이 :', 3.14 * num_input * num_input)"
   ]
  },
  {
   "cell_type": "code",
   "execution_count": 4,
   "id": "3965bdb1",
   "metadata": {},
   "outputs": [
    {
     "name": "stdout",
     "output_type": "stream",
     "text": [
      "정수 입력 >12\n",
      "원의 반지름 : 12\n",
      "원의 둘레 : 75.36\n",
      "원의 넓이 : 452.15999999999997\n"
     ]
    }
   ],
   "source": [
    "# if로 예외 처리하기\n",
    "num_input = input('정수 입력 >')\n",
    "\n",
    "if num_input.isdigit():\n",
    "    \n",
    "    num_a = int(num_input)\n",
    "    \n",
    "    print('원의 반지름 :', num_a)\n",
    "    print('원의 둘레 :', 2 * 3.14 * num_a)\n",
    "    print('원의 넓이 :', 3.14 * num_a * num_a)\n",
    "    \n",
    "else:\n",
    "    print('정수를 입력하세요')"
   ]
  },
  {
   "cell_type": "code",
   "execution_count": 6,
   "id": "fbe74fe7",
   "metadata": {},
   "outputs": [
    {
     "name": "stdout",
     "output_type": "stream",
     "text": [
      "정수 입력 >12\n",
      "원의 반지름 : 12\n",
      "원의 둘레 : 75.36\n",
      "원의 넓이 : 452.15999999999997\n"
     ]
    }
   ],
   "source": [
    "# try except 구문\n",
    "\n",
    "try:\n",
    "    num_input = input('정수 입력 >')\n",
    "\n",
    "    num_a = int(num_input)\n",
    "\n",
    "    print('원의 반지름 :', num_a)\n",
    "    print('원의 둘레 :', 2 * 3.14 * num_a)\n",
    "    print('원의 넓이 :', 3.14 * num_a * num_a)\n",
    "\n",
    "except:\n",
    "    print('정수를 입력하세요')"
   ]
  },
  {
   "cell_type": "code",
   "execution_count": 9,
   "id": "5e4a87cc",
   "metadata": {},
   "outputs": [
    {
     "name": "stdout",
     "output_type": "stream",
     "text": [
      "['523', '273', '32', '103']\n"
     ]
    }
   ],
   "source": [
    "# 숫자만 추출하는 프로그램\n",
    "\n",
    "list_all = ['523','273','32','스파이','103']\n",
    "\n",
    "list_num = []\n",
    "\n",
    "for i in list_all:\n",
    "    try:\n",
    "        float(i)\n",
    "        list_num.append(i)\n",
    "    except:\n",
    "        pass\n",
    "    \n",
    "print(list_num)\n",
    "        "
   ]
  },
  {
   "cell_type": "code",
   "execution_count": 10,
   "id": "467dcce8",
   "metadata": {},
   "outputs": [
    {
     "name": "stdout",
     "output_type": "stream",
     "text": [
      "존재하지 않는 인덱스 번호입니다.\n"
     ]
    }
   ],
   "source": [
    "list = ['523','273','32','스파이','103']\n",
    "try:\n",
    "    print(list[5])\n",
    "except:\n",
    "    print('존재하지 않는 인덱스 번호입니다.')"
   ]
  },
  {
   "cell_type": "code",
   "execution_count": null,
   "id": "712ad732",
   "metadata": {},
   "outputs": [],
   "source": [
    "try:\n",
    "# 예외가 발생할 가능성이 있는 코드    \n",
    "    \n",
    "    \n",
    "except:\n",
    "# 예외가 발생했을때 실행할 코드\n",
    "    \n",
    "    \n",
    "else:\n",
    "# 예외가 발생하지 않았을때 실행할 코드"
   ]
  },
  {
   "cell_type": "code",
   "execution_count": null,
   "id": "66c4b8c6",
   "metadata": {},
   "outputs": [],
   "source": [
    "try:\n",
    "  num = int(input('정수를 입력하세요>'))\n",
    "except:\n",
    "  print('정수를 입력하지 않았습니다.')\n",
    "else:\n",
    "  print('입력한 정수는 ', num,'입니다')\n",
    "\n",
    "# else 는 다른 대부분의 언어에서는 없다. "
   ]
  },
  {
   "cell_type": "code",
   "execution_count": null,
   "id": "b4a1da96",
   "metadata": {},
   "outputs": [],
   "source": [
    "try:\n",
    "# 예외가 발생할 가능성이 있는 코드    \n",
    "    \n",
    "    \n",
    "except:\n",
    "# 예외가 발생했을때 실행할 코드\n",
    "    \n",
    "    \n",
    "else:\n",
    "# 예외가 발생하지 않았을때 실행할 코드\n",
    "\n",
    "\n",
    "finally:\n",
    "# 항상 실행 시킬 코드\n",
    "\n",
    "# try + except\n",
    "# try + except + else\n",
    "# try + except + finally\n",
    "# try + except + else + finally\n",
    "# try + finally"
   ]
  },
  {
   "cell_type": "code",
   "execution_count": 12,
   "id": "8fac32ce",
   "metadata": {},
   "outputs": [
    {
     "name": "stdout",
     "output_type": "stream",
     "text": [
      "정수를 입력하세요>1231ef\n",
      "정수를 입력하지 않았습니다.\n",
      "프로그램이 완전히 종료되었습니다.\n"
     ]
    }
   ],
   "source": [
    "try:\n",
    "  num = int(input('정수를 입력하세요>'))\n",
    "except:\n",
    "  print('정수를 입력하지 않았습니다.')\n",
    "else:\n",
    "  print('입력한 정수는 ', num,'입니다')\n",
    "finally:\n",
    "    print('프로그램이 완전히 종료되었습니다.')\n",
    "\n",
    "# else 는 다른 대부분의 언어에서는 없다."
   ]
  },
  {
   "cell_type": "code",
   "execution_count": 13,
   "id": "33aa8b86",
   "metadata": {},
   "outputs": [
    {
     "name": "stdout",
     "output_type": "stream",
     "text": [
      "test()함수의 첫 줄입니다.\n",
      "try 구문이 실행되었습니다.\n",
      "finally  구문이 실행되었습니다.\n"
     ]
    }
   ],
   "source": [
    "def test():\n",
    "    print('test()함수의 첫 줄입니다.')\n",
    "    try:\n",
    "        print('try 구문이 실행되었습니다.')\n",
    "        return\n",
    "        print('try구문의 return 아래입니다.')\n",
    "    except:\n",
    "        print('except구문이 실행되었습니다.')\n",
    "    else:\n",
    "        print('else구문이 실행되었습니다.')\n",
    "    finally:\n",
    "        print('finally  구문이 실행되었습니다.')\n",
    "    print('test()함수의 마지막 줄입니다.')\n",
    "    \n",
    "test()"
   ]
  },
  {
   "cell_type": "code",
   "execution_count": 14,
   "id": "75540cb6",
   "metadata": {},
   "outputs": [
    {
     "name": "stdout",
     "output_type": "stream",
     "text": [
      "프로그램 실행\n",
      "try 구문 실행\n",
      "finally 구문 실행\n",
      "프로그램 종료\n"
     ]
    }
   ],
   "source": [
    "print('프로그램 실행')\n",
    "\n",
    "while True:\n",
    "    try:\n",
    "        print('try 구문 실행')\n",
    "        break\n",
    "        print('try 구문의 break 아래')\n",
    "    except:\n",
    "        print('except 구문 실행')\n",
    "    finally:\n",
    "        print('finally 구문 실행')\n",
    "    print('while의 마지막 줄')\n",
    "print('프로그램 종료')"
   ]
  },
  {
   "cell_type": "code",
   "execution_count": 15,
   "id": "1e29610f",
   "metadata": {},
   "outputs": [],
   "source": [
    "# 예외 만들기\n",
    "\n",
    "class MyError(Exception): # 상속\n",
    "    pass\n",
    "\n",
    "def say_nick(nick):\n",
    "    if nick == '바보':\n",
    "        raise MyError()\n",
    "    print(nick)\n",
    "    \n",
    "say_nick('바보')"
   ]
  },
  {
   "cell_type": "code",
   "execution_count": null,
   "id": "0ae47bd5",
   "metadata": {},
   "outputs": [],
   "source": []
  }
 ],
 "metadata": {
  "kernelspec": {
   "display_name": "Python 3 (ipykernel)",
   "language": "python",
   "name": "python3"
  },
  "language_info": {
   "codemirror_mode": {
    "name": "ipython",
    "version": 3
   },
   "file_extension": ".py",
   "mimetype": "text/x-python",
   "name": "python",
   "nbconvert_exporter": "python",
   "pygments_lexer": "ipython3",
   "version": "3.9.7"
  }
 },
 "nbformat": 4,
 "nbformat_minor": 5
}
