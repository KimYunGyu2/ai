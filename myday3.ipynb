{
  "nbformat": 4,
  "nbformat_minor": 0,
  "metadata": {
    "colab": {
      "name": "myday3.ipynb",
      "provenance": [],
      "authorship_tag": "ABX9TyN3DvW2lnsva8gO2SrjOxrQ",
      "include_colab_link": true
    },
    "kernelspec": {
      "name": "python3",
      "display_name": "Python 3"
    },
    "language_info": {
      "name": "python"
    }
  },
  "cells": [
    {
      "cell_type": "markdown",
      "metadata": {
        "id": "view-in-github",
        "colab_type": "text"
      },
      "source": [
        "<a href=\"https://colab.research.google.com/github/KimYunGyu2/ai/blob/main/myday3.ipynb\" target=\"_parent\"><img src=\"https://colab.research.google.com/assets/colab-badge.svg\" alt=\"Open In Colab\"/></a>"
      ]
    },
    {
      "cell_type": "code",
      "execution_count": 6,
      "metadata": {
        "colab": {
          "base_uri": "https://localhost:8080/"
        },
        "id": "ttpvZYhezKgI",
        "outputId": "d7ca9036-e4c0-4bf5-96a2-36e91ee9b533"
      },
      "outputs": [
        {
          "output_type": "stream",
          "name": "stdout",
          "text": [
            "1\n",
            "['하나', '둘']\n",
            "[9, 2, 3, 4, 5]\n",
            "[9, 2, 3, 4, 5, 9, 2, 3, 4, 5, 9, 2, 3, 4, 5]\n",
            "[9, 2, 3, 4, 5, 8]\n",
            "[10, 9, 2, 3, 4, 5, 8]\n"
          ]
        }
      ],
      "source": [
        "##############################################\n",
        "# Review\n",
        "##############################################\n",
        "\n",
        "# Collection : 많은 데이터(elements)를 저장하는...\n",
        "\n",
        "# 리스트 list      튜플 tuple         딕셔너리 dict       셋 set\n",
        "\n",
        "# []               ()                 {}                  {}\n",
        "# mutable          immutable          mutable             mutable\n",
        "# indexing/slicing indexing/slicing   Nope                Nope\n",
        "#                  (1,)               {key:value}         중복데이터 미허용\n",
        "#                                     자바의 map, JS json 중복제거\n",
        "\n",
        "# List\n",
        "list1 = [1,2,3,4,5]\n",
        "list2 = [2,3,'하나','둘',True,False]\n",
        "\n",
        "print(list1[0]) # indexing\n",
        "print(list2[2:4])# slicing [시작:끝(미만)]\n",
        "\n",
        "list1[0] = 9\n",
        "print(list1)\n",
        "\n",
        "print(list1 * 3)\n",
        "\n",
        "list1.append(8) # append()는 마지막에 넣는다\n",
        "print(list1)\n",
        "\n",
        "list1.insert(0, 10) # 특정 위치를 지정하여 삽입\n",
        "print(list1)"
      ]
    },
    {
      "cell_type": "code",
      "source": [
        "list3 = list1\n",
        "print(list1)\n",
        "print(list3)\n",
        "print(id(list1)) # 메모리의 위치 확인하는법\n",
        "print(id(list3))\n",
        "\n",
        "del list3[0]\n",
        "\n",
        "print(list1)\n",
        "print(list3)\n",
        "\n",
        "# list1 -----------------> [10, 9, 2, 3, 4, 5, 8] <------------- list3\n",
        "\n",
        "# 원본을 유지하고 복사본을 만드는법\n",
        "list4 = list1.copy()\n",
        "print(list1)\n",
        "print(list4)\n",
        "\n",
        "print(id(list1)) # 메모리의 위치 확인하는법\n",
        "print(id(list4))\n",
        "\n",
        "del list4[0]\n",
        "\n",
        "print(list1)\n",
        "print(list4)"
      ],
      "metadata": {
        "colab": {
          "base_uri": "https://localhost:8080/"
        },
        "id": "Jr8oxNQ66fAc",
        "outputId": "41a54278-8a22-4f54-a394-33e0544fa596"
      },
      "execution_count": 23,
      "outputs": [
        {
          "output_type": "stream",
          "name": "stdout",
          "text": [
            "[2, 3, 4, 5, 8]\n",
            "[2, 3, 4, 5, 8]\n",
            "140353274435456\n",
            "140353274435456\n",
            "[3, 4, 5, 8]\n",
            "[3, 4, 5, 8]\n",
            "[3, 4, 5, 8]\n",
            "[3, 4, 5, 8]\n",
            "140353274435456\n",
            "140353273025472\n",
            "[3, 4, 5, 8]\n",
            "[4, 5, 8]\n"
          ]
        }
      ]
    },
    {
      "cell_type": "code",
      "source": [
        "t1 = ('대한','민국')\n",
        "print(type(t1))\n",
        "t2 = (1,)\n",
        "print(type(t2))"
      ],
      "metadata": {
        "colab": {
          "base_uri": "https://localhost:8080/"
        },
        "id": "vQfU719M9ZWm",
        "outputId": "920b5d00-a961-4d90-82fe-e9ba203aefd0"
      },
      "execution_count": 14,
      "outputs": [
        {
          "output_type": "stream",
          "name": "stdout",
          "text": [
            "<class 'tuple'>\n",
            "<class 'tuple'>\n"
          ]
        }
      ]
    },
    {
      "cell_type": "code",
      "source": [
        "# t1[0] = '만세'\n",
        "#인덱싱 슬라이싱은 가능\n",
        "print(t1[0])\n",
        "#t1.pop()"
      ],
      "metadata": {
        "colab": {
          "base_uri": "https://localhost:8080/"
        },
        "id": "IJW78O84955U",
        "outputId": "cb1cc0ad-4a8f-453a-a492-aa9b7811e9ed"
      },
      "execution_count": 16,
      "outputs": [
        {
          "output_type": "stream",
          "name": "stdout",
          "text": [
            "대한\n"
          ]
        }
      ]
    },
    {
      "cell_type": "code",
      "source": [
        "# Dict\n",
        "\n",
        "dict = {\n",
        "    'key':'value'\n",
        "}\n",
        "\n",
        "print(dict)\n",
        "print(dict['key'])\n",
        "\n",
        "dict['newkey'] = 'ai'\n",
        "print(dict)\n",
        "\n",
        "del dict['key']\n",
        "print(dict)"
      ],
      "metadata": {
        "colab": {
          "base_uri": "https://localhost:8080/"
        },
        "id": "Jk6FX2rK-18b",
        "outputId": "92698db5-a50a-4ba9-b188-c5d2727f25ce"
      },
      "execution_count": 21,
      "outputs": [
        {
          "output_type": "stream",
          "name": "stdout",
          "text": [
            "{'key': 'value'}\n",
            "value\n",
            "{'key': 'value', 'newkey': 'ai'}\n",
            "{'newkey': 'ai'}\n"
          ]
        }
      ]
    },
    {
      "cell_type": "code",
      "source": [
        "# Set\n",
        "\n",
        "set = {1,1,2,2,2,3}\n",
        "print(set)\n",
        "\n",
        "# print(set[0]) 인덱싱 불가능"
      ],
      "metadata": {
        "colab": {
          "base_uri": "https://localhost:8080/"
        },
        "id": "ZO_6XB9s_tkb",
        "outputId": "68a918b2-1dec-43cf-9ac1-74f7acde7364"
      },
      "execution_count": 22,
      "outputs": [
        {
          "output_type": "stream",
          "name": "stdout",
          "text": [
            "{1, 2, 3}\n"
          ]
        }
      ]
    },
    {
      "cell_type": "code",
      "source": [
        "###################################################\n",
        "# if 조건문\n",
        "###################################################\n",
        "\n",
        "# if 조건식(True or False):\n",
        "#   True일경우 실행\n",
        "# else:\n",
        "#   False일 경우 실행\n",
        "\n",
        "if False:\n",
        "  print('True')\n",
        "else:\n",
        "  print('False')\n",
        "\n",
        "\n",
        "if False:\n",
        "  print('1st')\n",
        "elif False:\n",
        "  print('2nd')\n",
        "elif False:\n",
        "  print('3rd')\n",
        "else:\n",
        "  print('etc')\n",
        "\n",
        "score = 80\n",
        "\n",
        "if score >= 100:\n",
        "  print('상')\n",
        "else:\n",
        "  if score >= 50:\n",
        "    print('중')\n",
        "  else:\n",
        "    print('하')\n",
        "\n",
        "\n",
        "if score >= 100:\n",
        "  print('상')\n",
        "elif score >= 50:\n",
        "  print('중')\n",
        "else:\n",
        "  print('하')"
      ],
      "metadata": {
        "colab": {
          "base_uri": "https://localhost:8080/"
        },
        "id": "Lsk8qxvsD0PK",
        "outputId": "6f4a5da6-05f0-45c6-c988-4cd216d06d19"
      },
      "execution_count": 27,
      "outputs": [
        {
          "output_type": "stream",
          "name": "stdout",
          "text": [
            "False\n",
            "etc\n",
            "중\n",
            "중\n"
          ]
        }
      ]
    },
    {
      "cell_type": "code",
      "source": [
        "# 입력) 당신의 점수를 입력하세요 >>> 95\n",
        "# 출력) 당신의 점수는 95 점이고 학점은 AO학점 입니다.\n",
        "# 100~90 A\n",
        "# 89~80 B\n",
        "# 79~70 C\n",
        "# 69~60 D\n",
        "# 나머지 F\n",
        "\n",
        "# 0~3 -\n",
        "# 4~6 O\n",
        "# 7~9 +\n",
        "\n",
        "score = int(input('당신의 점수를 입력하세요 >>> '))\n",
        "if score >= 90:\n",
        "  grade = 'A'\n",
        "elif score >= 80:\n",
        "  grade = 'B'\n",
        "elif score >= 70:\n",
        "  grade = 'C'\n",
        "elif score >= 60:\n",
        "  grade = 'D'\n",
        "else:\n",
        "  grade = 'F'\n",
        "\n",
        "gr = ''\n",
        "if int(score%10) < 4:\n",
        "  gr = '-'\n",
        "elif int(score%10) < 7:\n",
        "  gr = 'O'\n",
        "else:\n",
        "  gr = '+'\n",
        "print(f'당신의 점수는 {score}이고 학점은 {grade}{gr}학점 입니다.')"
      ],
      "metadata": {
        "colab": {
          "base_uri": "https://localhost:8080/"
        },
        "id": "J_Gzn0X0JZt5",
        "outputId": "601efcdc-7364-4c7e-8d10-a30e36c9df76"
      },
      "execution_count": 40,
      "outputs": [
        {
          "output_type": "stream",
          "name": "stdout",
          "text": [
            "당신의 점수를 입력하세요 >>> 99\n",
            "당신의 점수는 99이고 학점은 A+학점 입니다.\n"
          ]
        }
      ]
    },
    {
      "cell_type": "code",
      "source": [
        "####################################\n",
        "# While\n",
        "####################################\n",
        "\n",
        "# 반복문은 작업 수행을 한 번이 아니라 계속해서 수행해야 할때 사용한다.\n",
        "# While 반복 작업을 몇 번 수행할지 확실하지 않을 때 주로 사용한다.\n",
        "# 운동장을 해가 질때까지 반복해서 돌자\n",
        "\n",
        "# while 조건식:\n",
        "#   실행구문\n",
        "\n",
        "while True:\n",
        "  print('운동장 돌기')"
      ],
      "metadata": {
        "id": "A_1Yd9b4R4Rr"
      },
      "execution_count": null,
      "outputs": []
    },
    {
      "cell_type": "code",
      "source": [
        "n = 1\n",
        "while n <= 10:\n",
        "  print(n)\n",
        "  n += 1 #n = n + 1 (자바 n++)\n",
        "\n",
        "print('------------')\n",
        "print(n)"
      ],
      "metadata": {
        "colab": {
          "base_uri": "https://localhost:8080/"
        },
        "id": "SeUoBow3TC3a",
        "outputId": "6240ab62-8926-4b7d-fa30-f2957dcb7139"
      },
      "execution_count": 49,
      "outputs": [
        {
          "output_type": "stream",
          "name": "stdout",
          "text": [
            "1\n",
            "2\n",
            "3\n",
            "4\n",
            "5\n",
            "6\n",
            "7\n",
            "8\n",
            "9\n",
            "10\n",
            "------------\n",
            "11\n"
          ]
        }
      ]
    },
    {
      "cell_type": "code",
      "source": [
        "#10부터 1까지 짝수만 (꺼꾸로) 출력\n",
        "n = 5\n",
        "while n >= 1:\n",
        "  print(2*n)\n",
        "  n -= 1\n",
        "  \n"
      ],
      "metadata": {
        "colab": {
          "base_uri": "https://localhost:8080/"
        },
        "id": "bV_hRDApUbBK",
        "outputId": "b30c0c8d-2703-4326-f11c-700a7f2b7714"
      },
      "execution_count": 54,
      "outputs": [
        {
          "output_type": "stream",
          "name": "stdout",
          "text": [
            "10\n",
            "8\n",
            "6\n",
            "4\n",
            "2\n"
          ]
        }
      ]
    },
    {
      "cell_type": "code",
      "source": [
        "# 사용자로부터 임의의 정수를 입력 받아 모두 리스트에 보관합니다.\n",
        "# 단, 0을 입력하면 프로그램을 종료합니다.(0은 리스트에 저장안함)\n",
        "# 최종 저장된 리스트를 출력합니다.\n",
        "\n",
        "arr = []\n",
        "no = 1\n",
        "while no != 0:\n",
        "  no = int(input('정수입력 >>> '))\n",
        "\n",
        "  if no != 0:\n",
        "    arr.append(no)\n",
        "\n",
        "print(arr)"
      ],
      "metadata": {
        "colab": {
          "base_uri": "https://localhost:8080/"
        },
        "id": "bon1tpynVTBS",
        "outputId": "a57829ea-f811-412d-b7f7-ec8a0e665744"
      },
      "execution_count": 63,
      "outputs": [
        {
          "output_type": "stream",
          "name": "stdout",
          "text": [
            "정수입력 >>> 1\n",
            "정수입력 >>> 3\n",
            "정수입력 >>> 2\n",
            "정수입력 >>> 0\n",
            "[1, 3, 2]\n"
          ]
        }
      ]
    },
    {
      "cell_type": "code",
      "source": [
        "# while 중첩\n",
        "# while 내부에 또 다른 while 을 사용하는 것을 중첩이라고 한다.\n",
        "\n",
        "# 5일 동안 1~3교시 수업을 한다.\n",
        "\n",
        "# 1일차 1교시입니다.\n",
        "# 1일차 2교시입니다.\n",
        "# 1일차 3교시입니다.\n",
        "# 2일차 1교시입니다.\n",
        "\n",
        "\n",
        "# 3일차 3교시입니다.\n",
        "\n",
        "day = 0\n",
        "\n",
        "while day < 3:\n",
        "  day += 1\n",
        "  cl = 1\n",
        "\n",
        "  while cl <= 3:\n",
        "\n",
        "    print(f'{day}일차 {cl}교시입니다.')\n",
        "    cl += 1"
      ],
      "metadata": {
        "colab": {
          "base_uri": "https://localhost:8080/"
        },
        "id": "NmTEuoksZULm",
        "outputId": "b2ec8b43-58c6-4652-b853-93f36eb66001"
      },
      "execution_count": 79,
      "outputs": [
        {
          "output_type": "stream",
          "name": "stdout",
          "text": [
            "1일차 1교시입니다.\n",
            "1일차 2교시입니다.\n",
            "1일차 3교시입니다.\n",
            "2일차 1교시입니다.\n",
            "2일차 2교시입니다.\n",
            "2일차 3교시입니다.\n",
            "3일차 1교시입니다.\n",
            "3일차 2교시입니다.\n",
            "3일차 3교시입니다.\n"
          ]
        }
      ]
    },
    {
      "cell_type": "code",
      "source": [
        "# 구구단을 2단부터 9단까지 출력하세요\n",
        "dan = 2\n",
        "while dan <= 9:\n",
        "  n = 1\n",
        "  while n <= 9:\n",
        "    print(f'{dan} X {n} = {dan*n}')\n",
        "    n += 1\n",
        "  dan += 1"
      ],
      "metadata": {
        "colab": {
          "base_uri": "https://localhost:8080/"
        },
        "id": "wsOLc6JPuXp5",
        "outputId": "acb2eb62-1d28-4c8b-8b6b-3c8e8a522c88"
      },
      "execution_count": 83,
      "outputs": [
        {
          "output_type": "stream",
          "name": "stdout",
          "text": [
            "2 X 1 = 2\n",
            "2 X 2 = 4\n",
            "2 X 3 = 6\n",
            "2 X 4 = 8\n",
            "2 X 5 = 10\n",
            "2 X 6 = 12\n",
            "2 X 7 = 14\n",
            "2 X 8 = 16\n",
            "2 X 9 = 18\n",
            "3 X 1 = 3\n",
            "3 X 2 = 6\n",
            "3 X 3 = 9\n",
            "3 X 4 = 12\n",
            "3 X 5 = 15\n",
            "3 X 6 = 18\n",
            "3 X 7 = 21\n",
            "3 X 8 = 24\n",
            "3 X 9 = 27\n",
            "4 X 1 = 4\n",
            "4 X 2 = 8\n",
            "4 X 3 = 12\n",
            "4 X 4 = 16\n",
            "4 X 5 = 20\n",
            "4 X 6 = 24\n",
            "4 X 7 = 28\n",
            "4 X 8 = 32\n",
            "4 X 9 = 36\n",
            "5 X 1 = 5\n",
            "5 X 2 = 10\n",
            "5 X 3 = 15\n",
            "5 X 4 = 20\n",
            "5 X 5 = 25\n",
            "5 X 6 = 30\n",
            "5 X 7 = 35\n",
            "5 X 8 = 40\n",
            "5 X 9 = 45\n",
            "6 X 1 = 6\n",
            "6 X 2 = 12\n",
            "6 X 3 = 18\n",
            "6 X 4 = 24\n",
            "6 X 5 = 30\n",
            "6 X 6 = 36\n",
            "6 X 7 = 42\n",
            "6 X 8 = 48\n",
            "6 X 9 = 54\n",
            "7 X 1 = 7\n",
            "7 X 2 = 14\n",
            "7 X 3 = 21\n",
            "7 X 4 = 28\n",
            "7 X 5 = 35\n",
            "7 X 6 = 42\n",
            "7 X 7 = 49\n",
            "7 X 8 = 56\n",
            "7 X 9 = 63\n",
            "8 X 1 = 8\n",
            "8 X 2 = 16\n",
            "8 X 3 = 24\n",
            "8 X 4 = 32\n",
            "8 X 5 = 40\n",
            "8 X 6 = 48\n",
            "8 X 7 = 56\n",
            "8 X 8 = 64\n",
            "8 X 9 = 72\n",
            "9 X 1 = 9\n",
            "9 X 2 = 18\n",
            "9 X 3 = 27\n",
            "9 X 4 = 36\n",
            "9 X 5 = 45\n",
            "9 X 6 = 54\n",
            "9 X 7 = 63\n",
            "9 X 8 = 72\n",
            "9 X 9 = 81\n"
          ]
        }
      ]
    },
    {
      "cell_type": "code",
      "source": [
        "# q. 정수를 입력 받아서 그 횟수 만큼 'Hello'를 출력하는 프로그램을 작성하세요\n",
        "# 0 이하의 값이 입력되면 '잘못된 입력입니다.' 라고 출력하세요.\n",
        "num = int(input('정수 입력 >> '))\n",
        "i = 1\n",
        "if num <= 0:\n",
        "  print('잘못된 입력입니다.')\n",
        "else:\n",
        " while i <= num:\n",
        "   print(f'{i}번째 Hello')\n",
        "   i += 1\n",
        "\n"
      ],
      "metadata": {
        "colab": {
          "base_uri": "https://localhost:8080/"
        },
        "id": "vOo92G83wQq_",
        "outputId": "ead81dc2-6f8e-4118-d39c-d0bdb90cdd33"
      },
      "execution_count": 95,
      "outputs": [
        {
          "output_type": "stream",
          "name": "stdout",
          "text": [
            "정수 입력 >> -1\n",
            "잘못된 입력입니다.\n"
          ]
        }
      ]
    },
    {
      "cell_type": "code",
      "source": [
        "# q2. 1부터 100사이의 모든 정수 중에서 7의 배수만 출력하세요\n",
        "n = 1\n",
        "while n <= 100:\n",
        "  if n % 7 == 0:\n",
        "    print(n)\n",
        "  n += 1"
      ],
      "metadata": {
        "colab": {
          "base_uri": "https://localhost:8080/"
        },
        "id": "zNDV7AsW0wVe",
        "outputId": "690d368f-65c3-4138-dad6-cbe636a92a85"
      },
      "execution_count": 97,
      "outputs": [
        {
          "output_type": "stream",
          "name": "stdout",
          "text": [
            "7\n",
            "14\n",
            "21\n",
            "28\n",
            "35\n",
            "42\n",
            "49\n",
            "56\n",
            "63\n",
            "70\n",
            "77\n",
            "84\n",
            "91\n",
            "98\n"
          ]
        }
      ]
    },
    {
      "cell_type": "code",
      "source": [
        "# 커피 1잔을 300원에 판매하는 자판기가 있다\n",
        "# 자판기에 돈을 넣었을때 자판기에서 뽑을 수 있는 커피가 몇잔이고\n",
        "# 잔돈이 얼마인지 함께 출력하세요\n",
        "\n",
        "# 자판기에 얼마를 넣을까요 >> 1400\n",
        "# 커피 1잔, 잔돈 1100원\n",
        "# 커피 2잔, 잔돈 800원\n",
        "# 커피 3잔, 잔돈 500원\n",
        "# 커피 4잔, 잔돈 200원\n",
        "\n",
        "money = int(input('자판기에 얼마를 넣을까요 >> '))\n",
        "i = 1\n",
        "cof = 300\n",
        "while cof <= money:\n",
        "  print(f'커피 {i}잔, 잔돈 {money-cof}원')\n",
        "  i += 1\n",
        "  cof += 300\n"
      ],
      "metadata": {
        "colab": {
          "base_uri": "https://localhost:8080/"
        },
        "id": "UzY9L9Ik6qsB",
        "outputId": "7cca2420-8246-4681-d080-6bc233ff5982"
      },
      "execution_count": 106,
      "outputs": [
        {
          "output_type": "stream",
          "name": "stdout",
          "text": [
            "자판기에 얼마를 넣을까요 >> 1400\n",
            "커피 1잔, 잔돈 1100원\n",
            "커피 2잔, 잔돈 800원\n",
            "커피 3잔, 잔돈 500원\n",
            "커피 4잔, 잔돈 200원\n"
          ]
        }
      ]
    },
    {
      "cell_type": "code",
      "source": [
        "# 사용자로부터 0부투 9까지의 정수를 입력받아 입력된 정수가 5개가\n",
        "# 될때까지 입력 받는 프로그램을 구현하세요, 중복된 값이 입력되면\n",
        "# 해당 입력은 무시합니다.\n",
        "\n",
        "# 0~9 사이 정수를 입력하세요\n",
        "num = set([])\n",
        "while len(num)<=4:\n",
        "  no = int(input('0~9 사이 정수를 입력하세요>> '))\n",
        "  num.add(no)\n",
        "\n",
        "\n",
        "\n",
        "print(num)\n"
      ],
      "metadata": {
        "colab": {
          "base_uri": "https://localhost:8080/"
        },
        "id": "aE2VmOhH88PA",
        "outputId": "e1629cb0-1fd5-4b66-c0c5-1f44975468f8"
      },
      "execution_count": 3,
      "outputs": [
        {
          "output_type": "stream",
          "name": "stdout",
          "text": [
            "0~9 사이 정수를 입력하세요>> 0\n",
            "0~9 사이 정수를 입력하세요>> 0\n",
            "0~9 사이 정수를 입력하세요>> 1\n",
            "0~9 사이 정수를 입력하세요>> 4\n",
            "0~9 사이 정수를 입력하세요>> 5\n",
            "0~9 사이 정수를 입력하세요>> 6\n",
            "{0, 1, 4, 5, 6}\n"
          ]
        }
      ]
    },
    {
      "cell_type": "code",
      "source": [
        "# 1부터 100사이의 모든 정수를 한줄에 10개씩 출력하시오\n",
        "# while 2번 사용할 것\n",
        "# n = 1\n",
        "# while n <= 100:\n",
        "#   if n % 10 != 0:\n",
        "#     print(n, end='\\t')\n",
        "#   else:\n",
        "#     print(n)\n",
        "#   n += 1\n",
        "\n",
        "n = 1\n",
        "while n <= 100:\n",
        "  t = 0\n",
        "  while t <10:\n",
        "    print(n, end='\\t')\n",
        "    t += 1\n",
        "    n += 1\n",
        "  print(\"\")  \n"
      ],
      "metadata": {
        "colab": {
          "base_uri": "https://localhost:8080/"
        },
        "id": "7ncfWgbtC-u2",
        "outputId": "a8f80d84-1456-4cb0-ae02-c758c5ae0fc9"
      },
      "execution_count": 8,
      "outputs": [
        {
          "output_type": "stream",
          "name": "stdout",
          "text": [
            "1\t2\t3\t4\t5\t6\t7\t8\t9\t10\t\n",
            "11\t12\t13\t14\t15\t16\t17\t18\t19\t20\t\n",
            "21\t22\t23\t24\t25\t26\t27\t28\t29\t30\t\n",
            "31\t32\t33\t34\t35\t36\t37\t38\t39\t40\t\n",
            "41\t42\t43\t44\t45\t46\t47\t48\t49\t50\t\n",
            "51\t52\t53\t54\t55\t56\t57\t58\t59\t60\t\n",
            "61\t62\t63\t64\t65\t66\t67\t68\t69\t70\t\n",
            "71\t72\t73\t74\t75\t76\t77\t78\t79\t80\t\n",
            "81\t82\t83\t84\t85\t86\t87\t88\t89\t90\t\n",
            "91\t92\t93\t94\t95\t96\t97\t98\t99\t100\t\n"
          ]
        }
      ]
    },
    {
      "cell_type": "code",
      "source": [
        "############\n",
        "# for\n",
        "############\n",
        "\n",
        "# 몇 번 반복 시킬지 그 횟수가 명확할 때 주로 사용한다.\n",
        "\n",
        "# for 변수 in 반복시킬 값들:\n",
        "#   반복실행문\n",
        "\n",
        "# 리스트\n",
        "# for i in [1,2,3]:\n",
        "#   print(i)\n",
        "\n",
        "# 문자열\n",
        "# for i in 'hello':\n",
        "#   print(i)\n",
        "\n",
        "# 튜플\n",
        "# for i in (1,2,3):\n",
        "#   print(i)\n",
        "\n",
        "# range()\n",
        "for i in range(1,4,2):   #range(시작(생략가능), 끝(미만), 스탭(생략가능))\n",
        "  print(i)\n",
        "\n",
        "# set, dict 는 순서와 상관 없이는 사용 가능"
      ],
      "metadata": {
        "colab": {
          "base_uri": "https://localhost:8080/"
        },
        "id": "oVWkPbCtLdhD",
        "outputId": "b92d8b11-ed6e-4994-ae6c-981e57187536"
      },
      "execution_count": 15,
      "outputs": [
        {
          "output_type": "stream",
          "name": "stdout",
          "text": [
            "1\n",
            "3\n"
          ]
        }
      ]
    },
    {
      "cell_type": "code",
      "source": [
        "# 비밀 번호(str)를 입력 받아서 숫자와 문자가 모두 반드시 하나이상\n",
        "# 포함된 경우만 '사용 가능한 비번입니다.'\n",
        "# '불가능한 비번입니다'\n",
        "# ch,isalpha() - 알파벳이면 True\n",
        "# ch.isnumeric() - 숫자면 True\n",
        "\n",
        "# (입력) 비밀 번호를 입력하세요 >>>\n",
        "# (출력) 사용 가능한 비번입니다.\n",
        "\n",
        "pw = input('비밀 번호를 입력하세요 >>> ')\n",
        "ch_count = 0\n",
        "no_count = 0\n",
        "for ch in pw:\n",
        "  if ch.isalpha():\n",
        "    ch_count += 1\n",
        "  elif ch.isnumeric():\n",
        "    no_count += 1\n",
        "\n",
        "if ch_count > 0 and no_count > 0:\n",
        "  print('사용 가능한 비번입니다.')\n",
        "else:\n",
        "  print('불가능한 비번입니다')"
      ],
      "metadata": {
        "colab": {
          "base_uri": "https://localhost:8080/"
        },
        "id": "S8zN45UbOHLI",
        "outputId": "a88ff30b-7a95-4927-e174-048e87e5a9e3"
      },
      "execution_count": 2,
      "outputs": [
        {
          "output_type": "stream",
          "name": "stdout",
          "text": [
            "비밀 번호를 입력하세요 >>> 215q\n",
            "사용 가능한 비번입니다.\n"
          ]
        }
      ]
    },
    {
      "cell_type": "code",
      "source": [
        "# range([start], stop, [step])\n",
        "# 1. 숫자들을 컬렉션으로 만든다.\n",
        "# 2. start를 생략하면 0부터 시작한다.\n",
        "# 3. stop은 생략할수 없다.\n",
        "# 4. step을 생략하면 1씩 증가한다.\n",
        "\n",
        "range(5)"
      ],
      "metadata": {
        "colab": {
          "base_uri": "https://localhost:8080/"
        },
        "id": "xUZOVr4_V-2f",
        "outputId": "1254e1da-1425-43e1-9512-d86a9540eda3"
      },
      "execution_count": 4,
      "outputs": [
        {
          "output_type": "stream",
          "name": "stdout",
          "text": [
            "h\n",
            "e\n",
            "l\n",
            "l\n",
            "o\n"
          ]
        }
      ]
    },
    {
      "cell_type": "code",
      "source": [
        "# quiz. range와 for 문을 사용하여 구구단을 출략하세요\n",
        "# (입력) 출력할 구구단을 입력하세요 >>>\n",
        "\n",
        "dan = int(input('출력할 구구단을 입력하세요 >>> '))\n",
        "\n",
        "for i in range(1,10):\n",
        "  print(f'{dan} X {i} = {dan *i}')"
      ],
      "metadata": {
        "colab": {
          "base_uri": "https://localhost:8080/"
        },
        "id": "c3hZaYEpW5-9",
        "outputId": "c1218ee9-9aef-4c2f-8322-7e9a8245cfd1"
      },
      "execution_count": 11,
      "outputs": [
        {
          "output_type": "stream",
          "name": "stdout",
          "text": [
            "출력할 구구단을 입력하세요 >>> 2\n",
            "2 X 1 = 2\n",
            "2 X 2 = 4\n",
            "2 X 3 = 6\n",
            "2 X 4 = 8\n",
            "2 X 5 = 10\n",
            "2 X 6 = 12\n",
            "2 X 7 = 14\n",
            "2 X 8 = 16\n",
            "2 X 9 = 18\n"
          ]
        }
      ]
    },
    {
      "cell_type": "code",
      "source": [
        "# set, dict 도 for문으로 사용은 가능하다 순서는 보장하지 않는다.\n",
        "\n",
        "for i in {'가위','바위','보'}:\n",
        "  print(i)"
      ],
      "metadata": {
        "colab": {
          "base_uri": "https://localhost:8080/"
        },
        "id": "NMif4aAwX7Jc",
        "outputId": "1e7d75ef-2acc-405c-9048-2d3efb0de9e8"
      },
      "execution_count": 16,
      "outputs": [
        {
          "output_type": "stream",
          "name": "stdout",
          "text": [
            "바위\n",
            "가위\n",
            "보\n"
          ]
        }
      ]
    },
    {
      "cell_type": "code",
      "source": [
        "person ={\n",
        "    'name':'에밀리',\n",
        "    'age':'20'\n",
        "}\n",
        "\n",
        "for i in person:\n",
        "  print(i)\n",
        "\n",
        "for i in person:\n",
        "  print(person[i])"
      ],
      "metadata": {
        "colab": {
          "base_uri": "https://localhost:8080/"
        },
        "id": "X8akNYarYbOK",
        "outputId": "a82e7c50-eaeb-4daa-c3a5-5e19521eb8cb"
      },
      "execution_count": 23,
      "outputs": [
        {
          "output_type": "stream",
          "name": "stdout",
          "text": [
            "name\n",
            "age\n",
            "에밀리\n",
            "20\n"
          ]
        }
      ]
    },
    {
      "cell_type": "code",
      "source": [
        "# 사용자로부터 양의 정수를 하나 입력 받아서 1부터 입력 받은 정수 까지의\n",
        "# 모든 정수의 합계를 구하는 프로그램을 작성하세요\n",
        "\n",
        "no = int(input('정수를 입력하세요 >> '))\n",
        "sum = 0\n",
        "for i in range(1,no+1):\n",
        "  sum += i\n",
        "print(f'1부터 {no}사이의 모든 정수의 합계는 {sum} 입니다.')"
      ],
      "metadata": {
        "colab": {
          "base_uri": "https://localhost:8080/"
        },
        "id": "XHKJPmwdZR9m",
        "outputId": "1d9c5559-603f-44e2-aff7-1328575b9416"
      },
      "execution_count": 26,
      "outputs": [
        {
          "output_type": "stream",
          "name": "stdout",
          "text": [
            "정수를 입력하세요 >> 5\n",
            "1부터 5사이의 모든 정수의 합계는 15 입니다.\n"
          ]
        }
      ]
    },
    {
      "cell_type": "code",
      "source": [
        "# 사용자로부터 임의의 정수를 하나 입력 받아서 그 숫자 만큼의 '과일이름'입력 받아서\n",
        "# 'basket' 리스트에 저장하는 프러그램을 작성하세요\n",
        "\n",
        "# 몇개의 과일을 보관할까요? >>> 3\n",
        "# 1번째 과일을 입력하세요 >>>\n",
        "# 2번째 과일을 입력하세요 >>>\n",
        "# 3번째 과일을 입력하세요 >>>\n",
        "\n",
        "no = int(input('몇개의 과일을 보관할까요? >>>'))\n",
        "basket = []\n",
        "for i in range(1, no+1):\n",
        "  fruit = input(f'{i}번째 과일을 입력하세요 >>>')\n",
        "  basket.append(fruit)\n",
        "\n",
        "print(f'입력받은 과일들은 {basket} 입니다.')\n"
      ],
      "metadata": {
        "colab": {
          "base_uri": "https://localhost:8080/"
        },
        "id": "kPZYYR6eaqJL",
        "outputId": "e7a000e7-01a5-479a-e6eb-35740000ec6d"
      },
      "execution_count": 27,
      "outputs": [
        {
          "output_type": "stream",
          "name": "stdout",
          "text": [
            "몇개의 과일을 보관할까요? >>>3\n",
            "1번째 과일을 입력하세요 >>>수박\n",
            "2번째 과일을 입력하세요 >>>딸기\n",
            "3번째 과일을 입력하세요 >>>포도\n",
            "입력받은 과일들은 ['수박', '딸기', '포도'] 입니다.\n"
          ]
        }
      ]
    },
    {
      "cell_type": "code",
      "source": [
        "# 1부터 99 사이의 모든 정수를 대상으로 369게임의 결과를 출력하는 프로그램을 작성하세요\n",
        "# 1 2 짝  4 5 짝......\n",
        "\n",
        "for i in range(1,100):\n",
        "  if(len(i)==1):\n",
        "    if i%3 == 0:\n",
        "      print('짝', end = '\\t')\n",
        "  if()\n",
        "  \n",
        "  if i % 10 == 0:\n",
        "    print(i)\n",
        "  else:\n",
        "    print(i, end='\\t')"
      ],
      "metadata": {
        "colab": {
          "base_uri": "https://localhost:8080/"
        },
        "id": "y0616gfdcyMT",
        "outputId": "d3c127f6-a300-47b6-b4f0-4f41a488df8a"
      },
      "execution_count": 38,
      "outputs": [
        {
          "output_type": "stream",
          "name": "stdout",
          "text": [
            "1\t2\t3\t4\t5\t6\t7\t8\t9\t10\n",
            "11\t12\t13\t14\t15\t16\t17\t18\t19\t20\n",
            "21\t22\t23\t24\t25\t26\t27\t28\t29\t30\n",
            "31\t32\t33\t34\t35\t36\t37\t38\t39\t40\n",
            "41\t42\t43\t44\t45\t46\t47\t48\t49\t50\n",
            "51\t52\t53\t54\t55\t56\t57\t58\t59\t60\n",
            "61\t62\t63\t64\t65\t66\t67\t68\t69\t70\n",
            "71\t72\t73\t74\t75\t76\t77\t78\t79\t80\n",
            "81\t82\t83\t84\t85\t86\t87\t88\t89\t90\n",
            "91\t92\t93\t94\t95\t96\t97\t98\t99\t"
          ]
        }
      ]
    }
  ]
}