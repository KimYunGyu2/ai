{
  "nbformat": 4,
  "nbformat_minor": 0,
  "metadata": {
    "colab": {
      "name": "02HW20220126김윤규08.ipynb",
      "provenance": [],
      "authorship_tag": "ABX9TyMJATYmhsKFPOozjlYtooDZ",
      "include_colab_link": true
    },
    "kernelspec": {
      "name": "python3",
      "display_name": "Python 3"
    },
    "language_info": {
      "name": "python"
    }
  },
  "cells": [
    {
      "cell_type": "markdown",
      "metadata": {
        "id": "view-in-github",
        "colab_type": "text"
      },
      "source": [
        "<a href=\"https://colab.research.google.com/github/KimYunGyu2/ai/blob/main/02HW20220126%EA%B9%80%EC%9C%A4%EA%B7%9C08.ipynb\" target=\"_parent\"><img src=\"https://colab.research.google.com/assets/colab-badge.svg\" alt=\"Open In Colab\"/></a>"
      ]
    },
    {
      "cell_type": "code",
      "execution_count": null,
      "metadata": {
        "colab": {
          "base_uri": "https://localhost:8080/"
        },
        "id": "MKe93le1a2Ra",
        "outputId": "0894abe4-d672-4719-a348-d32021ed479f"
      },
      "outputs": [
        {
          "output_type": "stream",
          "name": "stdout",
          "text": [
            "['닥터 스트레인지', '스플릿', '럭키'] <class 'list'>\n"
          ]
        }
      ],
      "source": [
        "# 051\n",
        "movie_rank = ['닥터 스트레인지','스플릿','럭키']\n",
        "print(movie_rank, type(movie_rank))"
      ]
    },
    {
      "cell_type": "code",
      "source": [
        "# 052\n",
        "movie_rank.append('배트맨')\n",
        "print(movie_rank)"
      ],
      "metadata": {
        "colab": {
          "base_uri": "https://localhost:8080/"
        },
        "id": "Uu_HuenNb27v",
        "outputId": "8c5c8df4-9108-4bbb-ab47-458ceef8cdb6"
      },
      "execution_count": null,
      "outputs": [
        {
          "output_type": "stream",
          "name": "stdout",
          "text": [
            "['닥터 스트레인지', '스플릿', '럭키', '배트맨']\n"
          ]
        }
      ]
    },
    {
      "cell_type": "code",
      "source": [
        "# 053\n",
        "movie_rank.insert(1,'슈퍼맨')\n",
        "print(movie_rank)"
      ],
      "metadata": {
        "colab": {
          "base_uri": "https://localhost:8080/"
        },
        "id": "cnIaAaRbch9P",
        "outputId": "a53c8ce8-4ac8-4ca9-d945-3ae8d541fea4"
      },
      "execution_count": null,
      "outputs": [
        {
          "output_type": "stream",
          "name": "stdout",
          "text": [
            "['닥터 스트레인지', '슈퍼맨', '스플릿', '럭키', '배트맨']\n"
          ]
        }
      ]
    },
    {
      "cell_type": "code",
      "source": [
        "# 054\n",
        "del movie_rank[3]\n",
        "print(movie_rank)"
      ],
      "metadata": {
        "colab": {
          "base_uri": "https://localhost:8080/"
        },
        "id": "eT4bWXuBc6we",
        "outputId": "8b516848-aa77-4352-fc27-3c09263088c2"
      },
      "execution_count": null,
      "outputs": [
        {
          "output_type": "stream",
          "name": "stdout",
          "text": [
            "['닥터 스트레인지', '슈퍼맨', '스플릿', '배트맨']\n"
          ]
        }
      ]
    },
    {
      "cell_type": "code",
      "source": [
        "# 055\n",
        "movie_rank = ['닥터 스트레인지', '슈퍼맨', '스플릿', '배트맨']\n",
        "del movie_rank[2:]\n",
        "print(movie_rank)"
      ],
      "metadata": {
        "colab": {
          "base_uri": "https://localhost:8080/"
        },
        "id": "WZDIZ7WDdOZX",
        "outputId": "88f7eb13-2325-46be-b0a0-bff5ea454fa4"
      },
      "execution_count": null,
      "outputs": [
        {
          "output_type": "stream",
          "name": "stdout",
          "text": [
            "['닥터 스트레인지', '슈퍼맨']\n"
          ]
        }
      ]
    },
    {
      "cell_type": "code",
      "source": [
        "# 056\n",
        "lang1 = [\"C\", \"C++\", \"JAVA\"]\n",
        "lang2 = [\"Python\", \"Go\", \"C#\"]\n",
        "langs = lang1 + lang2\n",
        "print(langs)"
      ],
      "metadata": {
        "colab": {
          "base_uri": "https://localhost:8080/"
        },
        "id": "V7zGmaSjdhoO",
        "outputId": "57eb6041-c5df-4bf2-c745-72eec61972b9"
      },
      "execution_count": null,
      "outputs": [
        {
          "output_type": "stream",
          "name": "stdout",
          "text": [
            "['C', 'C++', 'JAVA', 'Python', 'Go', 'C#']\n"
          ]
        }
      ]
    },
    {
      "cell_type": "code",
      "source": [
        "# 057\n",
        "nums = [1, 2, 3, 4, 5, 6, 7]\n",
        "print('max : ', max(nums))\n",
        "print('min : ', min(nums))"
      ],
      "metadata": {
        "colab": {
          "base_uri": "https://localhost:8080/"
        },
        "id": "i-z83feXdzQf",
        "outputId": "052bb1e1-4a8a-4810-854f-9240c8b155ba"
      },
      "execution_count": null,
      "outputs": [
        {
          "output_type": "stream",
          "name": "stdout",
          "text": [
            "max :  7\n",
            "min :  1\n"
          ]
        }
      ]
    },
    {
      "cell_type": "code",
      "source": [
        "# 058\n",
        "nums = [1, 2, 3, 4, 5]\n",
        "print(sum(nums))"
      ],
      "metadata": {
        "colab": {
          "base_uri": "https://localhost:8080/"
        },
        "id": "-4fCBGt-eFke",
        "outputId": "e4f072d2-d87d-4860-df75-6ad6da31e0de"
      },
      "execution_count": null,
      "outputs": [
        {
          "output_type": "stream",
          "name": "stdout",
          "text": [
            "15\n"
          ]
        }
      ]
    },
    {
      "cell_type": "code",
      "source": [
        "# 059\n",
        "cook = [\"피자\", \"김밥\", \"만두\", \"양념치킨\", \"족발\", \"피자\", \"김치만두\", \n",
        "\"쫄면\", \"쏘세지\", \"라면\", \"팥빙수\", \"김치전\"]\n",
        "print(len(cook))"
      ],
      "metadata": {
        "colab": {
          "base_uri": "https://localhost:8080/"
        },
        "id": "Te4BgGwEeOt-",
        "outputId": "54511a61-e2c7-48d3-a611-a74c28ef3470"
      },
      "execution_count": null,
      "outputs": [
        {
          "output_type": "stream",
          "name": "stdout",
          "text": [
            "12\n"
          ]
        }
      ]
    },
    {
      "cell_type": "code",
      "source": [
        "# 060\n",
        "nums = [1, 2, 3, 4, 5]\n",
        "print(sum(nums)/len(nums))"
      ],
      "metadata": {
        "colab": {
          "base_uri": "https://localhost:8080/"
        },
        "id": "yW-2z3p_ehWB",
        "outputId": "7c18a04b-b892-4651-adc6-aeb0d5ee6e18"
      },
      "execution_count": null,
      "outputs": [
        {
          "output_type": "stream",
          "name": "stdout",
          "text": [
            "3.0\n"
          ]
        }
      ]
    },
    {
      "cell_type": "code",
      "source": [
        "# 121\n",
        "str = input('문자를 입력하세요 >> ')\n",
        "if str.islower():\n",
        "  print(str.upper())\n",
        "else:\n",
        "  print(str.lower()) \n"
      ],
      "metadata": {
        "colab": {
          "base_uri": "https://localhost:8080/"
        },
        "id": "Z6mLeOqGezjH",
        "outputId": "406ac916-7eee-4a24-b315-68ae43fe3186"
      },
      "execution_count": null,
      "outputs": [
        {
          "output_type": "stream",
          "name": "stdout",
          "text": [
            "문자를 입력하세요 >> C\n",
            "c\n"
          ]
        }
      ]
    },
    {
      "cell_type": "code",
      "source": [
        "# 122\n",
        "score = int(input('score: '))\n",
        "if score > 80:\n",
        "  grade = 'A'\n",
        "elif score > 60:\n",
        "  grade = 'B'\n",
        "elif score > 40:\n",
        "  grade = 'C'\n",
        "elif score > 20:\n",
        "  grade = 'D'\n",
        "else:\n",
        "  grade = 'E'\n",
        "\n",
        "print(f'grade is {grade}')"
      ],
      "metadata": {
        "colab": {
          "base_uri": "https://localhost:8080/"
        },
        "id": "pXFTN7CZgLof",
        "outputId": "0da90a92-2ab3-4788-b3f8-d6031dd0be3b"
      },
      "execution_count": null,
      "outputs": [
        {
          "output_type": "stream",
          "name": "stdout",
          "text": [
            "score: 83\n",
            "grade is A\n"
          ]
        }
      ]
    },
    {
      "cell_type": "code",
      "source": [
        "# 123\n",
        "???"
      ],
      "metadata": {
        "id": "7tfm0TdzhD8v"
      },
      "execution_count": null,
      "outputs": []
    },
    {
      "cell_type": "code",
      "source": [
        "# 124\n",
        "num1 = int(input('number1: '))\n",
        "num2 = int(input('number2: '))\n",
        "num3 = int(input('number3: '))\n",
        "\n",
        "max = 0\n",
        "if num1 > num2 & num1 > num3 :\n",
        "  max  = num1\n",
        "elif num2 > num3 :\n",
        "  max = num2\n",
        "else :\n",
        "  max = num3\n",
        "\n",
        "print(max)"
      ],
      "metadata": {
        "colab": {
          "base_uri": "https://localhost:8080/"
        },
        "id": "ZlAOGXE5hRS4",
        "outputId": "ed9048d1-3bb5-4656-a77b-04ed01003e60"
      },
      "execution_count": null,
      "outputs": [
        {
          "output_type": "stream",
          "name": "stdout",
          "text": [
            "number1: 10\n",
            "number2: 9\n",
            "number3: 20\n",
            "20\n"
          ]
        }
      ]
    },
    {
      "cell_type": "code",
      "source": [
        "# 125\n",
        "pn = input('휴대전화 번호 입력: ')\n",
        "if(int(pn[2])==1):\n",
        "  res = 'SKT'\n",
        "elif(int(pn[2])==6):\n",
        "  res = 'KT'\n",
        "elif(int(pn[2])==9):\n",
        "  res = 'LGU'\n",
        "else:\n",
        "  res = '알수없음'\n",
        "\n",
        "print(f'당신은 {res} 사용자입니다')\n",
        "\n"
      ],
      "metadata": {
        "colab": {
          "base_uri": "https://localhost:8080/"
        },
        "id": "qf-JQ80FiKgQ",
        "outputId": "69a5682b-200e-44af-9608-433bcdff5734"
      },
      "execution_count": null,
      "outputs": [
        {
          "output_type": "stream",
          "name": "stdout",
          "text": [
            "휴대전화 번호 입력: 019-345-1922\n",
            "당신은 LGU 사용자입니다\n"
          ]
        }
      ]
    },
    {
      "cell_type": "code",
      "source": [
        "# 126\n",
        "post = input('우편번호 : ')\n",
        "if(int(post[2]) < 3):\n",
        "  area = '강북구'\n",
        "elif(int(post[2]) < 6):\n",
        "  area = '도봉구'\n",
        "else:\n",
        "  area = '노원구'\n",
        "\n",
        "print(area)"
      ],
      "metadata": {
        "colab": {
          "base_uri": "https://localhost:8080/"
        },
        "id": "FbmHb-1Mm6mB",
        "outputId": "81d92ce2-ef6f-4b02-dbb9-f5fdc8c6e010"
      },
      "execution_count": null,
      "outputs": [
        {
          "output_type": "stream",
          "name": "stdout",
          "text": [
            "우편번호 : 01600\n",
            "노원구\n"
          ]
        }
      ]
    },
    {
      "cell_type": "code",
      "source": [
        "# 127\n",
        "num = input('주민등록번호 : ')\n",
        "if(int(num[7]))%2==0:\n",
        "  print('여자')\n",
        "else:\n",
        "  print('남자')"
      ],
      "metadata": {
        "colab": {
          "base_uri": "https://localhost:8080/"
        },
        "id": "jALZzHMvpWfR",
        "outputId": "41941740-59e7-4826-d6db-ca0d106d0556"
      },
      "execution_count": null,
      "outputs": [
        {
          "output_type": "stream",
          "name": "stdout",
          "text": [
            "주민등록번호 : 821010-2635210\n",
            "여자\n"
          ]
        }
      ]
    },
    {
      "cell_type": "code",
      "source": [
        "# 128\n",
        "num = input('주민등록번호 : ')\n",
        "if(int(num[8:10])<9):\n",
        "  print('서울 입니다.')\n",
        "else:\n",
        "  print('서울이 아닙니다.')"
      ],
      "metadata": {
        "colab": {
          "base_uri": "https://localhost:8080/"
        },
        "id": "hhLE-NoVp8e4",
        "outputId": "fcad1ee0-d53e-4a9c-e9f0-078a814bebd9"
      },
      "execution_count": null,
      "outputs": [
        {
          "output_type": "stream",
          "name": "stdout",
          "text": [
            "주민등록번호 : 861010-1015210\n",
            "서울 입니다\n"
          ]
        }
      ]
    },
    {
      "cell_type": "code",
      "source": [
        "# 129\n",
        "????"
      ],
      "metadata": {
        "id": "sv3W21wfqsni"
      },
      "execution_count": null,
      "outputs": []
    },
    {
      "cell_type": "code",
      "source": [
        "# 130\n",
        "????"
      ],
      "metadata": {
        "id": "Rc1fRSyxrHwB"
      },
      "execution_count": null,
      "outputs": []
    }
  ]
}