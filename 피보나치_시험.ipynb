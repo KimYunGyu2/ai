{
  "nbformat": 4,
  "nbformat_minor": 0,
  "metadata": {
    "colab": {
      "name": "피보나치 시험.ipynb",
      "provenance": [],
      "authorship_tag": "ABX9TyNsltcM8gWk/7f0d+ZGyyhy",
      "include_colab_link": true
    },
    "kernelspec": {
      "name": "python3",
      "display_name": "Python 3"
    },
    "language_info": {
      "name": "python"
    }
  },
  "cells": [
    {
      "cell_type": "markdown",
      "metadata": {
        "id": "view-in-github",
        "colab_type": "text"
      },
      "source": [
        "<a href=\"https://colab.research.google.com/github/KimYunGyu2/ai/blob/main/%ED%94%BC%EB%B3%B4%EB%82%98%EC%B9%98_%EC%8B%9C%ED%97%98.ipynb\" target=\"_parent\"><img src=\"https://colab.research.google.com/assets/colab-badge.svg\" alt=\"Open In Colab\"/></a>"
      ]
    },
    {
      "cell_type": "code",
      "execution_count": 8,
      "metadata": {
        "colab": {
          "base_uri": "https://localhost:8080/"
        },
        "id": "oAGZolTheeCY",
        "outputId": "18c1a641-da5a-4767-ae28-cce0fafbeebf"
      },
      "outputs": [
        {
          "output_type": "stream",
          "name": "stdout",
          "text": [
            "[1, 1, 2, 3, 5, 8, 13, 21, 34, 55, 89]\n"
          ]
        }
      ],
      "source": [
        "def fib() -> list:    # 인자값은 없고 결과값은 list 타입으로 나오는 fib()이라는 함수 정의 \n",
        "    \"\"\"Return the Fibonacci sequence list between 0 to 100\"\"\" # Annotation 0에서 100사이의 피보나치 수열을 리스트에 담은것을 리턴\n",
        "    fib_list = []  # fib_list 라는 피보나치수열을 담아둘 빈 리스트 선언\n",
        "    a,b=1,1        # 변수 a 와 b 를 선언하면서 1을 담아둔다\n",
        "    while a <= 100:          # while문이 a 가 100이하일때는 계속 반복\n",
        "      fib_list.append(a)     # fib_list 에 a를 넣는다\n",
        "      a,b = b,a+b            # a에 b 값을 넣고 b에 a+b 값을 넣는다\n",
        "    return print(fib_list)   # 반복문이 종료되면 print(fib_list)를 리턴한다\n",
        "    \n",
        "\n",
        "fib()                    # 위에서 정의한 fib() 함수 호출"
      ]
    },
    {
      "cell_type": "code",
      "source": [
        ""
      ],
      "metadata": {
        "id": "-T_rerfQgFGD"
      },
      "execution_count": null,
      "outputs": []
    }
  ]
}