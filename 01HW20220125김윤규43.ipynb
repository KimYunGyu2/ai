{
  "nbformat": 4,
  "nbformat_minor": 0,
  "metadata": {
    "colab": {
      "name": "01HW20220125김윤규43.ipynb",
      "provenance": [],
      "authorship_tag": "ABX9TyOt5kWglx+9MqRAu0AhV6/E",
      "include_colab_link": true
    },
    "kernelspec": {
      "name": "python3",
      "display_name": "Python 3"
    },
    "language_info": {
      "name": "python"
    }
  },
  "cells": [
    {
      "cell_type": "markdown",
      "metadata": {
        "id": "view-in-github",
        "colab_type": "text"
      },
      "source": [
        "<a href=\"https://colab.research.google.com/github/KimYunGyu2/ai/blob/main/01HW20220125%EA%B9%80%EC%9C%A4%EA%B7%9C43.ipynb\" target=\"_parent\"><img src=\"https://colab.research.google.com/assets/colab-badge.svg\" alt=\"Open In Colab\"/></a>"
      ]
    },
    {
      "cell_type": "code",
      "execution_count": 1,
      "metadata": {
        "colab": {
          "base_uri": "https://localhost:8080/"
        },
        "id": "moGP5JDeRCRA",
        "outputId": "4e2b619e-49c3-415e-921c-65b158782c41"
      },
      "outputs": [
        {
          "output_type": "stream",
          "name": "stdout",
          "text": [
            "Hello World\n"
          ]
        }
      ],
      "source": [
        "# 001\n",
        "print('Hello World')"
      ]
    },
    {
      "cell_type": "code",
      "source": [
        "# 002\n",
        "print(\"Mary's cosmetics\")\n",
        "print('Mary\\'s cosmetics')"
      ],
      "metadata": {
        "colab": {
          "base_uri": "https://localhost:8080/"
        },
        "id": "0gAbzjgWR-yM",
        "outputId": "2bbe3ee4-564c-425a-c659-eabc29f293bd"
      },
      "execution_count": 6,
      "outputs": [
        {
          "output_type": "stream",
          "name": "stdout",
          "text": [
            "Mary's cosmetics\n",
            "Mary's cosmetics\n"
          ]
        }
      ]
    },
    {
      "cell_type": "code",
      "source": [
        "# 003\n",
        "print('신씨가 소리질렀다. \"도둑이야\".')\n",
        "print(\"신씨가 소리질렀다. \\\"도둑이야\\\".\")"
      ],
      "metadata": {
        "colab": {
          "base_uri": "https://localhost:8080/"
        },
        "id": "bTM5yITmSQRU",
        "outputId": "09f4ab85-8995-4f1e-80a5-9387e2845d8a"
      },
      "execution_count": 8,
      "outputs": [
        {
          "output_type": "stream",
          "name": "stdout",
          "text": [
            "신씨가 소리질렀다. \"도둑이야\".\n",
            "신씨가 소리질렀다. \"도둑이야\".\n"
          ]
        }
      ]
    },
    {
      "cell_type": "code",
      "source": [
        "# 004\n",
        "print('\"C:\\Windows\"')\n",
        "print(\"\\\"C:\\Windows\\\"\")"
      ],
      "metadata": {
        "colab": {
          "base_uri": "https://localhost:8080/"
        },
        "id": "ayWJDcAQShMb",
        "outputId": "ef18a13a-f728-4b57-af6d-5a22d9ad59bd"
      },
      "execution_count": 10,
      "outputs": [
        {
          "output_type": "stream",
          "name": "stdout",
          "text": [
            "\"C:\\Windows\"\n",
            "\"C:\\Windows\"\n"
          ]
        }
      ]
    },
    {
      "cell_type": "code",
      "source": [
        "# 005\n",
        "print(\"안녕하세요.\\n만나서\\t\\t반갑습니다.\")\n",
        "#\\t는 탭키누른것만큼 칸을 띄우는것이고 \\n은 줄을 바꿔준다"
      ],
      "metadata": {
        "colab": {
          "base_uri": "https://localhost:8080/"
        },
        "id": "k608Dl8GTD28",
        "outputId": "ff2b5a56-7cfa-4c61-edb8-1ffd0c879c47"
      },
      "execution_count": 9,
      "outputs": [
        {
          "output_type": "stream",
          "name": "stdout",
          "text": [
            "안녕하세요.\n",
            "만나서\t\t반갑습니다.\n"
          ]
        }
      ]
    },
    {
      "cell_type": "code",
      "source": [
        "# 006\n",
        "print(\"오늘은\", \"일요일\")\n",
        "#오늘은 일요일"
      ],
      "metadata": {
        "id": "nPMfmpp6TzEe"
      },
      "execution_count": null,
      "outputs": []
    },
    {
      "cell_type": "code",
      "source": [
        "# 007\n",
        "print('naver','kakao','sk','samsung', sep = ';')"
      ],
      "metadata": {
        "colab": {
          "base_uri": "https://localhost:8080/"
        },
        "id": "SqipoJcnUGN0",
        "outputId": "3c516c2d-a9b7-40b7-de69-cfac640022ac"
      },
      "execution_count": 14,
      "outputs": [
        {
          "output_type": "stream",
          "name": "stdout",
          "text": [
            "naver;kakao;sk;samsung\n"
          ]
        }
      ]
    },
    {
      "cell_type": "code",
      "source": [
        "# 008\n",
        "print('naver','kakao','sk','samsung', sep = '/')"
      ],
      "metadata": {
        "colab": {
          "base_uri": "https://localhost:8080/"
        },
        "id": "1C_AHkc6US80",
        "outputId": "d86b9e17-5279-46c1-c880-ffe650a29589"
      },
      "execution_count": 15,
      "outputs": [
        {
          "output_type": "stream",
          "name": "stdout",
          "text": [
            "naver/kakao/sk/samsung\n"
          ]
        }
      ]
    },
    {
      "cell_type": "code",
      "source": [
        "# 009\n",
        "print(\"first\", end = ' ');print(\"second\")"
      ],
      "metadata": {
        "colab": {
          "base_uri": "https://localhost:8080/"
        },
        "id": "EEgEo2xkU7zn",
        "outputId": "708821df-f08b-435b-f799-ec2864d50384"
      },
      "execution_count": 17,
      "outputs": [
        {
          "output_type": "stream",
          "name": "stdout",
          "text": [
            "first second\n"
          ]
        }
      ]
    },
    {
      "cell_type": "code",
      "source": [
        "# 010\n",
        "print(5/3)"
      ],
      "metadata": {
        "colab": {
          "base_uri": "https://localhost:8080/"
        },
        "id": "tb6v6XaGVcku",
        "outputId": "c432b904-e05f-4afc-eac3-f52d9660277b"
      },
      "execution_count": 18,
      "outputs": [
        {
          "output_type": "stream",
          "name": "stdout",
          "text": [
            "1.6666666666666667\n"
          ]
        }
      ]
    },
    {
      "cell_type": "code",
      "source": [
        "# 011\n",
        "삼성전자 = 50000\n",
        "stock = 10\n",
        "print(삼성전자 * stock)\n"
      ],
      "metadata": {
        "colab": {
          "base_uri": "https://localhost:8080/"
        },
        "id": "FBkNp8J-V33Q",
        "outputId": "dcefcac5-c7d3-49cd-de12-77124490521c"
      },
      "execution_count": 19,
      "outputs": [
        {
          "output_type": "stream",
          "name": "stdout",
          "text": [
            "500000\n"
          ]
        }
      ]
    },
    {
      "cell_type": "code",
      "source": [
        "# 012\n",
        "market_value = 298000000000000\n",
        "stock = 50000\n",
        "per = 15.79"
      ],
      "metadata": {
        "id": "8BON-48bXvkv"
      },
      "execution_count": null,
      "outputs": []
    },
    {
      "cell_type": "code",
      "source": [
        "# 013\n",
        "s = \"hello\"\n",
        "t = \"python\"\n",
        "print(f'{s}! {t}')\n",
        "print('{}! {}'.format(s, t))\n",
        "print('%s! %s' % (s, t))"
      ],
      "metadata": {
        "colab": {
          "base_uri": "https://localhost:8080/"
        },
        "id": "SI67JI-YYUgN",
        "outputId": "bb400355-5d2c-4dd8-8fc8-849c8e3dd44e"
      },
      "execution_count": 25,
      "outputs": [
        {
          "output_type": "stream",
          "name": "stdout",
          "text": [
            "hello! python\n",
            "hello! python\n",
            "hello! python\n"
          ]
        }
      ]
    },
    {
      "cell_type": "code",
      "source": [
        "# 014\n",
        "# 2 + 2 * 3 에서 보편적인 산술계산 순서에 따라 2랑3이랑 먼저 곱하고 그후에 2를 더해줄것 같다"
      ],
      "metadata": {
        "id": "hOzKSHLSZXXg"
      },
      "execution_count": null,
      "outputs": []
    },
    {
      "cell_type": "code",
      "source": [
        "# 015\n",
        "a = \"132\"\n",
        "print(type(a))\n",
        "#132는 숫자이지만 쌍따옴표 안에 있으므로 문자열로 인식한다"
      ],
      "metadata": {
        "colab": {
          "base_uri": "https://localhost:8080/"
        },
        "id": "PIgjPD4kZvie",
        "outputId": "ffa80c6b-22e0-4422-ed57-b797c23281bb"
      },
      "execution_count": 27,
      "outputs": [
        {
          "output_type": "stream",
          "name": "stdout",
          "text": [
            "<class 'str'>\n"
          ]
        }
      ]
    },
    {
      "cell_type": "code",
      "source": [
        "# 016\n",
        "num_str = int(\"720\")\n",
        "print(type(num_str))"
      ],
      "metadata": {
        "colab": {
          "base_uri": "https://localhost:8080/"
        },
        "id": "yPifhEupaHPe",
        "outputId": "f866e576-5930-49ea-ce18-fa0756b2636f"
      },
      "execution_count": 28,
      "outputs": [
        {
          "output_type": "stream",
          "name": "stdout",
          "text": [
            "<class 'int'>\n"
          ]
        }
      ]
    },
    {
      "cell_type": "code",
      "source": [
        "# 017\n",
        "num = str(100)\n",
        "print(type(num))"
      ],
      "metadata": {
        "colab": {
          "base_uri": "https://localhost:8080/"
        },
        "id": "VOt8qwogaT5e",
        "outputId": "0b57a76e-68fa-42f1-954b-d2a44dd2c440"
      },
      "execution_count": 29,
      "outputs": [
        {
          "output_type": "stream",
          "name": "stdout",
          "text": [
            "<class 'str'>\n"
          ]
        }
      ]
    },
    {
      "cell_type": "code",
      "source": [
        "# 018\n",
        "num = float(\"15.79\")\n",
        "print(type(num))"
      ],
      "metadata": {
        "colab": {
          "base_uri": "https://localhost:8080/"
        },
        "id": "dD6qDXA5awi_",
        "outputId": "83505916-deb4-4e54-8bc2-94c9fdfe8d02"
      },
      "execution_count": 30,
      "outputs": [
        {
          "output_type": "stream",
          "name": "stdout",
          "text": [
            "<class 'float'>\n"
          ]
        }
      ]
    },
    {
      "cell_type": "code",
      "source": [
        "# 019\n",
        "year = \"2020\"\n",
        "print(int(year))\n",
        "print(int(year)+1)\n",
        "print(int(year)+2)"
      ],
      "metadata": {
        "colab": {
          "base_uri": "https://localhost:8080/"
        },
        "id": "xxFrVA1da8yu",
        "outputId": "37adc9cf-bbe8-420d-a97b-0c84f29495a4"
      },
      "execution_count": 33,
      "outputs": [
        {
          "output_type": "stream",
          "name": "stdout",
          "text": [
            "2020\n",
            "2021\n",
            "2022\n"
          ]
        }
      ]
    },
    {
      "cell_type": "code",
      "source": [
        "# 020\n",
        "monthly = 48584\n",
        "month = 36\n",
        "print('총 금액은', monthly * month, '입니다')\n",
        "print(f'총 금액은 {monthly*month} 입니다')"
      ],
      "metadata": {
        "colab": {
          "base_uri": "https://localhost:8080/"
        },
        "id": "iN53w07vbJpw",
        "outputId": "3791615a-9282-4e8e-895f-b278ec9a770f"
      },
      "execution_count": 35,
      "outputs": [
        {
          "output_type": "stream",
          "name": "stdout",
          "text": [
            "총 금액은 1749024 입니다\n",
            "총 금액은 1749024 입니다\n"
          ]
        }
      ]
    }
  ]
}