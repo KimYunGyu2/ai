{
  "nbformat": 4,
  "nbformat_minor": 0,
  "metadata": {
    "colab": {
      "name": "Myday1.ipynb",
      "provenance": [],
      "authorship_tag": "ABX9TyMufkOj0ZyY2mm0qw5dkI3T",
      "include_colab_link": true
    },
    "kernelspec": {
      "name": "python3",
      "display_name": "Python 3"
    },
    "language_info": {
      "name": "python"
    }
  },
  "cells": [
    {
      "cell_type": "markdown",
      "metadata": {
        "id": "view-in-github",
        "colab_type": "text"
      },
      "source": [
        "<a href=\"https://colab.research.google.com/github/KimYunGyu2/ai/blob/main/Myday1.ipynb\" target=\"_parent\"><img src=\"https://colab.research.google.com/assets/colab-badge.svg\" alt=\"Open In Colab\"/></a>"
      ]
    },
    {
      "cell_type": "code",
      "execution_count": 7,
      "metadata": {
        "colab": {
          "base_uri": "https://localhost:8080/"
        },
        "id": "IRYW9XOwxSxA",
        "outputId": "6258bf50-e50f-4574-c77f-4be8677a7974"
      },
      "outputs": [
        {
          "output_type": "stream",
          "name": "stdout",
          "text": [
            "Hello World\n"
          ]
        }
      ],
      "source": [
        "##############\n",
        "# 주석 comment\n",
        "##############\n",
        "\n",
        "\"\"\" \n",
        "작성자 : 홍길동\n",
        "작성일 : 2022-01-25\n",
        "버전 : 0.1\n",
        "\"\"\"\n",
        "# 보통 삼중 따옴표 주석은\n",
        "# 여러줄을 주석으로 사용할 때 사용한다.\n",
        "\n",
        "\n",
        "# 주석 붙이는 위치\n",
        "\n",
        "print(\"Hello World\") # 보통 행의 우측 또는 위에 주석을 붙인다.\n"
      ]
    },
    {
      "cell_type": "code",
      "source": [
        "###############\n",
        "# 변수 Variable\n",
        "###############\n",
        "\n",
        "score = 200\n",
        "\n",
        "print(score)\n",
        "\n",
        "score = 300\n",
        "\n",
        "print(score)"
      ],
      "metadata": {
        "colab": {
          "base_uri": "https://localhost:8080/"
        },
        "id": "5upNhugj_Uvu",
        "outputId": "16912ddb-1840-45f0-a5d8-9e95a17f9fc1"
      },
      "execution_count": 10,
      "outputs": [
        {
          "output_type": "stream",
          "name": "stdout",
          "text": [
            "200\n",
            "300\n"
          ]
        }
      ]
    },
    {
      "cell_type": "code",
      "source": [
        "a = 1\n",
        "A = 2\n",
        "\n",
        "print(a)\n",
        "print(A)"
      ],
      "metadata": {
        "colab": {
          "base_uri": "https://localhost:8080/"
        },
        "id": "O0cZUuMuAdof",
        "outputId": "baebc2b6-f717-41b3-ce09-bafdc0edfa67"
      },
      "execution_count": 11,
      "outputs": [
        {
          "output_type": "stream",
          "name": "stdout",
          "text": [
            "1\n",
            "2\n"
          ]
        }
      ]
    },
    {
      "cell_type": "code",
      "source": [
        "a1 = 'hi'\n",
        "print(a1)"
      ],
      "metadata": {
        "colab": {
          "base_uri": "https://localhost:8080/"
        },
        "id": "CVYfABOFAxaY",
        "outputId": "32ce6be5-431e-42b7-f0eb-5539866d3536"
      },
      "execution_count": 12,
      "outputs": [
        {
          "output_type": "stream",
          "name": "stdout",
          "text": [
            "hi\n"
          ]
        }
      ]
    },
    {
      "cell_type": "code",
      "source": [
        "a = 20\n",
        "b = 1500\n",
        "\n",
        "student_avg = 20\n",
        "math_sum = 1500"
      ],
      "metadata": {
        "id": "CBYvD3l8BdP3"
      },
      "execution_count": null,
      "outputs": []
    },
    {
      "cell_type": "code",
      "source": [
        "name = 'Alice'\n",
        "age = 25\n",
        "address = '''우편번호 12345\n",
        "서울시 영등포구 여의도동\n",
        "서울빌딩 501호'''\n",
        "boyfriend = None\n",
        "height = 168.5\n",
        "\n",
        "print(name)\n",
        "print(age)\n",
        "print(address)\n",
        "print(boyfriend)\n",
        "print(height)"
      ],
      "metadata": {
        "colab": {
          "base_uri": "https://localhost:8080/"
        },
        "id": "2_3GuTGDCtj5",
        "outputId": "e557a83e-00f4-4d77-e519-170b59efa5a4"
      },
      "execution_count": 130,
      "outputs": [
        {
          "output_type": "stream",
          "name": "stdout",
          "text": [
            "Alice\n",
            "25\n",
            "우편번호 12345\n",
            "서울시 영등포구 여의도동\n",
            "서울빌딩 501호\n",
            "None\n",
            "168.5\n"
          ]
        }
      ]
    },
    {
      "cell_type": "code",
      "source": [
        "################\n",
        "# 기본 자료형 type\n",
        "################\n",
        "\n",
        "a = int(1.9)\n",
        "print(a)\n",
        "\n",
        "b = int(True)\n",
        "print(b)\n",
        "\n",
        "c = int(False)\n",
        "print(c)"
      ],
      "metadata": {
        "colab": {
          "base_uri": "https://localhost:8080/"
        },
        "id": "7fFAaV2ODqqQ",
        "outputId": "e128bfcf-5615-4217-9d05-5115120227e0"
      },
      "execution_count": 17,
      "outputs": [
        {
          "output_type": "stream",
          "name": "stdout",
          "text": [
            "1\n",
            "1\n",
            "0\n"
          ]
        }
      ]
    },
    {
      "cell_type": "code",
      "source": [
        "a = 100\n",
        "b = '100'\n",
        "\n",
        "print(type(a))\n",
        "print(type(b))\n",
        "\n",
        "print(a)\n",
        "print(b)\n",
        "print(a==b)\n",
        "\n",
        "c = int(b)\n",
        "print(type(c))\n",
        "print(a==c)"
      ],
      "metadata": {
        "colab": {
          "base_uri": "https://localhost:8080/"
        },
        "id": "ZhCZZUJvE_qh",
        "outputId": "f817f0dd-bec6-4a5d-dde5-c7fbf561986b"
      },
      "execution_count": 23,
      "outputs": [
        {
          "output_type": "stream",
          "name": "stdout",
          "text": [
            "<class 'int'>\n",
            "<class 'str'>\n",
            "100\n",
            "100\n",
            "False\n",
            "<class 'int'>\n",
            "True\n"
          ]
        }
      ]
    },
    {
      "cell_type": "code",
      "source": [
        "# 실수 float\n",
        "\n",
        "a = float(1)\n",
        "print(a)\n",
        "\n",
        "b = float(True)\n",
        "print(b)\n",
        "\n",
        "c = float('3.14')\n",
        "print(c)\n",
        "\n",
        "d = float('100')\n",
        "print(d)"
      ],
      "metadata": {
        "colab": {
          "base_uri": "https://localhost:8080/"
        },
        "id": "1qhQ5aTQFw54",
        "outputId": "d1b28a02-0e67-42e7-c5ff-59b456b51a77"
      },
      "execution_count": 27,
      "outputs": [
        {
          "output_type": "stream",
          "name": "stdout",
          "text": [
            "1.0\n",
            "1.0\n",
            "3.14\n",
            "100.0\n"
          ]
        }
      ]
    },
    {
      "cell_type": "code",
      "source": [
        " # bool 논리 True or False\n",
        "\n",
        " a = bool(0)\n",
        " print(a)\n",
        " \n",
        " b = bool()\n",
        " print(b)\n",
        "\n",
        " c = bool([])\n",
        " print(c)\n",
        "\n",
        " d = bool([100])\n",
        " print(d)"
      ],
      "metadata": {
        "colab": {
          "base_uri": "https://localhost:8080/"
        },
        "id": "YJWLU0O3Z5mM",
        "outputId": "39b33094-0f18-4ff1-fd81-59cd904a43c5"
      },
      "execution_count": 33,
      "outputs": [
        {
          "output_type": "stream",
          "name": "stdout",
          "text": [
            "False\n",
            "False\n",
            "False\n",
            "True\n"
          ]
        }
      ]
    },
    {
      "cell_type": "code",
      "source": [
        "##################\n",
        "# 문자열 String\n",
        "##################\n",
        "\n",
        "a = '대한민국'\n",
        "a = \"대한민국\"\n",
        "\n",
        "b = str(100)\n",
        "print(b)\n",
        "print(type(b))\n",
        "\n",
        "c = str(True)\n",
        "print(c)\n",
        "print(type(c))\n"
      ],
      "metadata": {
        "colab": {
          "base_uri": "https://localhost:8080/"
        },
        "id": "IDzkECQLbOLs",
        "outputId": "d120bac6-6cd6-47ea-aee6-e3c26673b19d"
      },
      "execution_count": 36,
      "outputs": [
        {
          "output_type": "stream",
          "name": "stdout",
          "text": [
            "100\n",
            "<class 'str'>\n",
            "True\n",
            "<class 'str'>\n"
          ]
        }
      ]
    },
    {
      "cell_type": "code",
      "source": [
        "# 문자열 인덱싱\n",
        "\n",
        "\n",
        "# hello     파이썬은 0에서 시작한다.\n",
        "\n",
        "s = 'Hello'\n",
        "print(s[4])\n",
        "print(s[-1])\n",
        "\n",
        "print(s[0]==s[-5])\n",
        "\n",
        "ss = \"990211-1055432\"\n",
        "print(ss[7])"
      ],
      "metadata": {
        "colab": {
          "base_uri": "https://localhost:8080/"
        },
        "id": "hpj2m3Xqb7MU",
        "outputId": "79ce7f4b-fd0f-410f-cf4d-5021098b80fb"
      },
      "execution_count": 40,
      "outputs": [
        {
          "output_type": "stream",
          "name": "stdout",
          "text": [
            "o\n",
            "o\n",
            "True\n",
            "1\n"
          ]
        }
      ]
    },
    {
      "cell_type": "code",
      "source": [
        "ss = \"990211-1005432\"\n",
        "print(ss[0:2]) # 0번째 부터 2번째 미만까지..[start:stop:step]\n",
        "print(ss[0:2]) # step 은 생략 가능...\n",
        "print(ss[0:10:2]) # step 은 생략 가능...\n"
      ],
      "metadata": {
        "colab": {
          "base_uri": "https://localhost:8080/"
        },
        "id": "1f7JGGjLfKnd",
        "outputId": "e5f5ddd4-4584-4b93-e40e-504ba5f8574d"
      },
      "execution_count": 42,
      "outputs": [
        {
          "output_type": "stream",
          "name": "stdout",
          "text": [
            "99\n",
            "99\n",
            "901-0\n"
          ]
        }
      ]
    },
    {
      "cell_type": "code",
      "source": [
        "# print\n",
        "\n",
        "print('Hello 'World'')"
      ],
      "metadata": {
        "colab": {
          "base_uri": "https://localhost:8080/",
          "height": 136
        },
        "id": "HhfadEw1gS_G",
        "outputId": "d9c28041-5b17-4825-ef01-41f6c2da7a34"
      },
      "execution_count": 44,
      "outputs": [
        {
          "output_type": "error",
          "ename": "SyntaxError",
          "evalue": "ignored",
          "traceback": [
            "\u001b[0;36m  File \u001b[0;32m\"<ipython-input-44-3344c3a601f8>\"\u001b[0;36m, line \u001b[0;32m3\u001b[0m\n\u001b[0;31m    print('Hello 'World'')\u001b[0m\n\u001b[0m                      ^\u001b[0m\n\u001b[0;31mSyntaxError\u001b[0m\u001b[0;31m:\u001b[0m invalid syntax\n"
          ]
        }
      ]
    },
    {
      "cell_type": "code",
      "source": [
        "print(\"Hello 'World'\")"
      ],
      "metadata": {
        "colab": {
          "base_uri": "https://localhost:8080/"
        },
        "id": "izzQAcEshF6j",
        "outputId": "fc0bd848-da3b-449d-f874-28c51489aa81"
      },
      "execution_count": 45,
      "outputs": [
        {
          "output_type": "stream",
          "name": "stdout",
          "text": [
            "Hello 'World'\n"
          ]
        }
      ]
    },
    {
      "cell_type": "code",
      "source": [
        "print('Hello \\'World\\'')\n",
        "print('Hello \\\"World\\\"')\n",
        "print('Hello \"World\"')"
      ],
      "metadata": {
        "colab": {
          "base_uri": "https://localhost:8080/"
        },
        "id": "Pn4gwLbrhNW7",
        "outputId": "9a38ab6c-b409-46d5-cf9b-44e0d9096473"
      },
      "execution_count": 48,
      "outputs": [
        {
          "output_type": "stream",
          "name": "stdout",
          "text": [
            "Hello 'World'\n",
            "Hello \"World\"\n",
            "Hello \"World\"\n"
          ]
        }
      ]
    },
    {
      "cell_type": "code",
      "source": [
        "print('Hello\\n\"World\"')"
      ],
      "metadata": {
        "colab": {
          "base_uri": "https://localhost:8080/"
        },
        "id": "m36OyrN7h__0",
        "outputId": "429eb662-980c-4256-f38b-17904d4bd633"
      },
      "execution_count": 50,
      "outputs": [
        {
          "output_type": "stream",
          "name": "stdout",
          "text": [
            "Hello\n",
            "\"World\"\n"
          ]
        }
      ]
    },
    {
      "cell_type": "code",
      "source": [
        "print(\"이름 \\n전화\")"
      ],
      "metadata": {
        "colab": {
          "base_uri": "https://localhost:8080/"
        },
        "id": "keRgT0wiicu_",
        "outputId": "03f88207-419c-437a-f8ea-1589ecd0ac02"
      },
      "execution_count": 51,
      "outputs": [
        {
          "output_type": "stream",
          "name": "stdout",
          "text": [
            "이름 \n",
            "전화\n"
          ]
        }
      ]
    },
    {
      "cell_type": "code",
      "source": [
        "print('이름\\t연락처')\n",
        "print('홍길동\\t010-2020-2903')"
      ],
      "metadata": {
        "colab": {
          "base_uri": "https://localhost:8080/"
        },
        "id": "ILjAStxMiszk",
        "outputId": "0c740e84-3f4d-409a-8df5-bb0d35d1f44a"
      },
      "execution_count": 53,
      "outputs": [
        {
          "output_type": "stream",
          "name": "stdout",
          "text": [
            "이름\t연락처\n",
            "홍길동\t010-2020-2903\n"
          ]
        }
      ]
    },
    {
      "cell_type": "code",
      "source": [
        "print('재미있는 ','파이썬')"
      ],
      "metadata": {
        "colab": {
          "base_uri": "https://localhost:8080/"
        },
        "id": "R0ucSibgjW5u",
        "outputId": "9ae44f37-6e20-4e58-df7e-db0b38a20e0f"
      },
      "execution_count": 54,
      "outputs": [
        {
          "output_type": "stream",
          "name": "stdout",
          "text": [
            "재미있는  파이썬\n"
          ]
        }
      ]
    },
    {
      "cell_type": "code",
      "source": [
        "print('평점', end=':')\n",
        "print('5점')"
      ],
      "metadata": {
        "colab": {
          "base_uri": "https://localhost:8080/"
        },
        "id": "PZxO5m3hjjjO",
        "outputId": "631185e5-d7e3-44fe-ca97-9fd82567a568"
      },
      "execution_count": 56,
      "outputs": [
        {
          "output_type": "stream",
          "name": "stdout",
          "text": [
            "평점:5점\n"
          ]
        }
      ]
    },
    {
      "cell_type": "code",
      "source": [
        "print('국어','영어','수학')\n",
        "print('국어','영어','수학', sep = '/')\n",
        "print('국어','영어','수학', sep = ', ')\n",
        "print('국어','영어','수학', sep = '\\n')\n",
        "print('\\n국어\\n영어\\n수학')"
      ],
      "metadata": {
        "colab": {
          "base_uri": "https://localhost:8080/"
        },
        "id": "aW3dSdgvoreM",
        "outputId": "b348d160-7600-4c54-e64b-64c474cb7cd0"
      },
      "execution_count": 61,
      "outputs": [
        {
          "output_type": "stream",
          "name": "stdout",
          "text": [
            "국어 영어 수학\n",
            "국어/영어/수학\n",
            "국어, 영어, 수학\n",
            "국어\n",
            "영어\n",
            "수학\n",
            "\n",
            "국어\n",
            "영어\n",
            "수학\n"
          ]
        }
      ]
    },
    {
      "cell_type": "code",
      "source": [
        "# %연산자\n",
        "\n",
        "print(10)\n",
        "print('%d' % 10)   # %d decimal 정수\n",
        "print('%f' % 3.14)   # %f float 실수\n",
        "print('%s' % '학생') # %s string 문자열\n",
        "\n",
        "print('%d 을 입력하세요' % 10)\n",
        "print('%s 을 입력하세요' % 10)\n",
        "print('원주율은 %f 입니다' % 3.14)\n",
        "print('원주율은 %s 입니다' % 3.14)\n",
        "std = \"학생\"\n",
        "print('저는 %s 입니다' % std)\n",
        "print('저는',std,'입니다')"
      ],
      "metadata": {
        "colab": {
          "base_uri": "https://localhost:8080/"
        },
        "id": "I8WfK1TpqNuT",
        "outputId": "4fb7c289-b77f-4dbe-f696-79ff38b48900"
      },
      "execution_count": 69,
      "outputs": [
        {
          "output_type": "stream",
          "name": "stdout",
          "text": [
            "10\n",
            "10\n",
            "3.140000\n",
            "학생\n",
            "10 을 입력하세요\n",
            "10 을 입력하세요\n",
            "원주율은 3.140000 입니다\n",
            "원주율은 3.14 입니다\n",
            "저는 학생 입니다\n",
            "저는 학생 입니다\n"
          ]
        }
      ]
    },
    {
      "cell_type": "code",
      "source": [
        "print(\"%d\" % 1)\n",
        "print(\"%5d\" % 1)\n",
        "print(\"%-5d\" % 1)\n",
        "print(\"%5d\" % 11)\n",
        "print(\"%-5d\" % 11)"
      ],
      "metadata": {
        "colab": {
          "base_uri": "https://localhost:8080/"
        },
        "id": "R43n7gLTtP6A",
        "outputId": "a316c0a9-a822-41ee-da83-3f528876570e"
      },
      "execution_count": 74,
      "outputs": [
        {
          "output_type": "stream",
          "name": "stdout",
          "text": [
            "1\n",
            "    1\n",
            "1    \n",
            "   11\n",
            "11   \n"
          ]
        }
      ]
    },
    {
      "cell_type": "code",
      "source": [
        "print('원주율은 %f 입니다' % 3.14)\n",
        "print('원주율은 %5.1f 입니다' % 3.14)\n",
        "print('원주율은 %-5.1f 입니다' % 3.14)\n",
        "print('원주율은 %.2f 입니다' % 3.14)"
      ],
      "metadata": {
        "colab": {
          "base_uri": "https://localhost:8080/"
        },
        "id": "NGq0iG_2t9fp",
        "outputId": "adc97ad4-9700-48c7-e826-a5b24d59a8a4"
      },
      "execution_count": 77,
      "outputs": [
        {
          "output_type": "stream",
          "name": "stdout",
          "text": [
            "원주율은 3.140000 입니다\n",
            "원주율은   3.1 입니다\n",
            "원주율은 3.1   입니다\n",
            "원주율은 3.14 입니다\n"
          ]
        }
      ]
    },
    {
      "cell_type": "code",
      "source": [
        "name = 'kai'\n",
        "print('내 이름은 %s입니다' % name)"
      ],
      "metadata": {
        "colab": {
          "base_uri": "https://localhost:8080/"
        },
        "id": "QjncLq3cvLFg",
        "outputId": "6a4d2760-94bc-459f-87f1-28bb2ec0fc36"
      },
      "execution_count": 78,
      "outputs": [
        {
          "output_type": "stream",
          "name": "stdout",
          "text": [
            "내 이름은 kai입니다\n"
          ]
        }
      ]
    },
    {
      "cell_type": "code",
      "source": [
        "height = 185.5\n",
        "print('내 키는 %.1f입니다' % height)\n",
        "print('내 키는 %s입니다' % height)\n",
        "print('내 키는 %s이고 이름은 %s입니다' % (height, name))\n",
        "print('내 키는 {}이고 이름은 {}입니다'.format(height, name))"
      ],
      "metadata": {
        "colab": {
          "base_uri": "https://localhost:8080/"
        },
        "id": "3uxRLCJJvZa-",
        "outputId": "c9684866-9e21-484e-b72f-e534e1d89504"
      },
      "execution_count": 86,
      "outputs": [
        {
          "output_type": "stream",
          "name": "stdout",
          "text": [
            "내 키는 185.5입니다\n",
            "내 키는 185.5입니다\n",
            "내 키는 185.5이고 이름은 kai입니다\n",
            "내 키는 185.5이고 이름은 kai입니다\n"
          ]
        }
      ]
    },
    {
      "cell_type": "code",
      "source": [
        "# format()\n",
        "\n",
        "zipcode = '06236'\n",
        "print('우편번호 : %s' % zipcode)\n",
        "print('우편번호 : {}'.format(zipcode))"
      ],
      "metadata": {
        "colab": {
          "base_uri": "https://localhost:8080/"
        },
        "id": "IShD1u6_wAuH",
        "outputId": "d2a5985d-3d5c-4849-a543-ef7f9ebb454e"
      },
      "execution_count": 83,
      "outputs": [
        {
          "output_type": "stream",
          "name": "stdout",
          "text": [
            "우편번호 : 06236\n",
            "우편번호 : 06236\n"
          ]
        }
      ]
    },
    {
      "cell_type": "code",
      "source": [
        "print('My name is {}. I\\'m {} years old.'. format('James', 25))\n",
        "print('My name is {1}. I\\'m {0} years old.'. format(25, 'James'))\n",
        "print('My name is {name}. I\\'m {age} years old.'. format(age=25, name='James'))"
      ],
      "metadata": {
        "colab": {
          "base_uri": "https://localhost:8080/"
        },
        "id": "fGFN21JQx9ha",
        "outputId": "47a35059-99a3-42f7-b276-b35107f72166"
      },
      "execution_count": 90,
      "outputs": [
        {
          "output_type": "stream",
          "name": "stdout",
          "text": [
            "My name is James. I'm 25 years old.\n",
            "My name is James. I'm 25 years old.\n",
            "My name is James. I'm 25 years old.\n"
          ]
        }
      ]
    },
    {
      "cell_type": "code",
      "source": [
        "# f-strings\n",
        "# 파이썬 3.6 이후 부터 사용 가능\n",
        "\n",
        "who = 'you'\n",
        "how = 'happy'\n",
        "print(f'{who} make me {how}')"
      ],
      "metadata": {
        "colab": {
          "base_uri": "https://localhost:8080/"
        },
        "id": "91zp8K8_20PB",
        "outputId": "af1bb066-b523-408d-a50b-6c59abe3c86d"
      },
      "execution_count": 92,
      "outputs": [
        {
          "output_type": "stream",
          "name": "stdout",
          "text": [
            "you make me happy\n"
          ]
        }
      ]
    },
    {
      "cell_type": "code",
      "source": [
        "age = 25\n",
        "print(f'내년에는 {age+1} 입니다.')"
      ],
      "metadata": {
        "colab": {
          "base_uri": "https://localhost:8080/"
        },
        "id": "D2fOPxms3VbZ",
        "outputId": "c6ac6ee7-0490-43e6-bbd3-f6ee4f7f5707"
      },
      "execution_count": 98,
      "outputs": [
        {
          "output_type": "stream",
          "name": "stdout",
          "text": [
            "내년에는 26 입니다.\n"
          ]
        }
      ]
    },
    {
      "cell_type": "code",
      "source": [
        "###########\n",
        "# 입력 input()\n",
        "###########\n",
        "\n",
        "n = input()\n",
        "print(f'당신이 입력한 내용은 {n} 입니다.')\n",
        "print('당신이 입력한 내용은',n,'입니다')"
      ],
      "metadata": {
        "colab": {
          "base_uri": "https://localhost:8080/"
        },
        "id": "vTIcWt5F4Uua",
        "outputId": "d28be2a6-aa67-4902-d08e-0ae832679da6"
      },
      "execution_count": 102,
      "outputs": [
        {
          "output_type": "stream",
          "name": "stdout",
          "text": [
            "연습\n",
            "당신이 입력한 내용은 연습 입니다.\n",
            "당신이 입력한 내용은 연습 입니다\n"
          ]
        }
      ]
    },
    {
      "cell_type": "code",
      "source": [
        "n = input('당신의 나이를 입력하세요 ')\n",
        "print(f'당신의 나이는 {n} 입니다.')\n",
        "print('당신의 나이는',n,'입니다')"
      ],
      "metadata": {
        "colab": {
          "base_uri": "https://localhost:8080/"
        },
        "id": "Ywe2F6rn5Lmi",
        "outputId": "5ed3dcd5-17f8-471e-8eb4-0f275dd24651"
      },
      "execution_count": 104,
      "outputs": [
        {
          "output_type": "stream",
          "name": "stdout",
          "text": [
            "당신의 나이를 입력하세요 10\n",
            "당신의 나이는 10 입니다.\n",
            "당신의 나이는 10 입니다\n"
          ]
        }
      ]
    },
    {
      "cell_type": "code",
      "source": [
        "name = input('이름을 입력하세요? ')\n",
        "age = input('나이를 입력하세요? ') #input을 거치면 string 무조건 타입이된다\n",
        "\n",
        "#f-strings\n",
        "print(f'당신의 이름은 {name} 이고 나이는 {age} 입니다')\n",
        "#%연산자\n",
        "print('당신의 이름은 %s 이고 나이는 %s 입니다' % (name, age))\n",
        "#format\n",
        "print('당신의 이름은 {} 이고 나이는 {} 입니다'.format(name, age))\n",
        "#기본\n",
        "print('당신의 이름은', name, '이고 나이는', age, '입니다')\n",
        "\n",
        "print(name, type(name))\n",
        "print(age, type(age))"
      ],
      "metadata": {
        "colab": {
          "base_uri": "https://localhost:8080/"
        },
        "id": "DBMWNwhE5sxB",
        "outputId": "7875f3e8-1e60-49fc-a632-f659d824395c"
      },
      "execution_count": 114,
      "outputs": [
        {
          "output_type": "stream",
          "name": "stdout",
          "text": [
            "이름을 입력하세요? 홍길동\n",
            "나이를 입력하세요? 20\n",
            "당신의 이름은 홍길동 이고 나이는 20 입니다\n",
            "당신의 이름은 홍길동 이고 나이는 20 입니다\n",
            "당신의 이름은 홍길동 이고 나이는 20 입니다\n",
            "당신의 이름은 홍길동 이고 나이는 20 입니다\n",
            "홍길동 <class 'str'>\n",
            "20 <class 'str'>\n"
          ]
        }
      ]
    },
    {
      "cell_type": "code",
      "source": [
        "month = int(input('할부 개월 입력 : '))\n",
        "sum = 50000\n",
        "monthly = round(sum/month,2)\n",
        "#기본\n",
        "print(month, '개월 동안 매달 내는 금액은', monthly, '입니다.')\n",
        "#%연산자\n",
        "print('%d개월 동안 매달 내는 금액은 %s 입니다.' % (month, monthly))\n",
        "#format\n",
        "print('{}개월 동안 매달 내는 금액은 {} 입니다.'.format(month, monthly))\n",
        "#f-strings\n",
        "print(f'{month}개월 동안 매달 내는 금액은 {monthly} 입니다.')"
      ],
      "metadata": {
        "colab": {
          "base_uri": "https://localhost:8080/"
        },
        "id": "ZQ-ZTmdJ-Hht",
        "outputId": "1e67859d-4a43-48d0-d98b-a77555d5afea"
      },
      "execution_count": 124,
      "outputs": [
        {
          "output_type": "stream",
          "name": "stdout",
          "text": [
            "할부 개월 입력 : 3\n",
            "3 개월 동안 매달 내는 금액은 16666.67 입니다.\n",
            "3개월 동안 매달 내는 금액은 16666.67 입니다.\n",
            "3개월 동안 매달 내는 금액은 16666.67 입니다.\n",
            "3개월 동안 매달 내는 금액은 16666.67 입니다.\n"
          ]
        }
      ]
    },
    {
      "cell_type": "code",
      "source": [
        "num1 = float(input('실수 1 : '))\n",
        "num2 = float(input('실수 2 : '))\n",
        "sum = num1 + num2\n",
        "#기본\n",
        "print(num1,'과', num2, '의 합계는', sum, '입니다.' )\n",
        "#%연산자\n",
        "print('%.1f과 %.1f의 합계는 %.1f 입니다' % (num1, num2, sum) )\n",
        "#format\n",
        "print('{}과 {}의 합계는 {} 입니다'.format(num1, num2, sum))\n",
        "#f-strings\n",
        "print(f'{num1}과 {num2}의 합계는 {sum} 입니다')\n"
      ],
      "metadata": {
        "colab": {
          "base_uri": "https://localhost:8080/"
        },
        "id": "a5rX_77KFS79",
        "outputId": "c7d04654-74f6-46db-96e9-af99b9111592"
      },
      "execution_count": 129,
      "outputs": [
        {
          "output_type": "stream",
          "name": "stdout",
          "text": [
            "실수 1 : 1.5\n",
            "실수 2 : 3.1\n",
            "1.5 과 3.1 의 합계는 4.6 입니다.\n",
            "1.5과 3.1의 합계는 4.6 입니다\n",
            "1.5과 3.1의 합계는 4.6 입니다\n",
            "1.5과 3.1의 합계는 4.6 입니다\n"
          ]
        }
      ]
    }
  ]
}