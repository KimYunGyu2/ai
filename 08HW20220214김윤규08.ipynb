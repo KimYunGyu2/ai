{
  "nbformat": 4,
  "nbformat_minor": 0,
  "metadata": {
    "colab": {
      "name": "08HW20220214김윤규08.ipynb",
      "provenance": [],
      "authorship_tag": "ABX9TyO0z7UsfAdVaRy16hB0AXOw",
      "include_colab_link": true
    },
    "kernelspec": {
      "name": "python3",
      "display_name": "Python 3"
    },
    "language_info": {
      "name": "python"
    }
  },
  "cells": [
    {
      "cell_type": "markdown",
      "metadata": {
        "id": "view-in-github",
        "colab_type": "text"
      },
      "source": [
        "<a href=\"https://colab.research.google.com/github/KimYunGyu2/ai/blob/main/08HW20220214%EA%B9%80%EC%9C%A4%EA%B7%9C08.ipynb\" target=\"_parent\"><img src=\"https://colab.research.google.com/assets/colab-badge.svg\" alt=\"Open In Colab\"/></a>"
      ]
    },
    {
      "cell_type": "code",
      "execution_count": null,
      "metadata": {
        "id": "9m4UTps9RFLw"
      },
      "outputs": [],
      "source": [
        "# 476\n",
        "b"
      ]
    },
    {
      "cell_type": "code",
      "source": [
        "# 477\n",
        "c"
      ],
      "metadata": {
        "id": "i55vpp9YRtvo"
      },
      "execution_count": null,
      "outputs": []
    },
    {
      "cell_type": "code",
      "source": [
        "# 478\n",
        "b"
      ],
      "metadata": {
        "id": "5fGKBudbSYat"
      },
      "execution_count": null,
      "outputs": []
    },
    {
      "cell_type": "code",
      "source": [
        "# 479\n",
        "b"
      ],
      "metadata": {
        "id": "nAQzqi2MSZ20"
      },
      "execution_count": null,
      "outputs": []
    },
    {
      "cell_type": "code",
      "source": [
        "# 480\n",
        "c"
      ],
      "metadata": {
        "id": "NkcTRrFWSlfM"
      },
      "execution_count": null,
      "outputs": []
    },
    {
      "cell_type": "code",
      "source": [
        "# 481\n",
        "c"
      ],
      "metadata": {
        "id": "1oeae1iZS5aO"
      },
      "execution_count": null,
      "outputs": []
    },
    {
      "cell_type": "code",
      "source": [
        "# 482\n",
        "d"
      ],
      "metadata": {
        "id": "DeEDaPzXTXWM"
      },
      "execution_count": null,
      "outputs": []
    },
    {
      "cell_type": "code",
      "source": [
        "# 483\n",
        "c"
      ],
      "metadata": {
        "id": "2N6BEkYKTYtU"
      },
      "execution_count": null,
      "outputs": []
    },
    {
      "cell_type": "code",
      "source": [
        "# 484\n",
        "d"
      ],
      "metadata": {
        "id": "USD_MXBDTwsU"
      },
      "execution_count": null,
      "outputs": []
    },
    {
      "cell_type": "code",
      "source": [
        "# 485\n",
        "c"
      ],
      "metadata": {
        "id": "iqGgjyrnTy5E"
      },
      "execution_count": null,
      "outputs": []
    },
    {
      "cell_type": "code",
      "source": [
        "# 486\n",
        "a"
      ],
      "metadata": {
        "id": "BJYgvopPUBKO"
      },
      "execution_count": null,
      "outputs": []
    },
    {
      "cell_type": "code",
      "source": [
        "# 487\n",
        "d"
      ],
      "metadata": {
        "id": "tlBD4-aoUSek"
      },
      "execution_count": null,
      "outputs": []
    },
    {
      "cell_type": "code",
      "source": [
        "# 488\n",
        "d"
      ],
      "metadata": {
        "id": "5xtk07G2UXHk"
      },
      "execution_count": null,
      "outputs": []
    },
    {
      "cell_type": "code",
      "source": [
        "# 489\n",
        "c"
      ],
      "metadata": {
        "id": "5vzyLpPSUgwX"
      },
      "execution_count": null,
      "outputs": []
    },
    {
      "cell_type": "code",
      "source": [
        "# 490\n",
        "b"
      ],
      "metadata": {
        "id": "jkxF2XoBUic0"
      },
      "execution_count": null,
      "outputs": []
    },
    {
      "cell_type": "code",
      "source": [
        "# 491\n",
        "a"
      ],
      "metadata": {
        "id": "Us-kfdiNUsn3"
      },
      "execution_count": null,
      "outputs": []
    },
    {
      "cell_type": "code",
      "source": [
        "# 492\n",
        "a"
      ],
      "metadata": {
        "id": "jSN8f1cQU5Zc"
      },
      "execution_count": null,
      "outputs": []
    },
    {
      "cell_type": "code",
      "source": [
        "# 493\n",
        "c"
      ],
      "metadata": {
        "id": "v2dROUf0U-3W"
      },
      "execution_count": null,
      "outputs": []
    },
    {
      "cell_type": "code",
      "source": [
        "# 494\n",
        "a"
      ],
      "metadata": {
        "id": "2plP9nquVCGl"
      },
      "execution_count": null,
      "outputs": []
    },
    {
      "cell_type": "code",
      "source": [
        "# 495\n",
        "d"
      ],
      "metadata": {
        "id": "Ea1kLmP8VFJN"
      },
      "execution_count": null,
      "outputs": []
    },
    {
      "cell_type": "code",
      "source": [
        "def func (numlist):\n",
        "  a_cnt = 0 #홀수 세는 변수\n",
        "  b_cnt = 0 #짝수 세는 변수\n",
        "  for i in numlist:\n",
        "    if i % 2 == 0:\n",
        "      b_cnt += 1\n",
        "    else:\n",
        "      a_cnt += 1\n",
        "  \n",
        "  print(f'홀수 : {a_cnt}개',end=', ')\n",
        "  print(f'짝수 : {b_cnt}개')\n",
        "\n",
        "func([3,4,5,6,7])\n",
        "func([12,16,22,24,29])\n",
        "func([41,43,45,47,49])"
      ],
      "metadata": {
        "colab": {
          "base_uri": "https://localhost:8080/"
        },
        "id": "jcccqv5tVYAB",
        "outputId": "025b1f5d-f05c-486a-806e-b2cb073c7471"
      },
      "execution_count": 21,
      "outputs": [
        {
          "output_type": "stream",
          "name": "stdout",
          "text": [
            "홀수 : 3개, 짝수 : 2개\n",
            "홀수 : 1개, 짝수 : 4개\n",
            "홀수 : 5개, 짝수 : 0개\n"
          ]
        }
      ]
    }
  ]
}