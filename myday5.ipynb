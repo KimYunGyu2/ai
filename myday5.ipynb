{
 "cells": [
  {
   "cell_type": "code",
   "execution_count": null,
   "id": "a4e11816",
   "metadata": {},
   "outputs": [],
   "source": [
    "###########################\n",
    "# Function\n",
    "###########################\n",
    "\n",
    "# 함수 만들기\n",
    "\n",
    "# 수학에서의 함수와 유사\n",
    "\n",
    "# 딸기(input) -> 믹서기(함수) -> 딸기 주스(output)\n",
    "# 바나나(input) -> 믹서기(함수) -> 바나나 주스(output)\n",
    "# 사과(input) -> 믹서기(함수) -> 사과 주스(output)\n",
    "\n",
    "#함수의 가장 기본형\n",
    "\n",
    "def 함수명():\n",
    "    #수행"
   ]
  },
  {
   "cell_type": "code",
   "execution_count": 1,
   "id": "bcfb13d8",
   "metadata": {},
   "outputs": [
    {
     "name": "stdout",
     "output_type": "stream",
     "text": [
      "hi\n",
      "hi\n",
      "hi\n"
     ]
    }
   ],
   "source": [
    "def print_3():\n",
    "    print('hi')\n",
    "    print('hi')\n",
    "    print('hi')\n",
    "    \n",
    "print_3()"
   ]
  },
  {
   "cell_type": "code",
   "execution_count": 2,
   "id": "54a217b3",
   "metadata": {},
   "outputs": [
    {
     "name": "stdout",
     "output_type": "stream",
     "text": [
      "bye\n",
      "bye\n",
      "bye\n"
     ]
    }
   ],
   "source": [
    "def print_3(val):\n",
    "    print(val)\n",
    "    print(val)\n",
    "    print(val)\n",
    "    \n",
    "print_3('bye')"
   ]
  },
  {
   "cell_type": "code",
   "execution_count": 6,
   "id": "8da22514",
   "metadata": {},
   "outputs": [
    {
     "name": "stdout",
     "output_type": "stream",
     "text": [
      "bye\n",
      "bye\n",
      "bye\n",
      "bye\n",
      "bye\n"
     ]
    }
   ],
   "source": [
    "def print_3(val, n):\n",
    "    for i in range(n):\n",
    "        print(val)\n",
    "    \n",
    "print_3('bye', 5)"
   ]
  },
  {
   "cell_type": "code",
   "execution_count": null,
   "id": "27960aa4",
   "metadata": {},
   "outputs": [],
   "source": [
    "# 매개변수를 2개 지정했으나 함수를 호출할때 1개만 넣으면 에러가 발생한다.\n",
    "def print_3(val, n):\n",
    "    for i in range(n):\n",
    "        print(val)\n",
    "    \n",
    "print_3('bye')"
   ]
  },
  {
   "cell_type": "code",
   "execution_count": null,
   "id": "f4f06278",
   "metadata": {},
   "outputs": [],
   "source": [
    "# 매개변수를 2개 지정했으나 함수를 호출할때 3개를 넣으면 에러가 발생한다.\n",
    "def print_3(val, n):\n",
    "    for i in range(n):\n",
    "        print(val)\n",
    "    \n",
    "print_3('bye',2,3)"
   ]
  },
  {
   "cell_type": "code",
   "execution_count": 8,
   "id": "291561a4",
   "metadata": {},
   "outputs": [
    {
     "name": "stdout",
     "output_type": "stream",
     "text": [
      "hi\n",
      "hello\n",
      "good morning\n",
      "\n",
      "hi\n",
      "hello\n",
      "good morning\n",
      "\n",
      "hi\n",
      "hello\n",
      "good morning\n",
      "\n",
      "hi\n",
      "hello\n",
      "\n",
      "hi\n",
      "hello\n",
      "\n",
      "hi\n",
      "hello\n",
      "\n"
     ]
    }
   ],
   "source": [
    "# 가변 매개 변수\n",
    "# 함수를 선언할 때 매개변수와 함수를 호출할때 매개변수가 같아야만 했다. 적어도 않되고 많아도 안된다.\n",
    "\n",
    "def print_n_times(n, *val):\n",
    "    for i in range(n):\n",
    "        for v in val:\n",
    "            print(v)\n",
    "        print()\n",
    "        \n",
    "print_n_times(3,'hi','hello','good morning')\n",
    "print_n_times(3,'hi','hello')\n"
   ]
  },
  {
   "cell_type": "code",
   "execution_count": 9,
   "id": "bcd18828",
   "metadata": {},
   "outputs": [
    {
     "name": "stdout",
     "output_type": "stream",
     "text": [
      "15\n",
      "6\n"
     ]
    }
   ],
   "source": [
    "# 입력 받은 정수들을 모두 더한 합을 반환하는 sum_all 함수를 작성하세요\n",
    "\n",
    "def sum_all(*val):\n",
    "    print(sum(val))\n",
    "\n",
    "sum_all(1,2,3,4,5)\n",
    "sum_all(1,2,3)"
   ]
  },
  {
   "cell_type": "code",
   "execution_count": 11,
   "id": "45cb4bbb",
   "metadata": {},
   "outputs": [
    {
     "name": "stdout",
     "output_type": "stream",
     "text": [
      "bye\n",
      "bye\n",
      "bye\n",
      "bye\n"
     ]
    }
   ],
   "source": [
    "# 기본 매개변수(순서를 기본 매개변수를 뒤에 위치시킨다)\n",
    "def print_3(val, n=2):\n",
    "    for i in range(n):\n",
    "        print(val)\n",
    "    \n",
    "print_3('bye', 4)"
   ]
  },
  {
   "cell_type": "code",
   "execution_count": 12,
   "id": "a3d4f5b9",
   "metadata": {},
   "outputs": [
    {
     "name": "stdout",
     "output_type": "stream",
     "text": [
      "hi\n",
      "hello\n",
      "good morning\n",
      "\n",
      "hi\n",
      "hello\n",
      "good morning\n",
      "\n",
      "hi\n",
      "hello\n",
      "good morning\n",
      "\n",
      "hi\n",
      "hello\n",
      "\n",
      "hi\n",
      "hello\n",
      "\n",
      "hi\n",
      "hello\n",
      "\n"
     ]
    }
   ],
   "source": [
    "def print_n_times(n, *args): # 관용적으로 가변매개변수의 이름은 args를 사용한다.\n",
    "    for i in range(n):\n",
    "        for arg in args:\n",
    "            print(arg)\n",
    "        print()\n",
    "        \n",
    "print_n_times(3,'hi','hello','good morning')\n",
    "print_n_times(3,'hi','hello')"
   ]
  },
  {
   "cell_type": "code",
   "execution_count": null,
   "id": "b46d2efa",
   "metadata": {},
   "outputs": [],
   "source": []
  }
 ],
 "metadata": {
  "kernelspec": {
   "display_name": "Python 3 (ipykernel)",
   "language": "python",
   "name": "python3"
  },
  "language_info": {
   "codemirror_mode": {
    "name": "ipython",
    "version": 3
   },
   "file_extension": ".py",
   "mimetype": "text/x-python",
   "name": "python",
   "nbconvert_exporter": "python",
   "pygments_lexer": "ipython3",
   "version": "3.9.7"
  }
 },
 "nbformat": 4,
 "nbformat_minor": 5
}
