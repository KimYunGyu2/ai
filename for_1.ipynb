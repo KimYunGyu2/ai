{
 "cells": [
  {
   "cell_type": "code",
   "execution_count": 5,
   "id": "916ce07a",
   "metadata": {},
   "outputs": [
    {
     "name": "stdout",
     "output_type": "stream",
     "text": [
      "0. 김윤규\n",
      "1. 김윤규\n",
      "2. 김윤규\n",
      "3. 김윤규\n",
      "4. 김윤규\n",
      "5. 김윤규\n",
      "6. 김윤규\n",
      "7. 김윤규\n",
      "8. 김윤규\n",
      "9. 김윤규\n"
     ]
    }
   ],
   "source": [
    "# 반복문\n",
    "#     for문\n",
    "#     for 변수명 in range(초기값, 끝값, 증감값):\n",
    "#         반복할 문장\n",
    "\n",
    "for i in range(0,10,1):\n",
    "    print(f\"{i}. 김윤규\")\n"
   ]
  },
  {
   "cell_type": "code",
   "execution_count": 6,
   "id": "21d894ff",
   "metadata": {},
   "outputs": [
    {
     "name": "stdout",
     "output_type": "stream",
     "text": [
      "10. 김윤규\n",
      "9. 김윤규\n",
      "8. 김윤규\n",
      "7. 김윤규\n",
      "6. 김윤규\n",
      "5. 김윤규\n",
      "4. 김윤규\n",
      "3. 김윤규\n",
      "2. 김윤규\n",
      "1. 김윤규\n"
     ]
    }
   ],
   "source": [
    "for i in range(10, 0, -1):\n",
    "    print(\"%d. 김윤규\" %i)"
   ]
  },
  {
   "cell_type": "code",
   "execution_count": 7,
   "id": "3b31c602",
   "metadata": {},
   "outputs": [
    {
     "name": "stdout",
     "output_type": "stream",
     "text": [
      "10\n",
      "9\n",
      "8\n",
      "7\n",
      "6\n",
      "5\n",
      "4\n",
      "3\n",
      "2\n",
      "1\n"
     ]
    }
   ],
   "source": [
    "# 0부터 1씩 증가시키는 for문을 작성한다.\n",
    "# 단, 10~1까지 출력한다.\n",
    "for i in range(0,10,1):\n",
    "    print(10-i)"
   ]
  },
  {
   "cell_type": "code",
   "execution_count": 21,
   "id": "f1bbc339",
   "metadata": {},
   "outputs": [
    {
     "name": "stdout",
     "output_type": "stream",
     "text": [
      "aBcDeFgHiJkLmNoPqRsTuVwXyZ"
     ]
    }
   ],
   "source": [
    "# for task\n",
    "# 1~100까지 출력\n",
    "# 100~1까지 출력\n",
    "# 1~100까지 중 짝수만 출력\n",
    "# A~F까지 출력\n",
    "# A~F까지중 C제외하고 출력\n",
    "# aBcDeFgHiJkLmNoPqRsTuVwXyZ 출력\n",
    "\n",
    "# for i in range(1,101,1):\n",
    "#     print(i)\n",
    "\n",
    "# for i in range(0,100,1):\n",
    "#     print(100-i)\n",
    "\n",
    "# for i in range(0, 100, 2):\n",
    "#     print(i+2)\n",
    "    \n",
    "# for i in range(2, 101, 2):\n",
    "#     print(i)\n",
    "\n",
    "# for i in range(0, 50, 1):\n",
    "#     print((i+1)*2)\n",
    "\n",
    "# for i in range(6):\n",
    "#     print(chr(i+65))\n",
    "\n",
    "# for i in range(6):\n",
    "#     if i == 2:\n",
    "#         continue\n",
    "#     print(chr(i+65))\n",
    "\n",
    "# for i in range(5):\n",
    "#     if i > 1:\n",
    "#         i += 1\n",
    "#     print(chr(65+i))\n",
    "\n",
    "for i in range(26):\n",
    "    # ??? % 2 == 0 짝수\n",
    "    # ??? % 2 != 0 홀수\n",
    "    print(chr(97+i if i % 2 == 0 else 65 + i), end = \"\")\n",
    "    "
   ]
  },
  {
   "cell_type": "code",
   "execution_count": null,
   "id": "7193ce5c",
   "metadata": {},
   "outputs": [],
   "source": []
  }
 ],
 "metadata": {
  "kernelspec": {
   "display_name": "Python 3 (ipykernel)",
   "language": "python",
   "name": "python3"
  },
  "language_info": {
   "codemirror_mode": {
    "name": "ipython",
    "version": 3
   },
   "file_extension": ".py",
   "mimetype": "text/x-python",
   "name": "python",
   "nbconvert_exporter": "python",
   "pygments_lexer": "ipython3",
   "version": "3.9.7"
  }
 },
 "nbformat": 4,
 "nbformat_minor": 5
}
