{
  "nbformat": 4,
  "nbformat_minor": 0,
  "metadata": {
    "colab": {
      "name": "07HW20220210김윤규08.ipynb",
      "provenance": [],
      "authorship_tag": "ABX9TyP/cdEup2YgGM0AU+LzH/5j",
      "include_colab_link": true
    },
    "kernelspec": {
      "name": "python3",
      "display_name": "Python 3"
    },
    "language_info": {
      "name": "python"
    }
  },
  "cells": [
    {
      "cell_type": "markdown",
      "metadata": {
        "id": "view-in-github",
        "colab_type": "text"
      },
      "source": [
        "<a href=\"https://colab.research.google.com/github/KimYunGyu2/ai/blob/main/07HW20220210%EA%B9%80%EC%9C%A4%EA%B7%9C08.ipynb\" target=\"_parent\"><img src=\"https://colab.research.google.com/assets/colab-badge.svg\" alt=\"Open In Colab\"/></a>"
      ]
    },
    {
      "cell_type": "code",
      "execution_count": null,
      "metadata": {
        "id": "yPgfr_tNq9CH"
      },
      "outputs": [],
      "source": [
        "# 456\n",
        "d. False"
      ]
    },
    {
      "cell_type": "code",
      "source": [
        "# 457\n",
        "a"
      ],
      "metadata": {
        "id": "4S6Nv_FmsL71"
      },
      "execution_count": null,
      "outputs": []
    },
    {
      "cell_type": "code",
      "source": [
        "# 458\n",
        "b"
      ],
      "metadata": {
        "id": "RR4IlwbasjIM"
      },
      "execution_count": null,
      "outputs": []
    },
    {
      "cell_type": "code",
      "source": [
        "# 459\n",
        "b"
      ],
      "metadata": {
        "id": "OobEn83Es1iD"
      },
      "execution_count": null,
      "outputs": []
    },
    {
      "cell_type": "code",
      "source": [
        "# 460\n",
        "b"
      ],
      "metadata": {
        "id": "LYoQLI3QtA71"
      },
      "execution_count": null,
      "outputs": []
    },
    {
      "cell_type": "code",
      "source": [
        "# 461\n",
        "a"
      ],
      "metadata": {
        "id": "Hjjoyp42tS2L"
      },
      "execution_count": null,
      "outputs": []
    },
    {
      "cell_type": "code",
      "source": [
        "# 462\n",
        "d"
      ],
      "metadata": {
        "id": "Ke59OMy5ucTs"
      },
      "execution_count": null,
      "outputs": []
    },
    {
      "cell_type": "code",
      "source": [
        "# 463\n",
        "a"
      ],
      "metadata": {
        "id": "Il9AlBS2upKL"
      },
      "execution_count": null,
      "outputs": []
    },
    {
      "cell_type": "code",
      "source": [
        "# 464\n",
        "b"
      ],
      "metadata": {
        "id": "Arpi-XFvu0Vb"
      },
      "execution_count": null,
      "outputs": []
    },
    {
      "cell_type": "code",
      "source": [
        "# 465\n",
        "c"
      ],
      "metadata": {
        "id": "s0n2Ba6gvHZr"
      },
      "execution_count": null,
      "outputs": []
    },
    {
      "cell_type": "code",
      "source": [
        "# 466\n",
        "c"
      ],
      "metadata": {
        "id": "EpvsZ8lPvW4j"
      },
      "execution_count": null,
      "outputs": []
    },
    {
      "cell_type": "code",
      "source": [
        "# 467\n",
        "b"
      ],
      "metadata": {
        "id": "POomhCkfvtFr"
      },
      "execution_count": null,
      "outputs": []
    },
    {
      "cell_type": "code",
      "source": [
        "# 468\n",
        "d"
      ],
      "metadata": {
        "id": "BVBmTu2zwCvb"
      },
      "execution_count": null,
      "outputs": []
    },
    {
      "cell_type": "code",
      "source": [
        "# 469\n",
        "a"
      ],
      "metadata": {
        "id": "9ARn-nAEwVra"
      },
      "execution_count": null,
      "outputs": []
    },
    {
      "cell_type": "code",
      "source": [
        "# 470\n",
        "c"
      ],
      "metadata": {
        "id": "KgiKeKgtwuG9"
      },
      "execution_count": null,
      "outputs": []
    },
    {
      "cell_type": "code",
      "source": [
        "# 471\n",
        "d"
      ],
      "metadata": {
        "id": "sEJosPlbw3B0"
      },
      "execution_count": null,
      "outputs": []
    },
    {
      "cell_type": "code",
      "source": [
        "# 472\n",
        "a"
      ],
      "metadata": {
        "id": "T0XaKHBExB7j"
      },
      "execution_count": 57,
      "outputs": []
    },
    {
      "cell_type": "code",
      "source": [
        "# 473\n",
        "???"
      ],
      "metadata": {
        "id": "9Tdf8knVxNgL"
      },
      "execution_count": null,
      "outputs": []
    },
    {
      "cell_type": "code",
      "source": [
        "# 474\n",
        "b"
      ],
      "metadata": {
        "id": "kyveXlQpxTIq"
      },
      "execution_count": null,
      "outputs": []
    },
    {
      "cell_type": "code",
      "source": [
        "# 475\n",
        "a"
      ],
      "metadata": {
        "id": "exCEiMjxxotL"
      },
      "execution_count": null,
      "outputs": []
    }
  ]
}