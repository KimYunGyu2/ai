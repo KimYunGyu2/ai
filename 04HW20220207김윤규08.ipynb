{
  "nbformat": 4,
  "nbformat_minor": 0,
  "metadata": {
    "colab": {
      "name": "04HW20220207김윤규08.ipynb",
      "provenance": [],
      "authorship_tag": "ABX9TyPNQaFOq87P3CGiwVBKV33Y",
      "include_colab_link": true
    },
    "kernelspec": {
      "name": "python3",
      "display_name": "Python 3"
    },
    "language_info": {
      "name": "python"
    }
  },
  "cells": [
    {
      "cell_type": "markdown",
      "metadata": {
        "id": "view-in-github",
        "colab_type": "text"
      },
      "source": [
        "<a href=\"https://colab.research.google.com/github/KimYunGyu2/ai/blob/main/04HW20220207%EA%B9%80%EC%9C%A4%EA%B7%9C08.ipynb\" target=\"_parent\"><img src=\"https://colab.research.google.com/assets/colab-badge.svg\" alt=\"Open In Colab\"/></a>"
      ]
    },
    {
      "cell_type": "code",
      "execution_count": null,
      "metadata": {
        "id": "FrOjHVBzN-sv"
      },
      "outputs": [],
      "source": [
        "# 211\n",
        "def 함수(문자열) :\n",
        " print(문자열)\n",
        "함수(\"안녕\")\n",
        "함수(\"Hi\")\n",
        "\n",
        "안녕\n",
        "Hi"
      ]
    },
    {
      "cell_type": "code",
      "source": [
        "# 212\n",
        "def 함수(a, b) :\n",
        " print(a + b)\n",
        "함수(3, 4)\n",
        "함수(7, 8)\n",
        "\n",
        "7\n",
        "15"
      ],
      "metadata": {
        "id": "-zYvJ1aEOkU6"
      },
      "execution_count": null,
      "outputs": []
    },
    {
      "cell_type": "code",
      "source": [
        "# 213\n",
        "함수를 정의할때 문자열의 매개변수를 넣어야 한다고 써놓고\n",
        "호출할때에는 매개변수를 넣지 않아서 에러가 발생했다"
      ],
      "metadata": {
        "id": "mvHRXWUlOsqv"
      },
      "execution_count": null,
      "outputs": []
    },
    {
      "cell_type": "code",
      "source": [
        "# 214\n",
        "a, b의 값을 입력받아 두개를 더해야 하는 함수인데 문자열과 int 값을 서로 더할수 없어서 에러가 발생했다"
      ],
      "metadata": {
        "id": "WmgJjV0sO7j4"
      },
      "execution_count": null,
      "outputs": []
    },
    {
      "cell_type": "code",
      "source": [
        "# 215\n",
        "def print_with_smile(string) :\n",
        "  print(string + \":D\")"
      ],
      "metadata": {
        "id": "wGoXIh-zPP1h"
      },
      "execution_count": 2,
      "outputs": []
    },
    {
      "cell_type": "code",
      "source": [
        "# 216\n",
        "print_with_smile(\"안녕하세요\")"
      ],
      "metadata": {
        "colab": {
          "base_uri": "https://localhost:8080/"
        },
        "id": "TIzFhR_iPrmh",
        "outputId": "ad60db7c-9f32-4f52-b734-2c66bcf5f101"
      },
      "execution_count": 3,
      "outputs": [
        {
          "output_type": "stream",
          "name": "stdout",
          "text": [
            "안녕하세요:D\n"
          ]
        }
      ]
    },
    {
      "cell_type": "code",
      "source": [
        "# 217\n",
        "def print_upper_price(price) :\n",
        "  print(price*1.3)"
      ],
      "metadata": {
        "id": "TZBMHh8qP_Uf"
      },
      "execution_count": null,
      "outputs": []
    },
    {
      "cell_type": "code",
      "source": [
        "# 218\n",
        "def print_sum(a, b):\n",
        "  print(a+b)"
      ],
      "metadata": {
        "id": "M1Vn48nIQXRo"
      },
      "execution_count": null,
      "outputs": []
    },
    {
      "cell_type": "code",
      "source": [
        "# 219\n",
        "def print_arithmetic_operation(a, b):\n",
        "    print(a, \"+\", b, \"=\", a + b)\n",
        "    print(a, \"-\", b, \"=\", a - b)\n",
        "    print(a, \"*\", b, \"=\", a * b)\n",
        "    print(a, \"/\", b, \"=\", a / b)\n",
        "\n",
        "print_arithmetic_operation(3, 4)"
      ],
      "metadata": {
        "colab": {
          "base_uri": "https://localhost:8080/"
        },
        "id": "QlB5ujI2QiBY",
        "outputId": "4424aab6-823f-4869-d3f9-395aec1a5dc0"
      },
      "execution_count": 5,
      "outputs": [
        {
          "output_type": "stream",
          "name": "stdout",
          "text": [
            "3 + 4 = 7\n",
            "3 - 4 = -1\n",
            "3 * 4 = 12\n",
            "3 / 4 = 0.75\n"
          ]
        }
      ]
    },
    {
      "cell_type": "code",
      "source": [
        "# 220\n",
        "def print_max(a,b,c) :\n",
        "  max = 0\n",
        "  if a > b and a > c:\n",
        "    max = a\n",
        "  elif b > c :\n",
        "    max = b\n",
        "  else:\n",
        "    max = c\n",
        "  print(max)\n",
        "\n",
        "print_max(7,7,10)\n"
      ],
      "metadata": {
        "colab": {
          "base_uri": "https://localhost:8080/"
        },
        "id": "eGgdUqFTRSIQ",
        "outputId": "c550fdeb-c90b-4c50-bbc7-9b4051624809"
      },
      "execution_count": 18,
      "outputs": [
        {
          "output_type": "stream",
          "name": "stdout",
          "text": [
            "10\n"
          ]
        }
      ]
    },
    {
      "cell_type": "code",
      "source": [
        "# 221\n",
        "def print_reverse(string) :\n",
        "    print(string[::-1])\n",
        "\n",
        "print_reverse(\"python\")"
      ],
      "metadata": {
        "colab": {
          "base_uri": "https://localhost:8080/"
        },
        "id": "fOJJro3hTAQ4",
        "outputId": "d2cede18-9299-47b0-ba68-9d9f97effefa"
      },
      "execution_count": 20,
      "outputs": [
        {
          "output_type": "stream",
          "name": "stdout",
          "text": [
            "nohtyp\n"
          ]
        }
      ]
    },
    {
      "cell_type": "code",
      "source": [
        "# 222\n",
        "???"
      ],
      "metadata": {
        "id": "CkRpXTaUTjCX"
      },
      "execution_count": null,
      "outputs": []
    },
    {
      "cell_type": "code",
      "source": [
        "# 223\n",
        "def print_even(num_list):\n",
        "  for i in num_list:\n",
        "    if i % 2 == 0 :\n",
        "      print(i)\n",
        "    else:\n",
        "      continue\n",
        "\n",
        "print_even ([1, 3, 2, 10, 12, 11, 15])"
      ],
      "metadata": {
        "colab": {
          "base_uri": "https://localhost:8080/"
        },
        "id": "5gZD4j5kTvBg",
        "outputId": "6630e1ce-1b53-4f8e-8a18-5b399e90d877"
      },
      "execution_count": 21,
      "outputs": [
        {
          "output_type": "stream",
          "name": "stdout",
          "text": [
            "2\n",
            "10\n",
            "12\n"
          ]
        }
      ]
    },
    {
      "cell_type": "code",
      "source": [
        "# 224\n",
        "def print_keys(yg_dict):\n",
        "  for i in yg_dict.keys():\n",
        "    print(i)\n",
        "\n",
        "print_keys ({\"이름\":\"김말똥\", \"나이\":30, \"성별\":0})"
      ],
      "metadata": {
        "colab": {
          "base_uri": "https://localhost:8080/"
        },
        "id": "7iZpyrbFUwoH",
        "outputId": "ab07595b-2cd7-466e-898c-a99da9d0d2e6"
      },
      "execution_count": 22,
      "outputs": [
        {
          "output_type": "stream",
          "name": "stdout",
          "text": [
            "이름\n",
            "나이\n",
            "성별\n"
          ]
        }
      ]
    },
    {
      "cell_type": "code",
      "source": [
        "# 225\n",
        "def print_value_by_key(dict, keys):\n",
        "  print(dict[keys])\n",
        "\n",
        "my_dict = {\"10/26\" : [100, 130, 100, 100],\n",
        " \"10/27\" : [10, 12, 10, 11]}\n",
        "\n",
        "print_value_by_key (my_dict, \"10/26\")"
      ],
      "metadata": {
        "colab": {
          "base_uri": "https://localhost:8080/"
        },
        "id": "NADd3jx9Vvhv",
        "outputId": "414fbf28-4e61-4344-f043-3da5e3b6abaa"
      },
      "execution_count": 24,
      "outputs": [
        {
          "output_type": "stream",
          "name": "stdout",
          "text": [
            "[100, 130, 100, 100]\n"
          ]
        }
      ]
    },
    {
      "cell_type": "code",
      "source": [
        "# 226\n",
        "???"
      ],
      "metadata": {
        "id": "gGLlGSsRXnuQ"
      },
      "execution_count": null,
      "outputs": []
    },
    {
      "cell_type": "code",
      "source": [
        "# 227\n",
        "???"
      ],
      "metadata": {
        "id": "6mQPwONmY39n"
      },
      "execution_count": null,
      "outputs": []
    },
    {
      "cell_type": "code",
      "source": [
        "# 228\n",
        "def calc_monthly_salary(annual_pay) :\n",
        "    monthly_pay = int(annual_pay / 12)\n",
        "    return monthly_pay\n",
        "\n",
        "calc_monthly_salary(12000000)"
      ],
      "metadata": {
        "colab": {
          "base_uri": "https://localhost:8080/"
        },
        "id": "VM0EZ-FfZGAO",
        "outputId": "23fdba84-0372-4497-c2b0-f1d072fa7ad2"
      },
      "execution_count": 25,
      "outputs": [
        {
          "output_type": "execute_result",
          "data": {
            "text/plain": [
              "1000000"
            ]
          },
          "metadata": {},
          "execution_count": 25
        }
      ]
    },
    {
      "cell_type": "code",
      "source": [
        "# 229\n",
        "def my_print (a, b) :\n",
        "    print(\"왼쪽:\", a)\n",
        "    print(\"오른쪽:\", b)\n",
        "\n",
        "my_print(a=100, b=200)\n",
        "# 왼쪽: 100\n",
        "# 오른쪽: 200"
      ],
      "metadata": {
        "colab": {
          "base_uri": "https://localhost:8080/"
        },
        "id": "bCXy8o30Zm2u",
        "outputId": "fd3de102-2a63-4cf5-80b8-fac52e6b3b00"
      },
      "execution_count": 26,
      "outputs": [
        {
          "output_type": "stream",
          "name": "stdout",
          "text": [
            "왼쪽: 100\n",
            "오른쪽: 200\n"
          ]
        }
      ]
    },
    {
      "cell_type": "code",
      "source": [
        "# 230\n",
        "def my_print (a, b) :\n",
        " print(\"왼쪽:\", a)\n",
        " print(\"오른쪽:\", b)\n",
        "my_print(b=100, a=200)\n",
        "# 왼쪽: 200\n",
        "# 오른쪽: 100"
      ],
      "metadata": {
        "colab": {
          "base_uri": "https://localhost:8080/"
        },
        "id": "JOl0MCWAZrQu",
        "outputId": "46ace805-f1c5-428b-af49-f7f046c4865d"
      },
      "execution_count": 27,
      "outputs": [
        {
          "output_type": "stream",
          "name": "stdout",
          "text": [
            "왼쪽: 200\n",
            "오른쪽: 100\n"
          ]
        }
      ]
    }
  ]
}