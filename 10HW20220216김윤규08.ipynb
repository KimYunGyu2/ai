{
  "nbformat": 4,
  "nbformat_minor": 0,
  "metadata": {
    "colab": {
      "name": "10HW20220216김윤규08.ipynb",
      "provenance": [],
      "authorship_tag": "ABX9TyPcemlJHc8R206HLrCnsKn1",
      "include_colab_link": true
    },
    "kernelspec": {
      "name": "python3",
      "display_name": "Python 3"
    },
    "language_info": {
      "name": "python"
    }
  },
  "cells": [
    {
      "cell_type": "markdown",
      "metadata": {
        "id": "view-in-github",
        "colab_type": "text"
      },
      "source": [
        "<a href=\"https://colab.research.google.com/github/KimYunGyu2/ai/blob/main/10HW20220216%EA%B9%80%EC%9C%A4%EA%B7%9C08.ipynb\" target=\"_parent\"><img src=\"https://colab.research.google.com/assets/colab-badge.svg\" alt=\"Open In Colab\"/></a>"
      ]
    },
    {
      "cell_type": "code",
      "execution_count": null,
      "metadata": {
        "id": "XrBrxMosjlNL"
      },
      "outputs": [],
      "source": [
        "# 516\n",
        "c"
      ]
    },
    {
      "cell_type": "code",
      "source": [
        "# 517\n",
        "d"
      ],
      "metadata": {
        "id": "n_e52glaj9x9"
      },
      "execution_count": null,
      "outputs": []
    },
    {
      "cell_type": "code",
      "source": [
        "# 518\n",
        "d"
      ],
      "metadata": {
        "id": "0Ma1_6mQkF57"
      },
      "execution_count": null,
      "outputs": []
    },
    {
      "cell_type": "code",
      "source": [
        "# 519\n",
        "c"
      ],
      "metadata": {
        "id": "6P7MRdcSka5V"
      },
      "execution_count": null,
      "outputs": []
    },
    {
      "cell_type": "code",
      "source": [
        "# 520\n",
        "b"
      ],
      "metadata": {
        "id": "BWtKaqOjkhBr"
      },
      "execution_count": null,
      "outputs": []
    },
    {
      "cell_type": "code",
      "source": [
        "# 521\n",
        "a"
      ],
      "metadata": {
        "id": "x7CjYTVukp6a"
      },
      "execution_count": null,
      "outputs": []
    },
    {
      "cell_type": "code",
      "source": [
        "# 522\n",
        "b"
      ],
      "metadata": {
        "id": "zcbSUedckyt6"
      },
      "execution_count": null,
      "outputs": []
    },
    {
      "cell_type": "code",
      "source": [
        "# 523\n",
        "a"
      ],
      "metadata": {
        "id": "AKr_25Dbk4vD"
      },
      "execution_count": null,
      "outputs": []
    },
    {
      "cell_type": "code",
      "source": [
        "# 524\n",
        "c"
      ],
      "metadata": {
        "id": "8xO_pkXLk9HE"
      },
      "execution_count": null,
      "outputs": []
    },
    {
      "cell_type": "code",
      "source": [
        "# 525\n",
        "a"
      ],
      "metadata": {
        "id": "eadnN-4VlBUN"
      },
      "execution_count": null,
      "outputs": []
    },
    {
      "cell_type": "code",
      "source": [
        "# 526\n",
        "c"
      ],
      "metadata": {
        "id": "jGEOLRJhlHrD"
      },
      "execution_count": null,
      "outputs": []
    },
    {
      "cell_type": "code",
      "source": [
        "# 527\n",
        "c"
      ],
      "metadata": {
        "id": "ElsD9UoxlTV7"
      },
      "execution_count": null,
      "outputs": []
    },
    {
      "cell_type": "code",
      "source": [
        "# 528\n",
        "b"
      ],
      "metadata": {
        "id": "jcyyj0P_mLuE"
      },
      "execution_count": null,
      "outputs": []
    },
    {
      "cell_type": "code",
      "source": [
        "# 529\n",
        "d"
      ],
      "metadata": {
        "id": "etw3aKrTmO1E"
      },
      "execution_count": null,
      "outputs": []
    },
    {
      "cell_type": "code",
      "source": [
        "# 530\n",
        "a"
      ],
      "metadata": {
        "id": "cB7yKz_rma2K"
      },
      "execution_count": null,
      "outputs": []
    },
    {
      "cell_type": "code",
      "source": [
        "# 531\n",
        "b"
      ],
      "metadata": {
        "id": "6gHdGJOQmlD0"
      },
      "execution_count": null,
      "outputs": []
    },
    {
      "cell_type": "code",
      "source": [
        "# 532\n",
        "a"
      ],
      "metadata": {
        "id": "yAqft_67o3ZN"
      },
      "execution_count": null,
      "outputs": []
    },
    {
      "cell_type": "code",
      "source": [
        "# 533\n",
        "b"
      ],
      "metadata": {
        "id": "av1YsPS9rajx"
      },
      "execution_count": null,
      "outputs": []
    },
    {
      "cell_type": "code",
      "source": [
        "# 534\n",
        "a"
      ],
      "metadata": {
        "id": "ILe1Cquyrarc"
      },
      "execution_count": null,
      "outputs": []
    },
    {
      "cell_type": "code",
      "source": [
        "# 535\n",
        "b"
      ],
      "metadata": {
        "id": "xn3pFHxLr0pO"
      },
      "execution_count": null,
      "outputs": []
    }
  ]
}