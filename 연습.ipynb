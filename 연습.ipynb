{
 "cells": [
  {
   "cell_type": "code",
   "execution_count": 2,
   "id": "4b147f43",
   "metadata": {},
   "outputs": [
    {
     "name": "stdout",
     "output_type": "stream",
     "text": [
      "사당 행 열차가 들어오고 있습니다\n",
      "신도림 행 열차가 들어오고 있습니다\n",
      "인천공항 행 열차가 들어오고 있습니다\n"
     ]
    }
   ],
   "source": [
    "station = \"사당\"\n",
    "print(station + \" 행 열차가 들어오고 있습니다\")\n",
    "station = \"신도림\"\n",
    "print(station + \" 행 열차가 들어오고 있습니다\")\n",
    "station = \"인천공항\"\n",
    "print(station + \" 행 열차가 들어오고 있습니다\")\n"
   ]
  },
  {
   "cell_type": "code",
   "execution_count": 6,
   "id": "aef5cce8",
   "metadata": {},
   "outputs": [
    {
     "name": "stdout",
     "output_type": "stream",
     "text": [
      "5\n"
     ]
    }
   ],
   "source": [
    "from random import *\n",
    "date = randint(4, 28)\n",
    "print(date)"
   ]
  },
  {
   "cell_type": "code",
   "execution_count": 18,
   "id": "7563e9c0",
   "metadata": {},
   "outputs": [
    {
     "name": "stdout",
     "output_type": "stream",
     "text": [
      "1\n",
      "1\n",
      "2\n",
      "3\n",
      "5\n",
      "8\n",
      "13\n"
     ]
    }
   ],
   "source": [
    "def fib(num):\n",
    "    result =[]\n",
    "    \n",
    "    firts = 1\n",
    "    second = 1\n",
    "    result.append(first)\n",
    "    result.append(second)\n",
    "    \n",
    "    return result\n",
    "\n",
    "print(fib(6))"
   ]
  },
  {
   "cell_type": "code",
   "execution_count": null,
   "id": "6dea9a66",
   "metadata": {},
   "outputs": [],
   "source": []
  },
  {
   "cell_type": "code",
   "execution_count": null,
   "id": "86193407",
   "metadata": {},
   "outputs": [],
   "source": []
  }
 ],
 "metadata": {
  "kernelspec": {
   "display_name": "Python 3 (ipykernel)",
   "language": "python",
   "name": "python3"
  },
  "language_info": {
   "codemirror_mode": {
    "name": "ipython",
    "version": 3
   },
   "file_extension": ".py",
   "mimetype": "text/x-python",
   "name": "python",
   "nbconvert_exporter": "python",
   "pygments_lexer": "ipython3",
   "version": "3.9.7"
  }
 },
 "nbformat": 4,
 "nbformat_minor": 5
}
