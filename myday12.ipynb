{
 "cells": [
  {
   "cell_type": "code",
   "execution_count": 1,
   "id": "11503d95",
   "metadata": {},
   "outputs": [
    {
     "name": "stdout",
     "output_type": "stream",
     "text": [
      "3.14\n"
     ]
    }
   ],
   "source": [
    "# Maths\n",
    "num = 3.141592\n",
    "print(round(num,2)) # Display a number rounded to two decimal places."
   ]
  },
  {
   "cell_type": "code",
   "execution_count": 2,
   "id": "3d4da3ca",
   "metadata": {},
   "outputs": [
    {
     "data": {
      "text/plain": [
       "100"
      ]
     },
     "execution_count": 2,
     "metadata": {},
     "output_type": "execute_result"
    }
   ],
   "source": [
    "10**2\n",
    "# To the power of ..."
   ]
  },
  {
   "cell_type": "code",
   "execution_count": 3,
   "id": "736f6dda",
   "metadata": {},
   "outputs": [
    {
     "data": {
      "text/plain": [
       "10.0"
      ]
     },
     "execution_count": 3,
     "metadata": {},
     "output_type": "execute_result"
    }
   ],
   "source": [
    "import math\n",
    "\n",
    "math.sqrt(100)\n",
    "\n",
    "# The square root of a number but you must have the line 'import math'\n",
    "# at the top of your program for this to work"
   ]
  },
  {
   "cell_type": "code",
   "execution_count": 4,
   "id": "047aa0cf",
   "metadata": {},
   "outputs": [
    {
     "data": {
      "text/plain": [
       "3.141592653589793"
      ]
     },
     "execution_count": 4,
     "metadata": {},
     "output_type": "execute_result"
    }
   ],
   "source": [
    "math.pi\n",
    "\n",
    "# Gives you pi to decimal places, but you must have the line 'import math'\n",
    "# at the top of your program for this to work"
   ]
  },
  {
   "cell_type": "code",
   "execution_count": 6,
   "id": "90b6d594",
   "metadata": {},
   "outputs": [
    {
     "data": {
      "text/plain": [
       "7"
      ]
     },
     "execution_count": 6,
     "metadata": {},
     "output_type": "execute_result"
    }
   ],
   "source": [
    "15 // 2\n",
    "# Whole number division. 15//2 gives the answer 7."
   ]
  },
  {
   "cell_type": "code",
   "execution_count": 7,
   "id": "b87c1ab0",
   "metadata": {},
   "outputs": [
    {
     "data": {
      "text/plain": [
       "1"
      ]
     },
     "execution_count": 7,
     "metadata": {},
     "output_type": "execute_result"
    }
   ],
   "source": [
    "15 % 2\n",
    "# Finds the remainder. 15 % 2 gives the answer 1."
   ]
  },
  {
   "cell_type": "code",
   "execution_count": 16,
   "id": "bf854cff",
   "metadata": {},
   "outputs": [
    {
     "name": "stdout",
     "output_type": "stream",
     "text": [
      "Enter a number over 500: 550\n",
      "23.45\n"
     ]
    }
   ],
   "source": [
    "# Ask the uwer to enter an integer that is over 500. Work out hte square root of\n",
    "# that number and display it to two decimal places.\n",
    "import math\n",
    "# (input) 'Enter a number over 500: '\n",
    "\n",
    "num = int(input('Enter a number over 500: '))\n",
    "ans = math.sqrt(num)\n",
    "print(round(asn,2))"
   ]
  },
  {
   "cell_type": "code",
   "execution_count": 18,
   "id": "451b6c28",
   "metadata": {},
   "outputs": [
    {
     "name": "stdout",
     "output_type": "stream",
     "text": [
      "Enter the radius of the circle : 2\n",
      "12.566370614359172\n"
     ]
    }
   ],
   "source": [
    "# Ask the user to enter the radius of a circle.\n",
    "# work out the area of the circle.(pi*radius**2)\n",
    "import math\n",
    "num = int(input('Enter the radius of the circle : '))\n",
    "print(math.pi*num**2)"
   ]
  },
  {
   "cell_type": "code",
   "execution_count": 19,
   "id": "d04e64f5",
   "metadata": {},
   "outputs": [
    {
     "name": "stdout",
     "output_type": "stream",
     "text": [
      "first number : 7\n",
      "second number :2\n",
      "7 divided by 2 is 3 with 1 remaining\n"
     ]
    }
   ],
   "source": [
    "# Ask the user to enter two numbers. Use whole number division to divide\n",
    "# the first number by the second and also work out the remainder and\n",
    "# display the answer in a user-friendly way...\n",
    "# if they enter 7 and 2 dislpay '7 divided ba 2 is 3 with 1 remaining'\n",
    "\n",
    "num1 = int(input('Enter a first number : '))\n",
    "num2 = int(input('Enter a second number :'))\n",
    "\n",
    "print(f'{num1} divided by {num2} is {num1//num2} with {num1%num2} remaining')"
   ]
  },
  {
   "cell_type": "code",
   "execution_count": 27,
   "id": "38e54ce4",
   "metadata": {},
   "outputs": [
    {
     "name": "stdout",
     "output_type": "stream",
     "text": [
      "1) Square\n",
      "2) Triangle\n",
      "\n",
      "Enter a number : 0\n",
      "Incorrect option selected\n"
     ]
    }
   ],
   "source": [
    "# Display the following message:\n",
    "#         1) Square\n",
    "#         2) Triangle\n",
    "        \n",
    "#         Enter a number :\n",
    "            \n",
    "#if the user enters 1, then it should ask them for the length of on of its\n",
    "#sides and display the area. if the select 2. it should ask for the base and\n",
    "#heinght of the triangle and display the area. If they type in anything elas.\n",
    "# it should give them a suitable error message.\n",
    "\n",
    "print('1) Square')\n",
    "print('2) Triangle')\n",
    "print()\n",
    "choice = int(input('Enter a number : '))\n",
    "\n",
    "if choice == 1:\n",
    "    side_a = int(input('Enter a side_a : '))\n",
    "    side_b = int(input('Enter a side_b : '))\n",
    "    print(f'The area of your chosen shape is {side_a * side_b}')\n",
    "elif choice == 2:\n",
    "    base = int(input('Enter a base : '))\n",
    "    height = int(input('Enter a heignt : '))\n",
    "    print(f'The area of your chosen shape is {base * height / 2}')\n",
    "else:\n",
    "    print('Incorrect option selected')\n",
    "    "
   ]
  },
  {
   "cell_type": "code",
   "execution_count": 31,
   "id": "6ed7a287",
   "metadata": {},
   "outputs": [
    {
     "name": "stdout",
     "output_type": "stream",
     "text": [
      "0\n",
      "1\n",
      "2\n",
      "3\n",
      "4\n"
     ]
    }
   ],
   "source": [
    "###############################################\n",
    "# For\n",
    "###############################################\n",
    "\n",
    "# The range function is often used in for loops and lists the starting number,\n",
    "# the ending number and can also include the steps\n",
    "\n",
    "# for i in range(start, stop, step)\n",
    "\n",
    "for i in range(0,5):\n",
    "    print(i)"
   ]
  },
  {
   "cell_type": "code",
   "execution_count": 32,
   "id": "bf80442f",
   "metadata": {},
   "outputs": [
    {
     "name": "stdout",
     "output_type": "stream",
     "text": [
      "0\n",
      "1\n",
      "2\n",
      "3\n",
      "4\n"
     ]
    }
   ],
   "source": [
    "for i in range(0,5,1):\n",
    "    print(i)"
   ]
  },
  {
   "cell_type": "code",
   "execution_count": 33,
   "id": "980e40a0",
   "metadata": {},
   "outputs": [
    {
     "name": "stdout",
     "output_type": "stream",
     "text": [
      "0\n",
      "1\n",
      "2\n",
      "3\n",
      "4\n"
     ]
    }
   ],
   "source": [
    "for i in range(5):\n",
    "    print(i)"
   ]
  },
  {
   "cell_type": "code",
   "execution_count": 34,
   "id": "89193732",
   "metadata": {},
   "outputs": [
    {
     "name": "stdout",
     "output_type": "stream",
     "text": [
      "10\n",
      "7\n",
      "4\n"
     ]
    }
   ],
   "source": [
    "for i in range(10,1,-3):\n",
    "    print(i)"
   ]
  },
  {
   "cell_type": "code",
   "execution_count": 36,
   "id": "a5d7bd60",
   "metadata": {},
   "outputs": [
    {
     "name": "stdout",
     "output_type": "stream",
     "text": [
      "0\n",
      "1\n",
      "2\n",
      "3\n",
      "4\n"
     ]
    }
   ],
   "source": [
    "no = [0,1,2,3,4]\n",
    "\n",
    "for i in no:\n",
    "    print(i)"
   ]
  },
  {
   "cell_type": "code",
   "execution_count": 37,
   "id": "d25066b8",
   "metadata": {},
   "outputs": [
    {
     "name": "stdout",
     "output_type": "stream",
     "text": [
      "enter your name : kim\n",
      "kim\n",
      "kim\n",
      "kim\n"
     ]
    }
   ],
   "source": [
    "# Ask the user to enter their name and then display their name three times.\n",
    "\n",
    "# Alter program, so that it will ask the user to enter their name and a number\n",
    "# and then display their name that nuber of times.\n",
    "\n",
    "name = input('enter your name : ')\n",
    "\n",
    "for i in range(3):\n",
    "    print(name)"
   ]
  },
  {
   "cell_type": "code",
   "execution_count": 40,
   "id": "377afc25",
   "metadata": {},
   "outputs": [
    {
     "name": "stdout",
     "output_type": "stream",
     "text": [
      "enter your name : kim\n",
      "enter a number : 5\n",
      "kim\n",
      "kim\n",
      "kim\n",
      "kim\n",
      "kim\n"
     ]
    }
   ],
   "source": [
    "name = input('enter your name : ')\n",
    "num = int(input('enter a number : '))\n",
    "\n",
    "for i in range(num):\n",
    "    print(name)"
   ]
  },
  {
   "cell_type": "code",
   "execution_count": 41,
   "id": "aed0e27b",
   "metadata": {},
   "outputs": [
    {
     "name": "stdout",
     "output_type": "stream",
     "text": [
      "your name??? >>> austin\n",
      "a\n",
      "u\n",
      "s\n",
      "t\n",
      "i\n",
      "n\n"
     ]
    }
   ],
   "source": [
    "# Ask the user to enter their name and \n",
    "# display each letter in their name on a separate line.\n",
    "\n",
    "name = input('your name??? >>> ')\n",
    "\n",
    "for i in name:\n",
    "    print(i)"
   ]
  },
  {
   "cell_type": "code",
   "execution_count": 45,
   "id": "59e81d88",
   "metadata": {},
   "outputs": [
    {
     "name": "stdout",
     "output_type": "stream",
     "text": [
      "number??? >>> 30\n",
      "50\n",
      "49\n",
      "48\n",
      "47\n",
      "46\n",
      "45\n",
      "44\n",
      "43\n",
      "42\n",
      "41\n",
      "40\n",
      "39\n",
      "38\n",
      "37\n",
      "36\n",
      "35\n",
      "34\n",
      "33\n",
      "32\n",
      "31\n",
      "30\n"
     ]
    }
   ],
   "source": [
    "# Ask for a number below 50 and then count down from 50 to that number,\n",
    "# making sure you show the number they entered in the output.\n",
    "\n",
    "no = int(input('number??? >>> '))\n",
    "\n",
    "for i in range(50,no-1,-1):\n",
    "    print(i)"
   ]
  },
  {
   "cell_type": "code",
   "execution_count": 50,
   "id": "e050e549",
   "metadata": {},
   "outputs": [
    {
     "name": "stdout",
     "output_type": "stream",
     "text": [
      "enter a number : 1\n",
      "want number include?(y/n) y\n",
      "enter a number : 2\n",
      "want number include?(y/n) y\n",
      "enter a number : 3\n",
      "want number include?(y/n) y\n",
      "enter a number : 4\n",
      "want number include?(y/n) n\n",
      "enter a number : 5\n",
      "want number include?(y/n) n\n",
      "6\n"
     ]
    }
   ],
   "source": [
    "# Set a variable called total to 0. Ask the user to enter five numbers and after each \n",
    "# input ask them if they want that number included. \n",
    "# If they do, then add the number to the total.\n",
    "# After they have entered all five numbers, display the total.\n",
    "\n",
    "# total 변수에 0을 설정하세요\n",
    "# 5번 숫자를 입력하라고 반복 요청하고 숫자를 입력할때마다 \n",
    "# 입력한 값을 total 에 더할 것인지 묻는다. 더하길 원하는 답을 하면 total 에 더하고 \n",
    "# 아니면 더하지는 않는다. 5번 숫자를 입력하면 total  출력한다.\n",
    "\n",
    "total = 0\n",
    "for i in range(5):\n",
    "    no = int(input('enter a number : '))\n",
    "    ans = input('want number include?(y/n) ')\n",
    "    if ans =='y':\n",
    "        total += no\n",
    "    else:\n",
    "        pass\n",
    "    \n",
    "print(total)\n",
    "    \n",
    "\n"
   ]
  },
  {
   "cell_type": "code",
   "execution_count": 54,
   "id": "3064bbd5",
   "metadata": {},
   "outputs": [
    {
     "name": "stdout",
     "output_type": "stream",
     "text": [
      "up or down? >> down\n",
      "enter a nuber(below 20)19\n",
      "20\n",
      "19\n"
     ]
    }
   ],
   "source": [
    "# Ask which direction the user wants to count (up or down).\n",
    "# If they select up. the ask them for the top number and then count from 1 to that number.\n",
    "# If they selct down. ask to enter a number below 20 and then count dow from 20 to that number.\n",
    "# If the entered something other than up or down.\n",
    "# display the message 'i dont understand'\n",
    "\n",
    "dir = input('up or down? >> ')\n",
    "\n",
    "if dir == 'up':\n",
    "    t_no = int(input('top number ? '))\n",
    "    for i in range(1,t_no+1):\n",
    "        print(i)\n",
    "elif dir == 'down':\n",
    "    b_no = int(input('enter a nuber(below 20)' ))\n",
    "    for i in range(20,b_no-1,-1):\n",
    "        print(i)\n",
    "else:\n",
    "    print('i dont understand')"
   ]
  },
  {
   "cell_type": "code",
   "execution_count": 1,
   "id": "8826cbb0",
   "metadata": {},
   "outputs": [
    {
     "name": "stdout",
     "output_type": "stream",
     "text": [
      "how many people do you want to invite? >> 10\n",
      "Too many people\n"
     ]
    }
   ],
   "source": [
    "# Ask how many people the user wants to invite to a party.\n",
    "# If they enter a number below 10. ask for the names and after each name desplay\n",
    "# '[name] has been invited'\n",
    "# If they enter a number which is 10 or higher. display the message 'Too many people'\n",
    "\n",
    "no = int(input('how many people do you want to invite? >> '))\n",
    "\n",
    "if no < 10:\n",
    "    for i in range(no):        \n",
    "        name = input('what is his(her) name? >>')\n",
    "        print(f'{name} has been invited')\n",
    "elif no >= 10:\n",
    "    print('Too many people')"
   ]
  },
  {
   "cell_type": "code",
   "execution_count": 3,
   "id": "19589712",
   "metadata": {},
   "outputs": [
    {
     "name": "stdout",
     "output_type": "stream",
     "text": [
      "Enter a number : 99\n",
      "Enter a number : 10\n",
      "The total is  109\n"
     ]
    }
   ],
   "source": [
    "#######################################################\n",
    "# While\n",
    "\n",
    "# A while loop allows code to be repeted an unknown number of times \n",
    "# as long as a condition is being met.\n",
    "# This may be 100 times, just the once or even never\n",
    "# It is important, therefore, to make sure the correct conditions are in place\n",
    "# to run the loop before it starts.\n",
    "\n",
    "total = 0\n",
    "\n",
    "while total < 100:\n",
    "    num = int(input('Enter a number : '))\n",
    "    total = total + num\n",
    "print('The total is ', total)"
   ]
  },
  {
   "cell_type": "code",
   "execution_count": 9,
   "id": "15131b89",
   "metadata": {},
   "outputs": [
    {
     "name": "stdout",
     "output_type": "stream",
     "text": [
      "Enter a number : 40\n",
      "Enter a number : 7\n",
      "Enter a number : 8\n",
      "The total is....  47\n"
     ]
    }
   ],
   "source": [
    "# Set the total to 0 to start with. While the total is 50 or less.\n",
    "# ask the user to input a number. Add that number to the total and\n",
    "# print the message 'The total is ...[total]'\n",
    "# Stop the loop when the total is over 50.\n",
    "\n",
    "total = 0\n",
    "\n",
    "while total <= 50:\n",
    "    num = int(input('Enter a number : '))\n",
    "    total = total + num \n",
    "print('The total is.... ', total-num)"
   ]
  },
  {
   "cell_type": "code",
   "execution_count": null,
   "id": "cee2e42c",
   "metadata": {},
   "outputs": [],
   "source": []
  }
 ],
 "metadata": {
  "kernelspec": {
   "display_name": "Python 3 (ipykernel)",
   "language": "python",
   "name": "python3"
  },
  "language_info": {
   "codemirror_mode": {
    "name": "ipython",
    "version": 3
   },
   "file_extension": ".py",
   "mimetype": "text/x-python",
   "name": "python",
   "nbconvert_exporter": "python",
   "pygments_lexer": "ipython3",
   "version": "3.9.7"
  }
 },
 "nbformat": 4,
 "nbformat_minor": 5
}
