{
  "nbformat": 4,
  "nbformat_minor": 0,
  "metadata": {
    "colab": {
      "name": "Myday2.ipynb",
      "provenance": [],
      "authorship_tag": "ABX9TyOQ5DaH8ZvDTUvJ2kKD50Pn",
      "include_colab_link": true
    },
    "kernelspec": {
      "name": "python3",
      "display_name": "Python 3"
    },
    "language_info": {
      "name": "python"
    }
  },
  "cells": [
    {
      "cell_type": "markdown",
      "metadata": {
        "id": "view-in-github",
        "colab_type": "text"
      },
      "source": [
        "<a href=\"https://colab.research.google.com/github/KimYunGyu2/ai/blob/main/Myday2.ipynb\" target=\"_parent\"><img src=\"https://colab.research.google.com/assets/colab-badge.svg\" alt=\"Open In Colab\"/></a>"
      ]
    },
    {
      "cell_type": "code",
      "execution_count": null,
      "metadata": {
        "id": "hzxEcANgsIdb"
      },
      "outputs": [],
      "source": [
        "#########################################################\n",
        "# Review\n",
        "#########################################################\n",
        "\n",
        "# Comment 주석 - 코드에 대한 설명, 컴퓨터는 읽지 않고 사람만\n",
        "#         읽는 내용, 또 다른 용법으로는 코드를 임시로\n",
        "#         실행하지 않고 감추고 에러를 확인하는 용도로도 사용된다.\n",
        "#         본인이 기록한 내용을 나중에 확인할 때 또는 다른 팀원이\n",
        "#         작성한 내용을 파악하기 용이하게 만든다.\n",
        "\n",
        "\n",
        "# #을 사용하여 주석을 표시한다. (ctrl + /)\n",
        "\n",
        "# doc string (주석의 용도로도 쓰이는 ..)\n",
        "'''\n",
        "작성일 : 2022/01/26\n",
        "담당자 : 홍길동\n",
        "비고 : austiny@gatech.edu\n",
        "'''\n",
        "\"\"\"\n",
        "작성일 : 2022/01/26\n",
        "담당자 : 홍길동\n",
        "비고 : austiny@gatech.edu\n",
        "\"\"\"\n",
        "#코드의 윗쪽 또는 오른쪽에 주석을 붙인다.\n",
        "print('Hello World') # 코드의 우측 또는 코드의 윗줄에 적는다."
      ]
    },
    {
      "cell_type": "code",
      "source": [
        "# 변수 Variable\n",
        "# 어떤 값을 저장하는 저장소 (A-)\n",
        "a = 100\n",
        "print(a)\n",
        "\n",
        "stumathsum = 350\n",
        "stu_math_sum = 350 # 스네이크 케이스 snake_case\n",
        "StuMathSum = 350 # 캐멀 케이스 CamelCase"
      ],
      "metadata": {
        "colab": {
          "base_uri": "https://localhost:8080/"
        },
        "id": "ImdUDxpXw8B6",
        "outputId": "44546be1-8b7d-4b43-b885-5bab92375b27"
      },
      "execution_count": 1,
      "outputs": [
        {
          "output_type": "stream",
          "name": "stdout",
          "text": [
            "100\n"
          ]
        }
      ]
    },
    {
      "cell_type": "code",
      "source": [
        "# 1a = 100 숫자가 먼저 올수 없다.\n",
        "a1 = 100\n",
        "\n"
      ],
      "metadata": {
        "id": "9z7LBYAqyzMU"
      },
      "execution_count": null,
      "outputs": []
    },
    {
      "cell_type": "code",
      "source": [
        "_a = 100\n",
        "# @a = 100"
      ],
      "metadata": {
        "id": "_CctuXoYy8yi"
      },
      "execution_count": 2,
      "outputs": []
    },
    {
      "cell_type": "code",
      "source": [
        "홍길동 = 55\n",
        "# 한글 변수명 사용이 가능하지만 쓰지 말자"
      ],
      "metadata": {
        "id": "hPx-UTQBzLvl"
      },
      "execution_count": null,
      "outputs": []
    },
    {
      "cell_type": "code",
      "source": [
        "# 인덱싱 (슬라이싱)\n",
        "\n",
        "s = 'world'\n",
        "print(s[2]) #파이썬은 인덱스 시작이 0이다.\n",
        "print(s[-1]) #-1은 마지막 인덱스를 가리킨다.\n",
        "print(s[4])\n",
        "\n",
        "ss = '900101-2547389'\n",
        "print(ss[7]) # 하나만 추출할때는 indexing\n",
        "\n",
        "addr = '서울시 강남구 역삼동 1번지'\n",
        "print(addr[4:7]) # 여러개 추출할때는 slicing"
      ],
      "metadata": {
        "colab": {
          "base_uri": "https://localhost:8080/"
        },
        "id": "K_UoRSImzVH6",
        "outputId": "b54acba7-cf60-47e3-9fe5-3d28d5982335"
      },
      "execution_count": 10,
      "outputs": [
        {
          "output_type": "stream",
          "name": "stdout",
          "text": [
            "r\n",
            "d\n",
            "d\n",
            "2\n",
            "강남구\n"
          ]
        }
      ]
    },
    {
      "cell_type": "code",
      "source": [
        "# print()\n",
        "\n",
        "print('좋은 아침입니다.')\n"
      ],
      "metadata": {
        "colab": {
          "base_uri": "https://localhost:8080/"
        },
        "id": "Y4ixvbes1WM1",
        "outputId": "6fd3fd69-8041-4612-b3d8-89f718584312"
      },
      "execution_count": 11,
      "outputs": [
        {
          "output_type": "stream",
          "name": "stdout",
          "text": [
            "좋은 아침입니다.\n"
          ]
        }
      ]
    },
    {
      "cell_type": "code",
      "source": [
        "when = '저녁'\n",
        "print('좋은',when,'입니다.')\n",
        "print('좋은 %s 입니다' % when)\n",
        "print('좋은 {} 입니다.'.format(when))\n",
        "\n",
        "print(f'좋은 {when} 입니다.') # *****"
      ],
      "metadata": {
        "colab": {
          "base_uri": "https://localhost:8080/"
        },
        "id": "1v6VLFYF1i2a",
        "outputId": "a4900258-13aa-44e3-efae-5cc2ca4135f3"
      },
      "execution_count": 15,
      "outputs": [
        {
          "output_type": "stream",
          "name": "stdout",
          "text": [
            "좋은 저녁 입니다.\n",
            "좋은 저녁 입니다\n",
            "좋은 저녁 입니다.\n",
            "좋은 저녁 입니다.\n"
          ]
        }
      ]
    },
    {
      "cell_type": "code",
      "source": [
        "###############################################\n",
        "# 리스트 List 튜플 Tuple 딕셔너리 Dict 셋 Set\n",
        "###############################################\n",
        "# 여러개의 값을 한번에 저장하는 자료형이 필요하다.\n",
        "\n",
        "# 리스트 List \n",
        "# 지금까지 사용한 숫자 1, 문자1 등 개별적, 독립적인 자료가 아닌\n",
        "# 리스트는 이러한 자료들 여러개를 모아서 사용할 수 있게 해준다.\n",
        "# 리스트에 넣는 자료를 요소element 라고한다.\n",
        "\n",
        "# 리스트는 []로 구성한다.\n",
        "list = [1,2,3,4,5]\n",
        "print(list)\n",
        "# 리스트는 다양한 자료형의 데이터를 한번에 담을 수 있다.\n",
        "# (but, 하나의 리스트에는 한가지 자료형만 저장하는 것이 오히려 바람직하다.)\n",
        "list = [1,2,3,'대한','민국', True, False]\n",
        "print(list)\n",
        "score = [80,90,70,60]\n",
        "print(score)\n",
        "# 리스트는 인덱싱indexting과 슬라이싱slicing이 가능하다.\n",
        "print(score[0])   #파이썬은 0부터 시작한다.\n",
        "print(score[0:2]) # 슬라이싱은 0부터 2미만...처럼 끝은 미만을 나타낸다.\n",
        "\n",
        "# 리스트는 수정/삭제 가 가능하다.(mutable, 튜플은 immutable)\n",
        "score[0] = 100\n",
        "print(score)\n",
        "score[-1] =100\n",
        "print(score)\n",
        "# score[4] # indexerror 아주 많이 접하게 될 에러(예외)\n",
        "\n",
        "# 리스트는 연산이 가능하다.\n",
        "list_a = [1,2,3]\n",
        "list_b = [4,5,6]\n",
        "\n",
        "print('list_a = ', list_a)\n",
        "print('list_b = ', list_b)\n",
        "print(list_a + list_b)\n",
        "print(list_a * 3)\n",
        "print(len(list_a))"
      ],
      "metadata": {
        "colab": {
          "base_uri": "https://localhost:8080/"
        },
        "id": "oPAQj1N49-I2",
        "outputId": "0cee6974-1066-4417-f4e2-9ca3d0c77388"
      },
      "execution_count": 28,
      "outputs": [
        {
          "output_type": "stream",
          "name": "stdout",
          "text": [
            "[1, 2, 3, 4, 5]\n",
            "[1, 2, 3, '대한', '민국', True, False]\n",
            "[80, 90, 70, 60]\n",
            "80\n",
            "[80, 90]\n",
            "[100, 90, 70, 60]\n",
            "[100, 90, 70, 100]\n",
            "list_a =  [1, 2, 3]\n",
            "list_b =  [4, 5, 6]\n",
            "[1, 2, 3, 4, 5, 6]\n",
            "[1, 2, 3, 1, 2, 3, 1, 2, 3]\n",
            "3\n"
          ]
        }
      ]
    },
    {
      "cell_type": "code",
      "source": [
        "# 리스트에 많이 사용되는 함수들...\n",
        "# append () 리스트에 요소를 추가할 때 사용, 끝에만 추가\n",
        "\n",
        "print(score)\n",
        "score.append(60)\n",
        "print(score)\n",
        "score.append(70)\n",
        "print(score)"
      ],
      "metadata": {
        "colab": {
          "base_uri": "https://localhost:8080/"
        },
        "id": "MNF1OShDFZRw",
        "outputId": "39304ed3-c637-440d-800e-a7f8a88f7850"
      },
      "execution_count": 29,
      "outputs": [
        {
          "output_type": "stream",
          "name": "stdout",
          "text": [
            "[100, 90, 70, 100]\n",
            "[100, 90, 70, 100, 60]\n",
            "[100, 90, 70, 100, 60, 70]\n"
          ]
        }
      ]
    },
    {
      "cell_type": "code",
      "source": [
        "# insert() 리스트에 요소를 추가할 때 사용, 특정 위치를 지정하여 추가\n",
        "list = []\n",
        "list.insert(0, 10)\n",
        "print(list)\n",
        "\n",
        "list.insert(1, 50)\n",
        "print(list)"
      ],
      "metadata": {
        "colab": {
          "base_uri": "https://localhost:8080/"
        },
        "id": "Q4ft0iqXJJXQ",
        "outputId": "481dc77d-4177-4dca-99f6-d07f215033dd"
      },
      "execution_count": 33,
      "outputs": [
        {
          "output_type": "stream",
          "name": "stdout",
          "text": [
            "[10]\n",
            "[10, 50]\n"
          ]
        }
      ]
    },
    {
      "cell_type": "code",
      "source": [
        "list_a = [1,2,3]\n",
        "list_a.extend([4,5,6])\n",
        "list_a # 파괴적 처리"
      ],
      "metadata": {
        "colab": {
          "base_uri": "https://localhost:8080/"
        },
        "id": "MgvwvnFPKPbW",
        "outputId": "721623f3-f5df-44c7-b73c-4bdc8d0c5eca"
      },
      "execution_count": 35,
      "outputs": [
        {
          "output_type": "execute_result",
          "data": {
            "text/plain": [
              "[1, 2, 3, 4, 5, 6]"
            ]
          },
          "metadata": {},
          "execution_count": 35
        }
      ]
    },
    {
      "cell_type": "code",
      "source": [
        "list_a = [1,2,3]\n",
        "list_b = [4,5,6]\n",
        "print(list_a + list_b)\n",
        "print(list_a) # 비파괴적 처리\n",
        "\n",
        "# 리스트 연결만으로는 list_a에 어떠한 영향도 주지 않는다.(비파괴적 처리)\n",
        "# 하지만 extend()를 사용하면 list_a에 직접적으로 영향을 주게 된다.(파괴적 처리)\n",
        "\n",
        "# 원래 자료를 사용할 때는 비파괴적으로 사용하는 것이 바람직하다.\n",
        "# 가능하면 원본 데이터는 그대로 유지하고 사용하는 것이 선택지가 더 넓다."
      ],
      "metadata": {
        "colab": {
          "base_uri": "https://localhost:8080/"
        },
        "id": "5EOn9acFKrt5",
        "outputId": "78fb77f9-0f5b-46e9-9edb-c72a33d99561"
      },
      "execution_count": 36,
      "outputs": [
        {
          "output_type": "stream",
          "name": "stdout",
          "text": [
            "[1, 2, 3, 4, 5, 6]\n",
            "[1, 2, 3]\n"
          ]
        }
      ]
    },
    {
      "cell_type": "code",
      "source": [
        "# del() 리스트에서 인덱스 위치 데이터 삭제\n",
        "\n",
        "list_a = [0,1,2,3,4,5]\n",
        "del list_a[1] # index 값으로 위치값을 삭제\n",
        "print(list_a)\n",
        "\n",
        "del list_a[1:3] # 1부터 3미만 \n",
        "print(list_a)\n",
        "\n",
        "del list_a[:] # 생략하면 처음 : 생략하면 끝\n",
        "print(list_a)\n",
        "\n",
        "# list_a.clear() 리스트 요소를 전부 한번에 삭제"
      ],
      "metadata": {
        "colab": {
          "base_uri": "https://localhost:8080/"
        },
        "id": "Fsn5SuV6MaYF",
        "outputId": "e9ce95ad-1af4-42e0-fb19-d39afc10edcf"
      },
      "execution_count": 43,
      "outputs": [
        {
          "output_type": "stream",
          "name": "stdout",
          "text": [
            "[0, 2, 3, 4, 5]\n",
            "[0, 4, 5]\n",
            "[]\n"
          ]
        }
      ]
    },
    {
      "cell_type": "code",
      "source": [
        "# pop() 리스트에서 마지막 위치 데이터 삭제\n",
        "list_a.pop()\n",
        "list_a"
      ],
      "metadata": {
        "colab": {
          "base_uri": "https://localhost:8080/"
        },
        "id": "doatXQRTNBlY",
        "outputId": "7434fae4-4366-4bca-9344-5e9eff578a9e"
      },
      "execution_count": 39,
      "outputs": [
        {
          "output_type": "execute_result",
          "data": {
            "text/plain": [
              "[0, 2, 3]"
            ]
          },
          "metadata": {},
          "execution_count": 39
        }
      ]
    },
    {
      "cell_type": "code",
      "source": [
        "list_a.pop(1)\n",
        "list_a"
      ],
      "metadata": {
        "colab": {
          "base_uri": "https://localhost:8080/"
        },
        "id": "KeUicqVYNggo",
        "outputId": "f414950a-5d57-4036-cbbc-97bf844a3ca5"
      },
      "execution_count": 40,
      "outputs": [
        {
          "output_type": "execute_result",
          "data": {
            "text/plain": [
              "[0, 3]"
            ]
          },
          "metadata": {},
          "execution_count": 40
        }
      ]
    },
    {
      "cell_type": "code",
      "source": [
        "# remove 값으로 삭제\n",
        "\n",
        "list_c = [1,2,1,2]\n",
        "list_c.remove(2) # remove 는 요소의 값을 찾아 삭제한다.\n",
        "                 # 동일한 값이 여러개 있을때는 하나씩 순차적으로 삭제한다.\n",
        "                 # 리스트에서 중복된 여러개의 값을 제거하려면 반복문을 사용한다. \n",
        "print(list_c)\n",
        "list_c.remove(2)\n",
        "print(list_c)"
      ],
      "metadata": {
        "colab": {
          "base_uri": "https://localhost:8080/"
        },
        "id": "oewDoWC-OXIL",
        "outputId": "5fb35a08-22a3-4f22-9f1e-b7e1f6ba0fa8"
      },
      "execution_count": 45,
      "outputs": [
        {
          "output_type": "stream",
          "name": "stdout",
          "text": [
            "[1, 1, 2]\n",
            "[1, 1]\n"
          ]
        }
      ]
    },
    {
      "cell_type": "code",
      "source": [
        "list = [1,2,3,4,5]\n",
        "print(list[0]) # indexting 비파괴적으로 동작한다.\n",
        "print(list)\n",
        "\n",
        "print(list.pop()) # pop은 파괴적으로 동작한다.\n",
        "print(list)"
      ],
      "metadata": {
        "colab": {
          "base_uri": "https://localhost:8080/"
        },
        "id": "ble3GBS-PoQz",
        "outputId": "17ccb5e3-3760-4b04-86eb-7f734373306d"
      },
      "execution_count": 47,
      "outputs": [
        {
          "output_type": "stream",
          "name": "stdout",
          "text": [
            "1\n",
            "[1, 2, 3, 4, 5]\n",
            "5\n",
            "[1, 2, 3, 4]\n"
          ]
        }
      ]
    },
    {
      "cell_type": "code",
      "source": [
        "# in / not in 리스트에 존재하는 요소인지를 확인\n",
        "\n",
        "list = [222,434,65,123,547,876]\n",
        "print(222 in list)\n",
        "list = [222,434,65,123,547,876]\n",
        "print(221 in list)\n",
        "print(221. not in list)"
      ],
      "metadata": {
        "colab": {
          "base_uri": "https://localhost:8080/"
        },
        "id": "OFA0c5yTQYs7",
        "outputId": "0c8e37af-1c8a-40df-8712-bd3a0459aa1e"
      },
      "execution_count": 51,
      "outputs": [
        {
          "output_type": "stream",
          "name": "stdout",
          "text": [
            "True\n",
            "False\n",
            "True\n"
          ]
        }
      ]
    }
  ]
}