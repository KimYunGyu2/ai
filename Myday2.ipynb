{
  "nbformat": 4,
  "nbformat_minor": 0,
  "metadata": {
    "colab": {
      "name": "Myday2.ipynb",
      "provenance": [],
      "authorship_tag": "ABX9TyPRZJ8nHfd8j05e+1U6CZ92",
      "include_colab_link": true
    },
    "kernelspec": {
      "name": "python3",
      "display_name": "Python 3"
    },
    "language_info": {
      "name": "python"
    }
  },
  "cells": [
    {
      "cell_type": "markdown",
      "metadata": {
        "id": "view-in-github",
        "colab_type": "text"
      },
      "source": [
        "<a href=\"https://colab.research.google.com/github/KimYunGyu2/ai/blob/main/Myday2.ipynb\" target=\"_parent\"><img src=\"https://colab.research.google.com/assets/colab-badge.svg\" alt=\"Open In Colab\"/></a>"
      ]
    },
    {
      "cell_type": "code",
      "execution_count": 1,
      "metadata": {
        "colab": {
          "base_uri": "https://localhost:8080/"
        },
        "id": "hzxEcANgsIdb",
        "outputId": "8827b598-2d87-4987-aee2-43f59ecc134a"
      },
      "outputs": [
        {
          "output_type": "stream",
          "name": "stdout",
          "text": [
            "Hello World\n"
          ]
        }
      ],
      "source": [
        "#########################################################\n",
        "# Review\n",
        "#########################################################\n",
        "\n",
        "# Comment 주석 - 코드에 대한 설명, 컴퓨터는 읽지 않고 사람만\n",
        "#         읽는 내용, 또 다른 용법으로는 코드를 임시로\n",
        "#         실행하지 않고 감추고 에러를 확인하는 용도로도 사용된다.\n",
        "#         본인이 기록한 내용을 나중에 확인할 때 또는 다른 팀원이\n",
        "#         작성한 내용을 파악하기 용이하게 만든다.\n",
        "\n",
        "\n",
        "# #을 사용하여 주석을 표시한다. (ctrl + /)\n",
        "\n",
        "# doc string (주석의 용도로도 쓰이는 ..)\n",
        "'''\n",
        "작성일 : 2022/01/26\n",
        "담당자 : 홍길동\n",
        "비고 : austiny@gatech.edu\n",
        "'''\n",
        "\"\"\"\n",
        "작성일 : 2022/01/26\n",
        "담당자 : 홍길동\n",
        "비고 : austiny@gatech.edu\n",
        "\"\"\"\n",
        "#코드의 윗쪽 또는 오른쪽에 주석을 붙인다.\n",
        "print('Hello World') # 코드의 우측 또는 코드의 윗줄에 적는다."
      ]
    },
    {
      "cell_type": "code",
      "source": [
        "# 변수 Variable\n",
        "# 어떤 값을 저장하는 저장소 (A-)\n",
        "a = 100\n",
        "print(a)\n",
        "\n",
        "stumathsum = 350\n",
        "stu_math_sum = 350 # 스네이크 케이스 snake_case\n",
        "StuMathSum = 350 # 캐멀 케이스 CamelCase"
      ],
      "metadata": {
        "colab": {
          "base_uri": "https://localhost:8080/"
        },
        "id": "ImdUDxpXw8B6",
        "outputId": "eccec87c-fed4-4776-fdff-69bb44264006"
      },
      "execution_count": 2,
      "outputs": [
        {
          "output_type": "stream",
          "name": "stdout",
          "text": [
            "100\n"
          ]
        }
      ]
    },
    {
      "cell_type": "code",
      "source": [
        "# 1a = 100 숫자가 먼저 올수 없다.\n",
        "a1 = 100\n",
        "\n"
      ],
      "metadata": {
        "id": "9z7LBYAqyzMU"
      },
      "execution_count": 3,
      "outputs": []
    },
    {
      "cell_type": "code",
      "source": [
        "_a = 100\n",
        "# @a = 100"
      ],
      "metadata": {
        "id": "_CctuXoYy8yi"
      },
      "execution_count": 4,
      "outputs": []
    },
    {
      "cell_type": "code",
      "source": [
        "홍길동 = 55\n",
        "# 한글 변수명 사용이 가능하지만 쓰지 말자"
      ],
      "metadata": {
        "id": "hPx-UTQBzLvl"
      },
      "execution_count": 5,
      "outputs": []
    },
    {
      "cell_type": "code",
      "source": [
        "# 인덱싱 (슬라이싱)\n",
        "\n",
        "s = 'world'\n",
        "print(s[2]) #파이썬은 인덱스 시작이 0이다.\n",
        "print(s[-1]) #-1은 마지막 인덱스를 가리킨다.\n",
        "print(s[4])\n",
        "\n",
        "ss = '900101-2547389'\n",
        "print(ss[7]) # 하나만 추출할때는 indexing\n",
        "\n",
        "addr = '서울시 강남구 역삼동 1번지'\n",
        "print(addr[4:7]) # 여러개 추출할때는 slicing"
      ],
      "metadata": {
        "colab": {
          "base_uri": "https://localhost:8080/"
        },
        "id": "K_UoRSImzVH6",
        "outputId": "5a9150fe-af90-4e43-9935-7c96065c2fcc"
      },
      "execution_count": 3,
      "outputs": [
        {
          "output_type": "stream",
          "name": "stdout",
          "text": [
            "r\n",
            "d\n",
            "d\n",
            "2\n",
            "강남구\n"
          ]
        }
      ]
    },
    {
      "cell_type": "code",
      "source": [
        "# print()\n",
        "\n",
        "print('좋은 아침입니다.')\n"
      ],
      "metadata": {
        "colab": {
          "base_uri": "https://localhost:8080/"
        },
        "id": "Y4ixvbes1WM1",
        "outputId": "68559657-7a4b-4928-b003-bef68f22cd62"
      },
      "execution_count": 7,
      "outputs": [
        {
          "output_type": "stream",
          "name": "stdout",
          "text": [
            "좋은 아침입니다.\n"
          ]
        }
      ]
    },
    {
      "cell_type": "code",
      "source": [
        "when = '저녁'\n",
        "print('좋은',when,'입니다.')\n",
        "print('좋은 %s 입니다' % when)\n",
        "print('좋은 {} 입니다.'.format(when))\n",
        "\n",
        "print(f'좋은 {when} 입니다.') # *****"
      ],
      "metadata": {
        "colab": {
          "base_uri": "https://localhost:8080/"
        },
        "id": "1v6VLFYF1i2a",
        "outputId": "3d2d88d3-f3b2-4b9b-ab5f-5cea438a94bd"
      },
      "execution_count": 8,
      "outputs": [
        {
          "output_type": "stream",
          "name": "stdout",
          "text": [
            "좋은 저녁 입니다.\n",
            "좋은 저녁 입니다\n",
            "좋은 저녁 입니다.\n",
            "좋은 저녁 입니다.\n"
          ]
        }
      ]
    },
    {
      "cell_type": "code",
      "source": [
        "###############################################\n",
        "# 리스트 List 튜플 Tuple 딕셔너리 Dict 셋 Set\n",
        "###############################################\n",
        "# 여러개의 값을 한번에 저장하는 자료형이 필요하다.\n",
        "\n",
        "# 리스트 List \n",
        "# 지금까지 사용한 숫자 1, 문자1 등 개별적, 독립적인 자료가 아닌\n",
        "# 리스트는 이러한 자료들 여러개를 모아서 사용할 수 있게 해준다.\n",
        "# 리스트에 넣는 자료를 요소element 라고한다.\n",
        "\n",
        "# 리스트는 []로 구성한다.\n",
        "list = [1,2,3,4,5]\n",
        "print(list)\n",
        "# 리스트는 다양한 자료형의 데이터를 한번에 담을 수 있다.\n",
        "# (but, 하나의 리스트에는 한가지 자료형만 저장하는 것이 오히려 바람직하다.)\n",
        "list = [1,2,3,'대한','민국', True, False]\n",
        "print(list)\n",
        "score = [80,90,70,60]\n",
        "print(score)\n",
        "# 리스트는 인덱싱indexting과 슬라이싱slicing이 가능하다.\n",
        "print(score[0])   #파이썬은 0부터 시작한다.\n",
        "print(score[0:2]) # 슬라이싱은 0부터 2미만...처럼 끝은 미만을 나타낸다.\n",
        "\n",
        "# 리스트는 수정/삭제 가 가능하다.(mutable, 튜플은 immutable)\n",
        "score[0] = 100\n",
        "print(score)\n",
        "score[-1] =100\n",
        "print(score)\n",
        "# score[4] # indexerror 아주 많이 접하게 될 에러(예외)\n",
        "\n",
        "# 리스트는 연산이 가능하다.\n",
        "list_a = [1,2,3]\n",
        "list_b = [4,5,6]\n",
        "\n",
        "print('list_a = ', list_a)\n",
        "print('list_b = ', list_b)\n",
        "print(list_a + list_b)\n",
        "print(list_a * 3)\n",
        "print(len(list_a))"
      ],
      "metadata": {
        "colab": {
          "base_uri": "https://localhost:8080/"
        },
        "id": "oPAQj1N49-I2",
        "outputId": "e6c82f0c-6537-4cf7-f242-25dcc2071ed9"
      },
      "execution_count": 9,
      "outputs": [
        {
          "output_type": "stream",
          "name": "stdout",
          "text": [
            "[1, 2, 3, 4, 5]\n",
            "[1, 2, 3, '대한', '민국', True, False]\n",
            "[80, 90, 70, 60]\n",
            "80\n",
            "[80, 90]\n",
            "[100, 90, 70, 60]\n",
            "[100, 90, 70, 100]\n",
            "list_a =  [1, 2, 3]\n",
            "list_b =  [4, 5, 6]\n",
            "[1, 2, 3, 4, 5, 6]\n",
            "[1, 2, 3, 1, 2, 3, 1, 2, 3]\n",
            "3\n"
          ]
        }
      ]
    },
    {
      "cell_type": "code",
      "source": [
        "# 리스트에 많이 사용되는 함수들...\n",
        "# append () 리스트에 요소를 추가할 때 사용, 끝에만 추가\n",
        "\n",
        "print(score)\n",
        "score.append(60)\n",
        "print(score)\n",
        "score.append(70)\n",
        "print(score)"
      ],
      "metadata": {
        "colab": {
          "base_uri": "https://localhost:8080/"
        },
        "id": "MNF1OShDFZRw",
        "outputId": "0e6886d5-e88b-45fa-98d1-9377b11ee944"
      },
      "execution_count": 10,
      "outputs": [
        {
          "output_type": "stream",
          "name": "stdout",
          "text": [
            "[100, 90, 70, 100]\n",
            "[100, 90, 70, 100, 60]\n",
            "[100, 90, 70, 100, 60, 70]\n"
          ]
        }
      ]
    },
    {
      "cell_type": "code",
      "source": [
        "# insert() 리스트에 요소를 추가할 때 사용, 특정 위치를 지정하여 추가\n",
        "list = []\n",
        "list.insert(0, 10)\n",
        "print(list)\n",
        "\n",
        "list.insert(1, 50)\n",
        "print(list)"
      ],
      "metadata": {
        "colab": {
          "base_uri": "https://localhost:8080/"
        },
        "id": "Q4ft0iqXJJXQ",
        "outputId": "d1b92c6a-1a40-4b59-9735-0a238c2d9c0f"
      },
      "execution_count": 11,
      "outputs": [
        {
          "output_type": "stream",
          "name": "stdout",
          "text": [
            "[10]\n",
            "[10, 50]\n"
          ]
        }
      ]
    },
    {
      "cell_type": "code",
      "source": [
        "list_a = [1,2,3]\n",
        "list_a.extend([4,5,6])\n",
        "list_a # 파괴적 처리"
      ],
      "metadata": {
        "colab": {
          "base_uri": "https://localhost:8080/"
        },
        "id": "MgvwvnFPKPbW",
        "outputId": "bd7c78e7-3442-44f4-ee60-00570ecd1bae"
      },
      "execution_count": 12,
      "outputs": [
        {
          "output_type": "execute_result",
          "data": {
            "text/plain": [
              "[1, 2, 3, 4, 5, 6]"
            ]
          },
          "metadata": {},
          "execution_count": 12
        }
      ]
    },
    {
      "cell_type": "code",
      "source": [
        "list_a = [1,2,3]\n",
        "list_b = [4,5,6]\n",
        "print(list_a + list_b)\n",
        "print(list_a) # 비파괴적 처리\n",
        "\n",
        "# 리스트 연결만으로는 list_a에 어떠한 영향도 주지 않는다.(비파괴적 처리)\n",
        "# 하지만 extend()를 사용하면 list_a에 직접적으로 영향을 주게 된다.(파괴적 처리)\n",
        "\n",
        "# 원래 자료를 사용할 때는 비파괴적으로 사용하는 것이 바람직하다.\n",
        "# 가능하면 원본 데이터는 그대로 유지하고 사용하는 것이 선택지가 더 넓다."
      ],
      "metadata": {
        "colab": {
          "base_uri": "https://localhost:8080/"
        },
        "id": "5EOn9acFKrt5",
        "outputId": "6b21df9c-4ac5-4170-a498-8c9468505020"
      },
      "execution_count": 13,
      "outputs": [
        {
          "output_type": "stream",
          "name": "stdout",
          "text": [
            "[1, 2, 3, 4, 5, 6]\n",
            "[1, 2, 3]\n"
          ]
        }
      ]
    },
    {
      "cell_type": "code",
      "source": [
        "# del() 리스트에서 인덱스 위치 데이터 삭제\n",
        "\n",
        "list_a = [0,1,2,3,4,5]\n",
        "del list_a[1] # index 값으로 위치값을 삭제\n",
        "print(list_a)\n",
        "\n",
        "del list_a[1:3] # 1부터 3미만 \n",
        "print(list_a)\n",
        "\n",
        "del list_a[:] # 생략하면 처음 : 생략하면 끝\n",
        "print(list_a)\n",
        "\n",
        "# list_a.clear() 리스트 요소를 전부 한번에 삭제"
      ],
      "metadata": {
        "colab": {
          "base_uri": "https://localhost:8080/"
        },
        "id": "Fsn5SuV6MaYF",
        "outputId": "e33f4a0e-2413-468d-d50e-74bf47347796"
      },
      "execution_count": 14,
      "outputs": [
        {
          "output_type": "stream",
          "name": "stdout",
          "text": [
            "[0, 2, 3, 4, 5]\n",
            "[0, 4, 5]\n",
            "[]\n"
          ]
        }
      ]
    },
    {
      "cell_type": "code",
      "source": [
        "# pop() 리스트에서 마지막 위치 데이터 삭제\n",
        "list_a.pop()\n",
        "list_a"
      ],
      "metadata": {
        "colab": {
          "base_uri": "https://localhost:8080/",
          "height": 209
        },
        "id": "doatXQRTNBlY",
        "outputId": "b1a43d7c-d920-4ad8-f669-6bf8261e0212"
      },
      "execution_count": 15,
      "outputs": [
        {
          "output_type": "error",
          "ename": "IndexError",
          "evalue": "ignored",
          "traceback": [
            "\u001b[0;31m---------------------------------------------------------------------------\u001b[0m",
            "\u001b[0;31mIndexError\u001b[0m                                Traceback (most recent call last)",
            "\u001b[0;32m<ipython-input-15-1fc49c72cc4d>\u001b[0m in \u001b[0;36m<module>\u001b[0;34m()\u001b[0m\n\u001b[1;32m      1\u001b[0m \u001b[0;31m# pop() 리스트에서 마지막 위치 데이터 삭제\u001b[0m\u001b[0;34m\u001b[0m\u001b[0;34m\u001b[0m\u001b[0;34m\u001b[0m\u001b[0m\n\u001b[0;32m----> 2\u001b[0;31m \u001b[0mlist_a\u001b[0m\u001b[0;34m.\u001b[0m\u001b[0mpop\u001b[0m\u001b[0;34m(\u001b[0m\u001b[0;34m)\u001b[0m\u001b[0;34m\u001b[0m\u001b[0;34m\u001b[0m\u001b[0m\n\u001b[0m\u001b[1;32m      3\u001b[0m \u001b[0mlist_a\u001b[0m\u001b[0;34m\u001b[0m\u001b[0;34m\u001b[0m\u001b[0m\n",
            "\u001b[0;31mIndexError\u001b[0m: pop from empty list"
          ]
        }
      ]
    },
    {
      "cell_type": "code",
      "source": [
        "list_a.pop(1)\n",
        "list_a"
      ],
      "metadata": {
        "id": "KeUicqVYNggo"
      },
      "execution_count": null,
      "outputs": []
    },
    {
      "cell_type": "code",
      "source": [
        "# remove 값으로 삭제\n",
        "\n",
        "list_c = [1,2,1,2]\n",
        "list_c.remove(2) # remove 는 요소의 값을 찾아 삭제한다.\n",
        "                 # 동일한 값이 여러개 있을때는 하나씩 순차적으로 삭제한다.\n",
        "                 # 리스트에서 중복된 여러개의 값을 제거하려면 반복문을 사용한다. \n",
        "print(list_c)\n",
        "list_c.remove(2)\n",
        "print(list_c)"
      ],
      "metadata": {
        "id": "oewDoWC-OXIL"
      },
      "execution_count": null,
      "outputs": []
    },
    {
      "cell_type": "code",
      "source": [
        "list = [1,2,3,4,5]\n",
        "print(list[0]) # indexting 비파괴적으로 동작한다.\n",
        "print(list)\n",
        "\n",
        "print(list.pop()) # pop은 파괴적으로 동작한다.\n",
        "print(list)"
      ],
      "metadata": {
        "id": "ble3GBS-PoQz"
      },
      "execution_count": null,
      "outputs": []
    },
    {
      "cell_type": "code",
      "source": [
        "# in / not in 리스트에 존재하는 요소인지를 확인\n",
        "\n",
        "list = [222,434,65,123,547,876]\n",
        "print(222 in list)\n",
        "list = [222,434,65,123,547,876]\n",
        "print(221 in list)\n",
        "print(221. not in list)"
      ],
      "metadata": {
        "id": "OFA0c5yTQYs7"
      },
      "execution_count": null,
      "outputs": []
    },
    {
      "cell_type": "code",
      "source": [
        "# Dict 딕셔너리 (java 의 map, JS 의 json 과 유사한 자료구조)\n",
        "# 리스트가 인덱스를 기반으로 값을 저장한다면 딕셔너리는 키값을 기반으로 값을 저장한다.\n",
        "\n",
        "# {} 를 사용하여 데이터들을 저장한다.\n",
        "# 삽입/삭제 가 가능하다. mutable\n",
        "# 순서가 없으므로 인덱싱과 슬라이싱이 불가능하다.\n",
        "\n",
        "dict = {\n",
        "    \"name\": \"엔드 게임\",\n",
        "    \"no\": 1,\n",
        "    \"type\": \"히어로 무비\",\n",
        "    \"price\" : 10000\n",
        "}\n",
        "print(dict)\n",
        "print(dict['name'])"
      ],
      "metadata": {
        "id": "4twHrpXHiwEf",
        "colab": {
          "base_uri": "https://localhost:8080/"
        },
        "outputId": "cccb0ffa-822a-43fd-b5e8-1f8e661d7ae4"
      },
      "execution_count": 5,
      "outputs": [
        {
          "output_type": "stream",
          "name": "stdout",
          "text": [
            "{'name': '엔드 게임', 'no': 1, 'type': '히어로 무비', 'price': 10000}\n",
            "엔드 게임\n"
          ]
        }
      ]
    },
    {
      "cell_type": "code",
      "source": [
        "dict = {\n",
        "    \"감독\":[\"안소니\",\"루소\"],\n",
        "    \"배우\":[\"타노스\",\"토르\",\"헐크\"]\n",
        "}\n",
        "dict[\"감독\"]"
      ],
      "metadata": {
        "id": "vgKvwLVylFZo",
        "colab": {
          "base_uri": "https://localhost:8080/"
        },
        "outputId": "846f904e-5f1c-4388-dd5a-57bf4e67525d"
      },
      "execution_count": 4,
      "outputs": [
        {
          "output_type": "execute_result",
          "data": {
            "text/plain": [
              "['안소니', '루소']"
            ]
          },
          "metadata": {},
          "execution_count": 4
        }
      ]
    },
    {
      "cell_type": "code",
      "source": [
        "dict = {\n",
        "    'name':'건조 망고',\n",
        "    'type':'절임 과일',\n",
        "    'ingredient':['망고','설탕','색소'],\n",
        "    'origin':'필리핀'\n",
        "}\n",
        "\n",
        "print('name:', dict['name'])\n",
        "print('type:', dict['type'])\n",
        "print('ingredient:', dict['ingredient'])\n",
        "print('origin:', dict['origin'])\n",
        "\n",
        "\n",
        "dict['name'] = '망고'\n",
        "print('name:', dict['name'])\n",
        "\n",
        "print(dict['ingredient'][0])\n",
        "\n",
        "dict['price'] = 5000\n",
        "\n",
        "print(dict)\n",
        "\n",
        "dict['price'] = 4000\n",
        "\n",
        "print(dict)\n",
        "\n",
        "del dict['price']\n",
        "print(dict)"
      ],
      "metadata": {
        "id": "r_PvPB2jl9ek"
      },
      "execution_count": null,
      "outputs": []
    },
    {
      "cell_type": "code",
      "source": [
        "dict = {}\n",
        "\n",
        "dict['name'] = '새이름'\n",
        "dict['height'] = 185\n",
        "dict['weight'] = 75\n",
        "\n",
        "print(dict)\n",
        "del dict['weight']\n",
        "print(dict)\n"
      ],
      "metadata": {
        "id": "2234HS5cohqw"
      },
      "execution_count": null,
      "outputs": []
    },
    {
      "cell_type": "code",
      "source": [
        "dict = {\n",
        "    'name':'건조 망고',\n",
        "    'type':'절임 과일',\n",
        "    'ingredient':['망고','설탕','색소'],\n",
        "    'origin':'필리핀'\n",
        "}\n",
        "\n",
        "key = input('>삭제를 원하는 데이터의 키값을 입력하세요 : ')\n",
        "\n",
        "if key in dict:\n",
        "  del dict[key]\n",
        "else:\n",
        "  print('존재하지 않은 키에 접근하고 있습니다.. ')\n",
        "\n",
        "print(dict)"
      ],
      "metadata": {
        "id": "73k7_8qRr4Ya"
      },
      "execution_count": null,
      "outputs": []
    },
    {
      "cell_type": "code",
      "source": [
        "# 튜플 tuple\n",
        "# () 를 사용하여 작성한다.\n",
        "# 리스트와 거의 대부분 유사하나, 튜플은 삽입,수정, 등이 불가능하다 immutable\n",
        "# 튜플은 1개의 원소로 작성할 때는 ,를 삽입한다. (1,)\n",
        "# 튜플은 괄호를 생략할수 있다.\n",
        "\n",
        "t = (1, 2)\n",
        "print(t)\n",
        "print(type(t))\n",
        "\n",
        "t2 = 3, 4\n",
        "print(t2)\n",
        "print(type(t2))\n",
        "\n",
        "t3 = (5)   # (5)  ==   5\n",
        "print(t3)\n",
        "print(type(3))\n",
        "\n",
        "t3 = 5\n",
        "print(t3)\n",
        "print(type(t3))\n",
        "\n",
        "t4 = (5,)\n",
        "print(t4)\n",
        "print(type(t4))\n",
        "\n",
        "t5 = (5,)\n",
        "print(t5)\n",
        "print(type(t5))"
      ],
      "metadata": {
        "id": "LDZ0wgm3tSqB"
      },
      "execution_count": null,
      "outputs": []
    },
    {
      "cell_type": "code",
      "source": [
        "t = (1,2,3,4,5)\n",
        "# t[0] = 8 튜플은 수정이 불가능하다. immutable\n",
        "del t[0] 튜플은 삭제가 불가능하다. immutable"
      ],
      "metadata": {
        "id": "f9m19hYZyyfk"
      },
      "execution_count": null,
      "outputs": []
    },
    {
      "cell_type": "code",
      "source": [
        "t = (1,2,3,4,5)\n",
        "\n",
        "print(t[1]) # 튜플은 인덱싱이 가능하다.\n",
        "print(t[2:]) # 튜플은 슬라이싱이 가능하다."
      ],
      "metadata": {
        "id": "1WSqil5PzOIw"
      },
      "execution_count": null,
      "outputs": []
    },
    {
      "cell_type": "code",
      "source": [
        "t1 = (1,2,3,4,5)\n",
        "t2 = (6,7,8,9)\n",
        "\n",
        "print(t1 + t2)\n",
        "print(t1)\n",
        "print(t2)\n",
        "print(t1 * 3)\n",
        "\n",
        "# 비 파괴적 연산은 가능하다."
      ],
      "metadata": {
        "id": "MrSoau3Jzu6H"
      },
      "execution_count": null,
      "outputs": []
    },
    {
      "cell_type": "code",
      "source": [
        "# Set 집합\n",
        "# {} 를 사용하여 작성한다.\n",
        "# 중복을 허용하지 않는다.\n",
        "# 순서가 없다. unordered 리스트나 튜플은 순서가 있기때문에 ordered 인덱싱과 슬라이싱을 통해\n",
        "# 값을 꺼낼수 있지만 딕셔너리와 셋은 순서가 없어 불가능하다.\n",
        "# 중복을 허용하지 않는다는 특성을 활용하여 중복 제거 필터용으로 많이 사용된다.\n",
        "# set자료형에 저장된 값을 꺼내려면 리스트나 튜플로 변환하여 사용한다.\n",
        "# mutable 수정/삭제가 가능하다.\n",
        "set = {1,1,2,2,2,3,4,}\n",
        "print(set)\n",
        "\n",
        "print(set[0])"
      ],
      "metadata": {
        "id": "O5XtOQcn0kjx"
      },
      "execution_count": null,
      "outputs": []
    },
    {
      "cell_type": "code",
      "source": [
        "s1 = set([1,1,1,2,2,3])\n",
        "print(type(s1))\n",
        "print(s1)\n",
        "#print(s1[0])\n",
        "\n",
        "li = list(s1)\n",
        "print(type(li))\n",
        "print(li)\n",
        "li[0]"
      ],
      "metadata": {
        "id": "n3qiSQ7B4EDJ",
        "outputId": "b6bffb5f-9036-483d-a180-0c550df0afbb",
        "colab": {
          "base_uri": "https://localhost:8080/"
        }
      },
      "execution_count": 1,
      "outputs": [
        {
          "output_type": "stream",
          "name": "stdout",
          "text": [
            "<class 'set'>\n",
            "{1, 2, 3}\n",
            "<class 'list'>\n",
            "[1, 2, 3]\n"
          ]
        },
        {
          "output_type": "execute_result",
          "data": {
            "text/plain": [
              "1"
            ]
          },
          "metadata": {},
          "execution_count": 1
        }
      ]
    },
    {
      "cell_type": "code",
      "source": [
        "# 집함 계산\n",
        "\n",
        "set1 = {1,2,3}\n",
        "set2 = {2,3,4}\n",
        "\n",
        "print(type(set1))\n",
        "print(type(set2))\n",
        "\n",
        "# 양쪽 집합에 모두 공통적으로 포함되는 원소 -> 교집합\n",
        "print(set1 & set2)  \n",
        "print(set1.intersection(set2))\n",
        "\n",
        "# 양쪽 집합의 모든 원소 -> 합집합\n",
        "print(set1 | set2)\n",
        "print(set1.union(set2))\n",
        "\n",
        "# 두개 집합의 차 -> 차집합\n",
        "print(set1 - set2)\n",
        "print(set1.difference(set2))"
      ],
      "metadata": {
        "id": "LF68cleN5HwG"
      },
      "execution_count": null,
      "outputs": []
    },
    {
      "cell_type": "code",
      "source": [
        "# 집합은 삽입가능 mutable\n",
        "\n",
        "set1 = {1,2,3}\n",
        "print(set1)\n",
        "set1.add(4)\n",
        "print(set1)\n",
        "\n",
        "set1.update([5,6,7,8])\n",
        "print(set1)\n",
        "\n",
        "# 집합은 삭제가 가능하다. mutable\n",
        "# 집합은 인덱스 개념이 존재하지 않는다. 따라서값을 지정하여 직접 삭제한다.\n",
        "\n",
        "set1.remove(4)\n",
        "print(set1)"
      ],
      "metadata": {
        "id": "xDlbTMqK7CEQ"
      },
      "execution_count": null,
      "outputs": []
    },
    {
      "cell_type": "code",
      "source": [
        "# Q1. 입력) 학번을 입력하세요>> 31025\n",
        "#     출력) 3학년 10반 25번\n",
        "sn = input('학번을 입력하세요>> ')\n",
        "print(f'{sn[0]}학년 {sn[1:3]}반 {sn[3:]}번')\n",
        "print(sn[0],'학년',sn[1:3],'반',sn[3:],'번' )"
      ],
      "metadata": {
        "colab": {
          "base_uri": "https://localhost:8080/"
        },
        "id": "F1O3rAAS_n4J",
        "outputId": "ef635ca0-6ccc-4fdd-a3bb-010574e7022e"
      },
      "execution_count": 7,
      "outputs": [
        {
          "output_type": "stream",
          "name": "stdout",
          "text": [
            "학번을 입력하세요>> 31025\n",
            "3학년 10반 25번\n",
            "3 학년 10 반 25 번\n"
          ]
        }
      ]
    },
    {
      "cell_type": "code",
      "source": [
        "# Q2. 입력) 차량 번호를 입력하세요 >> 서울2가1234\n",
        "#           차량 번호를 입력하세요 >> 288가1233\n",
        "#     출력) 서울2가1234 의 차량번호 끝자리 4자는 1234 입니다.\n",
        "\n",
        "cn = input('차량 번호를 입력하세요 >> ')\n",
        "print(f'{cn}의 차량번호 끝자리 4자는 {cn[-4:]} 입니다.')"
      ],
      "metadata": {
        "colab": {
          "base_uri": "https://localhost:8080/"
        },
        "id": "an_lL9yiCQpc",
        "outputId": "279eee92-fb71-4291-93b6-f991ed9c4c1c"
      },
      "execution_count": 9,
      "outputs": [
        {
          "output_type": "stream",
          "name": "stdout",
          "text": [
            "차량 번호를 입력하세요 >> 서울2가1234\n",
            "서울2가1234의 차량번호 끝자리 4자는 1234 입니다.\n"
          ]
        }
      ]
    },
    {
      "cell_type": "code",
      "source": [
        "# 홀수 갯수의 문자열을 입력 받아\n",
        "# 가운데 글자를 추출하는 프로그램을 구현하시오 \n",
        "# 입력) 문자열을 홀수로 입력하세요 >> austins\n",
        "# 입력) 문자열을 홀수로 입력하세요 >> abc\n",
        "\n",
        "# 출력) 문자열의 가운데 글자는 t입니다.\n",
        "# 출력) 문자열의 가운데 글자는 b입니다.\n",
        "\n",
        "ctx = input('문자열을 홀수로 입력하세요 >> ')\n",
        "answer = int(len(ctx)/2)\n",
        "print(f'문자열의 가운데 글자는 {ctx[int(len(ctx)/2)]} 입니다.')\n",
        "\n",
        "# print(int(len(ctx)/2))\n",
        "# print(len(ctx)//2) # 몫만 추출\n",
        "# print(len(ctx)%2)  # 나머지만 추출 (홀수 짝수 배수)"
      ],
      "metadata": {
        "colab": {
          "base_uri": "https://localhost:8080/"
        },
        "id": "_YaFjySODj07",
        "outputId": "1b1beec1-e6be-4772-a2b0-3667c4d629e7"
      },
      "execution_count": 23,
      "outputs": [
        {
          "output_type": "stream",
          "name": "stdout",
          "text": [
            "문자열을 홀수로 입력하세요 >> adc\n",
            "문자열의 가운데 글자는 d입니다.\n"
          ]
        }
      ]
    },
    {
      "cell_type": "code",
      "source": [
        "# [1,2,3,4,5,6,7,8,9] 의 3번째 요소부터 7번째 요소만 추출한 결과에서\n",
        "# 2번째 요소를 출력하는 프로그램을 구현하세요 한번에\n",
        "li = [1,2,3,4,5,6,7,8,9]\n",
        "print(li[2:7][1])"
      ],
      "metadata": {
        "colab": {
          "base_uri": "https://localhost:8080/"
        },
        "id": "MuVbxZUMHols",
        "outputId": "f397d0d7-e855-40e2-8afa-fc4c0d189ce6"
      },
      "execution_count": 22,
      "outputs": [
        {
          "output_type": "stream",
          "name": "stdout",
          "text": [
            "4\n"
          ]
        }
      ]
    },
    {
      "cell_type": "code",
      "source": [
        "####################\n",
        "# if\n",
        "####################\n",
        "\n",
        "# 특정 조건을 만족하는지 여부에 따라 실행되는 코드가 달라져야할 때 사용된다.\n",
        "# 날씨가 맑으면 소풍을 가고 아니면 공부를 한다.\n",
        "\n",
        "# if 조건식:\n",
        "#   만족할때 실행 코드\n",
        "# else:\n",
        "#   만족하지 못할때 실행 코드\n",
        "\n",
        "# if 맑으면:\n",
        "#   소풍을 간다.\n",
        "# else:\n",
        "#   공부를 한다.\n",
        "\n",
        "if False:\n",
        "  print('만족')\n",
        "else:\n",
        "  print('불만족')"
      ],
      "metadata": {
        "colab": {
          "base_uri": "https://localhost:8080/"
        },
        "id": "1DlYplhWNzM8",
        "outputId": "cdb8c5ae-4dab-40af-a8e8-36c3624f30ef"
      },
      "execution_count": 25,
      "outputs": [
        {
          "output_type": "stream",
          "name": "stdout",
          "text": [
            "불만족\n"
          ]
        }
      ]
    },
    {
      "cell_type": "code",
      "source": [
        "age = int(input('당신의 나이를 입력하세요 >> '))\n",
        "\n",
        "if age >= 18:\n",
        "  print('당신은 성인입니다.')\n",
        "else:\n",
        "  print('당신은 성인이 아닙니다.')"
      ],
      "metadata": {
        "colab": {
          "base_uri": "https://localhost:8080/"
        },
        "id": "Qw11YFJDPD_F",
        "outputId": "863af74c-5599-4eeb-c639-840f4d9b953f"
      },
      "execution_count": 26,
      "outputs": [
        {
          "output_type": "stream",
          "name": "stdout",
          "text": [
            "당신의 나이를 입력하세요 >> 30\n",
            "당신은 성인입니다.\n"
          ]
        }
      ]
    },
    {
      "cell_type": "code",
      "source": [
        "age = int(input('당신의 나이를 입력하세요 >> '))\n",
        "\n",
        "if age < 10:\n",
        "  print('당신은 유아입니다.')\n",
        "elif age < 20:\n",
        "  print('당신은 10대입니다.')\n",
        "elif age < 30:\n",
        "  print('당신은 20대입니다.')\n",
        "elif age < 40:\n",
        "  print('당신은 30대입니다.')\n",
        "elif age < 50:\n",
        "  print('당신은 40대입니다.')\n",
        "  elif age < 60:\n",
        "  print('당신은 50대입니다.')\n",
        "  elif age < 70:\n",
        "  print('당신은 60대입니다.')\n",
        "else:\n",
        "  print('당신은 노인입니다.')"
      ],
      "metadata": {
        "id": "ou2X1vUOPxI-"
      },
      "execution_count": null,
      "outputs": []
    },
    {
      "cell_type": "code",
      "source": [
        "# 입력) 당신의 점수를 입력하세요 >>> 95\n",
        "# 출력) 당신의 점수는 ?? 점이고 학점은 A학점 입니다.\n",
        "# 100~90 A\n",
        "# 89~80 B\n",
        "# 79~70 C\n",
        "# 69~60 D\n",
        "# 나머지 F\n",
        "\n",
        "score = int(input('당신의 점수를 입력하세요 >>> '))\n",
        "if score >= 90:\n",
        "  grade = 'A'\n",
        "elif score >= 80:\n",
        "  grade = 'B'\n",
        "elif score >= 70:\n",
        "  grade = 'C'\n",
        "elif score >= 60:\n",
        "  grade = 'D'\n",
        "else:\n",
        "  grade = 'F'\n",
        "\n",
        "print(f'당신의 점수는 {score}이고 학점은 {grade}학점 입니다.') "
      ],
      "metadata": {
        "colab": {
          "base_uri": "https://localhost:8080/"
        },
        "id": "GpHqmoBPRd43",
        "outputId": "9ace7b61-e211-4ad3-ab0e-ec23fc638a84"
      },
      "execution_count": 31,
      "outputs": [
        {
          "output_type": "stream",
          "name": "stdout",
          "text": [
            "당신의 점수를 입력하세요 >>> 90\n",
            "당신의 점수는 90이고 학점은 A 입니다.\n"
          ]
        }
      ]
    },
    {
      "cell_type": "code",
      "source": [
        "# 임의의 정수를 입력받아서 그 수가 3의 배수인지를 확인하는프로그램을 작성하시오\n",
        "# (입력) 정수를 입력하세요 >> 14\n",
        "# (출력) 14는 3의 배수가 아닙니다.\n",
        "\n",
        "num = int(input('정수를 입력하세요 >> '))\n",
        "\n",
        "if num % 3 == 0:\n",
        "  print(f'{num}은 3의 배수입니다.')\n",
        "else:\n",
        "  print(f'{num}은 3의 배수가 아닙니다')"
      ],
      "metadata": {
        "colab": {
          "base_uri": "https://localhost:8080/"
        },
        "id": "eq-u13baTsiP",
        "outputId": "bed95a6d-61a9-450b-ba27-3e22a5dd9afe"
      },
      "execution_count": 2,
      "outputs": [
        {
          "output_type": "stream",
          "name": "stdout",
          "text": [
            "정수를 입력하세요 >> 15\n",
            "15은 3의 배수입니다.\n"
          ]
        }
      ]
    },
    {
      "cell_type": "code",
      "source": [
        "# 정수 3개를 입력 받아서 그 중에서 가장 큰수를 찾아 출력하는 프로그램\n",
        "#정수 1입력>3\n",
        "#정수 2입력>1\n",
        "#정수 3입력>2\n",
        "\n",
        "#가장 큰수는 3입니다.\n",
        "\n",
        "n1 = int(input('정수1 입력 >>> '))\n",
        "n2 = int(input('정수2 입력 >>> '))\n",
        "n3 = int(input('정수3 입력 >>> '))\n",
        "\n",
        "if n1 > n2 & n1 > n3 :\n",
        "  best = n1\n",
        "elif n2 > n3 :\n",
        "  best = n2\n",
        "else :\n",
        "  best = n3\n",
        "\n",
        "print(f'가장 큰 수는 {best}입니다.')\n",
        "  \n",
        "\n",
        "\n"
      ],
      "metadata": {
        "colab": {
          "base_uri": "https://localhost:8080/"
        },
        "id": "yM5MAbU8VCCu",
        "outputId": "4d8e5e77-3946-42c8-9252-f7d62de7c3ea"
      },
      "execution_count": 3,
      "outputs": [
        {
          "output_type": "stream",
          "name": "stdout",
          "text": [
            "정수1 입력 >>> 3\n",
            "정수2 입력 >>> 5\n",
            "정수3 입력 >>> 10\n",
            "가장 큰 수는 10입니다.\n"
          ]
        }
      ]
    }
  ]
}