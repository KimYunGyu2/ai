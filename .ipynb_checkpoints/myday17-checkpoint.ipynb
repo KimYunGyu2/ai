{
 "cells": [
  {
   "cell_type": "code",
   "execution_count": 1,
   "id": "1acd4f74",
   "metadata": {},
   "outputs": [
    {
     "name": "stdout",
     "output_type": "stream",
     "text": [
      "Enter your name : Austin\n",
      "Hello Austin\n"
     ]
    }
   ],
   "source": [
    "# Function (subprograms)\n",
    "\n",
    "# Blocks of code which perform specific tasks and can be ccalled upon at any time \n",
    "# in the program to run that code\n",
    "\n",
    "# Advantages\n",
    "# - it can be used and reused at differnt times during the program.\n",
    "# - it makes the program simpler to understand as the code is grouped together into chunks.\n",
    "\n",
    "\n",
    "\n",
    "def get_name():  # 4\n",
    "    user_name = input('Enter your name : ')  # 5\n",
    "    return user_name  # 6\n",
    "\n",
    "def print_Msg(user_name):  # 9\n",
    "    print(\"Hello\", user_name)  # 10\n",
    "\n",
    "def main():   # 2\n",
    "    user_name = get_name()  # 3  # 7\n",
    "    print_Msg(user_name)  # 8\n",
    "    \n",
    "main()    # 1"
   ]
  },
  {
   "cell_type": "code",
   "execution_count": null,
   "id": "e4038217",
   "metadata": {},
   "outputs": [],
   "source": [
    "def get_data():# 4\n",
    "        user_name = input('Enter your name : ')  # 5\n",
    "        user_age = int(input('Enter your age : '))  # 20살 # 6 \n",
    "        data_tuple=(user_name, user_age)  # 7\n",
    "        return data_tuple  # 8\n",
    "\n",
    "def message(user_name, user_age): # 11\n",
    "    if user_age <= 10:           #12\n",
    "        print('Hi', user_name)\n",
    "    else:                       # 13\n",
    "        print('Hello', user_name) # 14\n",
    "    \n",
    "def main():# 2\n",
    "    user_name, user_age = get_data()  # 3 # 9\n",
    "    message(user_name, user_age) # 10  (15)\n",
    "\n",
    "    \n",
    "main()  # 1"
   ]
  },
  {
   "cell_type": "code",
   "execution_count": 4,
   "id": "3563456e",
   "metadata": {},
   "outputs": [
    {
     "name": "stdout",
     "output_type": "stream",
     "text": [
      "Enter a number : 7\n",
      "7\n"
     ]
    }
   ],
   "source": [
    "# Quiz\n",
    "\n",
    "# Define a subprogram that will ask the user to enter a number and save it as the variable \n",
    "# 'num' . Define another subprogram that will use 'num' and count from 1 to that number.\n",
    "\n",
    "def sub():\n",
    "  num = int(input('Enter a number : '))\n",
    "  sub2(num)\n",
    "\n",
    "def sub2(num):\n",
    "  cnt=0\n",
    "  for i in range(1,num+1):\n",
    "    cnt+=1\n",
    "  sub3(cnt)\n",
    "\n",
    "def sub3(cnt):\n",
    "  print(cnt)\n",
    "\n",
    "sub()\n",
    "\n"
   ]
  },
  {
   "cell_type": "code",
   "execution_count": 5,
   "id": "58182924",
   "metadata": {},
   "outputs": [
    {
     "name": "stdout",
     "output_type": "stream",
     "text": [
      "Enter the bottom of the range : 10\n",
      "Enter the top of the range : 50\n",
      "I am thinking of a number...\n",
      "WHat am I thinking of : 30\n",
      "too high, try again20\n",
      "too low, try again25\n",
      "too high, try again22\n",
      "too low, try again23\n",
      "too low, try again24\n",
      "Correct, you win\n"
     ]
    }
   ],
   "source": [
    "# Define a subprogram  that will ask the user to  pick a low and a high  number, \n",
    "# and then  generate a random  number between those  two values and store it in  \n",
    "# a variable called  “comp_num”.  \n",
    "\n",
    "# Define another  subprogram that will  give the instruction \n",
    "# “I am  thinking of a number…”  and then ask the user to  guess the number \n",
    "# they  are thinking of.  \n",
    "\n",
    "# Define a third  subprogram that will  check to see \n",
    "# if the  comp_num is the same  as the user’s guess. If it  is, \n",
    "# it should display the  message “Correct, you  win”, \n",
    "# otherwise it should  keep looping, telling the  user if they are too low or  too high \n",
    "# and asking them  to guess again until they  guess correctly. \n",
    "\n",
    "# Condition : 4 subprograms \n",
    "\n",
    "import random\n",
    "\n",
    "def pick_num():\n",
    "  low = int(input('Enter the bottom of the range : '))\n",
    "  high = int(input('Enter the top of the range : '))\n",
    "  comp_num = random.randint(low, high)\n",
    "  return comp_num\n",
    "\n",
    "def first_guess():\n",
    "  print('I am thinking of a number...')\n",
    "  guess = int(input('WHat am I thinking of : '))\n",
    "  return guess\n",
    "\n",
    "def check_answer(comp_num, guess):\n",
    "  try_again = True\n",
    "  while try_again == True:\n",
    "    if comp_num == guess:\n",
    "      print('Correct, you win')\n",
    "      try_again = False\n",
    "    elif comp_num > guess:\n",
    "      guess = int(input('too low, try again'))\n",
    "    else:\n",
    "      guess = int(input('too high, try again'))\n",
    "def main():\n",
    "  comp_num = pick_num()\n",
    "  guess = first_guess()\n",
    "  check_answer(comp_num, guess)\n",
    "  \n",
    "main()"
   ]
  },
  {
   "cell_type": "code",
   "execution_count": null,
   "id": "b1006e16",
   "metadata": {},
   "outputs": [],
   "source": []
  }
 ],
 "metadata": {
  "kernelspec": {
   "display_name": "Python 3 (ipykernel)",
   "language": "python",
   "name": "python3"
  },
  "language_info": {
   "codemirror_mode": {
    "name": "ipython",
    "version": 3
   },
   "file_extension": ".py",
   "mimetype": "text/x-python",
   "name": "python",
   "nbconvert_exporter": "python",
   "pygments_lexer": "ipython3",
   "version": "3.9.7"
  }
 },
 "nbformat": 4,
 "nbformat_minor": 5
}
