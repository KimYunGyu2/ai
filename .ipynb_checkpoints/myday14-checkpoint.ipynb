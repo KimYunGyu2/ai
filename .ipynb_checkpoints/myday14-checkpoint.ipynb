{
 "cells": [
  {
   "cell_type": "code",
   "execution_count": 3,
   "id": "46688338",
   "metadata": {},
   "outputs": [
    {
     "name": "stdout",
     "output_type": "stream",
     "text": [
      "cherry\n",
      "2\n"
     ]
    }
   ],
   "source": [
    "# Tuple, List and Dict\n",
    "\n",
    "# There are several ways that collections of data canbe stored as a single item.\n",
    "# There of the simpler ones are:\n",
    "# 1. Tuple\n",
    "# 2. List\n",
    "# 3. Dict\n",
    "# (4). Set\n",
    "\n",
    "# Tuple : Once a tuple is defined you cannot change what is stored in it(immutable)\n",
    "# ()\n",
    "# List : The contents of a list canbe changed while the program is running and lists\n",
    "#        are one of the most common ways to store a collection of data in Python\n",
    "#        (mutable)\n",
    "#[]\n",
    "# Dict : can also be changed while the program is running. mutable\n",
    "#        Each value is given an index or key you can define to help identify each piece of data\n",
    "#{}\n",
    "fruit_tuple = ('apple','banana','cherry','orange')\n",
    "print(fruit_tuple[2])\n",
    "print(fruit_tuple.index('cherry'))"
   ]
  },
  {
   "cell_type": "code",
   "execution_count": 11,
   "id": "d9f7c796",
   "metadata": {},
   "outputs": [
    {
     "data": {
      "text/plain": [
       "['John', 'Sam']"
      ]
     },
     "execution_count": 11,
     "metadata": {},
     "output_type": "execute_result"
    }
   ],
   "source": [
    "names_list = ['John','Tim','Sam']\n",
    "del names_list[1]\n",
    "names_list"
   ]
  },
  {
   "cell_type": "code",
   "execution_count": 12,
   "id": "0ed12129",
   "metadata": {},
   "outputs": [
    {
     "name": "stdout",
     "output_type": "stream",
     "text": [
      "Add a name : Austin\n"
     ]
    },
    {
     "data": {
      "text/plain": [
       "['John', 'Sam', 'Austin']"
      ]
     },
     "execution_count": 12,
     "metadata": {},
     "output_type": "execute_result"
    }
   ],
   "source": [
    "names_list.append(input('Add a name : '))\n",
    "names_list"
   ]
  },
  {
   "cell_type": "code",
   "execution_count": 8,
   "id": "3eabd8bf",
   "metadata": {},
   "outputs": [],
   "source": [
    "names_list.sort()\n",
    "# Sorts[list] into alphabetical order and saves the list in the new order"
   ]
  },
  {
   "cell_type": "code",
   "execution_count": 9,
   "id": "1c4d0b44",
   "metadata": {},
   "outputs": [
    {
     "data": {
      "text/plain": [
       "['John', 'Rick', 'Sam']"
      ]
     },
     "execution_count": 9,
     "metadata": {},
     "output_type": "execute_result"
    }
   ],
   "source": [
    "names_list"
   ]
  },
  {
   "cell_type": "code",
   "execution_count": 13,
   "id": "341b76b7",
   "metadata": {},
   "outputs": [
    {
     "name": "stdout",
     "output_type": "stream",
     "text": [
      "['Austin', 'John', 'Sam']\n",
      "['John', 'Sam', 'Austin']\n"
     ]
    }
   ],
   "source": [
    "names_list = ['John', 'Sam', 'Austin']\n",
    "print(sorted(names_list))\n",
    "print(names_list)\n",
    "\n",
    "# Display names_list in alphabetical order but does not change the order of the\n",
    "# original list."
   ]
  },
  {
   "cell_type": "code",
   "execution_count": 14,
   "id": "2a188402",
   "metadata": {},
   "outputs": [
    {
     "name": "stdout",
     "output_type": "stream",
     "text": [
      "blue\n"
     ]
    }
   ],
   "source": [
    "color = {1:'red',2:'blue',3:'green'}\n",
    "\n",
    "# Creates a dict called 'color', where each item is assigned an index of your choosing\n",
    "\n",
    "print(color[2])"
   ]
  },
  {
   "cell_type": "code",
   "execution_count": 21,
   "id": "48400cd9",
   "metadata": {},
   "outputs": [
    {
     "name": "stdout",
     "output_type": "stream",
     "text": [
      "country num : Korea\n",
      "1\n"
     ]
    }
   ],
   "source": [
    "# Quiz 1\n",
    "# Create a tuple containing the names of five countries and display the whole tuple\n",
    "# Ask the user to enter on of the countries that have been shown to them and then\n",
    "# display the index number(position in the tuple), (NO CHINA)\n",
    "\n",
    "countries = ('Russia', 'Korea', 'Japan', 'England', 'Italy')\n",
    "def country():\n",
    "    name = input('Please enter one of the countries form above : ')\n",
    "    return print(countries.index(name))\n",
    "\n",
    "country()"
   ]
  },
  {
   "cell_type": "code",
   "execution_count": 25,
   "id": "61c83d60",
   "metadata": {},
   "outputs": [
    {
     "name": "stdout",
     "output_type": "stream",
     "text": [
      "('Korea', 'USA', 'UK', 'Japan', 'France')\n",
      "Please enter one of the countries form above : France\n",
      "France has index number 4\n"
     ]
    }
   ],
   "source": [
    "country = ('Korea','USA','UK','Japan','France')\n",
    "\n",
    "print(country)\n",
    "\n",
    "name = input('Please enter one of the countries form above : ')\n",
    "\n",
    "print(f'{name} has index number {country.index(name)}')"
   ]
  },
  {
   "cell_type": "code",
   "execution_count": 27,
   "id": "ac64c1c2",
   "metadata": {},
   "outputs": [
    {
     "name": "stdout",
     "output_type": "stream",
     "text": [
      "Pleas enter a number of index : 1\n",
      "1 is index of USA\n"
     ]
    }
   ],
   "source": [
    "# Add to program above, to ask the user to enter a number and display \n",
    "# the country in that position.\n",
    "\n",
    "num = int(input('Pleas enter a number of index : '))\n",
    "print(f'{num} is index of',country[num])"
   ]
  },
  {
   "cell_type": "code",
   "execution_count": 28,
   "id": "93eba6ad",
   "metadata": {},
   "outputs": [
    {
     "name": "stdout",
     "output_type": "stream",
     "text": [
      "What is your favorite sport? baseball\n",
      "['TKD', 'baseball', 'soccer']\n"
     ]
    }
   ],
   "source": [
    "# Create a list of two sports. Ask the user what their favourite sport is \n",
    "# and add this to the end of the list. Sort the list and display it.\n",
    "\n",
    "spo = ['TKD', 'soccer']\n",
    "\n",
    "spo.append(input('What is your favorite sport? '))\n",
    "spo.sort()\n",
    "print(spo)"
   ]
  },
  {
   "cell_type": "code",
   "execution_count": 29,
   "id": "2b2719b8",
   "metadata": {},
   "outputs": [
    {
     "name": "stdout",
     "output_type": "stream",
     "text": [
      "Enter a food you like : chicken\n",
      "Enter a food you like : ramen\n",
      "Enter a food you like : pizza\n",
      "Enter a food you like : maratang\n",
      "{1: 'chicken', 2: 'ramen', 3: 'pizza', 4: 'maratang'}\n",
      "which of these do you want to get rid of? 2\n",
      "['chicken', 'maratang', 'pizza']\n"
     ]
    }
   ],
   "source": [
    "# Ask the user to enter four of their favorite foods and store them \n",
    "# in a dict so that they are indexed with number starting from 1.\n",
    "# Display the dict in full, showing the index number and the item.\n",
    "# Ask them which they want to get rid of and remove it from the list\n",
    "# Sort the remaining data(values) and display.\n",
    "\n",
    "food_dict = {}\n",
    "food1 = input('Enter a food you like : ')\n",
    "food_dict[1] = food1\n",
    "food2 = input('Enter a food you like : ')\n",
    "food_dict[2] = food2\n",
    "food3 = input('Enter a food you like : ')\n",
    "food_dict[3] = food3\n",
    "food4 = input('Enter a food you like : ')\n",
    "food_dict[4] = food4\n",
    "\n",
    "print(food_dict)\n",
    "dislike = int(input('which of these do you want to get rid of? '))\n",
    "del food_dict[dislike]\n",
    "print(sorted(food_dict.values()))"
   ]
  },
  {
   "cell_type": "code",
   "execution_count": null,
   "id": "819aec76",
   "metadata": {},
   "outputs": [],
   "source": []
  }
 ],
 "metadata": {
  "kernelspec": {
   "display_name": "Python 3 (ipykernel)",
   "language": "python",
   "name": "python3"
  },
  "language_info": {
   "codemirror_mode": {
    "name": "ipython",
    "version": 3
   },
   "file_extension": ".py",
   "mimetype": "text/x-python",
   "name": "python",
   "nbconvert_exporter": "python",
   "pygments_lexer": "ipython3",
   "version": "3.9.7"
  }
 },
 "nbformat": 4,
 "nbformat_minor": 5
}
