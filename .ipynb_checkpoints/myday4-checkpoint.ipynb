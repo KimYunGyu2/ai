{
 "cells": [
  {
   "cell_type": "code",
   "execution_count": 2,
   "id": "52fa7ea9",
   "metadata": {
    "scrolled": true
   },
   "outputs": [
    {
     "name": "stdout",
     "output_type": "stream",
     "text": [
      "hello\n"
     ]
    }
   ],
   "source": [
    "print('hello')"
   ]
  },
  {
   "cell_type": "code",
   "execution_count": 1,
   "id": "6b20cc21",
   "metadata": {},
   "outputs": [
    {
     "name": "stdout",
     "output_type": "stream",
     "text": [
      "True\n"
     ]
    }
   ],
   "source": [
    "# 조건문 \n",
    "# bool & if\n",
    "print(True)"
   ]
  },
  {
   "cell_type": "code",
   "execution_count": 5,
   "id": "f36958cb",
   "metadata": {},
   "outputs": [
    {
     "name": "stdout",
     "output_type": "stream",
     "text": [
      "False\n",
      "True\n",
      "True\n",
      "False\n",
      "False\n"
     ]
    }
   ],
   "source": [
    "print(10 == 100)\n",
    "print(10 != 100)\n",
    "print(10<100)\n",
    "print(10>100)\n",
    "print(10>=100)"
   ]
  },
  {
   "cell_type": "code",
   "execution_count": 11,
   "id": "a6536d7a",
   "metadata": {},
   "outputs": [
    {
     "name": "stdout",
     "output_type": "stream",
     "text": [
      "True\n",
      "False\n",
      "True\n",
      "False\n",
      "True\n"
     ]
    }
   ],
   "source": [
    "print(\"가방\"==\"가방\")\n",
    "print(\"가방\"==\"백\")\n",
    "print(\"가방\"!=\"백\")\n",
    "print(\"가방\">\"백\") # 한글은 사전 순서(가나다 순)\n",
    "print(\"가방\"<\"백\")"
   ]
  },
  {
   "cell_type": "code",
   "execution_count": 12,
   "id": "3d083d82",
   "metadata": {},
   "outputs": [
    {
     "name": "stdout",
     "output_type": "stream",
     "text": [
      "정수를 입력 하세요 >> 1\n",
      "양수입니다.\n"
     ]
    }
   ],
   "source": [
    "# if 조건문....\n",
    "# 조건에 따라 특정 코드를 실행하거나 특정 코드를 실행하지 않게 만들고 싶을때 사용\n",
    "# 코드의 실행 흐름을 변경시키는 것을 조건 분기 라고 부른다.\n",
    "\n",
    "num = int(input('정수를 입력 하세요 >> '))\n",
    "\n",
    "if num > 0:\n",
    "    print('양수입니다.')\n",
    "\n",
    "if num < 0:\n",
    "    print('음수입니다.')\n",
    "\n",
    "if num == 0:\n",
    "    print('0입니다.')"
   ]
  },
  {
   "cell_type": "code",
   "execution_count": 16,
   "id": "38869d3f",
   "metadata": {},
   "outputs": [
    {
     "name": "stdout",
     "output_type": "stream",
     "text": [
      "2022-01-28 14:33:39.594684\n",
      "2022 년\n",
      "1 월\n",
      "28\n",
      "14\n",
      "33\n",
      "39\n"
     ]
    }
   ],
   "source": [
    "# 날짜/시간과 관련된 기능을 가져온다.\n",
    "\n",
    "import datetime\n",
    "\n",
    "# 현재의 날짜와 시간을 구하는 함수\n",
    "now = datetime.datetime.now()\n",
    "\n",
    "print(now)\n",
    "print(now.year,'년')\n",
    "print(now.month,'월')\n",
    "print(now.day)\n",
    "print(now.hour)\n",
    "print(now.minute)\n",
    "print(now.second)\n"
   ]
  },
  {
   "cell_type": "code",
   "execution_count": 20,
   "id": "9e54b46c",
   "metadata": {},
   "outputs": [
    {
     "name": "stdout",
     "output_type": "stream",
     "text": [
      "현재 시각은 14시 40분 오후입니다\n"
     ]
    }
   ],
   "source": [
    "# 현재 시각은 14시로 오후입니다.\n",
    "\n",
    "import datetime\n",
    "\n",
    "now = datetime.datetime.now()\n",
    "\n",
    "if now.hour < 12:\n",
    "    \n",
    "  print(f'현재 시각은 {now.hour}시 {now.minute}분 오전입니다')\n",
    "\n",
    "if now.hour >= 12:\n",
    "  print(f'현재 시각은 {now.hour}시 {now.minute}분 오후입니다')"
   ]
  },
  {
   "cell_type": "code",
   "execution_count": 22,
   "id": "a58a07af",
   "metadata": {},
   "outputs": [
    {
     "name": "stdout",
     "output_type": "stream",
     "text": [
      "이번 달은 1월로 겨울입니다.\n"
     ]
    }
   ],
   "source": [
    "# 12,1,2 겨울 3,4,5 봄 6,7,8 여름 9,10,11 가을\n",
    "# 이번 달은 1월로 겨울입니다.\n",
    "# if만 사용하세요\n",
    "\n",
    "import datetime\n",
    "\n",
    "now = datetime.datetime.now()\n",
    "season = ''\n",
    "\n",
    "if 3 <= now.month <= 5:\n",
    "    season = '봄'\n",
    "if 6 <= now.month <= 8:\n",
    "    season = '여름'\n",
    "if 9 <= now.month <= 11:\n",
    "    season = '가을'\n",
    "if now.month == 12 or 1 <= now.month <=2:\n",
    "    season = '겨울'\n",
    "\n",
    "print(f'이번 달은 {now.month}월로 {season}입니다.')"
   ]
  },
  {
   "cell_type": "code",
   "execution_count": null,
   "id": "be8057e6",
   "metadata": {},
   "outputs": [],
   "source": []
  }
 ],
 "metadata": {
  "kernelspec": {
   "display_name": "Python 3 (ipykernel)",
   "language": "python",
   "name": "python3"
  },
  "language_info": {
   "codemirror_mode": {
    "name": "ipython",
    "version": 3
   },
   "file_extension": ".py",
   "mimetype": "text/x-python",
   "name": "python",
   "nbconvert_exporter": "python",
   "pygments_lexer": "ipython3",
   "version": "3.9.7"
  }
 },
 "nbformat": 4,
 "nbformat_minor": 5
}
