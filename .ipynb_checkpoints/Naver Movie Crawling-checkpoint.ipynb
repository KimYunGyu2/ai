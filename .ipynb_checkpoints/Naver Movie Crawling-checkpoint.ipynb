{
 "cells": [
  {
   "cell_type": "code",
   "execution_count": 1,
   "id": "dd27a1bf",
   "metadata": {},
   "outputs": [],
   "source": [
    "# 네이버 영화 순휘\n",
    "\n",
    "import requests  # 웹상에서 인터넷 연결\n",
    "from bs4 import BeautifulSoup as bs  # 데이터 정제\n",
    "import pandas as pd   # 데이터 분석"
   ]
  },
  {
   "cell_type": "code",
   "execution_count": 2,
   "id": "69399abf",
   "metadata": {},
   "outputs": [],
   "source": [
    "html = requests.get('https://movie.naver.com/movie/sdb/rank/rmovie.naver?sel=cur&date=20220217')\n",
    "soup = bs(html.text)"
   ]
  },
  {
   "cell_type": "code",
   "execution_count": 3,
   "id": "cd12c22f",
   "metadata": {},
   "outputs": [
    {
     "data": {
      "text/plain": [
       "34"
      ]
     },
     "execution_count": 3,
     "metadata": {},
     "output_type": "execute_result"
    }
   ],
   "source": [
    "len(soup.select('tr'))"
   ]
  },
  {
   "cell_type": "code",
   "execution_count": 4,
   "id": "b15b4e8b",
   "metadata": {},
   "outputs": [
    {
     "data": {
      "text/plain": [
       "27"
      ]
     },
     "execution_count": 4,
     "metadata": {},
     "output_type": "execute_result"
    }
   ],
   "source": [
    "len(soup.select('td.title'))"
   ]
  },
  {
   "cell_type": "code",
   "execution_count": 5,
   "id": "a19e8b5e",
   "metadata": {},
   "outputs": [],
   "source": [
    "movies = soup.select('td.title')"
   ]
  },
  {
   "cell_type": "code",
   "execution_count": 6,
   "id": "7cbec7ec",
   "metadata": {},
   "outputs": [
    {
     "data": {
      "text/plain": [
       "<td class=\"title\">\n",
       "<div class=\"tit5\">\n",
       "<a href=\"/movie/bi/mi/basic.naver?code=151196\" title=\"원더\">원더</a>\n",
       "</div>\n",
       "</td>"
      ]
     },
     "execution_count": 6,
     "metadata": {},
     "output_type": "execute_result"
    }
   ],
   "source": [
    "movies[0]"
   ]
  },
  {
   "cell_type": "code",
   "execution_count": 7,
   "id": "8b635f8c",
   "metadata": {},
   "outputs": [
    {
     "data": {
      "text/plain": [
       "'원더'"
      ]
     },
     "execution_count": 7,
     "metadata": {},
     "output_type": "execute_result"
    }
   ],
   "source": [
    "movies[0].text.strip()"
   ]
  },
  {
   "cell_type": "code",
   "execution_count": 8,
   "id": "9f66669c",
   "metadata": {},
   "outputs": [],
   "source": [
    "points = soup.select('td.point')"
   ]
  },
  {
   "cell_type": "code",
   "execution_count": 10,
   "id": "a49a89ed",
   "metadata": {},
   "outputs": [
    {
     "data": {
      "text/plain": [
       "<td class=\"point\">9.53</td>"
      ]
     },
     "execution_count": 10,
     "metadata": {},
     "output_type": "execute_result"
    }
   ],
   "source": [
    "points[0]"
   ]
  },
  {
   "cell_type": "code",
   "execution_count": 11,
   "id": "a02d594d",
   "metadata": {},
   "outputs": [
    {
     "data": {
      "text/plain": [
       "'9.53'"
      ]
     },
     "execution_count": 11,
     "metadata": {},
     "output_type": "execute_result"
    }
   ],
   "source": [
    "points[0].text"
   ]
  },
  {
   "cell_type": "code",
   "execution_count": 14,
   "id": "d743bfb6",
   "metadata": {},
   "outputs": [
    {
     "data": {
      "text/plain": [
       "[[1, '원더', '9.53'],\n",
       " [2, '씽2게더', '9.42'],\n",
       " [3, '타오르는 여인의 초상', '9.04'],\n",
       " [4, '스파이더맨: 노 웨이 홈', '8.87'],\n",
       " [5, '마미', '8.68'],\n",
       " [6, '귀향', '8.68'],\n",
       " [7, '라라랜드', '8.62'],\n",
       " [8, '캐롤', '8.61'],\n",
       " [9, '드라이브 마이 카', '8.56'],\n",
       " [10, '나쁜 교육', '8.46'],\n",
       " [11, '그녀에게', '8.46'],\n",
       " [12, '어나더 라운드', '8.26'],\n",
       " [13, '언차티드', '7.99'],\n",
       " [14, '프렌치 디스패치', '7.99'],\n",
       " [15, '킹스맨: 퍼스트 에이전트', '7.98'],\n",
       " [16, '듄', '7.97'],\n",
       " [17, '하우스 오브 구찌', '7.92'],\n",
       " [18, '나일 강의 죽음', '7.87'],\n",
       " [19, '특송', '7.79'],\n",
       " [20, '킹메이커', '7.50'],\n",
       " [21, '단지 세상의 끝', '7.49'],\n",
       " [22, '경관의 피', '7.34'],\n",
       " [23, '해리 포터와 불사조 기사단', '7.03'],\n",
       " [24, '나의 촛불', '6.59'],\n",
       " [25, '웨스트 사이드 스토리', '6.58'],\n",
       " [26, '355', '6.43'],\n",
       " [27, '해적: 도깨비 깃발', '6.22']]"
      ]
     },
     "execution_count": 14,
     "metadata": {},
     "output_type": "execute_result"
    }
   ],
   "source": [
    "movielist = []\n",
    "rank  = 1\n",
    "\n",
    "movies = soup.select('td.title')\n",
    "points = soup.select('td.point')\n",
    "\n",
    "for each in range(len(soup.select('td.title'))):\n",
    "    title = movies[each].text.strip()\n",
    "    point = points[each].text.strip()\n",
    "    movielist.append([rank,title,point])\n",
    "    rank += 1\n",
    "\n",
    "movielist\n",
    "    "
   ]
  },
  {
   "cell_type": "code",
   "execution_count": 13,
   "id": "76c383f9",
   "metadata": {},
   "outputs": [
    {
     "data": {
      "text/html": [
       "<div>\n",
       "<style scoped>\n",
       "    .dataframe tbody tr th:only-of-type {\n",
       "        vertical-align: middle;\n",
       "    }\n",
       "\n",
       "    .dataframe tbody tr th {\n",
       "        vertical-align: top;\n",
       "    }\n",
       "\n",
       "    .dataframe thead th {\n",
       "        text-align: right;\n",
       "    }\n",
       "</style>\n",
       "<table border=\"1\" class=\"dataframe\">\n",
       "  <thead>\n",
       "    <tr style=\"text-align: right;\">\n",
       "      <th></th>\n",
       "      <th>순위</th>\n",
       "      <th>제목</th>\n",
       "      <th>평점</th>\n",
       "    </tr>\n",
       "  </thead>\n",
       "  <tbody>\n",
       "    <tr>\n",
       "      <th>0</th>\n",
       "      <td>1</td>\n",
       "      <td>원더</td>\n",
       "      <td>9.53</td>\n",
       "    </tr>\n",
       "    <tr>\n",
       "      <th>1</th>\n",
       "      <td>2</td>\n",
       "      <td>씽2게더</td>\n",
       "      <td>9.42</td>\n",
       "    </tr>\n",
       "    <tr>\n",
       "      <th>2</th>\n",
       "      <td>3</td>\n",
       "      <td>타오르는 여인의 초상</td>\n",
       "      <td>9.04</td>\n",
       "    </tr>\n",
       "    <tr>\n",
       "      <th>3</th>\n",
       "      <td>4</td>\n",
       "      <td>스파이더맨: 노 웨이 홈</td>\n",
       "      <td>8.87</td>\n",
       "    </tr>\n",
       "    <tr>\n",
       "      <th>4</th>\n",
       "      <td>5</td>\n",
       "      <td>마미</td>\n",
       "      <td>8.68</td>\n",
       "    </tr>\n",
       "    <tr>\n",
       "      <th>5</th>\n",
       "      <td>6</td>\n",
       "      <td>귀향</td>\n",
       "      <td>8.68</td>\n",
       "    </tr>\n",
       "    <tr>\n",
       "      <th>6</th>\n",
       "      <td>7</td>\n",
       "      <td>라라랜드</td>\n",
       "      <td>8.62</td>\n",
       "    </tr>\n",
       "    <tr>\n",
       "      <th>7</th>\n",
       "      <td>8</td>\n",
       "      <td>캐롤</td>\n",
       "      <td>8.61</td>\n",
       "    </tr>\n",
       "    <tr>\n",
       "      <th>8</th>\n",
       "      <td>9</td>\n",
       "      <td>드라이브 마이 카</td>\n",
       "      <td>8.56</td>\n",
       "    </tr>\n",
       "    <tr>\n",
       "      <th>9</th>\n",
       "      <td>10</td>\n",
       "      <td>나쁜 교육</td>\n",
       "      <td>8.46</td>\n",
       "    </tr>\n",
       "    <tr>\n",
       "      <th>10</th>\n",
       "      <td>11</td>\n",
       "      <td>그녀에게</td>\n",
       "      <td>8.46</td>\n",
       "    </tr>\n",
       "    <tr>\n",
       "      <th>11</th>\n",
       "      <td>12</td>\n",
       "      <td>어나더 라운드</td>\n",
       "      <td>8.26</td>\n",
       "    </tr>\n",
       "    <tr>\n",
       "      <th>12</th>\n",
       "      <td>13</td>\n",
       "      <td>언차티드</td>\n",
       "      <td>7.99</td>\n",
       "    </tr>\n",
       "    <tr>\n",
       "      <th>13</th>\n",
       "      <td>14</td>\n",
       "      <td>프렌치 디스패치</td>\n",
       "      <td>7.99</td>\n",
       "    </tr>\n",
       "    <tr>\n",
       "      <th>14</th>\n",
       "      <td>15</td>\n",
       "      <td>킹스맨: 퍼스트 에이전트</td>\n",
       "      <td>7.98</td>\n",
       "    </tr>\n",
       "    <tr>\n",
       "      <th>15</th>\n",
       "      <td>16</td>\n",
       "      <td>듄</td>\n",
       "      <td>7.97</td>\n",
       "    </tr>\n",
       "    <tr>\n",
       "      <th>16</th>\n",
       "      <td>17</td>\n",
       "      <td>하우스 오브 구찌</td>\n",
       "      <td>7.92</td>\n",
       "    </tr>\n",
       "    <tr>\n",
       "      <th>17</th>\n",
       "      <td>18</td>\n",
       "      <td>나일 강의 죽음</td>\n",
       "      <td>7.87</td>\n",
       "    </tr>\n",
       "    <tr>\n",
       "      <th>18</th>\n",
       "      <td>19</td>\n",
       "      <td>특송</td>\n",
       "      <td>7.79</td>\n",
       "    </tr>\n",
       "    <tr>\n",
       "      <th>19</th>\n",
       "      <td>20</td>\n",
       "      <td>킹메이커</td>\n",
       "      <td>7.50</td>\n",
       "    </tr>\n",
       "    <tr>\n",
       "      <th>20</th>\n",
       "      <td>21</td>\n",
       "      <td>단지 세상의 끝</td>\n",
       "      <td>7.49</td>\n",
       "    </tr>\n",
       "    <tr>\n",
       "      <th>21</th>\n",
       "      <td>22</td>\n",
       "      <td>경관의 피</td>\n",
       "      <td>7.34</td>\n",
       "    </tr>\n",
       "    <tr>\n",
       "      <th>22</th>\n",
       "      <td>23</td>\n",
       "      <td>해리 포터와 불사조 기사단</td>\n",
       "      <td>7.03</td>\n",
       "    </tr>\n",
       "    <tr>\n",
       "      <th>23</th>\n",
       "      <td>24</td>\n",
       "      <td>나의 촛불</td>\n",
       "      <td>6.59</td>\n",
       "    </tr>\n",
       "    <tr>\n",
       "      <th>24</th>\n",
       "      <td>25</td>\n",
       "      <td>웨스트 사이드 스토리</td>\n",
       "      <td>6.58</td>\n",
       "    </tr>\n",
       "    <tr>\n",
       "      <th>25</th>\n",
       "      <td>26</td>\n",
       "      <td>355</td>\n",
       "      <td>6.43</td>\n",
       "    </tr>\n",
       "    <tr>\n",
       "      <th>26</th>\n",
       "      <td>27</td>\n",
       "      <td>해적: 도깨비 깃발</td>\n",
       "      <td>6.22</td>\n",
       "    </tr>\n",
       "  </tbody>\n",
       "</table>\n",
       "</div>"
      ],
      "text/plain": [
       "    순위              제목    평점\n",
       "0    1              원더  9.53\n",
       "1    2            씽2게더  9.42\n",
       "2    3     타오르는 여인의 초상  9.04\n",
       "3    4   스파이더맨: 노 웨이 홈  8.87\n",
       "4    5              마미  8.68\n",
       "5    6              귀향  8.68\n",
       "6    7            라라랜드  8.62\n",
       "7    8              캐롤  8.61\n",
       "8    9       드라이브 마이 카  8.56\n",
       "9   10           나쁜 교육  8.46\n",
       "10  11            그녀에게  8.46\n",
       "11  12         어나더 라운드  8.26\n",
       "12  13            언차티드  7.99\n",
       "13  14        프렌치 디스패치  7.99\n",
       "14  15   킹스맨: 퍼스트 에이전트  7.98\n",
       "15  16               듄  7.97\n",
       "16  17       하우스 오브 구찌  7.92\n",
       "17  18        나일 강의 죽음  7.87\n",
       "18  19              특송  7.79\n",
       "19  20            킹메이커  7.50\n",
       "20  21        단지 세상의 끝  7.49\n",
       "21  22           경관의 피  7.34\n",
       "22  23  해리 포터와 불사조 기사단  7.03\n",
       "23  24           나의 촛불  6.59\n",
       "24  25     웨스트 사이드 스토리  6.58\n",
       "25  26             355  6.43\n",
       "26  27      해적: 도깨비 깃발  6.22"
      ]
     },
     "execution_count": 13,
     "metadata": {},
     "output_type": "execute_result"
    }
   ],
   "source": [
    "df = pd.DataFrame(movielist, columns = ['순위','제목','평점'])\n",
    "df"
   ]
  },
  {
   "cell_type": "code",
   "execution_count": 16,
   "id": "95e7a3c4",
   "metadata": {},
   "outputs": [],
   "source": [
    "df.to_excel('NaverMovie.xlsx', index=False)"
   ]
  },
  {
   "cell_type": "code",
   "execution_count": null,
   "id": "5840e08d",
   "metadata": {},
   "outputs": [],
   "source": []
  }
 ],
 "metadata": {
  "kernelspec": {
   "display_name": "Python 3 (ipykernel)",
   "language": "python",
   "name": "python3"
  },
  "language_info": {
   "codemirror_mode": {
    "name": "ipython",
    "version": 3
   },
   "file_extension": ".py",
   "mimetype": "text/x-python",
   "name": "python",
   "nbconvert_exporter": "python",
   "pygments_lexer": "ipython3",
   "version": "3.9.7"
  }
 },
 "nbformat": 4,
 "nbformat_minor": 5
}
