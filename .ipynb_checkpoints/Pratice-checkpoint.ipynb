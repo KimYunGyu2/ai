{
 "cells": [
  {
   "cell_type": "code",
   "execution_count": 21,
   "id": "0834d6b4",
   "metadata": {},
   "outputs": [
    {
     "name": "stdout",
     "output_type": "stream",
     "text": [
      "1\t2\t짝\t4\t5\t짝\t7\t8\t짝\t10\n",
      "11\t12\t짝\t14\t15\t짝\t17\t18\t짝\t20\n",
      "21\t22\t짝\t24\t25\t짝\t27\t28\t짝\t짝\n",
      "짝\t짝\t짝짝\t짝\t짝\t짝짝\t짝\t짝\t짝짝\t40\n",
      "41\t42\t짝\t44\t45\t짝\t47\t48\t짝\t50\n",
      "51\t52\t짝\t54\t55\t짝\t57\t58\t짝\t짝\n",
      "짝\t짝\t짝짝\t짝\t짝\t짝짝\t짝\t짝\t짝짝\t70\n",
      "71\t72\t짝\t74\t75\t짝\t77\t78\t짝\t80\n",
      "81\t82\t짝\t84\t85\t짝\t87\t88\t짝\t짝\n",
      "짝\t짝\t짝짝\t짝\t짝\t짝짝\t짝\t짝\t짝짝\t100\n"
     ]
    }
   ],
   "source": [
    "# 369게임\n",
    "\n",
    "for i in range(1,101):\n",
    "    j = str(i)\n",
    "    if i < 10:\n",
    "        if j[0] in ('3,6,9'):\n",
    "            print('짝', end = '\\t')\n",
    "        else:\n",
    "            if i % 10 == 0:\n",
    "                print(i)\n",
    "            else :\n",
    "                print(i, end = '\\t')\n",
    "    if i >= 10:\n",
    "        if j[0] in ('3,6,9') and j[1] in ('3,6,9') and i % 10 != 0:\n",
    "            print('짝짝',end = '\\t')\n",
    "        elif j[0] in ('3,6,9') and j[1] in ('3,6,9') and i % 10 == 0:\n",
    "            print('짝짝')\n",
    "        elif j[0] in ('3,6,9') and not j[1] in ('3,6,9') and i % 10 != 0:\n",
    "            print('짝',end = '\\t')\n",
    "        elif j[0] in ('3,6,9') and not j[1] in ('3,6,9') and i % 10 == 0:\n",
    "            print('짝')\n",
    "        elif j[0] not in ('3,6,9') and j[1] in ('3,6,9') and i % 10 != 0:\n",
    "            print('짝',end = '\\t')\n",
    "        elif j[0] not in ('3,6,9') and j[1] in ('3,6,9') and i % 10 == 0:\n",
    "            print('짝')\n",
    "        else:\n",
    "            if i % 10 == 0:\n",
    "                print(i)\n",
    "            else :\n",
    "                print(i, end = '\\t')\n",
    "\n",
    "    "
   ]
  },
  {
   "cell_type": "code",
   "execution_count": null,
   "id": "7192f0ff",
   "metadata": {},
   "outputs": [],
   "source": []
  }
 ],
 "metadata": {
  "kernelspec": {
   "display_name": "Python 3 (ipykernel)",
   "language": "python",
   "name": "python3"
  },
  "language_info": {
   "codemirror_mode": {
    "name": "ipython",
    "version": 3
   },
   "file_extension": ".py",
   "mimetype": "text/x-python",
   "name": "python",
   "nbconvert_exporter": "python",
   "pygments_lexer": "ipython3",
   "version": "3.9.7"
  }
 },
 "nbformat": 4,
 "nbformat_minor": 5
}
