{
 "cells": [
  {
   "cell_type": "code",
   "execution_count": null,
   "id": "4d5356f9",
   "metadata": {},
   "outputs": [],
   "source": [
    "# 예외 처리(에러 처리, 오류 처리, 버그 처리...)\n",
    "\n",
    "# 프로그램 실행 전에 발생하는 오류 - 구문 오류 syntax error\n",
    "# 프로그램 실행 중에 발생하는 오류 - 런타임 오류 runtime error, 예외 exception\n",
    "\n",
    "print(\"# 예외를 강제로 발생)\n",
    "# EOL End of Line 실행 조차 되지 않는 오류"
   ]
  },
  {
   "cell_type": "code",
   "execution_count": null,
   "id": "d49b71e1",
   "metadata": {},
   "outputs": [],
   "source": [
    "print('프로그램이 시작되었습니다.')\n",
    "list[0]"
   ]
  },
  {
   "cell_type": "code",
   "execution_count": 2,
   "id": "c8f95215",
   "metadata": {},
   "outputs": [
    {
     "name": "stdout",
     "output_type": "stream",
     "text": [
      "정수 입력 >4\n",
      "원의 반지름 : 4\n",
      "원의 둘레 : 25.12\n",
      "원의 넓이 : 50.24\n"
     ]
    }
   ],
   "source": [
    "num_input = int(input('정수 입력 >'))\n",
    "\n",
    "print('원의 반지름 :', num_input)\n",
    "print('원의 둘레 :', 2 * 3.14 * num_input)\n",
    "print('원의 넓이 :', 3.14 * num_input * num_input)"
   ]
  },
  {
   "cell_type": "code",
   "execution_count": 4,
   "id": "2f0390ac",
   "metadata": {},
   "outputs": [
    {
     "name": "stdout",
     "output_type": "stream",
     "text": [
      "정수 입력 >12\n",
      "원의 반지름 : 12\n",
      "원의 둘레 : 75.36\n",
      "원의 넓이 : 452.15999999999997\n"
     ]
    }
   ],
   "source": [
    "# if로 예외 처리하기\n",
    "num_input = input('정수 입력 >')\n",
    "\n",
    "if num_input.isdigit():\n",
    "    \n",
    "    num_a = int(num_input)\n",
    "    \n",
    "    print('원의 반지름 :', num_a)\n",
    "    print('원의 둘레 :', 2 * 3.14 * num_a)\n",
    "    print('원의 넓이 :', 3.14 * num_a * num_a)\n",
    "    \n",
    "else:\n",
    "    print('정수를 입력하세요')"
   ]
  },
  {
   "cell_type": "code",
   "execution_count": 6,
   "id": "1941adda",
   "metadata": {},
   "outputs": [
    {
     "name": "stdout",
     "output_type": "stream",
     "text": [
      "정수 입력 >12\n",
      "원의 반지름 : 12\n",
      "원의 둘레 : 75.36\n",
      "원의 넓이 : 452.15999999999997\n"
     ]
    }
   ],
   "source": [
    "# try except 구문\n",
    "\n",
    "try:\n",
    "    num_input = input('정수 입력 >')\n",
    "\n",
    "    num_a = int(num_input)\n",
    "\n",
    "    print('원의 반지름 :', num_a)\n",
    "    print('원의 둘레 :', 2 * 3.14 * num_a)\n",
    "    print('원의 넓이 :', 3.14 * num_a * num_a)\n",
    "\n",
    "except:\n",
    "    print('정수를 입력하세요')"
   ]
  },
  {
   "cell_type": "code",
   "execution_count": 9,
   "id": "f0218347",
   "metadata": {},
   "outputs": [
    {
     "name": "stdout",
     "output_type": "stream",
     "text": [
      "['523', '273', '32', '103']\n"
     ]
    }
   ],
   "source": [
    "# 숫자만 추출하는 프로그램\n",
    "\n",
    "list_all = ['523','273','32','스파이','103']\n",
    "\n",
    "list_num = []\n",
    "\n",
    "for i in list_all:\n",
    "    try:\n",
    "        float(i)\n",
    "        list_num.append(i)\n",
    "    except:\n",
    "        pass\n",
    "    \n",
    "print(list_num)\n",
    "        "
   ]
  },
  {
   "cell_type": "code",
   "execution_count": 10,
   "id": "648524b9",
   "metadata": {},
   "outputs": [
    {
     "name": "stdout",
     "output_type": "stream",
     "text": [
      "존재하지 않는 인덱스 번호입니다.\n"
     ]
    }
   ],
   "source": [
    "list = ['523','273','32','스파이','103']\n",
    "try:\n",
    "    print(list[5])\n",
    "except:\n",
    "    print('존재하지 않는 인덱스 번호입니다.')"
   ]
  },
  {
   "cell_type": "code",
   "execution_count": null,
   "id": "47ee1a14",
   "metadata": {},
   "outputs": [],
   "source": []
  }
 ],
 "metadata": {
  "kernelspec": {
   "display_name": "Python 3 (ipykernel)",
   "language": "python",
   "name": "python3"
  },
  "language_info": {
   "codemirror_mode": {
    "name": "ipython",
    "version": 3
   },
   "file_extension": ".py",
   "mimetype": "text/x-python",
   "name": "python",
   "nbconvert_exporter": "python",
   "pygments_lexer": "ipython3",
   "version": "3.9.7"
  }
 },
 "nbformat": 4,
 "nbformat_minor": 5
}
