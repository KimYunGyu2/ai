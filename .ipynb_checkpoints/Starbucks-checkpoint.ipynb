{
 "cells": [
  {
   "cell_type": "code",
   "execution_count": 1,
   "id": "f2948820",
   "metadata": {},
   "outputs": [],
   "source": [
    "from selenium import webdriver       # 파이썬으로 브라우저 컨트롤 모듈\n",
    "from bs4 import BeautifulSoup as bs # 크롤링한 데이터 정제\n",
    "import pandas as pd                  # 데이터 분석 모듈"
   ]
  },
  {
   "cell_type": "code",
   "execution_count": 16,
   "id": "6f7f37aa",
   "metadata": {},
   "outputs": [
    {
     "name": "stderr",
     "output_type": "stream",
     "text": [
      "C:\\Users\\kyg83\\AppData\\Local\\Temp/ipykernel_12092/2198966681.py:1: DeprecationWarning: executable_path has been deprecated, please pass in a Service object\n",
      "  driver = webdriver.Chrome('chromedriver.exe')\n"
     ]
    }
   ],
   "source": [
    "driver = webdriver.Chrome('chromedriver.exe')\n",
    "driver.get('https://www.starbucks.co.kr/store/store_map.do')"
   ]
  },
  {
   "cell_type": "code",
   "execution_count": 17,
   "id": "15cb1804",
   "metadata": {},
   "outputs": [
    {
     "name": "stderr",
     "output_type": "stream",
     "text": [
      "C:\\Users\\kyg83\\AppData\\Local\\Temp/ipykernel_12092/2162603177.py:2: DeprecationWarning: find_element_by_* commands are deprecated. Please use find_element() instead\n",
      "  driver.find_element_by_css_selector(area_btn).click()\n"
     ]
    }
   ],
   "source": [
    "area_btn = '#container > div > form > fieldset > div > section > article.find_store_cont > article > header.loca_search > h3 > a'\n",
    "driver.find_element_by_css_selector(area_btn).click()"
   ]
  },
  {
   "cell_type": "code",
   "execution_count": 18,
   "id": "bad2c954",
   "metadata": {},
   "outputs": [
    {
     "name": "stderr",
     "output_type": "stream",
     "text": [
      "C:\\Users\\kyg83\\AppData\\Local\\Temp/ipykernel_12092/3501212899.py:2: DeprecationWarning: find_element_by_* commands are deprecated. Please use find_element() instead\n",
      "  driver.find_element_by_css_selector(seoul_btn).click()\n"
     ]
    }
   ],
   "source": [
    "seoul_btn = '#container > div > form > fieldset > div > section > article.find_store_cont > article > article:nth-child(4) > div.loca_step1 > div.loca_step1_cont > ul > li:nth-child(1) > a'\n",
    "driver.find_element_by_css_selector(seoul_btn).click()"
   ]
  },
  {
   "cell_type": "code",
   "execution_count": 19,
   "id": "6f3a7aca",
   "metadata": {},
   "outputs": [
    {
     "name": "stderr",
     "output_type": "stream",
     "text": [
      "C:\\Users\\kyg83\\AppData\\Local\\Temp/ipykernel_12092/2684697461.py:2: DeprecationWarning: find_element_by_* commands are deprecated. Please use find_element() instead\n",
      "  driver.find_element_by_css_selector(all_btn).click()\n"
     ]
    }
   ],
   "source": [
    "all_btn = '#mCSB_2_container > ul > li:nth-child(1) > a'\n",
    "driver.find_element_by_css_selector(all_btn).click()"
   ]
  },
  {
   "cell_type": "code",
   "execution_count": 24,
   "id": "aa3dc15f",
   "metadata": {},
   "outputs": [
    {
     "data": {
      "text/plain": [
       "<li class=\"quickResultLstCon\" data-code=\"3762\" data-hlytag=\"null\" data-index=\"0\" data-lat=\"37.501087\" data-long=\"127.043069\" data-name=\"역삼아레나빌딩\" data-storecd=\"1509\" style=\"background:#fff\"> <strong data-my_siren_order_store_yn=\"N\" data-name=\"역삼아레나빌딩\" data-store=\"1509\" data-yn=\"N\">역삼아레나빌딩  </strong> <p class=\"result_details\">서울특별시 강남구 언주로 425 (역삼동)<br/>1522-3232</p> <i class=\"pin_general\">리저브 매장 2번</i></li>"
      ]
     },
     "execution_count": 24,
     "metadata": {},
     "output_type": "execute_result"
    }
   ],
   "source": [
    "html = driver.page_source  # 전체 페이지 소스 읽어오기\n",
    "soup = bs(html)             # bs으로 데이터 정제\n",
    "\n",
    "starbucks_list = soup.select('ul.quickSearchResultBoxSidoGugun > li.quickResultLstCon')          # 서울 전체 스타벅스 목록만 읽어오기\n",
    "starbucks_list[0]"
   ]
  },
  {
   "cell_type": "code",
   "execution_count": 37,
   "id": "6ad8f6e0",
   "metadata": {},
   "outputs": [
    {
     "data": {
      "text/plain": [
       "<li class=\"quickResultLstCon\" data-code=\"3762\" data-hlytag=\"null\" data-index=\"0\" data-lat=\"37.501087\" data-long=\"127.043069\" data-name=\"역삼아레나빌딩\" data-storecd=\"1509\" style=\"background:#fff\"> <strong data-my_siren_order_store_yn=\"N\" data-name=\"역삼아레나빌딩\" data-store=\"1509\" data-yn=\"N\">역삼아레나빌딩  </strong> <p class=\"result_details\">서울특별시 강남구 언주로 425 (역삼동)<br/>1522-3232</p> <i class=\"pin_general\">리저브 매장 2번</i></li>"
      ]
     },
     "execution_count": 37,
     "metadata": {},
     "output_type": "execute_result"
    }
   ],
   "source": [
    "star = starbucks_list[0]\n",
    "star"
   ]
  },
  {
   "cell_type": "code",
   "execution_count": 61,
   "id": "4c89f758",
   "metadata": {},
   "outputs": [
    {
     "name": "stdout",
     "output_type": "stream",
     "text": [
      "역삼아레나빌딩\n",
      "37.501087\n",
      "127.043069\n",
      "서울특별시 강남구 언주로 425 (역삼동)\n",
      "1522-3232\n"
     ]
    }
   ],
   "source": [
    "# name = star['data-name']   # 지점명\n",
    "name = star.select('strong')[0].text.strip()\n",
    "lat =  star['data-lat'].strip()  # 위도\n",
    "lng = star['data-long'].strip()     # 경도\n",
    "addr = str(star.select('p')[0]).split('<br/>')[0].split('>')[1]  # 주소\n",
    "tel = str(star.select('p')[0]).split('<br/>')[1].split('<')[0]   # 전화번호\n",
    "\n",
    "\n",
    "print(name)\n",
    "print(lat)\n",
    "print(lng)\n",
    "print(addr)\n",
    "print(tel)"
   ]
  },
  {
   "cell_type": "code",
   "execution_count": 65,
   "id": "7539196f",
   "metadata": {},
   "outputs": [],
   "source": [
    "starbucks = []\n",
    "\n",
    "for st in starbucks_list:\n",
    "    name = st.select('strong')[0].text.strip()\n",
    "    lat =  st['data-lat'].strip()\n",
    "    lng = st['data-long'].strip()\n",
    "    addr = str(st.select('p')[0]).split('<br/>')[0].split('>')[1]\n",
    "    tel = str(st.select('p')[0]).split('<br/>')[1].split('<')[0]\n",
    "    starbucks.append([name, lat, lng, addr, tel])\n",
    "    \n",
    "columns = ['매장명','위도','경도','주소','전화번호']\n",
    "seoul_starbucks = pd.DataFrame(starbucks, columns = columns)\n",
    "\n",
    "seoul_starbucks.to_excel('Starbucks.xlsx', index=False)"
   ]
  },
  {
   "cell_type": "code",
   "execution_count": null,
   "id": "df712707",
   "metadata": {},
   "outputs": [],
   "source": []
  }
 ],
 "metadata": {
  "kernelspec": {
   "display_name": "Python 3 (ipykernel)",
   "language": "python",
   "name": "python3"
  },
  "language_info": {
   "codemirror_mode": {
    "name": "ipython",
    "version": 3
   },
   "file_extension": ".py",
   "mimetype": "text/x-python",
   "name": "python",
   "nbconvert_exporter": "python",
   "pygments_lexer": "ipython3",
   "version": "3.9.7"
  }
 },
 "nbformat": 4,
 "nbformat_minor": 5
}
