{
 "cells": [
  {
   "cell_type": "code",
   "execution_count": 1,
   "id": "c36dbd5c",
   "metadata": {},
   "outputs": [
    {
     "name": "stdout",
     "output_type": "stream",
     "text": [
      "First Name : Kim\n",
      "Hello Kim\n"
     ]
    }
   ],
   "source": [
    "####################################################################\n",
    "# General\n",
    "####################################################################\n",
    "# 001 Ask for the user's first name and dis;lay the output message\n",
    "# (output) Hello [first Name]\n",
    "# (input) First Name :\n",
    "\n",
    "name = input('First Name : ')\n",
    "print(f'Hello {name}')"
   ]
  },
  {
   "cell_type": "code",
   "execution_count": 3,
   "id": "ac4bddda",
   "metadata": {},
   "outputs": [
    {
     "name": "stdout",
     "output_type": "stream",
     "text": [
      "Please enter your surnmae: kim\n",
      "Please enter your firstnmae: yg\n",
      "Hello yg kim\n"
     ]
    }
   ],
   "source": [
    "# 002 Ask for the user's first name and then as for their surname and display the output message\n",
    "# (output) Hello [First Name][Surname]\n",
    "# (input)'Please enter your surnmae: '\n",
    "# (input)'Please enter your Firstnmae: '\n",
    "\n",
    "sname = input('Please enter your surnmae: ')\n",
    "fname = input('Please enter your firstnmae: ')\n",
    "\n",
    "print(f'Hello {fname} {sname}')"
   ]
  },
  {
   "cell_type": "code",
   "execution_count": 4,
   "id": "b46b4c20",
   "metadata": {},
   "outputs": [
    {
     "name": "stdout",
     "output_type": "stream",
     "text": [
      "Please enter your first number >> 3\n",
      "Please enter your second number >> 5\n",
      "The total is 8\n"
     ]
    }
   ],
   "source": [
    "# Ask the user to enter tow numbers. Add them together and display the answer as\n",
    "# (output) The total is [answer]\n",
    "# (input) 'Please enter your first number'\n",
    "# (input) 'Please enter your second number'\n",
    "\n",
    "no1 = int(input('Please enter your first number >> '))\n",
    "no2 = int(input('Please enter your second number >> '))\n",
    "\n",
    "print(f'The total is {no1+no2}')"
   ]
  },
  {
   "cell_type": "code",
   "execution_count": 5,
   "id": "c9fb60e5",
   "metadata": {},
   "outputs": [
    {
     "name": "stdout",
     "output_type": "stream",
     "text": [
      "Enter the number of slices of pizza you started with : 8\n",
      "How many slices have you eaten? 2\n",
      "The answer is 6\n"
     ]
    }
   ],
   "source": [
    "# Ask how many slices of pizza the user started with and ask how many slices they have eaten.\n",
    "# Work out how many slices they have left and display the answer in a user friendly format.\n",
    "\n",
    "# (input) 'Enter the number of slices of pizza you started with : '\n",
    "# (input) ' How many slices have you eaten? '\n",
    "# (output) ' The answer is [answer]'\n",
    "\n",
    "num1 = int(input('Enter the number of slices of pizza you started with : '))\n",
    "num2 = int(input('How many slices have you eaten? '))\n",
    "\n",
    "print(f'The answer is {num1-num2}')"
   ]
  },
  {
   "cell_type": "code",
   "execution_count": 9,
   "id": "f8a0f14b",
   "metadata": {},
   "outputs": [
    {
     "name": "stdout",
     "output_type": "stream",
     "text": [
      "Enter the number of days : 3\n",
      "In 3 days, there are...\n",
      "\t\t 72 hours,\n",
      "\t\t 4320 minutes,\n",
      "\t\t 259200 seconds\n"
     ]
    }
   ],
   "source": [
    "# Write a program that will ask for a number of days and then will show how many hours, minutes and seconds are in that number of days.\n",
    "\n",
    "# (input) 'Enter the number of days : '\n",
    "# (ouput) 'In [days], days there are ...'\n",
    "#              hours,\n",
    "#              minutes,\n",
    "#              seconds,\n",
    "\n",
    "day = int(input('Enter the number of days : '))\n",
    "print(f'In {day} days, there are...\\n\\t\\t {24*day} hours,\\n\\t\\t {60*24*day} minutes,\\n\\t\\t {60*60*24*day} seconds')"
   ]
  },
  {
   "cell_type": "code",
   "execution_count": 12,
   "id": "1c3765e0",
   "metadata": {},
   "outputs": [
    {
     "name": "stdout",
     "output_type": "stream",
     "text": [
      "Enter the number over 100 : 200\n",
      "Enber the number under 10 : 8\n",
      "8 goes into 200 answer 25 times\n"
     ]
    }
   ],
   "source": [
    "# Task the user to enter a number over 100 and then enter a number\n",
    "# under 10 and tell them how many times the smaller number goes into the larger\n",
    "# number in a user-friendly format\n",
    "\n",
    "# (input) 'Enter the number over 100 : '\n",
    "# (input) 'Enber the number under 10 : '\n",
    "#(output) '[smaller] goes into [larger] anser [times]'\n",
    "\n",
    "num1 = int(input('Enter the number over 100 : '))\n",
    "num2 = int(input('Enber the number under 10 : '))\n",
    "\n",
    "print(f'{num2} goes into {num1} answer {num1//num2} times' )"
   ]
  },
  {
   "cell_type": "code",
   "execution_count": 17,
   "id": "7b61c51f",
   "metadata": {},
   "outputs": [
    {
     "name": "stdout",
     "output_type": "stream",
     "text": [
      "Enter first number : 5\n",
      "Enter second number : 5\n",
      "두 수가 같습니다\n"
     ]
    }
   ],
   "source": [
    "####################################################################\n",
    "# If Statement\n",
    "####################################################################\n",
    "# Ask for two numbers. If the first one is larger than second, display the second number first and\n",
    "# then the first number, otherwise show the first nunber first and then the second.\n",
    "\n",
    "# (input) 'Enter first number : '\n",
    "# (input) 'Enter second number : '\n",
    "\n",
    "num1 = int(input('Enter first number : '))\n",
    "num2 = int(input('Enter second number : '))\n",
    "\n",
    "if num1 > num2:\n",
    "    print(num2, num1)\n",
    "elif num2 > num1:\n",
    "    print(num1, num2)\n",
    "else:\n",
    "    print('두 수가 같습니다')"
   ]
  },
  {
   "cell_type": "code",
   "execution_count": 22,
   "id": "1a3c1fa5",
   "metadata": {},
   "outputs": [
    {
     "name": "stdout",
     "output_type": "stream",
     "text": [
      "Enter number : 22\n",
      "Incorrect number\n"
     ]
    }
   ],
   "source": [
    "# Ask the user to enter a number between 10 and 20 if they enter a number within this range,\n",
    "# display the message 'Thank you' otherwhise display the message 'Incorrect number'\n",
    "\n",
    "num = int(input('Enter number : '))\n",
    "\n",
    "if num>=10 and num<=20:\n",
    "    print('Thank you')\n",
    "else:\n",
    "    print('Incorrect number')"
   ]
  },
  {
   "cell_type": "code",
   "execution_count": 24,
   "id": "9325408a",
   "metadata": {},
   "outputs": [
    {
     "name": "stdout",
     "output_type": "stream",
     "text": [
      "favorite color : Red\n",
      "i like red too\n"
     ]
    }
   ],
   "source": [
    "# Ask the user to enter their favorite color. If they enter 'red', 'RED' or 'Red'\n",
    "# display the message ' I like red too', otherwise display the message \n",
    "# 'I dont like [color], I prefer red'.\n",
    "\n",
    "fc = input(\"favorite color : \")\n",
    "if fc in [\"red\",\"RED\",\"Red\"]:\n",
    "  print(\"i like red too\")\n",
    "else:\n",
    "  print(f\"i dont like {fc}, I prefer red.\")"
   ]
  },
  {
   "cell_type": "code",
   "execution_count": 31,
   "id": "49c83992",
   "metadata": {},
   "outputs": [
    {
     "name": "stdout",
     "output_type": "stream",
     "text": [
      "is it raining?ewfeEfwdfwEFDS\n",
      "ewfeefwdfwefds\n"
     ]
    }
   ],
   "source": [
    "# Ask the user if it is raing and convert their answer to lower case\n",
    "# so it doesnt natter what case they type it in. If they answer 'yes',\n",
    "# ask if it is windy. If they answer 'yes' to this second question,\n",
    "# display the answer 'It is too windy for an umbrella', otherwise\n",
    "# display the message 'Take an umbrella'. If they did not answer yes to the first question,\n",
    "# display the answer 'Enjoy your day'.\n",
    "\n",
    "# (input) Is it raining ?\n",
    "# (input) Is it windy ?\n",
    "\n",
    "# (output) 'It is too windy for an umbrella'\n",
    "# (output) 'Take an umbrella'\n",
    "# (output) 'Enjoy your day'.\n",
    "\n",
    "first_q = (input('is it raining?')).lower()\n",
    "\n",
    "if first_q == 'yes':\n",
    "    second_q = (input('is it windy?')).lower()\n",
    "    if second_q == 'yes':\n",
    "        print('It is too windy for an umbrella')\n",
    "    else:\n",
    "        print('Take an umbrella')   \n",
    "else:\n",
    "    print('Enjoy your day')\n",
    "\n",
    "\n"
   ]
  },
  {
   "cell_type": "code",
   "execution_count": 34,
   "id": "b5e85ae1",
   "metadata": {},
   "outputs": [
    {
     "name": "stdout",
     "output_type": "stream",
     "text": [
      "What is your age : 18\n",
      "You can vote\n"
     ]
    }
   ],
   "source": [
    "# Ask the user's age. If they are 18 or over, display the message 'You can vote',\n",
    "# if they are aged 17, display the message 'You can learn to drive', \n",
    "# if they are 16, display the message 'You can by a lottery ticket', \n",
    "# if they are under 16, display the message 'You can go Trick or Treating'\n",
    "\n",
    "# (input) What is your age ?\n",
    "\n",
    "# (output) 'You can vote',\n",
    "              # 'You can learn to drive',\n",
    "              # 'You can by a lottery ticket', \n",
    "              # 'You can go Trick or Treating'\n",
    "\n",
    "age = int(input('What is your age : '))\n",
    "\n",
    "if age >= 18 :\n",
    "    print('You can vote')\n",
    "elif age == 17 :\n",
    "    print('You can learn to drive')\n",
    "elif age == 16 :\n",
    "    print('You can buy a lottery ticket')\n",
    "else:\n",
    "    print('You can go Trick or Treating')"
   ]
  },
  {
   "cell_type": "code",
   "execution_count": 35,
   "id": "63abbf5a",
   "metadata": {},
   "outputs": [
    {
     "name": "stdout",
     "output_type": "stream",
     "text": [
      "name ?kim\n",
      "3\n"
     ]
    }
   ],
   "source": [
    "###################################\n",
    "# String\n",
    "###################################\n",
    "\n",
    "# Ask the user to enter their name and then display the length of their name !\n",
    "\n",
    "name = input(\"name ?\")\n",
    "print(len(name))"
   ]
  },
  {
   "cell_type": "code",
   "execution_count": 37,
   "id": "d9400251",
   "metadata": {},
   "outputs": [
    {
     "name": "stdout",
     "output_type": "stream",
     "text": [
      "Enter your first name in lowercase : kim\n",
      "Enter your last name in lowercase : yungyu\n",
      "Kim Yungyu\n"
     ]
    }
   ],
   "source": [
    "# Ask the user to enter their first name and lastname in lower case.\n",
    "# Change the case to title case and join them together.\n",
    "# Display the finished result.\n",
    "\n",
    "fname = input('Enter your first name in lowercase : ')\n",
    "lname = input('Enter your last name in lowercase : ')\n",
    "\n",
    "fname = fname.title()\n",
    "lname = lname.title()\n",
    "\n",
    "name = fname + \" \" + lname\n",
    "print(name)"
   ]
  },
  {
   "cell_type": "code",
   "execution_count": 38,
   "id": "cd5047dc",
   "metadata": {},
   "outputs": [
    {
     "name": "stdout",
     "output_type": "stream",
     "text": [
      "Enter your name  kim yungyu\n",
      "Kim Yungyu\n"
     ]
    }
   ],
   "source": [
    "# 이용욱\n",
    "\n",
    "fn,surn = input('Enter your name  ').split()\n",
    "\n",
    "fn.capitalize()\n",
    "surn.capitalize()\n",
    "\n",
    "print(fn.capitalize(),surn.capitalize())"
   ]
  },
  {
   "cell_type": "code",
   "execution_count": 39,
   "id": "0a34fcbe",
   "metadata": {},
   "outputs": [
    {
     "name": "stdout",
     "output_type": "stream",
     "text": [
      " enter first name in lower case : kim yungyu\n",
      " enter lastname in lower case : yungyu\n",
      "Kim yungyYungy\n"
     ]
    }
   ],
   "source": [
    "f = input(\" enter first name in lower case : \")\n",
    "s = input(\" enter lastname in lower case : \")\n",
    "\n",
    "f = f[0].upper()+f[1:-1]\n",
    "s = s[0].upper()+s[1:-1]\n",
    "\n",
    "print(f\"{f} {s}\")"
   ]
  },
  {
   "cell_type": "code",
   "execution_count": null,
   "id": "c6910e93",
   "metadata": {},
   "outputs": [],
   "source": [
    "# title 과 capitalize 비교 차이 검색해보기\n"
   ]
  },
  {
   "cell_type": "code",
   "execution_count": 41,
   "id": "509a0c14",
   "metadata": {},
   "outputs": [
    {
     "name": "stdout",
     "output_type": "stream",
     "text": [
      "What is your first name : austin\n",
      "austin\n"
     ]
    }
   ],
   "source": [
    "# Ask the user to enter their first name . If the length of their first name is under five characters,\n",
    "# ask them to enter their last name and join them together (without a space) and \n",
    "# display the name in upper case. If the length of the first name is five or more characters,\n",
    "# display their first name in lower case.\n",
    "\n",
    "fname = input('What is your first name : ')\n",
    "\n",
    "if len(fname) < 5:\n",
    "    lname = input('what is your last name : ')\n",
    "    name = fname + lname\n",
    "    print(name.upper())\n",
    "else:\n",
    "    print(fname.lower())\n"
   ]
  },
  {
   "cell_type": "code",
   "execution_count": 59,
   "id": "e87dd7ce",
   "metadata": {},
   "outputs": [
    {
     "name": "stdout",
     "output_type": "stream",
     "text": [
      "word : pIg\n",
      "igay\n"
     ]
    }
   ],
   "source": [
    "# Pig Latin takes the first character of a word\n",
    "# moves it to the end of the word and adds on an 'ay'.\n",
    "# if a word begins with a vowel you just add 'way' to end.\n",
    "\n",
    "# for example, pig becomes igpay, banana becomes ananabay, and aadvark becomes\n",
    "# aaddvarkway. Create a program that will ask the user to enter a word and change it into Pig Latin. Make sure the new word is displayed\n",
    "# in lower case.\n",
    "\n",
    "word = input('word : ')\n",
    "new_word= word.lower() \n",
    "ay = 'ay'\n",
    "way = 'way'\n",
    "if new_word[0] in ['a','e','i','o','u']:\n",
    "    print(new_word+way)\n",
    "    \n",
    "    \n",
    "else:\n",
    "    print(new_word[1:]+ay)\n",
    "    \n"
   ]
  },
  {
   "cell_type": "code",
   "execution_count": 60,
   "id": "c36120c2",
   "metadata": {},
   "outputs": [
    {
     "name": "stdout",
     "output_type": "stream",
     "text": [
      "Please enter a word : pig\n",
      "igpay\n"
     ]
    }
   ],
   "source": [
    "# Pig Latin takes the f irst character ofa word,\n",
    "# moves it to the end of the word and adds on an 'ay'.\n",
    "# If a word begins with a vowel you just add 'way' to the end.\n",
    "#                           ['a','e','i','o','u'] 모음\n",
    "\n",
    "# 피그 라틴은 단어의 첫 글자를 가져와서 단어의 끝으로 이동하고 마지막에 'ay'를 추가한다. \n",
    "# 만약 단어가 모음으로 시작하면 단어의 끝에 그냥 'way'를 붙인다. \n",
    "\n",
    "# For example, pig becomes igpay, banana becomes ananabay, and aadvark becomes\n",
    "# aadvarkway. Create a program that will ask the user to enter a word and \n",
    "# change it into Pig Latin. Make suer the new word is displayed in lower case.\n",
    "\n",
    "word = input('Please enter a word : ')\n",
    "first = word[0]\n",
    "length = len(word)\n",
    "rest = word[1:length]\n",
    "\n",
    "if first not in ['a','e','i','o','u']:  #모음 vowel\n",
    "  newword = rest + first + 'ay'\n",
    "else:\n",
    "  newword = word + 'way'\n",
    "\n",
    "print(newword.lower())"
   ]
  },
  {
   "cell_type": "code",
   "execution_count": null,
   "id": "1bfeb639",
   "metadata": {},
   "outputs": [],
   "source": []
  }
 ],
 "metadata": {
  "kernelspec": {
   "display_name": "Python 3 (ipykernel)",
   "language": "python",
   "name": "python3"
  },
  "language_info": {
   "codemirror_mode": {
    "name": "ipython",
    "version": 3
   },
   "file_extension": ".py",
   "mimetype": "text/x-python",
   "name": "python",
   "nbconvert_exporter": "python",
   "pygments_lexer": "ipython3",
   "version": "3.9.7"
  }
 },
 "nbformat": 4,
 "nbformat_minor": 5
}
