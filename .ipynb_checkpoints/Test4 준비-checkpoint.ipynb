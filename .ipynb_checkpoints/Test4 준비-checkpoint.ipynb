{
 "cells": [
  {
   "cell_type": "code",
   "execution_count": 4,
   "id": "e88e906c",
   "metadata": {},
   "outputs": [
    {
     "name": "stdout",
     "output_type": "stream",
     "text": [
      "Input : **Docoding123456789everday##\n",
      "output : Docodingeverday\n",
      "\t123456789\n",
      "\t**##\n"
     ]
    }
   ],
   "source": [
    "words = input('Input : ')\n",
    "w_list=[]\n",
    "n_list=[]\n",
    "s_list=[]\n",
    "for i in words:\n",
    "    if 65 <= ord(i) <= 90 or 97 <= ord(i) <= 122:\n",
    "        w_list.append(i)\n",
    "    elif 48 <= ord(i) <= 57:\n",
    "        n_list.append(i)\n",
    "    else:\n",
    "        s_list.append(i)\n",
    "        \n",
    "word =\"\"\n",
    "number =\"\"\n",
    "symbol =\"\"\n",
    "\n",
    "for i in w_list:\n",
    "    word += i\n",
    "for i in n_list:\n",
    "    number += i\n",
    "for i in s_list:\n",
    "    symbol += i\n",
    "    \n",
    "print(\"output : \" + word)\n",
    "print('\\t'+number)\n",
    "print('\\t'+symbol)\n",
    "        "
   ]
  },
  {
   "cell_type": "code",
   "execution_count": 5,
   "id": "401a4c2b",
   "metadata": {},
   "outputs": [
    {
     "name": "stdout",
     "output_type": "stream",
     "text": [
      "Input : **Docoding123456789everday##\n",
      "output :Docodingeverday\n",
      "\t123456789\n",
      "\t**##"
     ]
    }
   ],
   "source": [
    "def word(list):\n",
    "    word =\"\"\n",
    "    for i in list:\n",
    "        word += i\n",
    "    return word\n",
    "\n",
    "def num(list):\n",
    "    num =\"\"\n",
    "    for i in list:\n",
    "        num += i\n",
    "    return num\n",
    "\n",
    "def sym(list):\n",
    "    sym =\"\"\n",
    "    for i in list:\n",
    "        sym += i\n",
    "    return sym\n",
    "\n",
    "def main():\n",
    "    words = input('Input : ')\n",
    "    w_list=[]\n",
    "    n_list=[]\n",
    "    s_list=[]\n",
    "    \n",
    "    for i in words:\n",
    "        if 65 <= ord(i) <= 90 or 97 <= ord(i) <= 122:\n",
    "            w_list.append(i)\n",
    "\n",
    "        elif 48 <= ord(i) <= 57:\n",
    "            n_list.append(i)\n",
    "            \n",
    "        else:\n",
    "            s_list.append(i)\n",
    "    \n",
    "    \n",
    "    w = word(w_list)\n",
    "    n = num(n_list)\n",
    "    s = sym(s_list)\n",
    "    print('output :',end=''+w+'\\n\\t'+n+'\\n\\t'+s)\n",
    "\n",
    "\n",
    "\n",
    "main()"
   ]
  },
  {
   "cell_type": "code",
   "execution_count": 44,
   "id": "670cdc90",
   "metadata": {},
   "outputs": [
    {
     "name": "stdout",
     "output_type": "stream",
     "text": [
      "Input : arr[] = : 86046427\n",
      "87664420\n"
     ]
    }
   ],
   "source": [
    "num = input('Input : arr[] = : ')\n",
    "n_num = []\n",
    "for i in num:\n",
    "    n_num.append(int(i))\n",
    "       \n",
    "for i in range(0,len(n_num)):\n",
    "    for j in range(i+1, len(n_num)):\n",
    "        if n_num[i] < n_num[j]:\n",
    "            n_num[i], n_num[j] = n_num[j], n_num[i]\n",
    "\n",
    "largest = \"\"\n",
    "for i in n_num:\n",
    "    largest += str(i)\n",
    "\n",
    "print(largest)\n",
    "            \n"
   ]
  },
  {
   "cell_type": "code",
   "execution_count": 48,
   "id": "7ba51690",
   "metadata": {},
   "outputs": [
    {
     "name": "stdout",
     "output_type": "stream",
     "text": [
      "Input : arr[] = : 86046427\n",
      "2446678\n"
     ]
    }
   ],
   "source": [
    "num = input('Input : arr[] = : ')\n",
    "n_num = []\n",
    "for i in num:\n",
    "    n_num.append(int(i))\n",
    "       \n",
    "for i in range(0,len(n_num)):\n",
    "    for j in range(i+1, len(n_num)):\n",
    "        if n_num[i] > n_num[j]:\n",
    "            n_num[i], n_num[j] = n_num[j], n_num[i]\n",
    "\n",
    "smallest = \"\"\n",
    "for i in n_num:\n",
    "    if i != 0:\n",
    "        smallest += str(i)\n",
    "\n",
    "print(smallest)"
   ]
  },
  {
   "cell_type": "code",
   "execution_count": 3,
   "id": "95c50e4b",
   "metadata": {},
   "outputs": [
    {
     "name": "stdout",
     "output_type": "stream",
     "text": [
      "Input : arr[] = : 86046427\n",
      "Output : 87664420\n"
     ]
    }
   ],
   "source": [
    "def lar(list):\n",
    "    largest = \"\"\n",
    "    for i in list:\n",
    "        largest += str(i)\n",
    "    return largest\n",
    "\n",
    "def arr(list):\n",
    "    for i in range(0,len(list)):\n",
    "        for j in range(i+1, len(list)):\n",
    "            if list[i] < list[j]:\n",
    "                list[i], list[j] = list[j], list[i]\n",
    "    return list\n",
    "\n",
    "def main():\n",
    "    num = input('Input : arr[] = : ')\n",
    "    n_num = []\n",
    "    for i in num:\n",
    "        n_num.append(int(i))\n",
    "    list = arr(n_num)\n",
    "    largest = lar(list)\n",
    "    print(f'Output : {largest}')\n",
    "\n",
    "main()"
   ]
  },
  {
   "cell_type": "code",
   "execution_count": 10,
   "id": "c9dcd3fb",
   "metadata": {},
   "outputs": [
    {
     "name": "stdout",
     "output_type": "stream",
     "text": [
      "Input : arr[] = : 86046427\n",
      "Output : 2446678\n"
     ]
    }
   ],
   "source": [
    "def small(list):\n",
    "    smallest = \"\"\n",
    "    for i in list:\n",
    "        if i != 0:\n",
    "            smallest += str(i)\n",
    "    return smallest\n",
    "\n",
    "def arr(list):\n",
    "    for i in range(0,len(list)):\n",
    "        for j in range(i+1, len(list)):\n",
    "            if list[i] > list[j]:\n",
    "                list[i], list[j] = list[j], list[i]\n",
    "    return list\n",
    "\n",
    "def main():\n",
    "    num = input('Input : arr[] = : ')\n",
    "    n_num = []\n",
    "    for i in num:\n",
    "        n_num.append(int(i))\n",
    "    list = arr(n_num)\n",
    "    smallest = small(list)\n",
    "    print(f'Output : {smallest}')\n",
    "\n",
    "main()"
   ]
  },
  {
   "cell_type": "code",
   "execution_count": 16,
   "id": "77f6951e",
   "metadata": {},
   "outputs": [
    {
     "name": "stdout",
     "output_type": "stream",
     "text": [
      "py_solution().is_valid_parenthese : ())\n",
      "Sample Output : False\n"
     ]
    }
   ],
   "source": [
    "brackets = input('py_solution().is_valid_parenthese : ')\n",
    "if brackets.count('(') == brackets.count(')'):\n",
    "    result = 'True'\n",
    "else:\n",
    "    result = 'False'\n",
    "    \n",
    "print(f'Sample Output : {result}')"
   ]
  },
  {
   "cell_type": "code",
   "execution_count": 17,
   "id": "c3d810e4",
   "metadata": {},
   "outputs": [
    {
     "name": "stdout",
     "output_type": "stream",
     "text": [
      "py_solution().is_valid_parenthese : (())\n",
      "Sample Output : True\n"
     ]
    }
   ],
   "source": [
    "def valid():\n",
    "    brackets = input('py_solution().is_valid_parenthese : ')\n",
    "    if brackets.count('(') == brackets.count(')'):\n",
    "        result = 'True'\n",
    "    else:\n",
    "        result = 'False'\n",
    "\n",
    "    print(f'Sample Output : {result}')\n",
    "valid()"
   ]
  },
  {
   "cell_type": "code",
   "execution_count": 18,
   "id": "d3fe8104",
   "metadata": {},
   "outputs": [
    {
     "name": "stdout",
     "output_type": "stream",
     "text": [
      "['a1', 'b1', 'a2', 'b2', 'a3', 'b3', 'a4', 'b4', 'a5', 'b5']\n"
     ]
    }
   ],
   "source": [
    "given_list = ['a1', 'a2', 'a3', 'a4', 'a5', 'b1', 'b2', 'b3', 'b4', 'b5']\n",
    "ans_list =[]\n",
    "for i in range(int((len(given_list)+2)/2)) :\n",
    "    for k in given_list :\n",
    "        if str(i) in k :\n",
    "            ans_list.append(k)\n",
    "print(ans_list)"
   ]
  },
  {
   "cell_type": "code",
   "execution_count": 28,
   "id": "2e5bd423",
   "metadata": {},
   "outputs": [
    {
     "name": "stdout",
     "output_type": "stream",
     "text": [
      "['a1', 'b1', 'a2', 'b2', 'a3', 'b3', 'a4', 'b4', 'a5', 'b5']\n"
     ]
    }
   ],
   "source": [
    "list = [\"a1\",\"a2\",\"a3\",\"a4\",\"a5\",\"b1\",\"b2\",\"b3\",\"b4\",\"b5\"]\n",
    "new_list = []\n",
    "index = list.index(\"b1\")\n",
    "\n",
    "for i in range(index):\n",
    "    new_list.append(amazon[i])\n",
    "    new_list.append(amazon[index+i])\n",
    "\n",
    "print(new_list)\n",
    "    "
   ]
  },
  {
   "cell_type": "code",
   "execution_count": null,
   "id": "48980431",
   "metadata": {},
   "outputs": [],
   "source": [
    "def grpsrt(lst):\n",
    "    q1 = []\n",
    "    q2 = []\n",
    "    result = []\n",
    "    for i in range(len(lst)):\n",
    "        if i < len(lst)/2:\n",
    "            q1.append(lst[i])\n",
    "        else:\n",
    "            q2.append(lst[i])\n",
    "    for j in range(len(q1)):\n",
    "        result.append(q1[j])\n",
    "        result.append(q2[j])\n",
    "\n",
    "    print result\n",
    "\n",
    "a = ['a1','a2','a3','a4','a5','a6','b1','b2','b3','b4','b5','b6']\n",
    "grpsrt(a)"
   ]
  }
 ],
 "metadata": {
  "kernelspec": {
   "display_name": "Python 3 (ipykernel)",
   "language": "python",
   "name": "python3"
  },
  "language_info": {
   "codemirror_mode": {
    "name": "ipython",
    "version": 3
   },
   "file_extension": ".py",
   "mimetype": "text/x-python",
   "name": "python",
   "nbconvert_exporter": "python",
   "pygments_lexer": "ipython3",
   "version": "3.9.7"
  }
 },
 "nbformat": 4,
 "nbformat_minor": 5
}
