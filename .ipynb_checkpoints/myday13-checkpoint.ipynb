{
 "cells": [
  {
   "cell_type": "code",
   "execution_count": 9,
   "id": "fb6fb476",
   "metadata": {},
   "outputs": [
    {
     "name": "stdout",
     "output_type": "stream",
     "text": [
      "enter a number : 5\n",
      "The last number you entered was a 5\n"
     ]
    }
   ],
   "source": [
    "# Ask the user to enter a number. Keep asking until they enter a value over 5\n",
    "# and then display the message \"The last number you entered was a [number]\"\n",
    "# and stop the program\n",
    "\n",
    "no = 0\n",
    "while no < 5:\n",
    "    no = int(input('enter a number : '))\n",
    "    \n",
    "print(f'The last number you entered was a {no}')"
   ]
  },
  {
   "cell_type": "code",
   "execution_count": 19,
   "id": "a65a967c",
   "metadata": {},
   "outputs": [
    {
     "name": "stdout",
     "output_type": "stream",
     "text": [
      "Enter a number : 2\n",
      "Enter a number : 3\n",
      "Do you want to add another number? (y/n)y\n",
      "Enter a number : 2\n",
      "Do you want to add another number? (y/n)y\n",
      "Enter a number : 3\n",
      "Do you want to add another number? (y/n)n\n",
      "The total is  10\n"
     ]
    }
   ],
   "source": [
    "# Ask the user to enter a number and then enter another number.\n",
    "# Add there two numbers together and then \n",
    "# ask  if they want to add another number. If they enter 'y', ask them to enter \n",
    "# another numbers until they do not answer 'y'. Once the loop has stopped,\n",
    "# display the total.\n",
    "\n",
    "a = int(input('Enter a number : '))\n",
    "\n",
    "again = 'y'\n",
    "while again == 'y':\n",
    "  b = int(input('Enter a number : '))\n",
    "  a = a + b\n",
    "  again = input('Do you want to add another number? (y/n)')\n",
    "\n",
    "print('The total is ', a)\n",
    "    \n"
   ]
  },
  {
   "cell_type": "code",
   "execution_count": 28,
   "id": "7aa7407d",
   "metadata": {},
   "outputs": [
    {
     "name": "stdout",
     "output_type": "stream",
     "text": [
      "Enter a name of somebody you want to invite to the party? : a\n",
      "a  has been invited\n",
      "Do you want to invite somebody else? (y/n)y\n",
      "Enter a name of somebody you want to invite to the party? : b\n",
      "b  has been invited\n",
      "Do you want to invite somebody else? (y/n)y\n",
      "Enter a name of somebody you want to invite to the party? : c\n",
      "c  has been invited\n",
      "Do you want to invite somebody else? (y/n)n\n",
      "You have 3 people coming to your party\n"
     ]
    }
   ],
   "source": [
    "# Ask for the name of somebody the user wants to invite to a party.\n",
    "# After this, display the message '[name] has now been invited' \n",
    "# and add 1 to the count. Then ask if they want to invite somebody else.\n",
    "# Keep repeating this until they no longer want to invite anyone else to the\n",
    "# party and then display how many people they have coming to the party.\n",
    "\n",
    "again = 'y'\n",
    "count = 0\n",
    "\n",
    "while again == 'y':\n",
    "    name = input('Enter a name of somebody you want to invite to the party? : ')\n",
    "    print(name, ' has been invited')\n",
    "    count += 1\n",
    "    again = input('Do you want to invite somebody else? (y/n)')\n",
    "    \n",
    "print('You have' ,count, 'people coming to your party')"
   ]
  },
  {
   "cell_type": "code",
   "execution_count": 3,
   "id": "5f16888e",
   "metadata": {},
   "outputs": [
    {
     "name": "stdout",
     "output_type": "stream",
     "text": [
      "Can u guess the number I am thinking of ?40\n",
      "Too low\n",
      "another guess : 30\n",
      "Too low\n",
      "another guess : 55\n",
      "Too high\n",
      "another guess : 51\n",
      "Too high\n",
      "another guess : 50\n",
      "Well done, you took  5 attempts\n"
     ]
    }
   ],
   "source": [
    "# Create a variable called 'compnum' and set the value to 50. \n",
    "# Ask the user to enter a number. \n",
    "# while their guess is not the same as the compnum value,\n",
    "# tell them if their guess is too low or too high and ask them to have another guess.\n",
    "# If they enter the same value as compnum, \n",
    "# display the message 'Well done, you took [count] apptmpts'.\n",
    "\n",
    "compnum = 50\n",
    "\n",
    "num = int(input('Can u guess the number I am thinking of ?'))\n",
    "count = 1\n",
    "while compnum != num:\n",
    "  if num < compnum:\n",
    "    print('Too low')\n",
    "  else:\n",
    "    print('Too high')\n",
    "  count += 1\n",
    "  num = int(input('another guess : '))\n",
    "\n",
    "print('Well done, you took ',count, 'attempts')"
   ]
  },
  {
   "cell_type": "code",
   "execution_count": 5,
   "id": "1cecec4b",
   "metadata": {},
   "outputs": [
    {
     "name": "stdout",
     "output_type": "stream",
     "text": [
      "Can u guess the number I am thinking of ?50\n",
      "Too high\n",
      "another guess : 25\n",
      "Too high\n",
      "another guess : 12\n",
      "Too high\n",
      "another guess : 6\n",
      "Too high\n",
      "another guess : 3\n",
      "Well done, you took  5 attempts\n"
     ]
    }
   ],
   "source": [
    "import random\n",
    "\n",
    "compnum = random.randrange(1,100)\n",
    "\n",
    "num = int(input('Can u guess the number I am thinking of ?'))\n",
    "count = 1\n",
    "while compnum != num:\n",
    "  if num < compnum:\n",
    "    print('Too low')\n",
    "  else:\n",
    "    print('Too high')\n",
    "  count += 1\n",
    "  num = int(input('another guess : '))\n",
    "\n",
    "print('Well done, you took ',count, 'attempts')"
   ]
  },
  {
   "cell_type": "code",
   "execution_count": 1,
   "id": "d78e971e",
   "metadata": {},
   "outputs": [
    {
     "name": "stdout",
     "output_type": "stream",
     "text": [
      "There are 10 green bottles hanging on the wall,\n",
      "10  green bottles hanging on the wall,\n",
      "and if 1 green bottle should accidentally fall\n",
      "How many green bottles will be hanging on the wall?9\n",
      "There will be 9  green bottles hanging on the wall\n",
      "There are 9 green bottles hanging on the wall,\n",
      "9  green bottles hanging on the wall,\n",
      "and if 1 green bottle should accidentally fall\n",
      "How many green bottles will be hanging on the wall?5\n",
      "No, try again :8\n",
      "There are 8 green bottles hanging on the wall,\n",
      "8  green bottles hanging on the wall,\n",
      "and if 1 green bottle should accidentally fall\n",
      "How many green bottles will be hanging on the wall?7\n",
      "There will be 7  green bottles hanging on the wall\n",
      "There are 7 green bottles hanging on the wall,\n",
      "7  green bottles hanging on the wall,\n",
      "and if 1 green bottle should accidentally fall\n",
      "How many green bottles will be hanging on the wall?6\n",
      "There will be 6  green bottles hanging on the wall\n",
      "There are 6 green bottles hanging on the wall,\n",
      "6  green bottles hanging on the wall,\n",
      "and if 1 green bottle should accidentally fall\n",
      "How many green bottles will be hanging on the wall?5\n",
      "There will be 5  green bottles hanging on the wall\n",
      "There are 5 green bottles hanging on the wall,\n",
      "5  green bottles hanging on the wall,\n",
      "and if 1 green bottle should accidentally fall\n",
      "How many green bottles will be hanging on the wall?4\n",
      "There will be 4  green bottles hanging on the wall\n",
      "There are 4 green bottles hanging on the wall,\n",
      "4  green bottles hanging on the wall,\n",
      "and if 1 green bottle should accidentally fall\n",
      "How many green bottles will be hanging on the wall?3\n",
      "There will be 3  green bottles hanging on the wall\n",
      "There are 3 green bottles hanging on the wall,\n",
      "3  green bottles hanging on the wall,\n",
      "and if 1 green bottle should accidentally fall\n",
      "How many green bottles will be hanging on the wall?2\n",
      "There will be 2  green bottles hanging on the wall\n",
      "There are 2 green bottles hanging on the wall,\n",
      "2  green bottles hanging on the wall,\n",
      "and if 1 green bottle should accidentally fall\n",
      "How many green bottles will be hanging on the wall?1\n",
      "There will be 1  green bottles hanging on the wall\n",
      "There are 1 green bottles hanging on the wall,\n",
      "1  green bottles hanging on the wall,\n",
      "and if 1 green bottle should accidentally fall\n",
      "How many green bottles will be hanging on the wall?0\n",
      "There will be 0  green bottles hanging on the wall\n",
      "There are no more green bottles hanging on the wall\n"
     ]
    }
   ],
   "source": [
    "# Using the song '10 green bottles', display the lines \n",
    "# '10 green bottles' 라는 노래를 이용하여\n",
    "\n",
    "# 'There are [num] green bottles hanging on the wall, \n",
    "# [num] green bottles hanging on the wall, \n",
    "# and if 1 green bottle should accidentally fall'\n",
    "# 라는 가사를 출력하고\n",
    "\n",
    "# Then ask the question 'how many green bottles will be hanging on the wall?'\n",
    "# 남은 병의 갯수는 몇개니 라고 질문한다.\n",
    "# If the user answers correctly, display the message\n",
    "# 질문에 맞는 답을 하면 \n",
    "# 'There will be [num] green bottles hanging on the wall'\n",
    "# 몇개 남은 결과를 출력하고\n",
    "# If they answer incorrectly, display the message \n",
    "# 틀린 답을 입력하면 \n",
    "# 'No, try again' until they get if right. \n",
    "# 다시 시도하셔요 라고 맞힐때까지 반복한다.\n",
    "# When the number of green bottles gets down to 0,\n",
    "# 병의 개수가 0이 되면\n",
    "# display the message 'There are no more green bottles hanging on the wall'\n",
    "# 더이상 남은 병은 없습니다. 출력하고 종료한다.\n",
    "\n",
    "num = 10\n",
    "\n",
    "while num > 0 :\n",
    "  print('There are', num, 'green bottles hanging on the wall,')\n",
    "  print(num,' green bottles hanging on the wall,') \n",
    "  print('and if 1 green bottle should accidentally fall')\n",
    "  num -= 1\n",
    "  ans = int(input('How many green bottles will be hanging on the wall?'))\n",
    "  if ans == num:\n",
    "    print('There will be', num, ' green bottles hanging on the wall')\n",
    "  else: \n",
    "    while ans != num:\n",
    "      ans = int(input('No, try again :'))\n",
    "print('There are no more green bottles hanging on the wall')"
   ]
  },
  {
   "cell_type": "code",
   "execution_count": null,
   "id": "3968ba4d",
   "metadata": {},
   "outputs": [],
   "source": [
    "##########################################################\n",
    "# Random : Pyton can generate random values\n",
    "# - Random numbers within a specified range.\n",
    "# - A random choice from a range of items that are input.\n",
    "\n",
    "# To use these two options, you will need to import the random module.\n",
    "# You do this by typing import random at the start of your program."
   ]
  },
  {
   "cell_type": "code",
   "execution_count": 2,
   "id": "966deefc",
   "metadata": {},
   "outputs": [
    {
     "name": "stdout",
     "output_type": "stream",
     "text": [
      "0.15723143064734213\n"
     ]
    }
   ],
   "source": [
    "import random\n",
    "num = random.random()\n",
    "print(num)\n",
    "\n",
    "# random floating number between 0 and 1"
   ]
  },
  {
   "cell_type": "code",
   "execution_count": 5,
   "id": "7a940fdd",
   "metadata": {},
   "outputs": [
    {
     "name": "stdout",
     "output_type": "stream",
     "text": [
      "1\n"
     ]
    }
   ],
   "source": [
    "num = int(random.random() * 10)\n",
    "print(num)"
   ]
  },
  {
   "cell_type": "code",
   "execution_count": 6,
   "id": "31a7a671",
   "metadata": {},
   "outputs": [
    {
     "name": "stdout",
     "output_type": "stream",
     "text": [
      "4\n"
     ]
    }
   ],
   "source": [
    "# Selects a random whole number between 0 and9(inclusive)\n",
    "\n",
    "num = random.randint(0,9) #9(inclusive)\n",
    "print(num)"
   ]
  },
  {
   "cell_type": "code",
   "execution_count": 7,
   "id": "11c6cd26",
   "metadata": {},
   "outputs": [
    {
     "name": "stdout",
     "output_type": "stream",
     "text": [
      "30\n"
     ]
    }
   ],
   "source": [
    "# Picks a random number between the numbers 0 and 100(inclusive) in steps of five\n",
    "# it will only pick from 0,5,10,15,20....etc\n",
    "\n",
    "num = random.randrange(0, 100, 5)  # 100(inclusive)\n",
    "print(num)"
   ]
  },
  {
   "cell_type": "code",
   "execution_count": 10,
   "id": "4f40e81d",
   "metadata": {},
   "outputs": [
    {
     "name": "stdout",
     "output_type": "stream",
     "text": [
      "white\n"
     ]
    }
   ],
   "source": [
    "# Picks a random value from the options.....\n",
    "\n",
    "color = random.choice(['red','black','blue','green','white'])\n",
    "print(color)"
   ]
  },
  {
   "cell_type": "code",
   "execution_count": 13,
   "id": "b09d6510",
   "metadata": {},
   "outputs": [
    {
     "name": "stdout",
     "output_type": "stream",
     "text": [
      "select head or tail >> head\n",
      "Bad luck\n",
      "the computer selected tail\n"
     ]
    }
   ],
   "source": [
    "# Randomly choose either heads or tails ( 'h' or 't') \n",
    "# Ask the user to make their choice.\n",
    "# If their choice is the same as the randomly selected value,\n",
    "# display the message ' You Win ', otherwise display 'Bad luck'.\n",
    "# At the end, tell the user if the computer selected heads or tails.\n",
    "\n",
    "choice = random.choice(['head','tail'])\n",
    "select = input('select head or tail >> ')\n",
    "if choice == select:\n",
    "    print('You win')\n",
    "else:\n",
    "    print('Bad luck')\n",
    "\n",
    "print('the computer selected', choice)"
   ]
  },
  {
   "cell_type": "code",
   "execution_count": 14,
   "id": "9579f45c",
   "metadata": {},
   "outputs": [
    {
     "name": "stdout",
     "output_type": "stream",
     "text": [
      "6 + 2 = \n",
      "Your answer : 8\n",
      "\n",
      "3 + 4 = \n",
      "Your answer : 7\n",
      "\n",
      "4 + 8 = \n",
      "Your answer : 12\n",
      "\n",
      "6 + 5 = \n",
      "Your answer : 11\n",
      "\n",
      "5 + 1 = \n",
      "Your answer : 6\n",
      "\n",
      "You scored 5 out of 5\n"
     ]
    }
   ],
   "source": [
    "# Makes a maths quiz that asks five questions \n",
    "# by randomly generating two whole numbers to make the question\n",
    "# ( [num1 + num2] )\n",
    "# Ask the user to enter the answer. \n",
    "# If they get it right add a point to their score.\n",
    "# At the end of the quiz, tell them how many they got correct out of five.\n",
    "\n",
    "# (output) ; 'You scored [score] out of 5'\n",
    "\n",
    "import random\n",
    "\n",
    "score = 0\n",
    "\n",
    "for i in range(5):\n",
    "    num1 = random.randint(1,9)\n",
    "    num2 = random.randint(1,9)\n",
    "    \n",
    "    corr = num1 + num2\n",
    "    \n",
    "    print(f'{num1} + {num2} = ')\n",
    "    answer = int(input('Your answer : '))\n",
    "    print()\n",
    "    if answer == corr:\n",
    "        score += 1\n",
    "        \n",
    "print(f'You scored {score} out of 5')"
   ]
  },
  {
   "cell_type": "code",
   "execution_count": null,
   "id": "a934e7f4",
   "metadata": {},
   "outputs": [],
   "source": [
    "# Display five colors and ask the user to pick one.\n",
    "# If they pick the same as the program has chosen,\n",
    "# say 'Well done', otherwise display a witty answer which involves\n",
    "# the correct colors....like...'I bet you are GREEN with envy'\n",
    "# or 'You are probably feeling BLUE right now'.\n",
    "# Ask them to guess again: if they have still not got it right,\n",
    "# keep giving them the same clue and ask the user to enter a color\n",
    "# until they guess it correctly.\n",
    "\n",
    "import random\n",
    "\n",
    "color = random.choice(['red','black','blue','green','white'])\n",
    "\n",
    "choice = input('which color do you choose ? >> ')\n",
    "\n",
    "if color == choice:\n",
    "    print('Well done')\n",
    "else\n"
   ]
  }
 ],
 "metadata": {
  "kernelspec": {
   "display_name": "Python 3 (ipykernel)",
   "language": "python",
   "name": "python3"
  },
  "language_info": {
   "codemirror_mode": {
    "name": "ipython",
    "version": 3
   },
   "file_extension": ".py",
   "mimetype": "text/x-python",
   "name": "python",
   "nbconvert_exporter": "python",
   "pygments_lexer": "ipython3",
   "version": "3.9.7"
  }
 },
 "nbformat": 4,
 "nbformat_minor": 5
}
