{
 "cells": [
  {
   "cell_type": "code",
   "execution_count": 1,
   "id": "aa30c2f5",
   "metadata": {},
   "outputs": [
    {
     "name": "stdout",
     "output_type": "stream",
     "text": [
      "what program do you want to insert? sport\n",
      "where do you insert in the list? 3\n",
      "['news', 'drama', 'movie', 'sport', 'voicekorea']\n"
     ]
    }
   ],
   "source": [
    "# Create a list containing the titles of four TV programmes and display them on separate lines.\n",
    "# Ask the user to enter another show and a position they want it inserted into the list\n",
    "# Display the list again, showing all five TV programmse in their new positions.\n",
    "\n",
    "list = ['news', 'drama', 'movie', 'gayo', 'voicekorea']\n",
    "\n",
    "want = input('Enter another TV show: ')\n",
    "\n",
    "index = int(input('Enter a number between 0 and 3: '))\n",
    "\n",
    "list[index] = want\n",
    "\n",
    "print(list)"
   ]
  },
  {
   "cell_type": "code",
   "execution_count": 2,
   "id": "305c210c",
   "metadata": {},
   "outputs": [
    {
     "name": "stdout",
     "output_type": "stream",
     "text": [
      "무한도전\n",
      "9시 뉴스\n",
      "7시 뉴스\n",
      "런닝맨\n",
      "Enter another TV show : 유퀴즈\n",
      "Enter a number between 0 and 3 : 2\n",
      "무한도전\n",
      "9시 뉴스\n",
      "유퀴즈\n",
      "7시 뉴스\n",
      "런닝맨\n"
     ]
    }
   ],
   "source": [
    "tv = ['무한도전','9시 뉴스', '7시 뉴스', '런닝맨']\n",
    "\n",
    "for i in tv:\n",
    "    print(i)\n",
    "name = input('Enter another TV show : ')\n",
    "idx = int(input('Enter a number between 0 and 3 : '))\n",
    "\n",
    "tv.insert(idx, name)\n",
    "\n",
    "for i in tv:\n",
    "    print(i)"
   ]
  },
  {
   "cell_type": "code",
   "execution_count": 13,
   "id": "a6379186",
   "metadata": {},
   "outputs": [
    {
     "name": "stdout",
     "output_type": "stream",
     "text": [
      "Enter a number :4\n",
      "[4]\n",
      "Enter a number :5\n",
      "[4, 5]\n",
      "Enter a number :4\n",
      "[4, 5, 4]\n",
      "Do you want the last number        saved(y/n) : n\n",
      "[4, 5]\n"
     ]
    }
   ],
   "source": [
    "# Create an empty list called 'nums' Ask the user to enter numbers.\n",
    "# After each number is entered, add it to the end of the nums list and display the list.\n",
    "# Once they have entered three numbers, ask them if they still want the last number they entered saved.\n",
    "# If they say 'no' remove the last item from the list. Display the list of numbers.\n",
    "\n",
    "# nums라는 이름의 빈 리스트를 하나 작성한다. \n",
    "# 유저에게 숫자를 입력하라고 묻는다. \n",
    "# 숫자가 각각 입력된 후에는 nums리스트의 마지막에 추가하고 리스트를 출력한다. \n",
    "# 세 개의 숫자를 입력받으면 마지막 숫자는 저장할 것인지 묻는다. \n",
    "# 만약 no를 말하면 마지막 항목은 삭제한다. 숫자들의 목록을 출력한다. \n",
    "\n",
    "nums = []\n",
    "\n",
    "count = 0\n",
    "\n",
    "while count < 3:\n",
    "  num = int(input('Enter a number :'))\n",
    "  nums.append(num)\n",
    "  print(nums)\n",
    "  count += 1\n",
    "\n",
    "lastnum = input('Do you want the last number        saved(y/n) : ')\n",
    "if lastnum == 'n':\n",
    "  nums.pop()\n",
    " \n",
    "print(nums)"
   ]
  },
  {
   "cell_type": "code",
   "execution_count": null,
   "id": "445f37c9",
   "metadata": {},
   "outputs": [],
   "source": [
    "# More String Manipulation 다양한 문자열 처리\n",
    "\n",
    "# Here we have a vaiable called name which is assigned the value 'Simon'\n",
    "\n",
    "name = 'Simon'\n",
    "\n",
    "# 'Simon' can be thought of as a sequence of individual characters and each character in that string\n",
    "# can be identified by its index.\n",
    "\n",
    "# Note how string s start indexing form 0 and not 1\n",
    "# If the string had a space in it, the space would also be counte sas a character"
   ]
  },
  {
   "cell_type": "code",
   "execution_count": 14,
   "id": "f51506d1",
   "metadata": {},
   "outputs": [
    {
     "name": "stdout",
     "output_type": "stream",
     "text": [
      "Uppercase\n"
     ]
    }
   ],
   "source": [
    "msg = 'HELLO'\n",
    "if msg.isupper():  # islower()\n",
    "    print('Uppercase')\n",
    "else:\n",
    "    print('This is not in uppercase')"
   ]
  },
  {
   "cell_type": "code",
   "execution_count": 16,
   "id": "13cbd786",
   "metadata": {},
   "outputs": [
    {
     "name": "stdout",
     "output_type": "stream",
     "text": [
      "H*e*l*l*o*"
     ]
    }
   ],
   "source": [
    "msg = 'Hello'\n",
    "for letter in msg:\n",
    "    print(letter, end='*')"
   ]
  },
  {
   "cell_type": "code",
   "execution_count": null,
   "id": "f1056240",
   "metadata": {},
   "outputs": [],
   "source": [
    "# Ask the user to type in a word in upper case. If they type in it lower case, ask them to try again.\n",
    "# Keep repeating this until they type in a message all in uppercase.\n",
    "\n",
    "# 사용자에게 대문자로 메시지를 입력하라고 묻는다. \n",
    "# 만약 소문자가 있다면 모두 대문자로 입력할때 까지 계속해서 다시 입력하라고 요청한다. \n",
    "\n",
    "msg = input('Enter a message in uppercase : ')\n",
    "\n",
    "again = True\n",
    "while again == True:\n",
    "  if msg.isupper():\n",
    "    print('Thank you')\n",
    "    again = False\n",
    "  else:\n",
    "    print('Try again')\n",
    "    msg = input('Enter a message in uppercase : ')"
   ]
  },
  {
   "cell_type": "code",
   "execution_count": null,
   "id": "e35b6870",
   "metadata": {},
   "outputs": [],
   "source": [
    "while True:\n",
    "  msg = input('Enter a message in uppercase : ')\n",
    "  if msg.isupper():\n",
    "    print('Thank you')\n",
    "    break\n",
    "  else:\n",
    "    print('Try again')"
   ]
  },
  {
   "cell_type": "code",
   "execution_count": 18,
   "id": "eac282f1",
   "metadata": {},
   "outputs": [
    {
     "name": "stdout",
     "output_type": "stream",
     "text": [
      "type a word in upper case : fewf\n",
      "try again in upper case : Esfe\n",
      "try again in upper case : sefe\n",
      "try again in upper case : sefe\n",
      "try again in upper case : EFEFs\n",
      "try again in upper case : EFSEFS\n",
      "EFSEFS\n"
     ]
    }
   ],
   "source": [
    "word = input('type a word in upper case : ')\n",
    "\n",
    "while not word.isupper():\n",
    "    word = input('try again in upper case : ')\n",
    "    \n",
    "print(word)\n"
   ]
  },
  {
   "cell_type": "code",
   "execution_count": 27,
   "id": "bc650713",
   "metadata": {},
   "outputs": [
    {
     "name": "stdout",
     "output_type": "stream",
     "text": [
      "enter a new password : efwsefe^^\n",
      "enter it again : EfWseFe^^\n",
      "They must be in the same case\n"
     ]
    }
   ],
   "source": [
    "# Ask the user to enter a new password.\n",
    "# Ask them to enter it again. If the two passwords match,\n",
    "# display 'thank you'. If the letters are correct but in the wrong case,\n",
    "# display the message 'They must be in the same case',\n",
    "# otherwise display the message 'Incorrect'\n",
    "\n",
    "# 유저에게 새로운 비번을 입력하라고 묻고, 한번 더 입력하라고 요청한다. \n",
    "# 입력한 두 개의 비번이 일치하면 'thank you'라고 출력한다. \n",
    "# 만약 입력한 문자는 서로 일치하지만 대소문자가 틀리다면 \n",
    "# 'They must be in the same case'라고 출력한다. 문자가 일치하지 않다면\n",
    "# 'Incorrect'메시지를 출력한다.\n",
    "\n",
    "pw = input('enter a new password : ')\n",
    "rpw = input('enter it again : ')\n",
    "\n",
    "if pw == rpw:\n",
    "    print('thank you')\n",
    "elif pw.upper() == rpw.upper():\n",
    "    print('They must be in the same case')\n",
    "else:\n",
    "    print('Incoreect')"
   ]
  },
  {
   "cell_type": "code",
   "execution_count": null,
   "id": "eff298c5",
   "metadata": {},
   "outputs": [],
   "source": []
  }
 ],
 "metadata": {
  "kernelspec": {
   "display_name": "Python 3 (ipykernel)",
   "language": "python",
   "name": "python3"
  },
  "language_info": {
   "codemirror_mode": {
    "name": "ipython",
    "version": 3
   },
   "file_extension": ".py",
   "mimetype": "text/x-python",
   "name": "python",
   "nbconvert_exporter": "python",
   "pygments_lexer": "ipython3",
   "version": "3.9.7"
  }
 },
 "nbformat": 4,
 "nbformat_minor": 5
}
