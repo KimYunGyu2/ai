{
  "nbformat": 4,
  "nbformat_minor": 0,
  "metadata": {
    "colab": {
      "name": "11HW20220217김윤규08.ipynb",
      "provenance": [],
      "authorship_tag": "ABX9TyOnhsDarI8ZubX74SWmf0oj",
      "include_colab_link": true
    },
    "kernelspec": {
      "name": "python3",
      "display_name": "Python 3"
    },
    "language_info": {
      "name": "python"
    }
  },
  "cells": [
    {
      "cell_type": "markdown",
      "metadata": {
        "id": "view-in-github",
        "colab_type": "text"
      },
      "source": [
        "<a href=\"https://colab.research.google.com/github/KimYunGyu2/ai/blob/main/11HW20220217%EA%B9%80%EC%9C%A4%EA%B7%9C08.ipynb\" target=\"_parent\"><img src=\"https://colab.research.google.com/assets/colab-badge.svg\" alt=\"Open In Colab\"/></a>"
      ]
    },
    {
      "cell_type": "code",
      "execution_count": null,
      "metadata": {
        "id": "9C3TSUPke6us"
      },
      "outputs": [],
      "source": [
        "# 536\n",
        "b"
      ]
    },
    {
      "cell_type": "code",
      "source": [
        "# 537\n",
        "a"
      ],
      "metadata": {
        "id": "Vpa6u_zZfI4c"
      },
      "execution_count": null,
      "outputs": []
    },
    {
      "cell_type": "code",
      "source": [
        "# 538\n",
        "c"
      ],
      "metadata": {
        "id": "pKheRZ6SfWsM"
      },
      "execution_count": null,
      "outputs": []
    },
    {
      "cell_type": "code",
      "source": [
        "# 539\n",
        "a"
      ],
      "metadata": {
        "id": "ArUrB-yKfbzF"
      },
      "execution_count": null,
      "outputs": []
    },
    {
      "cell_type": "code",
      "source": [
        "# 540\n",
        "b"
      ],
      "metadata": {
        "id": "frFt9fBPfuiU"
      },
      "execution_count": null,
      "outputs": []
    },
    {
      "cell_type": "code",
      "source": [
        "# 541\n",
        "d"
      ],
      "metadata": {
        "id": "6cBhQBnlf0ml"
      },
      "execution_count": null,
      "outputs": []
    },
    {
      "cell_type": "code",
      "source": [
        "# 542\n",
        "c"
      ],
      "metadata": {
        "id": "hxJ1fCn4gCfk"
      },
      "execution_count": null,
      "outputs": []
    },
    {
      "cell_type": "code",
      "source": [
        "# 543\n",
        "b"
      ],
      "metadata": {
        "id": "uvnZbqvvgIBb"
      },
      "execution_count": null,
      "outputs": []
    },
    {
      "cell_type": "code",
      "source": [
        "# 544\n",
        "c"
      ],
      "metadata": {
        "id": "njmrWyxsgL1T"
      },
      "execution_count": null,
      "outputs": []
    },
    {
      "cell_type": "code",
      "source": [
        "# 545\n",
        "a"
      ],
      "metadata": {
        "id": "PRjCV6nhgYrk"
      },
      "execution_count": null,
      "outputs": []
    },
    {
      "cell_type": "code",
      "source": [
        "# 546\n",
        "b"
      ],
      "metadata": {
        "id": "N9bc7bSEgiDG"
      },
      "execution_count": null,
      "outputs": []
    },
    {
      "cell_type": "code",
      "source": [
        "# 547\n",
        "a"
      ],
      "metadata": {
        "id": "nKvZLIccgl4k"
      },
      "execution_count": null,
      "outputs": []
    },
    {
      "cell_type": "code",
      "source": [
        "# 548\n",
        "b"
      ],
      "metadata": {
        "id": "nFRwDv16gyTT"
      },
      "execution_count": null,
      "outputs": []
    },
    {
      "cell_type": "code",
      "source": [
        "# 549\n",
        "c"
      ],
      "metadata": {
        "id": "RfQi4QQKg3dT"
      },
      "execution_count": null,
      "outputs": []
    },
    {
      "cell_type": "code",
      "source": [
        "# 550\n",
        "d"
      ],
      "metadata": {
        "id": "ZxkJCB47hX3E"
      },
      "execution_count": null,
      "outputs": []
    },
    {
      "cell_type": "code",
      "source": [
        "# 551\n",
        "c"
      ],
      "metadata": {
        "id": "2wbV-TVPhkas"
      },
      "execution_count": null,
      "outputs": []
    },
    {
      "cell_type": "code",
      "source": [
        "# 552\n",
        "b"
      ],
      "metadata": {
        "id": "hSFXosxghwYE"
      },
      "execution_count": null,
      "outputs": []
    },
    {
      "cell_type": "code",
      "source": [
        "# 553\n",
        "a"
      ],
      "metadata": {
        "id": "ID6AEZzPh4rU"
      },
      "execution_count": null,
      "outputs": []
    },
    {
      "cell_type": "code",
      "source": [
        "# 554\n",
        "d"
      ],
      "metadata": {
        "id": "cED4Ke9HiMHs"
      },
      "execution_count": null,
      "outputs": []
    },
    {
      "cell_type": "code",
      "source": [
        "# 555\n",
        "c"
      ],
      "metadata": {
        "id": "Vi5SuL_jic3s"
      },
      "execution_count": null,
      "outputs": []
    },
    {
      "cell_type": "code",
      "source": [
        "str = input('아무거나입력하세요 >> ')\n",
        "al = ''\n",
        "no = ''\n",
        "for i in str:\n",
        "  if i.isdigit():\n",
        "    no = no + i\n",
        "  else:\n",
        "    al = al + i\n",
        "\n",
        "print('str : ',al)\n",
        "print('int : ',no)"
      ],
      "metadata": {
        "colab": {
          "base_uri": "https://localhost:8080/"
        },
        "id": "xQOP55Hni12c",
        "outputId": "61dfa1f1-980c-4b7b-c7b2-de8447329540"
      },
      "execution_count": 24,
      "outputs": [
        {
          "output_type": "stream",
          "name": "stdout",
          "text": [
            "아무거나입력하세요 >> c910m6ia 1ho\n",
            "str :  cmia ho\n",
            "int :  91061\n"
          ]
        }
      ]
    }
  ]
}