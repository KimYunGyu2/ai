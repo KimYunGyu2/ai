{
  "nbformat": 4,
  "nbformat_minor": 0,
  "metadata": {
    "colab": {
      "name": "14HW20220223김윤규08.ipynb",
      "provenance": [],
      "authorship_tag": "ABX9TyPkXBl+1uTb9j6gMkN7UeCr",
      "include_colab_link": true
    },
    "kernelspec": {
      "name": "python3",
      "display_name": "Python 3"
    },
    "language_info": {
      "name": "python"
    }
  },
  "cells": [
    {
      "cell_type": "markdown",
      "metadata": {
        "id": "view-in-github",
        "colab_type": "text"
      },
      "source": [
        "<a href=\"https://colab.research.google.com/github/KimYunGyu2/ai/blob/main/14HW20220223%EA%B9%80%EC%9C%A4%EA%B7%9C08.ipynb\" target=\"_parent\"><img src=\"https://colab.research.google.com/assets/colab-badge.svg\" alt=\"Open In Colab\"/></a>"
      ]
    },
    {
      "cell_type": "code",
      "execution_count": null,
      "metadata": {
        "id": "zKWxoCK7v5h2"
      },
      "outputs": [],
      "source": [
        "# 1.a"
      ]
    },
    {
      "cell_type": "code",
      "source": [
        "# 2. d"
      ],
      "metadata": {
        "id": "fIYp14NNv-HI"
      },
      "execution_count": null,
      "outputs": []
    },
    {
      "cell_type": "code",
      "source": [
        "# 3. b"
      ],
      "metadata": {
        "id": "Piym1ao-wCt4"
      },
      "execution_count": null,
      "outputs": []
    },
    {
      "cell_type": "code",
      "source": [
        "# 4. c"
      ],
      "metadata": {
        "id": "NSSWXgn4wJM1"
      },
      "execution_count": null,
      "outputs": []
    },
    {
      "cell_type": "code",
      "source": [
        "# 5. a"
      ],
      "metadata": {
        "id": "p2GUjLrNwMPu"
      },
      "execution_count": null,
      "outputs": []
    },
    {
      "cell_type": "code",
      "source": [
        "# 6. a"
      ],
      "metadata": {
        "id": "eWaT-bunwQJ-"
      },
      "execution_count": null,
      "outputs": []
    },
    {
      "cell_type": "code",
      "source": [
        "# 7. a"
      ],
      "metadata": {
        "id": "pkUiZNptwYGm"
      },
      "execution_count": null,
      "outputs": []
    },
    {
      "cell_type": "code",
      "source": [
        "# 8. c"
      ],
      "metadata": {
        "id": "xPQTpLLVwoKY"
      },
      "execution_count": null,
      "outputs": []
    },
    {
      "cell_type": "code",
      "source": [
        "# 9. b"
      ],
      "metadata": {
        "id": "8wBe7C24wv7_"
      },
      "execution_count": null,
      "outputs": []
    },
    {
      "cell_type": "code",
      "source": [
        "# 10. b"
      ],
      "metadata": {
        "id": "ZaN2iAalxBSn"
      },
      "execution_count": null,
      "outputs": []
    },
    {
      "cell_type": "code",
      "source": [
        "def isprime():\n",
        "    num = int(input('숫자를 입력하세요 >> '))\n",
        "\n",
        "    if num <= 0:\n",
        "        print(\"0보다 큰 수를 입력해주세요.\")\n",
        "    elif num == 1:\n",
        "        print(\"소수가 아닙니다.\")\n",
        "    else:\n",
        "        cnt = 0\n",
        "        for i in range(2, num):\n",
        "            if num % i == 0:\n",
        "                cnt += 1\n",
        "\n",
        "        if cnt == 0:\n",
        "            print(\"소수입니다.\")\n",
        "        else:\n",
        "            print(\"소수가 아닙니다.\")\n",
        "    \n",
        "isprime()"
      ],
      "metadata": {
        "colab": {
          "base_uri": "https://localhost:8080/"
        },
        "id": "aLhZAH8MxJr3",
        "outputId": "237aa4d7-72cf-47e2-fd80-fb0ede133112"
      },
      "execution_count": 1,
      "outputs": [
        {
          "output_type": "stream",
          "name": "stdout",
          "text": [
            "숫자를 입력하세요 >> 11\n",
            "소수입니다.\n"
          ]
        }
      ]
    }
  ]
}