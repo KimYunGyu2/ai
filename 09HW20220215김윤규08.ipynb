{
  "nbformat": 4,
  "nbformat_minor": 0,
  "metadata": {
    "colab": {
      "name": "09HW20220215김윤규08.ipynb",
      "provenance": [],
      "authorship_tag": "ABX9TyOnSH8rMHTX9G09pZbJ40cu",
      "include_colab_link": true
    },
    "kernelspec": {
      "name": "python3",
      "display_name": "Python 3"
    },
    "language_info": {
      "name": "python"
    }
  },
  "cells": [
    {
      "cell_type": "markdown",
      "metadata": {
        "id": "view-in-github",
        "colab_type": "text"
      },
      "source": [
        "<a href=\"https://colab.research.google.com/github/KimYunGyu2/ai/blob/main/09HW20220215%EA%B9%80%EC%9C%A4%EA%B7%9C08.ipynb\" target=\"_parent\"><img src=\"https://colab.research.google.com/assets/colab-badge.svg\" alt=\"Open In Colab\"/></a>"
      ]
    },
    {
      "cell_type": "code",
      "execution_count": null,
      "metadata": {
        "id": "3LrFXPxrafqy"
      },
      "outputs": [],
      "source": [
        "# 496\n",
        "b"
      ]
    },
    {
      "cell_type": "code",
      "source": [
        "# 497\n",
        "c"
      ],
      "metadata": {
        "id": "G-Q8Zy4pa2H2"
      },
      "execution_count": null,
      "outputs": []
    },
    {
      "cell_type": "code",
      "source": [
        "# 498\n",
        "c"
      ],
      "metadata": {
        "id": "6dzaCwNva-xT"
      },
      "execution_count": null,
      "outputs": []
    },
    {
      "cell_type": "code",
      "source": [
        "# 499\n",
        "d"
      ],
      "metadata": {
        "id": "q0mp3dXGbGC7"
      },
      "execution_count": null,
      "outputs": []
    },
    {
      "cell_type": "code",
      "source": [
        "# 500\n",
        "c"
      ],
      "metadata": {
        "id": "xPIMysHNbZjk"
      },
      "execution_count": null,
      "outputs": []
    },
    {
      "cell_type": "code",
      "source": [
        "# 501\n",
        "a"
      ],
      "metadata": {
        "id": "pSF2aTDicIT-"
      },
      "execution_count": null,
      "outputs": []
    },
    {
      "cell_type": "code",
      "source": [
        "# 502\n",
        "c"
      ],
      "metadata": {
        "id": "MKV-qNRHcLED"
      },
      "execution_count": null,
      "outputs": []
    },
    {
      "cell_type": "code",
      "source": [
        "# 503\n",
        "d"
      ],
      "metadata": {
        "id": "C01qHbawcawi"
      },
      "execution_count": null,
      "outputs": []
    },
    {
      "cell_type": "code",
      "source": [
        "# 504\n",
        "c"
      ],
      "metadata": {
        "id": "CPSuXirtcojj"
      },
      "execution_count": null,
      "outputs": []
    },
    {
      "cell_type": "code",
      "source": [
        "# 505\n",
        "b"
      ],
      "metadata": {
        "id": "z4qnjWSQc918"
      },
      "execution_count": null,
      "outputs": []
    },
    {
      "cell_type": "code",
      "source": [
        "# 506\n",
        "a"
      ],
      "metadata": {
        "id": "HzBEHy0qdQTc"
      },
      "execution_count": null,
      "outputs": []
    },
    {
      "cell_type": "code",
      "source": [
        "# 507\n",
        "b"
      ],
      "metadata": {
        "id": "R9WUybyYdST0"
      },
      "execution_count": null,
      "outputs": []
    },
    {
      "cell_type": "code",
      "source": [
        "# 508\n",
        "a"
      ],
      "metadata": {
        "id": "W1VWgxpyd4Bc"
      },
      "execution_count": null,
      "outputs": []
    },
    {
      "cell_type": "code",
      "source": [
        "# 509\n",
        "a "
      ],
      "metadata": {
        "id": "mYf6ABhLd5gU"
      },
      "execution_count": null,
      "outputs": []
    },
    {
      "cell_type": "code",
      "source": [
        "# 510\n",
        "d"
      ],
      "metadata": {
        "id": "RIDjRduSePAN"
      },
      "execution_count": null,
      "outputs": []
    },
    {
      "cell_type": "code",
      "source": [
        "# 511\n",
        "b"
      ],
      "metadata": {
        "id": "zW8_rvT_ebG0"
      },
      "execution_count": null,
      "outputs": []
    },
    {
      "cell_type": "code",
      "source": [
        "# 512\n",
        "b"
      ],
      "metadata": {
        "id": "wnrVwgUTepI0"
      },
      "execution_count": null,
      "outputs": []
    },
    {
      "cell_type": "code",
      "source": [
        "# 513\n",
        "a"
      ],
      "metadata": {
        "id": "4dKqoq8mfAfT"
      },
      "execution_count": null,
      "outputs": []
    },
    {
      "cell_type": "code",
      "source": [
        "# 514\n",
        "b"
      ],
      "metadata": {
        "id": "J1KKdiVffCf6"
      },
      "execution_count": null,
      "outputs": []
    },
    {
      "cell_type": "code",
      "source": [
        "# 515\n",
        "c"
      ],
      "metadata": {
        "id": "eqc2wabFfbjM"
      },
      "execution_count": null,
      "outputs": []
    },
    {
      "cell_type": "code",
      "source": [
        "def search(*str):\n",
        "  x=int(input('제1각을 입력하세요'))\n",
        "  y=int(input('제2각을 입력하세요'))\n",
        "  z=int(input('제3각을 입력하세요'))\n",
        "  result =''\n",
        "  if x + y + z == 180:\n",
        "    if x != 0 and y !=0 and z != 0:\n",
        "      if x<90 and y<90 and z<90:\n",
        "        result = '예각삼각형'\n",
        "      elif x>90 or y>90 or z>90:\n",
        "        result = '둔각삼각형'\n",
        "      elif x==90 or y==90 or z==90:\n",
        "        result = '직각삼각형'\n",
        "\n",
        "    else:\n",
        "      result = '삼각형이 아니다'\n",
        "  else:\n",
        "    result = '삼각형이 아니다'\n",
        "  return print(result)\n",
        "\n",
        "search()"
      ],
      "metadata": {
        "colab": {
          "base_uri": "https://localhost:8080/"
        },
        "id": "Y2U3d-w-fkgW",
        "outputId": "721b72b3-1f0d-4bf7-f7fd-ec383f53f8a6"
      },
      "execution_count": 50,
      "outputs": [
        {
          "output_type": "stream",
          "name": "stdout",
          "text": [
            "제1각을 입력하세요60\n",
            "제2각을 입력하세요60\n",
            "제3각을 입력하세요60\n",
            "예각삼각형\n"
          ]
        }
      ]
    }
  ]
}